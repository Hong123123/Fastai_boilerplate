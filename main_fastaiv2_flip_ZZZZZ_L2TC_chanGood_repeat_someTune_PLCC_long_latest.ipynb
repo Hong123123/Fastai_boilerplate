{
 "cells": [
  {
   "cell_type": "code",
   "execution_count": 35,
   "metadata": {
    "ExecuteTime": {
     "end_time": "2021-04-20T08:20:18.973406Z",
     "start_time": "2021-04-20T08:20:18.969599Z"
    }
   },
   "outputs": [],
   "source": [
    "repeat = 0"
   ]
  },
  {
   "cell_type": "code",
   "execution_count": 36,
   "metadata": {
    "ExecuteTime": {
     "end_time": "2021-04-20T08:20:18.986982Z",
     "start_time": "2021-04-20T08:20:18.982886Z"
    }
   },
   "outputs": [],
   "source": [
    "DEVICE_ID = 2"
   ]
  },
  {
   "cell_type": "markdown",
   "metadata": {
    "ExecuteTime": {
     "end_time": "2020-11-24T06:12:33.698156Z",
     "start_time": "2020-11-24T06:12:33.695667Z"
    }
   },
   "source": [
    "# repeat\n",
    "ref: https://docs.fast.ai/migrating_pytorch.html"
   ]
  },
  {
   "cell_type": "code",
   "execution_count": 37,
   "metadata": {
    "ExecuteTime": {
     "end_time": "2021-04-20T08:20:18.996556Z",
     "start_time": "2021-04-20T08:20:18.993478Z"
    }
   },
   "outputs": [],
   "source": [
    "repeat += 1"
   ]
  },
  {
   "cell_type": "code",
   "execution_count": 38,
   "metadata": {
    "ExecuteTime": {
     "end_time": "2021-04-20T08:20:19.006170Z",
     "start_time": "2021-04-20T08:20:19.003404Z"
    }
   },
   "outputs": [],
   "source": [
    "# from main_fastai import prepare\n",
    "from main_fastai import prepare_train_valid_test"
   ]
  },
  {
   "cell_type": "code",
   "execution_count": 39,
   "metadata": {
    "ExecuteTime": {
     "end_time": "2021-04-20T08:20:19.152367Z",
     "start_time": "2021-04-20T08:20:19.014242Z"
    },
    "scrolled": true
   },
   "outputs": [
    {
     "name": "stdout",
     "output_type": "stream",
     "text": [
      "{'ds_type': 'Lp2TC', 'ds_width': -1, 'model_type': 'early_merge', 'model_param': [0], 'split_order': None, 'conv_wrapper': None}\n",
      "Live Train/Valid\n",
      "self.ratio: [29]\n",
      "self.split_order [0, 1, 2, 3, 4, 5, 6, 7, 8, 9, 10, 11, 12, 13, 14, 15, 16, 17, 18, 19, 20, 21, 22, 23, 24, 25, 26, 27, 28]\n",
      "Tid Test\n",
      "self.ratio: [25]\n",
      "self.split_order [0, 1, 2, 3, 4, 5, 6, 7, 8, 9, 10, 11, 12, 13, 14, 15, 16, 17, 18, 19, 20, 21, 22, 23, 24]\n",
      "Csiq Test\n",
      "self.ratio: [30]\n",
      "self.split_order [0, 1, 2, 3, 4, 5, 6, 7, 8, 9, 10, 11, 12, 13, 14, 15, 16, 17, 18, 19, 20, 21, 22, 23, 24, 25, 26, 27, 28, 29]\n"
     ]
    },
    {
     "data": {
      "text/plain": [
       "dict_keys(['datum', 'model', 'metrics', 'dl_funcs', 'splitter'])"
      ]
     },
     "execution_count": 39,
     "metadata": {},
     "output_type": "execute_result"
    }
   ],
   "source": [
    "# %%debug\n",
    "ds_type = 'Lp2TC'  # live, tid, L2C, L2T, T2C\n",
    "ds_width = -1  #11\n",
    "model_type = 'early_merge'\n",
    "model_param = '0'  # '0_1_2_3_4_5'  # _6_7'\n",
    "\n",
    "res=prepare_train_valid_test(\n",
    "    ds_type=ds_type,\n",
    "    ds_width=ds_width,\n",
    "    model_type=model_type,\n",
    "    model_param=model_param\n",
    "); res.keys()"
   ]
  },
  {
   "cell_type": "code",
   "execution_count": 40,
   "metadata": {
    "ExecuteTime": {
     "end_time": "2021-04-20T08:20:19.155756Z",
     "start_time": "2021-04-20T08:20:19.153961Z"
    },
    "scrolled": true
   },
   "outputs": [],
   "source": [
    "# %%debug\n",
    "# ds_type = 'L2TC'  # live, tid, L2C, L2T, T2C\n",
    "# ds_width = -1  #11\n",
    "# model_type = 'early_merge'\n",
    "# model_param = '0'  # '0_1_2_3_4_5'  # _6_7'\n",
    "\n",
    "# res=prepare_train_valid_test(\n",
    "#     ds_type=ds_type,\n",
    "#     ds_width=ds_width,\n",
    "#     model_type=model_type,\n",
    "#     model_param=model_param\n",
    "# ); res.keys()"
   ]
  },
  {
   "cell_type": "code",
   "execution_count": 41,
   "metadata": {
    "ExecuteTime": {
     "end_time": "2021-04-20T08:20:19.167695Z",
     "start_time": "2021-04-20T08:20:19.157558Z"
    },
    "scrolled": false
   },
   "outputs": [],
   "source": [
    "# # %%debug\n",
    "# ds_type = 'L2T'\n",
    "# model_type = 'early_merge'\n",
    "# model_param = '0_1_2_3_4_5'\n",
    "\n",
    "# res=prepare_train_valid_test(ds_type=ds_type,model_type=model_type,model_param=model_param); res.keys()"
   ]
  },
  {
   "cell_type": "code",
   "execution_count": 42,
   "metadata": {
    "ExecuteTime": {
     "end_time": "2021-04-20T08:20:19.179446Z",
     "start_time": "2021-04-20T08:20:19.169222Z"
    },
    "scrolled": false
   },
   "outputs": [],
   "source": [
    "# # %%debug\n",
    "# ds_type = 'T2C'\n",
    "# model_type = 'early_merge'\n",
    "# model_param = '0_1_2_3_4_5'\n",
    "\n",
    "# res=prepare_train_valid_test(ds_type=ds_type,model_type=model_type,model_param=model_param); res.keys()"
   ]
  },
  {
   "cell_type": "code",
   "execution_count": 43,
   "metadata": {
    "ExecuteTime": {
     "end_time": "2021-04-20T08:20:19.194171Z",
     "start_time": "2021-04-20T08:20:19.180962Z"
    }
   },
   "outputs": [],
   "source": [
    "WORKSPACE = '/mnt/workspace_6T/hong/test_merge'"
   ]
  },
  {
   "cell_type": "code",
   "execution_count": 44,
   "metadata": {
    "ExecuteTime": {
     "end_time": "2021-04-20T08:20:19.204122Z",
     "start_time": "2021-04-20T08:20:19.195505Z"
    }
   },
   "outputs": [],
   "source": [
    "from fastai.vision.all import *\n",
    "from migrating_pytorch import *"
   ]
  },
  {
   "cell_type": "code",
   "execution_count": 45,
   "metadata": {
    "ExecuteTime": {
     "end_time": "2021-04-20T08:20:19.213097Z",
     "start_time": "2021-04-20T08:20:19.206310Z"
    }
   },
   "outputs": [],
   "source": [
    "batch_size=5\n",
    "\n",
    "train_ds = res['datum'][0]\n",
    "valid_ds = res['datum'][1] if res['datum'][1] is not None else res['datum'][0]\n",
    "\n",
    "train_loader = res['dl_funcs'][0](batch_size=batch_size)\n",
    "valid_loader = res['dl_funcs'][1]()\n",
    "\n",
    "test_ds = res['datum'][2]\n",
    "if type(test_ds) != list:\n",
    "    test_loader = res['dl_funcs'][2]()\n",
    "else:\n",
    "    test_loader = [f() for f in res['dl_funcs'][2]]\n",
    "# learn.validate(dl=test_loader)"
   ]
  },
  {
   "cell_type": "code",
   "execution_count": 46,
   "metadata": {
    "ExecuteTime": {
     "end_time": "2021-04-20T08:20:19.295414Z",
     "start_time": "2021-04-20T08:20:19.216592Z"
    }
   },
   "outputs": [],
   "source": [
    "d,t = next(iter(train_loader))"
   ]
  },
  {
   "cell_type": "code",
   "execution_count": 47,
   "metadata": {
    "ExecuteTime": {
     "end_time": "2021-04-20T08:20:19.300953Z",
     "start_time": "2021-04-20T08:20:19.297689Z"
    }
   },
   "outputs": [
    {
     "name": "stdout",
     "output_type": "stream",
     "text": [
      "<class 'list'> <class 'torch.Tensor'>\n"
     ]
    }
   ],
   "source": [
    "print(type(d), type(t))"
   ]
  },
  {
   "cell_type": "code",
   "execution_count": 48,
   "metadata": {
    "ExecuteTime": {
     "end_time": "2021-04-20T08:20:19.320421Z",
     "start_time": "2021-04-20T08:20:19.303906Z"
    }
   },
   "outputs": [
    {
     "data": {
      "text/plain": [
       "(5, torch.Size([5, 1]))"
      ]
     },
     "execution_count": 48,
     "metadata": {},
     "output_type": "execute_result"
    }
   ],
   "source": [
    "len(d), t.shape"
   ]
  },
  {
   "cell_type": "code",
   "execution_count": 49,
   "metadata": {
    "ExecuteTime": {
     "end_time": "2021-04-20T08:20:19.330296Z",
     "start_time": "2021-04-20T08:20:19.321849Z"
    }
   },
   "outputs": [
    {
     "data": {
      "text/plain": [
       "torch.Size([1, 3, 720, 480])"
      ]
     },
     "execution_count": 49,
     "metadata": {},
     "output_type": "execute_result"
    }
   ],
   "source": [
    "d[0].shape"
   ]
  },
  {
   "cell_type": "code",
   "execution_count": 50,
   "metadata": {
    "ExecuteTime": {
     "end_time": "2021-04-20T08:20:19.339584Z",
     "start_time": "2021-04-20T08:20:19.331849Z"
    }
   },
   "outputs": [],
   "source": [
    "class List_Batch(nn.Module):\n",
    "    def __init__(self, model):\n",
    "        super().__init__()\n",
    "        self.model = model\n",
    "        \n",
    "    def forward(self, x_batch):\n",
    "#         batch as list of list, output with heterogenius shape\n",
    "#         loc, glo=y[0]  Shape(N,1,H,W), Shape(N,1)\n",
    "#         y = [self.model(x) for x in x_batch]\n",
    "        regs, glos, mean_locs = [], [], []\n",
    "        for x in x_batch:\n",
    "            loc, glo = self.model(x)\n",
    "            diff = loc - glo\n",
    "            \n",
    "            reg = torch.mean(diff**2, dim=(2,3))\n",
    "            mean_loc = torch.mean(loc, dim=(2,3))\n",
    "            \n",
    "            regs.append(reg)\n",
    "            glos.append(glo)\n",
    "            mean_locs.append(mean_loc)\n",
    "        regs, glos, mean_locs = torch.cat(regs, dim=0), torch.cat(glos, dim=0), torch.cat(mean_locs, dim=0)\n",
    "        res = torch.cat([regs, glos, mean_locs], dim=1)\n",
    "        return res\n",
    "    \n",
    "model = List_Batch(res['model'])\n",
    "\n",
    "# torch.nn.functional.mse_loss\n",
    "class LossWithReg(nn.Module):\n",
    "    def __init__(self, loss_func=torch.nn.functional.mse_loss):\n",
    "        super().__init__()\n",
    "        self.loss_func = loss_func\n",
    "        \n",
    "    def forward(self,o,t):\n",
    "        reg, y = o[:,0:1], o[:,1:2]\n",
    "        L1 = torch.mean(reg)\n",
    "        L2 = self.loss_func(y,t)\n",
    "        return L1 + L2\n",
    "    \n",
    "loss_with_reg = LossWithReg()"
   ]
  },
  {
   "cell_type": "code",
   "execution_count": 51,
   "metadata": {
    "ExecuteTime": {
     "end_time": "2021-04-20T08:20:19.350765Z",
     "start_time": "2021-04-20T08:20:19.341046Z"
    }
   },
   "outputs": [
    {
     "data": {
      "text/plain": [
       "['spr_glo', 'plcc_glo', 'spr_loc', 'plcc_loc', 'spr_Mean', 'plcc_Mean']"
      ]
     },
     "execution_count": 51,
     "metadata": {},
     "output_type": "execute_result"
    }
   ],
   "source": [
    "def accumulate(self, learn):\n",
    "    \"Store targs and preds from `learn`, using activation function and argmax as appropriate\"\n",
    "    pred = learn.pred\n",
    "    pred = self.activation(pred)\n",
    "#     bp()\n",
    "    self.accum_values(pred,learn.y,learn)\n",
    "    \n",
    "from fastai.metrics import AccumMetric\n",
    "\n",
    "AccumMetric.accumulate = accumulate\n",
    "\n",
    "spr_glo = SpearmanCorrCoef(\n",
    "    activation=lambda o: o[:,1]\n",
    ")\n",
    "spr_glo.func.func.__name__ = 'spr_glo'\n",
    "\n",
    "spr_loc = SpearmanCorrCoef(\n",
    "    activation=lambda o: o[:,2]\n",
    ")\n",
    "spr_loc.func.func.__name__ = 'spr_loc'\n",
    "\n",
    "spr_Mean = SpearmanCorrCoef(\n",
    "    activation=lambda o: (o[:,1] + o[:,2]) / 2\n",
    ")\n",
    "spr_Mean.func.func.__name__ = 'spr_Mean'\n",
    "\n",
    "# PearsonCorrCoef\n",
    "plcc_glo = PearsonCorrCoef(\n",
    "    activation=lambda o: o[:,1]\n",
    ")\n",
    "plcc_glo.func.__name__ = 'plcc_glo'\n",
    "\n",
    "plcc_loc = PearsonCorrCoef(\n",
    "    activation=lambda o: o[:,2]\n",
    ")\n",
    "plcc_loc.func.__name__ = 'plcc_loc'\n",
    "\n",
    "plcc_Mean = PearsonCorrCoef(\n",
    "    activation=lambda o: (o[:,1] + o[:,2]) / 2\n",
    ")\n",
    "plcc_Mean.func.__name__ = 'plcc_Mean'\n",
    "\n",
    "\n",
    "metrics = [spr_glo, plcc_glo, spr_loc, plcc_loc, spr_Mean, plcc_Mean]\n",
    "\n",
    "[m.name for m in metrics]"
   ]
  },
  {
   "cell_type": "markdown",
   "metadata": {
    "ExecuteTime": {
     "start_time": "2020-12-12T08:35:25.595Z"
    }
   },
   "source": [
    "## assembly no_valid"
   ]
  },
  {
   "cell_type": "code",
   "execution_count": 52,
   "metadata": {
    "ExecuteTime": {
     "end_time": "2021-04-20T08:20:19.360187Z",
     "start_time": "2021-04-20T08:20:19.351964Z"
    }
   },
   "outputs": [],
   "source": [
    "from pdb import set_trace as bp\n",
    "\n",
    "\n",
    "class ListedCudaCallback(Callback):\n",
    "    \"Move data to CUDA device\"\n",
    "    \"Ref: https://github.com/fastai/fastai/blob/master/fastai/callback/data.py#L17\"\n",
    "    def __init__(self, device=None): self.device = ifnone(device, default_device()); self.debug=False\n",
    "    def before_batch(self):\n",
    "#         self.learn.xb,self.learn.yb = [[to_device(x) for x in xb] for xb in self.xb],to_device(self.yb)\n",
    "        self.learn.xb,self.learn.yb = to_device(self.xb, self.device), to_device(self.yb, self.device)\n",
    "    def before_fit(self): self.model.to(self.device)\n",
    "\n",
    "\n",
    "class CudaCallback(Callback):\n",
    "    \"Move data to CUDA device\"\n",
    "    \"Ref: https://github.com/fastai/fastai/blob/master/fastai/callback/data.py#L17\"\n",
    "    def __init__(self, device=None): self.device = ifnone(device, default_device()); self.debug=False\n",
    "    def before_batch(self):\n",
    "        # bp()\n",
    "        # self.learn.xb,self.learn.yb = [[to_device(x) for x in xb] for xb in self.xb],to_device(self.yb)\n",
    "        self.learn.xb,self.learn.yb = to_device(self.xb, self.device), to_device(self.yb, self.device)\n",
    "    def before_fit(self): self.model.to(self.device)\n",
    "\n",
    "\n",
    "class GradientClipping(Callback):\n",
    "    \"Gradient clipping during training.\"\n",
    "    def __init__(self, clip:float = 0.1):\n",
    "        self.clip = clip\n",
    "\n",
    "    def before_step(self):\n",
    "        torch.nn.utils.clip_grad_norm_(self.learn.model.parameters(), self.clip)\n",
    "\n",
    "\n",
    "# from fastai.callback.data import CudaCallback   # this one is buggy\n",
    "\n",
    "def _do_epoch(self):\n",
    "    self._do_epoch_train()\n",
    "    # self._do_epoch_validate()\n",
    "    \n",
    "Learner._do_epoch=_do_epoch\n",
    "# learn.opt = OptimWrapper(torch.optim.AdamW(learn.model.parameters()))\n",
    "\n",
    "\n",
    "from fastai.optimizer import *\n",
    "\n",
    "data = DataLoaders(\n",
    "    train_loader, valid_loader\n",
    ")\n",
    "\n",
    "DEVICE = torch.device('cuda:{}'.format(DEVICE_ID))\n",
    "tocuda = ListedCudaCallback(DEVICE)\n",
    "clip = GradientClipping(0.1)\n",
    "\n",
    "learn = Learner(data,\n",
    "                model,\n",
    "                loss_func=loss_with_reg,\n",
    "                metrics=metrics,\n",
    "                cbs=[tocuda, \n",
    "                     #clip,\n",
    "                     #SaveModelCallback(monitor='valid_loss'), \n",
    "                     SaveModelCallback(every_epoch=True)])\n",
    "# learn.opt = OptimWrapper(torch.optim.AdamW(learn.model.parameters()))"
   ]
  },
  {
   "cell_type": "code",
   "execution_count": 53,
   "metadata": {
    "ExecuteTime": {
     "end_time": "2021-04-20T08:20:19.368719Z",
     "start_time": "2021-04-20T08:20:19.361354Z"
    }
   },
   "outputs": [],
   "source": [
    "# learn.splitter = res['splitter']"
   ]
  },
  {
   "cell_type": "code",
   "execution_count": 54,
   "metadata": {
    "ExecuteTime": {
     "end_time": "2021-04-20T08:20:19.374894Z",
     "start_time": "2021-04-20T08:20:19.369941Z"
    }
   },
   "outputs": [],
   "source": [
    "# learn.save??\n",
    "# self.path/self.model_dir, ext='.pth'"
   ]
  },
  {
   "cell_type": "code",
   "execution_count": 55,
   "metadata": {
    "ExecuteTime": {
     "end_time": "2021-04-20T08:20:19.381769Z",
     "start_time": "2021-04-20T08:20:19.376139Z"
    }
   },
   "outputs": [
    {
     "name": "stdout",
     "output_type": "stream",
     "text": [
      "/mnt/workspace_6T/hong/test_merge\n",
      "ckpt_lateMerge_TVTRepeat_Tune_1_Lp2TC_early_merge_0\n"
     ]
    }
   ],
   "source": [
    "# learn.path, learn.model_dir\n",
    "# fold=2\n",
    "# ds_type = 'live'\n",
    "# model_type = 'early_merge'\n",
    "# model_param = '0'\n",
    "\n",
    "model_dir = 'ckpt_lateMerge_TVTRepeat_Tune_{}_{}_{}_{}'.format(repeat,ds_type,model_type,model_param)\n",
    "\n",
    "# !mkdir $model_dir\n",
    "print(WORKSPACE)\n",
    "print(model_dir)\n",
    "\n",
    "learn.path = Path(WORKSPACE)\n",
    "learn.model_dir=model_dir"
   ]
  },
  {
   "cell_type": "code",
   "execution_count": 56,
   "metadata": {
    "ExecuteTime": {
     "end_time": "2021-04-20T08:20:19.388187Z",
     "start_time": "2021-04-20T08:20:19.382968Z"
    }
   },
   "outputs": [],
   "source": [
    "# dl = learn.dls.train\n",
    "# def one_batch(self):    \n",
    "#     return next(iter(self))\n",
    "# from types import MethodType\n",
    "# dl.one_batch = MethodType(one_batch, dl)\n",
    "# o=dl.one_batch()\n",
    "\n",
    "# dl.n_inp=1\n",
    "\n",
    "# learn.summary()\n",
    "\n",
    "# model.to(DEVICE)\n",
    "\n",
    "# x,t=next(iter(data.train))\n",
    "# x,t=to_device(x,DEVICE),to_device(t,DEVICE)\n",
    "\n",
    "# [e.flatten()[0] for e in x], t\n",
    "\n",
    "# o = model(x); o\n",
    "\n",
    "# t.shape,o.shape\n",
    "\n",
    "# loss_with_reg(o,t)\n",
    "\n",
    "# # print(batch_size)\n",
    "# o[0].shape, o[1].shape\n",
    "\n",
    "# batch_size"
   ]
  },
  {
   "cell_type": "code",
   "execution_count": 57,
   "metadata": {
    "ExecuteTime": {
     "end_time": "2021-04-20T08:20:19.396880Z",
     "start_time": "2021-04-20T08:20:19.389332Z"
    }
   },
   "outputs": [],
   "source": [
    "# learn.opt = OptimWrapper(torch.optim.AdamW(learn.model.parameters()))\n",
    "learn.opt = OptimWrapper(torch.optim.Adam(learn.model.parameters(), weight_decay=1e-4))\n",
    "# learn.opt = OptimWrapper(torch.optim.SGD(learn.model.parameters(), weight_decay=1e-4, momentum=0.9,lr=0))"
   ]
  },
  {
   "cell_type": "markdown",
   "metadata": {},
   "source": [
    "## fit: no valid"
   ]
  },
  {
   "cell_type": "code",
   "execution_count": 58,
   "metadata": {
    "ExecuteTime": {
     "end_time": "2021-04-20T08:20:19.404199Z",
     "start_time": "2021-04-20T08:20:19.398105Z"
    }
   },
   "outputs": [
    {
     "data": {
      "text/plain": [
       "('0',\n",
       " Adam (\n",
       " Parameter Group 0\n",
       "     amsgrad: False\n",
       "     betas: (0.9, 0.999)\n",
       "     eps: 1e-08\n",
       "     lr: 0.001\n",
       "     weight_decay: 0.0001\n",
       " ))"
      ]
     },
     "execution_count": 58,
     "metadata": {},
     "output_type": "execute_result"
    }
   ],
   "source": [
    "model_param, learn.opt.opt"
   ]
  },
  {
   "cell_type": "code",
   "execution_count": 59,
   "metadata": {
    "ExecuteTime": {
     "end_time": "2021-04-20T08:20:19.409961Z",
     "start_time": "2021-04-20T08:20:19.405400Z"
    }
   },
   "outputs": [],
   "source": [
    "lr = 3e-4"
   ]
  },
  {
   "cell_type": "code",
   "execution_count": 60,
   "metadata": {
    "ExecuteTime": {
     "end_time": "2021-04-20T08:20:56.029777Z",
     "start_time": "2021-04-20T08:20:19.411161Z"
    },
    "scrolled": true
   },
   "outputs": [
    {
     "name": "stdout",
     "output_type": "stream",
     "text": [
      "0.0003\n"
     ]
    },
    {
     "data": {
      "text/html": [
       "<table border=\"1\" class=\"dataframe\">\n",
       "  <thead>\n",
       "    <tr style=\"text-align: left;\">\n",
       "      <th>epoch</th>\n",
       "      <th>train_loss</th>\n",
       "      <th>valid_loss</th>\n",
       "      <th>spr_glo</th>\n",
       "      <th>plcc_glo</th>\n",
       "      <th>spr_loc</th>\n",
       "      <th>plcc_loc</th>\n",
       "      <th>spr_Mean</th>\n",
       "      <th>plcc_Mean</th>\n",
       "      <th>time</th>\n",
       "    </tr>\n",
       "  </thead>\n",
       "  <tbody>\n",
       "    <tr>\n",
       "      <td>0</td>\n",
       "      <td>0.127245</td>\n",
       "      <td>00:36</td>\n",
       "    </tr>\n",
       "  </tbody>\n",
       "</table>"
      ],
      "text/plain": [
       "<IPython.core.display.HTML object>"
      ]
     },
     "metadata": {},
     "output_type": "display_data"
    }
   ],
   "source": [
    "# %%debug\n",
    "# lr = lr/10\n",
    "print(lr)\n",
    "learn.fit(1, lr=lr/10)"
   ]
  },
  {
   "cell_type": "code",
   "execution_count": 61,
   "metadata": {
    "ExecuteTime": {
     "end_time": "2021-04-20T08:20:56.207928Z",
     "start_time": "2021-04-20T08:20:56.033263Z"
    }
   },
   "outputs": [
    {
     "data": {
      "image/png": "[encoded data removed]",
      "text/plain": [
       "<Figure size 432x288 with 1 Axes>"
      ]
     },
     "metadata": {
      "needs_background": "light"
     },
     "output_type": "display_data"
    }
   ],
   "source": [
    "learn.recorder.plot_loss(skip_start=0, with_valid=False)"
   ]
  },
  {
   "cell_type": "code",
   "execution_count": 62,
   "metadata": {
    "ExecuteTime": {
     "end_time": "2021-04-20T08:54:00.286870Z",
     "start_time": "2021-04-20T08:20:56.211000Z"
    },
    "scrolled": false
   },
   "outputs": [
    {
     "name": "stdout",
     "output_type": "stream",
     "text": [
      "0.0003\n"
     ]
    },
    {
     "data": {
      "text/html": [
       "<table border=\"1\" class=\"dataframe\">\n",
       "  <thead>\n",
       "    <tr style=\"text-align: left;\">\n",
       "      <th>epoch</th>\n",
       "      <th>train_loss</th>\n",
       "      <th>valid_loss</th>\n",
       "      <th>spr_glo</th>\n",
       "      <th>plcc_glo</th>\n",
       "      <th>spr_loc</th>\n",
       "      <th>plcc_loc</th>\n",
       "      <th>spr_Mean</th>\n",
       "      <th>plcc_Mean</th>\n",
       "      <th>time</th>\n",
       "    </tr>\n",
       "  </thead>\n",
       "  <tbody>\n",
       "    <tr>\n",
       "      <td>0</td>\n",
       "      <td>0.069881</td>\n",
       "      <td>00:38</td>\n",
       "    </tr>\n",
       "    <tr>\n",
       "      <td>1</td>\n",
       "      <td>0.040051</td>\n",
       "      <td>00:40</td>\n",
       "    </tr>\n",
       "    <tr>\n",
       "      <td>2</td>\n",
       "      <td>0.034340</td>\n",
       "      <td>00:39</td>\n",
       "    </tr>\n",
       "    <tr>\n",
       "      <td>3</td>\n",
       "      <td>0.037636</td>\n",
       "      <td>00:39</td>\n",
       "    </tr>\n",
       "    <tr>\n",
       "      <td>4</td>\n",
       "      <td>0.031256</td>\n",
       "      <td>00:40</td>\n",
       "    </tr>\n",
       "    <tr>\n",
       "      <td>5</td>\n",
       "      <td>0.030471</td>\n",
       "      <td>00:40</td>\n",
       "    </tr>\n",
       "    <tr>\n",
       "      <td>6</td>\n",
       "      <td>0.031479</td>\n",
       "      <td>00:39</td>\n",
       "    </tr>\n",
       "    <tr>\n",
       "      <td>7</td>\n",
       "      <td>0.036951</td>\n",
       "      <td>00:40</td>\n",
       "    </tr>\n",
       "    <tr>\n",
       "      <td>8</td>\n",
       "      <td>0.035671</td>\n",
       "      <td>00:40</td>\n",
       "    </tr>\n",
       "    <tr>\n",
       "      <td>9</td>\n",
       "      <td>0.031654</td>\n",
       "      <td>00:40</td>\n",
       "    </tr>\n",
       "    <tr>\n",
       "      <td>10</td>\n",
       "      <td>0.027225</td>\n",
       "      <td>00:40</td>\n",
       "    </tr>\n",
       "    <tr>\n",
       "      <td>11</td>\n",
       "      <td>0.027727</td>\n",
       "      <td>00:40</td>\n",
       "    </tr>\n",
       "    <tr>\n",
       "      <td>12</td>\n",
       "      <td>0.025562</td>\n",
       "      <td>00:40</td>\n",
       "    </tr>\n",
       "    <tr>\n",
       "      <td>13</td>\n",
       "      <td>0.022811</td>\n",
       "      <td>00:40</td>\n",
       "    </tr>\n",
       "    <tr>\n",
       "      <td>14</td>\n",
       "      <td>0.026601</td>\n",
       "      <td>00:40</td>\n",
       "    </tr>\n",
       "    <tr>\n",
       "      <td>15</td>\n",
       "      <td>0.023397</td>\n",
       "      <td>00:40</td>\n",
       "    </tr>\n",
       "    <tr>\n",
       "      <td>16</td>\n",
       "      <td>0.023769</td>\n",
       "      <td>00:40</td>\n",
       "    </tr>\n",
       "    <tr>\n",
       "      <td>17</td>\n",
       "      <td>0.023000</td>\n",
       "      <td>00:40</td>\n",
       "    </tr>\n",
       "    <tr>\n",
       "      <td>18</td>\n",
       "      <td>0.021619</td>\n",
       "      <td>00:40</td>\n",
       "    </tr>\n",
       "    <tr>\n",
       "      <td>19</td>\n",
       "      <td>0.021814</td>\n",
       "      <td>00:40</td>\n",
       "    </tr>\n",
       "    <tr>\n",
       "      <td>20</td>\n",
       "      <td>0.022420</td>\n",
       "      <td>00:39</td>\n",
       "    </tr>\n",
       "    <tr>\n",
       "      <td>21</td>\n",
       "      <td>0.019373</td>\n",
       "      <td>00:39</td>\n",
       "    </tr>\n",
       "    <tr>\n",
       "      <td>22</td>\n",
       "      <td>0.020164</td>\n",
       "      <td>00:39</td>\n",
       "    </tr>\n",
       "    <tr>\n",
       "      <td>23</td>\n",
       "      <td>0.020542</td>\n",
       "      <td>00:40</td>\n",
       "    </tr>\n",
       "    <tr>\n",
       "      <td>24</td>\n",
       "      <td>0.017391</td>\n",
       "      <td>00:40</td>\n",
       "    </tr>\n",
       "    <tr>\n",
       "      <td>25</td>\n",
       "      <td>0.020069</td>\n",
       "      <td>00:40</td>\n",
       "    </tr>\n",
       "    <tr>\n",
       "      <td>26</td>\n",
       "      <td>0.018811</td>\n",
       "      <td>00:40</td>\n",
       "    </tr>\n",
       "    <tr>\n",
       "      <td>27</td>\n",
       "      <td>0.019420</td>\n",
       "      <td>00:40</td>\n",
       "    </tr>\n",
       "    <tr>\n",
       "      <td>28</td>\n",
       "      <td>0.020734</td>\n",
       "      <td>00:40</td>\n",
       "    </tr>\n",
       "    <tr>\n",
       "      <td>29</td>\n",
       "      <td>0.019569</td>\n",
       "      <td>00:39</td>\n",
       "    </tr>\n",
       "    <tr>\n",
       "      <td>30</td>\n",
       "      <td>0.018854</td>\n",
       "      <td>00:39</td>\n",
       "    </tr>\n",
       "    <tr>\n",
       "      <td>31</td>\n",
       "      <td>0.018467</td>\n",
       "      <td>00:39</td>\n",
       "    </tr>\n",
       "    <tr>\n",
       "      <td>32</td>\n",
       "      <td>0.017229</td>\n",
       "      <td>00:40</td>\n",
       "    </tr>\n",
       "    <tr>\n",
       "      <td>33</td>\n",
       "      <td>0.017261</td>\n",
       "      <td>00:40</td>\n",
       "    </tr>\n",
       "    <tr>\n",
       "      <td>34</td>\n",
       "      <td>0.018293</td>\n",
       "      <td>00:39</td>\n",
       "    </tr>\n",
       "    <tr>\n",
       "      <td>35</td>\n",
       "      <td>0.016289</td>\n",
       "      <td>00:38</td>\n",
       "    </tr>\n",
       "    <tr>\n",
       "      <td>36</td>\n",
       "      <td>0.018506</td>\n",
       "      <td>00:38</td>\n",
       "    </tr>\n",
       "    <tr>\n",
       "      <td>37</td>\n",
       "      <td>0.016539</td>\n",
       "      <td>00:37</td>\n",
       "    </tr>\n",
       "    <tr>\n",
       "      <td>38</td>\n",
       "      <td>0.017677</td>\n",
       "      <td>00:38</td>\n",
       "    </tr>\n",
       "    <tr>\n",
       "      <td>39</td>\n",
       "      <td>0.016369</td>\n",
       "      <td>00:38</td>\n",
       "    </tr>\n",
       "    <tr>\n",
       "      <td>40</td>\n",
       "      <td>0.017114</td>\n",
       "      <td>00:38</td>\n",
       "    </tr>\n",
       "    <tr>\n",
       "      <td>41</td>\n",
       "      <td>0.017052</td>\n",
       "      <td>00:38</td>\n",
       "    </tr>\n",
       "    <tr>\n",
       "      <td>42</td>\n",
       "      <td>0.016311</td>\n",
       "      <td>00:38</td>\n",
       "    </tr>\n",
       "    <tr>\n",
       "      <td>43</td>\n",
       "      <td>0.016672</td>\n",
       "      <td>00:38</td>\n",
       "    </tr>\n",
       "    <tr>\n",
       "      <td>44</td>\n",
       "      <td>0.016078</td>\n",
       "      <td>00:38</td>\n",
       "    </tr>\n",
       "    <tr>\n",
       "      <td>45</td>\n",
       "      <td>0.019161</td>\n",
       "      <td>00:38</td>\n",
       "    </tr>\n",
       "    <tr>\n",
       "      <td>46</td>\n",
       "      <td>0.016593</td>\n",
       "      <td>00:38</td>\n",
       "    </tr>\n",
       "    <tr>\n",
       "      <td>47</td>\n",
       "      <td>0.019327</td>\n",
       "      <td>00:39</td>\n",
       "    </tr>\n",
       "    <tr>\n",
       "      <td>48</td>\n",
       "      <td>0.017953</td>\n",
       "      <td>00:39</td>\n",
       "    </tr>\n",
       "    <tr>\n",
       "      <td>49</td>\n",
       "      <td>0.016209</td>\n",
       "      <td>00:39</td>\n",
       "    </tr>\n",
       "  </tbody>\n",
       "</table>"
      ],
      "text/plain": [
       "<IPython.core.display.HTML object>"
      ]
     },
     "metadata": {},
     "output_type": "display_data"
    }
   ],
   "source": [
    "# lr = lr/10\n",
    "print(lr)\n",
    "learn.fit(50, lr=lr)"
   ]
  },
  {
   "cell_type": "code",
   "execution_count": 63,
   "metadata": {
    "ExecuteTime": {
     "end_time": "2021-04-20T08:54:00.481065Z",
     "start_time": "2021-04-20T08:54:00.289408Z"
    }
   },
   "outputs": [
    {
     "data": {
      "image/png": "[encoded data removed]",
      "text/plain": [
       "<Figure size 432x288 with 1 Axes>"
      ]
     },
     "metadata": {
      "needs_background": "light"
     },
     "output_type": "display_data"
    }
   ],
   "source": [
    "learn.recorder.plot_loss(skip_start=0, with_valid=False)"
   ]
  },
  {
   "cell_type": "code",
   "execution_count": 64,
   "metadata": {
    "ExecuteTime": {
     "end_time": "2021-04-20T08:54:35.181159Z",
     "start_time": "2021-04-20T08:54:00.482518Z"
    },
    "scrolled": true
   },
   "outputs": [
    {
     "data": {
      "text/html": [],
      "text/plain": [
       "<IPython.core.display.HTML object>"
      ]
     },
     "metadata": {},
     "output_type": "display_data"
    },
    {
     "data": {
      "text/plain": [
       "(#7) [0.07383650541305542,0.28130416028449223,0.3375764257764969,0.280371399953477,0.3329408674662551,0.28075072810353435,0.3353777604768427]"
      ]
     },
     "execution_count": 64,
     "metadata": {},
     "output_type": "execute_result"
    }
   ],
   "source": [
    "learn.validate(dl=test_loader[0])"
   ]
  },
  {
   "cell_type": "code",
   "execution_count": 65,
   "metadata": {
    "ExecuteTime": {
     "end_time": "2021-04-20T08:54:48.112162Z",
     "start_time": "2021-04-20T08:54:35.184323Z"
    },
    "scrolled": true
   },
   "outputs": [
    {
     "data": {
      "text/html": [],
      "text/plain": [
       "<IPython.core.display.HTML object>"
      ]
     },
     "metadata": {},
     "output_type": "display_data"
    },
    {
     "data": {
      "text/plain": [
       "(#7) [0.04885979741811752,0.6391365837094776,0.6718936826751347,0.6396100458423633,0.6647967148820028,0.6394222001176084,0.6685820640843465]"
      ]
     },
     "execution_count": 65,
     "metadata": {},
     "output_type": "execute_result"
    }
   ],
   "source": [
    "learn.validate(dl=test_loader[1])"
   ]
  },
  {
   "cell_type": "code",
   "execution_count": null,
   "metadata": {},
   "outputs": [],
   "source": []
  },
  {
   "cell_type": "markdown",
   "metadata": {},
   "source": [
    "## fit: no valid, has clip"
   ]
  },
  {
   "cell_type": "code",
   "execution_count": 25,
   "metadata": {
    "ExecuteTime": {
     "end_time": "2021-04-20T07:37:32.756819Z",
     "start_time": "2021-04-20T07:37:32.752366Z"
    }
   },
   "outputs": [
    {
     "data": {
      "text/plain": [
       "('0',\n",
       " Adam (\n",
       " Parameter Group 0\n",
       "     amsgrad: False\n",
       "     betas: (0.9, 0.999)\n",
       "     eps: 1e-08\n",
       "     lr: 0.001\n",
       "     weight_decay: 0.0001\n",
       " ))"
      ]
     },
     "execution_count": 25,
     "metadata": {},
     "output_type": "execute_result"
    }
   ],
   "source": [
    "model_param, learn.opt.opt"
   ]
  },
  {
   "cell_type": "code",
   "execution_count": 26,
   "metadata": {
    "ExecuteTime": {
     "end_time": "2021-04-20T07:37:32.770453Z",
     "start_time": "2021-04-20T07:37:32.767475Z"
    }
   },
   "outputs": [],
   "source": [
    "lr = 3e-4"
   ]
  },
  {
   "cell_type": "code",
   "execution_count": 27,
   "metadata": {
    "ExecuteTime": {
     "end_time": "2021-04-20T07:38:58.283377Z",
     "start_time": "2021-04-20T07:37:32.779117Z"
    },
    "scrolled": true
   },
   "outputs": [
    {
     "name": "stdout",
     "output_type": "stream",
     "text": [
      "0.0003\n"
     ]
    },
    {
     "data": {
      "text/html": [
       "<table border=\"1\" class=\"dataframe\">\n",
       "  <thead>\n",
       "    <tr style=\"text-align: left;\">\n",
       "      <th>epoch</th>\n",
       "      <th>train_loss</th>\n",
       "      <th>valid_loss</th>\n",
       "      <th>spr_glo</th>\n",
       "      <th>plcc_glo</th>\n",
       "      <th>spr_loc</th>\n",
       "      <th>plcc_loc</th>\n",
       "      <th>spr_Mean</th>\n",
       "      <th>plcc_Mean</th>\n",
       "      <th>time</th>\n",
       "    </tr>\n",
       "  </thead>\n",
       "  <tbody>\n",
       "    <tr>\n",
       "      <td>0</td>\n",
       "      <td>0.098694</td>\n",
       "      <td>01:22</td>\n",
       "    </tr>\n",
       "  </tbody>\n",
       "</table>"
      ],
      "text/plain": [
       "<IPython.core.display.HTML object>"
      ]
     },
     "metadata": {},
     "output_type": "display_data"
    }
   ],
   "source": [
    "# %%debug\n",
    "# lr = lr/10\n",
    "print(lr)\n",
    "learn.fit(1, lr=lr/10)"
   ]
  },
  {
   "cell_type": "code",
   "execution_count": 29,
   "metadata": {
    "ExecuteTime": {
     "end_time": "2021-04-20T07:39:51.751367Z",
     "start_time": "2021-04-20T07:39:51.571115Z"
    }
   },
   "outputs": [
    {
     "data": {
      "image/png": "[encoded data removed]",
      "text/plain": [
       "<Figure size 432x288 with 1 Axes>"
      ]
     },
     "metadata": {
      "needs_background": "light"
     },
     "output_type": "display_data"
    }
   ],
   "source": [
    "learn.recorder.plot_loss(skip_start=0, with_valid=False)"
   ]
  },
  {
   "cell_type": "code",
   "execution_count": 30,
   "metadata": {
    "ExecuteTime": {
     "end_time": "2021-04-20T08:14:10.218938Z",
     "start_time": "2021-04-20T07:39:56.216205Z"
    },
    "scrolled": false
   },
   "outputs": [
    {
     "name": "stdout",
     "output_type": "stream",
     "text": [
      "0.0003\n"
     ]
    },
    {
     "data": {
      "text/html": [
       "<table border=\"1\" class=\"dataframe\">\n",
       "  <thead>\n",
       "    <tr style=\"text-align: left;\">\n",
       "      <th>epoch</th>\n",
       "      <th>train_loss</th>\n",
       "      <th>valid_loss</th>\n",
       "      <th>spr_glo</th>\n",
       "      <th>plcc_glo</th>\n",
       "      <th>spr_loc</th>\n",
       "      <th>plcc_loc</th>\n",
       "      <th>spr_Mean</th>\n",
       "      <th>plcc_Mean</th>\n",
       "      <th>time</th>\n",
       "    </tr>\n",
       "  </thead>\n",
       "  <tbody>\n",
       "    <tr>\n",
       "      <td>0</td>\n",
       "      <td>0.067292</td>\n",
       "      <td>00:39</td>\n",
       "    </tr>\n",
       "    <tr>\n",
       "      <td>1</td>\n",
       "      <td>0.041853</td>\n",
       "      <td>00:39</td>\n",
       "    </tr>\n",
       "    <tr>\n",
       "      <td>2</td>\n",
       "      <td>0.037285</td>\n",
       "      <td>00:40</td>\n",
       "    </tr>\n",
       "    <tr>\n",
       "      <td>3</td>\n",
       "      <td>0.037263</td>\n",
       "      <td>00:40</td>\n",
       "    </tr>\n",
       "    <tr>\n",
       "      <td>4</td>\n",
       "      <td>0.031727</td>\n",
       "      <td>00:40</td>\n",
       "    </tr>\n",
       "    <tr>\n",
       "      <td>5</td>\n",
       "      <td>0.030859</td>\n",
       "      <td>00:40</td>\n",
       "    </tr>\n",
       "    <tr>\n",
       "      <td>6</td>\n",
       "      <td>0.032784</td>\n",
       "      <td>00:40</td>\n",
       "    </tr>\n",
       "    <tr>\n",
       "      <td>7</td>\n",
       "      <td>0.029807</td>\n",
       "      <td>00:41</td>\n",
       "    </tr>\n",
       "    <tr>\n",
       "      <td>8</td>\n",
       "      <td>0.031253</td>\n",
       "      <td>00:41</td>\n",
       "    </tr>\n",
       "    <tr>\n",
       "      <td>9</td>\n",
       "      <td>0.026077</td>\n",
       "      <td>00:41</td>\n",
       "    </tr>\n",
       "    <tr>\n",
       "      <td>10</td>\n",
       "      <td>0.024280</td>\n",
       "      <td>00:41</td>\n",
       "    </tr>\n",
       "    <tr>\n",
       "      <td>11</td>\n",
       "      <td>0.023618</td>\n",
       "      <td>00:41</td>\n",
       "    </tr>\n",
       "    <tr>\n",
       "      <td>12</td>\n",
       "      <td>0.023222</td>\n",
       "      <td>00:41</td>\n",
       "    </tr>\n",
       "    <tr>\n",
       "      <td>13</td>\n",
       "      <td>0.021085</td>\n",
       "      <td>00:42</td>\n",
       "    </tr>\n",
       "    <tr>\n",
       "      <td>14</td>\n",
       "      <td>0.024181</td>\n",
       "      <td>00:42</td>\n",
       "    </tr>\n",
       "    <tr>\n",
       "      <td>15</td>\n",
       "      <td>0.020541</td>\n",
       "      <td>00:42</td>\n",
       "    </tr>\n",
       "    <tr>\n",
       "      <td>16</td>\n",
       "      <td>0.021954</td>\n",
       "      <td>00:42</td>\n",
       "    </tr>\n",
       "    <tr>\n",
       "      <td>17</td>\n",
       "      <td>0.020774</td>\n",
       "      <td>00:42</td>\n",
       "    </tr>\n",
       "    <tr>\n",
       "      <td>18</td>\n",
       "      <td>0.021088</td>\n",
       "      <td>00:42</td>\n",
       "    </tr>\n",
       "    <tr>\n",
       "      <td>19</td>\n",
       "      <td>0.021222</td>\n",
       "      <td>00:42</td>\n",
       "    </tr>\n",
       "    <tr>\n",
       "      <td>20</td>\n",
       "      <td>0.021492</td>\n",
       "      <td>00:41</td>\n",
       "    </tr>\n",
       "    <tr>\n",
       "      <td>21</td>\n",
       "      <td>0.020213</td>\n",
       "      <td>00:42</td>\n",
       "    </tr>\n",
       "    <tr>\n",
       "      <td>22</td>\n",
       "      <td>0.020154</td>\n",
       "      <td>00:41</td>\n",
       "    </tr>\n",
       "    <tr>\n",
       "      <td>23</td>\n",
       "      <td>0.018978</td>\n",
       "      <td>00:42</td>\n",
       "    </tr>\n",
       "    <tr>\n",
       "      <td>24</td>\n",
       "      <td>0.018059</td>\n",
       "      <td>00:42</td>\n",
       "    </tr>\n",
       "    <tr>\n",
       "      <td>25</td>\n",
       "      <td>0.018220</td>\n",
       "      <td>00:42</td>\n",
       "    </tr>\n",
       "    <tr>\n",
       "      <td>26</td>\n",
       "      <td>0.018919</td>\n",
       "      <td>00:41</td>\n",
       "    </tr>\n",
       "    <tr>\n",
       "      <td>27</td>\n",
       "      <td>0.020037</td>\n",
       "      <td>00:42</td>\n",
       "    </tr>\n",
       "    <tr>\n",
       "      <td>28</td>\n",
       "      <td>0.019034</td>\n",
       "      <td>00:42</td>\n",
       "    </tr>\n",
       "    <tr>\n",
       "      <td>29</td>\n",
       "      <td>0.020313</td>\n",
       "      <td>00:42</td>\n",
       "    </tr>\n",
       "    <tr>\n",
       "      <td>30</td>\n",
       "      <td>0.017668</td>\n",
       "      <td>00:42</td>\n",
       "    </tr>\n",
       "    <tr>\n",
       "      <td>31</td>\n",
       "      <td>0.019960</td>\n",
       "      <td>00:41</td>\n",
       "    </tr>\n",
       "    <tr>\n",
       "      <td>32</td>\n",
       "      <td>0.017999</td>\n",
       "      <td>00:40</td>\n",
       "    </tr>\n",
       "    <tr>\n",
       "      <td>33</td>\n",
       "      <td>0.017762</td>\n",
       "      <td>00:40</td>\n",
       "    </tr>\n",
       "    <tr>\n",
       "      <td>34</td>\n",
       "      <td>0.016279</td>\n",
       "      <td>00:39</td>\n",
       "    </tr>\n",
       "    <tr>\n",
       "      <td>35</td>\n",
       "      <td>0.017254</td>\n",
       "      <td>00:39</td>\n",
       "    </tr>\n",
       "    <tr>\n",
       "      <td>36</td>\n",
       "      <td>0.017008</td>\n",
       "      <td>00:40</td>\n",
       "    </tr>\n",
       "    <tr>\n",
       "      <td>37</td>\n",
       "      <td>0.017625</td>\n",
       "      <td>00:40</td>\n",
       "    </tr>\n",
       "    <tr>\n",
       "      <td>38</td>\n",
       "      <td>0.016910</td>\n",
       "      <td>00:40</td>\n",
       "    </tr>\n",
       "    <tr>\n",
       "      <td>39</td>\n",
       "      <td>0.016845</td>\n",
       "      <td>00:40</td>\n",
       "    </tr>\n",
       "    <tr>\n",
       "      <td>40</td>\n",
       "      <td>0.016530</td>\n",
       "      <td>00:40</td>\n",
       "    </tr>\n",
       "    <tr>\n",
       "      <td>41</td>\n",
       "      <td>0.016348</td>\n",
       "      <td>00:39</td>\n",
       "    </tr>\n",
       "    <tr>\n",
       "      <td>42</td>\n",
       "      <td>0.018427</td>\n",
       "      <td>00:40</td>\n",
       "    </tr>\n",
       "    <tr>\n",
       "      <td>43</td>\n",
       "      <td>0.016773</td>\n",
       "      <td>00:39</td>\n",
       "    </tr>\n",
       "    <tr>\n",
       "      <td>44</td>\n",
       "      <td>0.017309</td>\n",
       "      <td>00:39</td>\n",
       "    </tr>\n",
       "    <tr>\n",
       "      <td>45</td>\n",
       "      <td>0.017675</td>\n",
       "      <td>00:39</td>\n",
       "    </tr>\n",
       "    <tr>\n",
       "      <td>46</td>\n",
       "      <td>0.014527</td>\n",
       "      <td>00:40</td>\n",
       "    </tr>\n",
       "    <tr>\n",
       "      <td>47</td>\n",
       "      <td>0.015831</td>\n",
       "      <td>00:39</td>\n",
       "    </tr>\n",
       "    <tr>\n",
       "      <td>48</td>\n",
       "      <td>0.016463</td>\n",
       "      <td>00:40</td>\n",
       "    </tr>\n",
       "    <tr>\n",
       "      <td>49</td>\n",
       "      <td>0.015775</td>\n",
       "      <td>00:40</td>\n",
       "    </tr>\n",
       "  </tbody>\n",
       "</table>"
      ],
      "text/plain": [
       "<IPython.core.display.HTML object>"
      ]
     },
     "metadata": {},
     "output_type": "display_data"
    }
   ],
   "source": [
    "# lr = lr/10\n",
    "print(lr)\n",
    "learn.fit(50, lr=lr)"
   ]
  },
  {
   "cell_type": "code",
   "execution_count": 32,
   "metadata": {
    "ExecuteTime": {
     "end_time": "2021-04-20T08:14:24.981533Z",
     "start_time": "2021-04-20T08:14:24.701670Z"
    }
   },
   "outputs": [
    {
     "data": {
      "image/png": "[encoded data removed]",
      "text/plain": [
       "<Figure size 432x288 with 1 Axes>"
      ]
     },
     "metadata": {
      "needs_background": "light"
     },
     "output_type": "display_data"
    }
   ],
   "source": [
    "learn.recorder.plot_loss(skip_start=0, with_valid=False)"
   ]
  },
  {
   "cell_type": "code",
   "execution_count": 33,
   "metadata": {
    "ExecuteTime": {
     "end_time": "2021-04-20T08:16:16.420657Z",
     "start_time": "2021-04-20T08:14:26.566520Z"
    },
    "scrolled": true
   },
   "outputs": [
    {
     "data": {
      "text/html": [],
      "text/plain": [
       "<IPython.core.display.HTML object>"
      ]
     },
     "metadata": {},
     "output_type": "display_data"
    },
    {
     "data": {
      "text/plain": [
       "(#7) [0.07730630785226822,0.28383338195229096,0.34074139141994303,0.27892648977884543,0.33415251151802305,0.28171119251840787,0.3377683102459932]"
      ]
     },
     "execution_count": 33,
     "metadata": {},
     "output_type": "execute_result"
    }
   ],
   "source": [
    "learn.validate(dl=test_loader[0])"
   ]
  },
  {
   "cell_type": "code",
   "execution_count": 34,
   "metadata": {
    "ExecuteTime": {
     "end_time": "2021-04-20T08:16:56.710215Z",
     "start_time": "2021-04-20T08:16:18.154164Z"
    },
    "scrolled": true
   },
   "outputs": [
    {
     "data": {
      "text/html": [],
      "text/plain": [
       "<IPython.core.display.HTML object>"
      ]
     },
     "metadata": {},
     "output_type": "display_data"
    },
    {
     "data": {
      "text/plain": [
       "(#7) [0.0487702339887619,0.6392827085227589,0.6761181222681028,0.6404514483519677,0.6706657452045302,0.6397647254749592,0.6736785142730848]"
      ]
     },
     "execution_count": 34,
     "metadata": {},
     "output_type": "execute_result"
    }
   ],
   "source": [
    "learn.validate(dl=test_loader[1])"
   ]
  },
  {
   "cell_type": "code",
   "execution_count": null,
   "metadata": {},
   "outputs": [],
   "source": []
  },
  {
   "cell_type": "markdown",
   "metadata": {},
   "source": [
    "## fit: OC Adam180"
   ]
  },
  {
   "cell_type": "code",
   "execution_count": 24,
   "metadata": {
    "ExecuteTime": {
     "end_time": "2021-04-19T20:42:06.382950Z",
     "start_time": "2021-04-19T20:42:06.376594Z"
    }
   },
   "outputs": [
    {
     "data": {
      "text/plain": [
       "('0',\n",
       " Adam (\n",
       " Parameter Group 0\n",
       "     amsgrad: False\n",
       "     betas: (0.9, 0.999)\n",
       "     eps: 1e-08\n",
       "     lr: 0.001\n",
       "     weight_decay: 0.0001\n",
       " ))"
      ]
     },
     "execution_count": 24,
     "metadata": {},
     "output_type": "execute_result"
    }
   ],
   "source": [
    "model_param, learn.opt.opt"
   ]
  },
  {
   "cell_type": "code",
   "execution_count": 25,
   "metadata": {
    "ExecuteTime": {
     "end_time": "2021-04-19T20:42:06.388843Z",
     "start_time": "2021-04-19T20:42:06.384598Z"
    }
   },
   "outputs": [],
   "source": [
    "lr = 3e-4"
   ]
  },
  {
   "cell_type": "code",
   "execution_count": 26,
   "metadata": {
    "ExecuteTime": {
     "end_time": "2021-04-19T20:42:53.094174Z",
     "start_time": "2021-04-19T20:42:06.395056Z"
    },
    "scrolled": true
   },
   "outputs": [
    {
     "name": "stdout",
     "output_type": "stream",
     "text": [
      "0.0003\n"
     ]
    },
    {
     "data": {
      "text/html": [
       "<table border=\"1\" class=\"dataframe\">\n",
       "  <thead>\n",
       "    <tr style=\"text-align: left;\">\n",
       "      <th>epoch</th>\n",
       "      <th>train_loss</th>\n",
       "      <th>valid_loss</th>\n",
       "      <th>spr_glo</th>\n",
       "      <th>plcc_glo</th>\n",
       "      <th>spr_loc</th>\n",
       "      <th>plcc_loc</th>\n",
       "      <th>spr_Mean</th>\n",
       "      <th>plcc_Mean</th>\n",
       "      <th>time</th>\n",
       "    </tr>\n",
       "  </thead>\n",
       "  <tbody>\n",
       "    <tr>\n",
       "      <td>0</td>\n",
       "      <td>0.115112</td>\n",
       "      <td>0.072219</td>\n",
       "      <td>0.531431</td>\n",
       "      <td>0.433809</td>\n",
       "      <td>0.534164</td>\n",
       "      <td>0.423618</td>\n",
       "      <td>0.533067</td>\n",
       "      <td>0.428345</td>\n",
       "      <td>00:44</td>\n",
       "    </tr>\n",
       "  </tbody>\n",
       "</table>"
      ],
      "text/plain": [
       "<IPython.core.display.HTML object>"
      ]
     },
     "metadata": {},
     "output_type": "display_data"
    },
    {
     "name": "stdout",
     "output_type": "stream",
     "text": [
      "Better model found at epoch 0 with valid_loss value: 0.07221867889165878.\n"
     ]
    }
   ],
   "source": [
    "# %%debug\n",
    "# lr = lr/10\n",
    "print(lr)\n",
    "learn.fit(1, lr=lr/10)"
   ]
  },
  {
   "cell_type": "code",
   "execution_count": 27,
   "metadata": {
    "ExecuteTime": {
     "end_time": "2021-04-19T20:42:53.308630Z",
     "start_time": "2021-04-19T20:42:53.099348Z"
    }
   },
   "outputs": [
    {
     "data": {
      "image/png": "[encoded data removed]",
      "text/plain": [
       "<Figure size 432x288 with 1 Axes>"
      ]
     },
     "metadata": {
      "needs_background": "light"
     },
     "output_type": "display_data"
    }
   ],
   "source": [
    "learn.recorder.plot_loss()"
   ]
  },
  {
   "cell_type": "code",
   "execution_count": 28,
   "metadata": {
    "ExecuteTime": {
     "end_time": "2021-04-19T21:13:25.856578Z",
     "start_time": "2021-04-19T20:42:53.310119Z"
    },
    "scrolled": false
   },
   "outputs": [
    {
     "name": "stdout",
     "output_type": "stream",
     "text": [
      "0.0003\n"
     ]
    },
    {
     "data": {
      "text/html": [
       "<table border=\"1\" class=\"dataframe\">\n",
       "  <thead>\n",
       "    <tr style=\"text-align: left;\">\n",
       "      <th>epoch</th>\n",
       "      <th>train_loss</th>\n",
       "      <th>valid_loss</th>\n",
       "      <th>spr_glo</th>\n",
       "      <th>plcc_glo</th>\n",
       "      <th>spr_loc</th>\n",
       "      <th>plcc_loc</th>\n",
       "      <th>spr_Mean</th>\n",
       "      <th>plcc_Mean</th>\n",
       "      <th>time</th>\n",
       "    </tr>\n",
       "  </thead>\n",
       "  <tbody>\n",
       "    <tr>\n",
       "      <td>0</td>\n",
       "      <td>0.055996</td>\n",
       "      <td>0.042544</td>\n",
       "      <td>0.823410</td>\n",
       "      <td>0.803086</td>\n",
       "      <td>0.840343</td>\n",
       "      <td>0.829527</td>\n",
       "      <td>0.831087</td>\n",
       "      <td>0.817132</td>\n",
       "      <td>00:39</td>\n",
       "    </tr>\n",
       "    <tr>\n",
       "      <td>1</td>\n",
       "      <td>0.042051</td>\n",
       "      <td>0.033678</td>\n",
       "      <td>0.853980</td>\n",
       "      <td>0.861651</td>\n",
       "      <td>0.856986</td>\n",
       "      <td>0.866360</td>\n",
       "      <td>0.856185</td>\n",
       "      <td>0.863979</td>\n",
       "      <td>00:38</td>\n",
       "    </tr>\n",
       "    <tr>\n",
       "      <td>2</td>\n",
       "      <td>0.035018</td>\n",
       "      <td>0.035014</td>\n",
       "      <td>0.866408</td>\n",
       "      <td>0.883466</td>\n",
       "      <td>0.870174</td>\n",
       "      <td>0.886490</td>\n",
       "      <td>0.867615</td>\n",
       "      <td>0.884676</td>\n",
       "      <td>00:38</td>\n",
       "    </tr>\n",
       "    <tr>\n",
       "      <td>3</td>\n",
       "      <td>0.036564</td>\n",
       "      <td>0.027894</td>\n",
       "      <td>0.874185</td>\n",
       "      <td>0.889035</td>\n",
       "      <td>0.877276</td>\n",
       "      <td>0.891101</td>\n",
       "      <td>0.875663</td>\n",
       "      <td>0.889934</td>\n",
       "      <td>00:38</td>\n",
       "    </tr>\n",
       "    <tr>\n",
       "      <td>4</td>\n",
       "      <td>0.033848</td>\n",
       "      <td>0.027788</td>\n",
       "      <td>0.857967</td>\n",
       "      <td>0.886450</td>\n",
       "      <td>0.858497</td>\n",
       "      <td>0.887286</td>\n",
       "      <td>0.858182</td>\n",
       "      <td>0.886920</td>\n",
       "      <td>00:37</td>\n",
       "    </tr>\n",
       "    <tr>\n",
       "      <td>5</td>\n",
       "      <td>0.032878</td>\n",
       "      <td>0.027042</td>\n",
       "      <td>0.891857</td>\n",
       "      <td>0.900981</td>\n",
       "      <td>0.891939</td>\n",
       "      <td>0.902546</td>\n",
       "      <td>0.891909</td>\n",
       "      <td>0.901750</td>\n",
       "      <td>00:38</td>\n",
       "    </tr>\n",
       "    <tr>\n",
       "      <td>6</td>\n",
       "      <td>0.030191</td>\n",
       "      <td>0.025889</td>\n",
       "      <td>0.878658</td>\n",
       "      <td>0.903216</td>\n",
       "      <td>0.879151</td>\n",
       "      <td>0.905100</td>\n",
       "      <td>0.879031</td>\n",
       "      <td>0.904125</td>\n",
       "      <td>00:37</td>\n",
       "    </tr>\n",
       "    <tr>\n",
       "      <td>7</td>\n",
       "      <td>0.032774</td>\n",
       "      <td>0.024883</td>\n",
       "      <td>0.906091</td>\n",
       "      <td>0.912989</td>\n",
       "      <td>0.906190</td>\n",
       "      <td>0.914221</td>\n",
       "      <td>0.906089</td>\n",
       "      <td>0.913715</td>\n",
       "      <td>00:38</td>\n",
       "    </tr>\n",
       "    <tr>\n",
       "      <td>8</td>\n",
       "      <td>0.027168</td>\n",
       "      <td>0.023655</td>\n",
       "      <td>0.915775</td>\n",
       "      <td>0.921740</td>\n",
       "      <td>0.915541</td>\n",
       "      <td>0.923630</td>\n",
       "      <td>0.915405</td>\n",
       "      <td>0.922754</td>\n",
       "      <td>00:37</td>\n",
       "    </tr>\n",
       "    <tr>\n",
       "      <td>9</td>\n",
       "      <td>0.030004</td>\n",
       "      <td>0.025282</td>\n",
       "      <td>0.910070</td>\n",
       "      <td>0.918876</td>\n",
       "      <td>0.908586</td>\n",
       "      <td>0.916547</td>\n",
       "      <td>0.909523</td>\n",
       "      <td>0.918154</td>\n",
       "      <td>00:37</td>\n",
       "    </tr>\n",
       "    <tr>\n",
       "      <td>10</td>\n",
       "      <td>0.025720</td>\n",
       "      <td>0.021580</td>\n",
       "      <td>0.919210</td>\n",
       "      <td>0.928425</td>\n",
       "      <td>0.918806</td>\n",
       "      <td>0.928585</td>\n",
       "      <td>0.918731</td>\n",
       "      <td>0.928720</td>\n",
       "      <td>00:37</td>\n",
       "    </tr>\n",
       "    <tr>\n",
       "      <td>11</td>\n",
       "      <td>0.024995</td>\n",
       "      <td>0.020640</td>\n",
       "      <td>0.925696</td>\n",
       "      <td>0.932799</td>\n",
       "      <td>0.924835</td>\n",
       "      <td>0.934107</td>\n",
       "      <td>0.925330</td>\n",
       "      <td>0.933525</td>\n",
       "      <td>00:37</td>\n",
       "    </tr>\n",
       "    <tr>\n",
       "      <td>12</td>\n",
       "      <td>0.023513</td>\n",
       "      <td>0.026909</td>\n",
       "      <td>0.930065</td>\n",
       "      <td>0.935913</td>\n",
       "      <td>0.929774</td>\n",
       "      <td>0.936356</td>\n",
       "      <td>0.929935</td>\n",
       "      <td>0.936375</td>\n",
       "      <td>00:37</td>\n",
       "    </tr>\n",
       "    <tr>\n",
       "      <td>13</td>\n",
       "      <td>0.023447</td>\n",
       "      <td>0.023622</td>\n",
       "      <td>0.927742</td>\n",
       "      <td>0.938365</td>\n",
       "      <td>0.926758</td>\n",
       "      <td>0.933727</td>\n",
       "      <td>0.926700</td>\n",
       "      <td>0.937298</td>\n",
       "      <td>00:37</td>\n",
       "    </tr>\n",
       "    <tr>\n",
       "      <td>14</td>\n",
       "      <td>0.022645</td>\n",
       "      <td>0.022937</td>\n",
       "      <td>0.937231</td>\n",
       "      <td>0.942788</td>\n",
       "      <td>0.936074</td>\n",
       "      <td>0.942037</td>\n",
       "      <td>0.936670</td>\n",
       "      <td>0.942728</td>\n",
       "      <td>00:37</td>\n",
       "    </tr>\n",
       "    <tr>\n",
       "      <td>15</td>\n",
       "      <td>0.023487</td>\n",
       "      <td>0.019569</td>\n",
       "      <td>0.932040</td>\n",
       "      <td>0.941454</td>\n",
       "      <td>0.929514</td>\n",
       "      <td>0.939014</td>\n",
       "      <td>0.931229</td>\n",
       "      <td>0.940708</td>\n",
       "      <td>00:35</td>\n",
       "    </tr>\n",
       "    <tr>\n",
       "      <td>16</td>\n",
       "      <td>0.021957</td>\n",
       "      <td>0.026014</td>\n",
       "      <td>0.925528</td>\n",
       "      <td>0.936440</td>\n",
       "      <td>0.923550</td>\n",
       "      <td>0.932304</td>\n",
       "      <td>0.925475</td>\n",
       "      <td>0.934891</td>\n",
       "      <td>00:35</td>\n",
       "    </tr>\n",
       "    <tr>\n",
       "      <td>17</td>\n",
       "      <td>0.022485</td>\n",
       "      <td>0.023271</td>\n",
       "      <td>0.936717</td>\n",
       "      <td>0.944866</td>\n",
       "      <td>0.935353</td>\n",
       "      <td>0.941951</td>\n",
       "      <td>0.936977</td>\n",
       "      <td>0.943776</td>\n",
       "      <td>00:36</td>\n",
       "    </tr>\n",
       "    <tr>\n",
       "      <td>18</td>\n",
       "      <td>0.020257</td>\n",
       "      <td>0.017879</td>\n",
       "      <td>0.932929</td>\n",
       "      <td>0.944033</td>\n",
       "      <td>0.930301</td>\n",
       "      <td>0.943037</td>\n",
       "      <td>0.931448</td>\n",
       "      <td>0.943647</td>\n",
       "      <td>00:36</td>\n",
       "    </tr>\n",
       "    <tr>\n",
       "      <td>19</td>\n",
       "      <td>0.021512</td>\n",
       "      <td>0.033691</td>\n",
       "      <td>0.938383</td>\n",
       "      <td>0.947246</td>\n",
       "      <td>0.937672</td>\n",
       "      <td>0.942329</td>\n",
       "      <td>0.939175</td>\n",
       "      <td>0.945539</td>\n",
       "      <td>00:36</td>\n",
       "    </tr>\n",
       "    <tr>\n",
       "      <td>20</td>\n",
       "      <td>0.019848</td>\n",
       "      <td>0.021244</td>\n",
       "      <td>0.930929</td>\n",
       "      <td>0.940041</td>\n",
       "      <td>0.930017</td>\n",
       "      <td>0.934829</td>\n",
       "      <td>0.930769</td>\n",
       "      <td>0.938044</td>\n",
       "      <td>00:36</td>\n",
       "    </tr>\n",
       "    <tr>\n",
       "      <td>21</td>\n",
       "      <td>0.021850</td>\n",
       "      <td>0.019914</td>\n",
       "      <td>0.931850</td>\n",
       "      <td>0.942359</td>\n",
       "      <td>0.929898</td>\n",
       "      <td>0.939636</td>\n",
       "      <td>0.931382</td>\n",
       "      <td>0.941277</td>\n",
       "      <td>00:36</td>\n",
       "    </tr>\n",
       "    <tr>\n",
       "      <td>22</td>\n",
       "      <td>0.020478</td>\n",
       "      <td>0.017838</td>\n",
       "      <td>0.936267</td>\n",
       "      <td>0.945438</td>\n",
       "      <td>0.935810</td>\n",
       "      <td>0.943023</td>\n",
       "      <td>0.936226</td>\n",
       "      <td>0.944473</td>\n",
       "      <td>00:35</td>\n",
       "    </tr>\n",
       "    <tr>\n",
       "      <td>23</td>\n",
       "      <td>0.020400</td>\n",
       "      <td>0.018071</td>\n",
       "      <td>0.929231</td>\n",
       "      <td>0.942101</td>\n",
       "      <td>0.928382</td>\n",
       "      <td>0.941257</td>\n",
       "      <td>0.929337</td>\n",
       "      <td>0.941766</td>\n",
       "      <td>00:36</td>\n",
       "    </tr>\n",
       "    <tr>\n",
       "      <td>24</td>\n",
       "      <td>0.021936</td>\n",
       "      <td>0.017225</td>\n",
       "      <td>0.934923</td>\n",
       "      <td>0.944446</td>\n",
       "      <td>0.933589</td>\n",
       "      <td>0.942990</td>\n",
       "      <td>0.934739</td>\n",
       "      <td>0.943830</td>\n",
       "      <td>00:35</td>\n",
       "    </tr>\n",
       "    <tr>\n",
       "      <td>25</td>\n",
       "      <td>0.021944</td>\n",
       "      <td>0.018333</td>\n",
       "      <td>0.932920</td>\n",
       "      <td>0.944481</td>\n",
       "      <td>0.932000</td>\n",
       "      <td>0.941871</td>\n",
       "      <td>0.932538</td>\n",
       "      <td>0.943425</td>\n",
       "      <td>00:35</td>\n",
       "    </tr>\n",
       "    <tr>\n",
       "      <td>26</td>\n",
       "      <td>0.019221</td>\n",
       "      <td>0.017018</td>\n",
       "      <td>0.937492</td>\n",
       "      <td>0.949616</td>\n",
       "      <td>0.937091</td>\n",
       "      <td>0.948693</td>\n",
       "      <td>0.937321</td>\n",
       "      <td>0.949233</td>\n",
       "      <td>00:36</td>\n",
       "    </tr>\n",
       "    <tr>\n",
       "      <td>27</td>\n",
       "      <td>0.020623</td>\n",
       "      <td>0.016803</td>\n",
       "      <td>0.943307</td>\n",
       "      <td>0.949487</td>\n",
       "      <td>0.943206</td>\n",
       "      <td>0.947996</td>\n",
       "      <td>0.943627</td>\n",
       "      <td>0.948867</td>\n",
       "      <td>00:35</td>\n",
       "    </tr>\n",
       "    <tr>\n",
       "      <td>28</td>\n",
       "      <td>0.020348</td>\n",
       "      <td>0.019963</td>\n",
       "      <td>0.935084</td>\n",
       "      <td>0.944587</td>\n",
       "      <td>0.934871</td>\n",
       "      <td>0.942835</td>\n",
       "      <td>0.934664</td>\n",
       "      <td>0.943851</td>\n",
       "      <td>00:36</td>\n",
       "    </tr>\n",
       "    <tr>\n",
       "      <td>29</td>\n",
       "      <td>0.019773</td>\n",
       "      <td>0.017427</td>\n",
       "      <td>0.943961</td>\n",
       "      <td>0.949599</td>\n",
       "      <td>0.943409</td>\n",
       "      <td>0.946995</td>\n",
       "      <td>0.943650</td>\n",
       "      <td>0.948542</td>\n",
       "      <td>00:36</td>\n",
       "    </tr>\n",
       "    <tr>\n",
       "      <td>30</td>\n",
       "      <td>0.018702</td>\n",
       "      <td>0.017889</td>\n",
       "      <td>0.945532</td>\n",
       "      <td>0.950920</td>\n",
       "      <td>0.944502</td>\n",
       "      <td>0.948526</td>\n",
       "      <td>0.945423</td>\n",
       "      <td>0.949913</td>\n",
       "      <td>00:35</td>\n",
       "    </tr>\n",
       "    <tr>\n",
       "      <td>31</td>\n",
       "      <td>0.020050</td>\n",
       "      <td>0.017778</td>\n",
       "      <td>0.940176</td>\n",
       "      <td>0.947958</td>\n",
       "      <td>0.939914</td>\n",
       "      <td>0.946578</td>\n",
       "      <td>0.940016</td>\n",
       "      <td>0.947385</td>\n",
       "      <td>00:36</td>\n",
       "    </tr>\n",
       "    <tr>\n",
       "      <td>32</td>\n",
       "      <td>0.018993</td>\n",
       "      <td>0.016158</td>\n",
       "      <td>0.946496</td>\n",
       "      <td>0.951422</td>\n",
       "      <td>0.945756</td>\n",
       "      <td>0.949689</td>\n",
       "      <td>0.945983</td>\n",
       "      <td>0.950688</td>\n",
       "      <td>00:36</td>\n",
       "    </tr>\n",
       "    <tr>\n",
       "      <td>33</td>\n",
       "      <td>0.018137</td>\n",
       "      <td>0.016449</td>\n",
       "      <td>0.934473</td>\n",
       "      <td>0.947711</td>\n",
       "      <td>0.933977</td>\n",
       "      <td>0.945849</td>\n",
       "      <td>0.934289</td>\n",
       "      <td>0.946939</td>\n",
       "      <td>00:36</td>\n",
       "    </tr>\n",
       "    <tr>\n",
       "      <td>34</td>\n",
       "      <td>0.019043</td>\n",
       "      <td>0.015299</td>\n",
       "      <td>0.947157</td>\n",
       "      <td>0.954990</td>\n",
       "      <td>0.947399</td>\n",
       "      <td>0.953592</td>\n",
       "      <td>0.946983</td>\n",
       "      <td>0.954394</td>\n",
       "      <td>00:36</td>\n",
       "    </tr>\n",
       "    <tr>\n",
       "      <td>35</td>\n",
       "      <td>0.018316</td>\n",
       "      <td>0.016439</td>\n",
       "      <td>0.945697</td>\n",
       "      <td>0.953401</td>\n",
       "      <td>0.945360</td>\n",
       "      <td>0.951381</td>\n",
       "      <td>0.945379</td>\n",
       "      <td>0.952570</td>\n",
       "      <td>00:35</td>\n",
       "    </tr>\n",
       "    <tr>\n",
       "      <td>36</td>\n",
       "      <td>0.018147</td>\n",
       "      <td>0.015239</td>\n",
       "      <td>0.943300</td>\n",
       "      <td>0.952210</td>\n",
       "      <td>0.943294</td>\n",
       "      <td>0.950832</td>\n",
       "      <td>0.943463</td>\n",
       "      <td>0.951633</td>\n",
       "      <td>00:35</td>\n",
       "    </tr>\n",
       "    <tr>\n",
       "      <td>37</td>\n",
       "      <td>0.017965</td>\n",
       "      <td>0.015347</td>\n",
       "      <td>0.946499</td>\n",
       "      <td>0.955051</td>\n",
       "      <td>0.945825</td>\n",
       "      <td>0.953500</td>\n",
       "      <td>0.946574</td>\n",
       "      <td>0.954398</td>\n",
       "      <td>00:36</td>\n",
       "    </tr>\n",
       "    <tr>\n",
       "      <td>38</td>\n",
       "      <td>0.018444</td>\n",
       "      <td>0.015142</td>\n",
       "      <td>0.942101</td>\n",
       "      <td>0.952313</td>\n",
       "      <td>0.941707</td>\n",
       "      <td>0.950730</td>\n",
       "      <td>0.942002</td>\n",
       "      <td>0.951657</td>\n",
       "      <td>00:35</td>\n",
       "    </tr>\n",
       "    <tr>\n",
       "      <td>39</td>\n",
       "      <td>0.018400</td>\n",
       "      <td>0.016521</td>\n",
       "      <td>0.944952</td>\n",
       "      <td>0.952514</td>\n",
       "      <td>0.944314</td>\n",
       "      <td>0.951738</td>\n",
       "      <td>0.944733</td>\n",
       "      <td>0.952247</td>\n",
       "      <td>00:36</td>\n",
       "    </tr>\n",
       "    <tr>\n",
       "      <td>40</td>\n",
       "      <td>0.022804</td>\n",
       "      <td>0.024268</td>\n",
       "      <td>0.939741</td>\n",
       "      <td>0.944704</td>\n",
       "      <td>0.940035</td>\n",
       "      <td>0.943505</td>\n",
       "      <td>0.939693</td>\n",
       "      <td>0.944270</td>\n",
       "      <td>00:36</td>\n",
       "    </tr>\n",
       "    <tr>\n",
       "      <td>41</td>\n",
       "      <td>0.017249</td>\n",
       "      <td>0.016067</td>\n",
       "      <td>0.943566</td>\n",
       "      <td>0.954336</td>\n",
       "      <td>0.943248</td>\n",
       "      <td>0.953546</td>\n",
       "      <td>0.943279</td>\n",
       "      <td>0.954075</td>\n",
       "      <td>00:35</td>\n",
       "    </tr>\n",
       "    <tr>\n",
       "      <td>42</td>\n",
       "      <td>0.017826</td>\n",
       "      <td>0.015465</td>\n",
       "      <td>0.942213</td>\n",
       "      <td>0.953459</td>\n",
       "      <td>0.942286</td>\n",
       "      <td>0.952421</td>\n",
       "      <td>0.942270</td>\n",
       "      <td>0.953049</td>\n",
       "      <td>00:36</td>\n",
       "    </tr>\n",
       "    <tr>\n",
       "      <td>43</td>\n",
       "      <td>0.016963</td>\n",
       "      <td>0.015905</td>\n",
       "      <td>0.926261</td>\n",
       "      <td>0.945396</td>\n",
       "      <td>0.925292</td>\n",
       "      <td>0.944131</td>\n",
       "      <td>0.925852</td>\n",
       "      <td>0.944899</td>\n",
       "      <td>00:35</td>\n",
       "    </tr>\n",
       "    <tr>\n",
       "      <td>44</td>\n",
       "      <td>0.018470</td>\n",
       "      <td>0.017849</td>\n",
       "      <td>0.946746</td>\n",
       "      <td>0.951903</td>\n",
       "      <td>0.947278</td>\n",
       "      <td>0.950703</td>\n",
       "      <td>0.947317</td>\n",
       "      <td>0.951462</td>\n",
       "      <td>00:36</td>\n",
       "    </tr>\n",
       "    <tr>\n",
       "      <td>45</td>\n",
       "      <td>0.017214</td>\n",
       "      <td>0.016315</td>\n",
       "      <td>0.937245</td>\n",
       "      <td>0.952891</td>\n",
       "      <td>0.937050</td>\n",
       "      <td>0.951100</td>\n",
       "      <td>0.937193</td>\n",
       "      <td>0.952186</td>\n",
       "      <td>00:36</td>\n",
       "    </tr>\n",
       "    <tr>\n",
       "      <td>46</td>\n",
       "      <td>0.018198</td>\n",
       "      <td>0.017936</td>\n",
       "      <td>0.943348</td>\n",
       "      <td>0.952199</td>\n",
       "      <td>0.943286</td>\n",
       "      <td>0.950720</td>\n",
       "      <td>0.943384</td>\n",
       "      <td>0.951598</td>\n",
       "      <td>00:35</td>\n",
       "    </tr>\n",
       "    <tr>\n",
       "      <td>47</td>\n",
       "      <td>0.016685</td>\n",
       "      <td>0.016035</td>\n",
       "      <td>0.945580</td>\n",
       "      <td>0.954094</td>\n",
       "      <td>0.945474</td>\n",
       "      <td>0.953138</td>\n",
       "      <td>0.945329</td>\n",
       "      <td>0.953730</td>\n",
       "      <td>00:36</td>\n",
       "    </tr>\n",
       "    <tr>\n",
       "      <td>48</td>\n",
       "      <td>0.016505</td>\n",
       "      <td>0.014887</td>\n",
       "      <td>0.943840</td>\n",
       "      <td>0.952722</td>\n",
       "      <td>0.943881</td>\n",
       "      <td>0.951356</td>\n",
       "      <td>0.944001</td>\n",
       "      <td>0.952177</td>\n",
       "      <td>00:36</td>\n",
       "    </tr>\n",
       "    <tr>\n",
       "      <td>49</td>\n",
       "      <td>0.015764</td>\n",
       "      <td>0.017231</td>\n",
       "      <td>0.944323</td>\n",
       "      <td>0.954075</td>\n",
       "      <td>0.943558</td>\n",
       "      <td>0.953638</td>\n",
       "      <td>0.944282</td>\n",
       "      <td>0.954014</td>\n",
       "      <td>00:36</td>\n",
       "    </tr>\n",
       "  </tbody>\n",
       "</table>"
      ],
      "text/plain": [
       "<IPython.core.display.HTML object>"
      ]
     },
     "metadata": {},
     "output_type": "display_data"
    },
    {
     "name": "stdout",
     "output_type": "stream",
     "text": [
      "Better model found at epoch 0 with valid_loss value: 0.04254427179694176.\n",
      "Better model found at epoch 1 with valid_loss value: 0.03367796167731285.\n",
      "Better model found at epoch 3 with valid_loss value: 0.02789420448243618.\n",
      "Better model found at epoch 4 with valid_loss value: 0.027787890285253525.\n",
      "Better model found at epoch 5 with valid_loss value: 0.027041980996727943.\n",
      "Better model found at epoch 6 with valid_loss value: 0.025889184325933456.\n",
      "Better model found at epoch 7 with valid_loss value: 0.02488287352025509.\n",
      "Better model found at epoch 8 with valid_loss value: 0.023654993623495102.\n",
      "Better model found at epoch 10 with valid_loss value: 0.02157963626086712.\n",
      "Better model found at epoch 11 with valid_loss value: 0.020640207454562187.\n",
      "Better model found at epoch 15 with valid_loss value: 0.01956867054104805.\n",
      "Better model found at epoch 18 with valid_loss value: 0.01787894032895565.\n",
      "Better model found at epoch 22 with valid_loss value: 0.01783832535147667.\n",
      "Better model found at epoch 24 with valid_loss value: 0.017224658280611038.\n",
      "Better model found at epoch 26 with valid_loss value: 0.01701766811311245.\n",
      "Better model found at epoch 27 with valid_loss value: 0.016802994534373283.\n",
      "Better model found at epoch 32 with valid_loss value: 0.016157660633325577.\n",
      "Better model found at epoch 34 with valid_loss value: 0.015299259684979916.\n",
      "Better model found at epoch 36 with valid_loss value: 0.015239416621625423.\n",
      "Better model found at epoch 38 with valid_loss value: 0.015142100863158703.\n",
      "Better model found at epoch 48 with valid_loss value: 0.01488677691668272.\n"
     ]
    }
   ],
   "source": [
    "# lr = lr/10\n",
    "print(lr)\n",
    "learn.fit(50, lr=lr)"
   ]
  },
  {
   "cell_type": "code",
   "execution_count": 29,
   "metadata": {
    "ExecuteTime": {
     "end_time": "2021-04-19T21:13:26.065493Z",
     "start_time": "2021-04-19T21:13:25.858810Z"
    },
    "scrolled": true
   },
   "outputs": [
    {
     "data": {
      "image/png": "[encoded data removed]",
      "text/plain": [
       "<Figure size 432x288 with 1 Axes>"
      ]
     },
     "metadata": {
      "needs_background": "light"
     },
     "output_type": "display_data"
    }
   ],
   "source": [
    "learn.recorder.plot_loss()"
   ]
  },
  {
   "cell_type": "code",
   "execution_count": 30,
   "metadata": {
    "ExecuteTime": {
     "end_time": "2021-04-19T21:14:08.013027Z",
     "start_time": "2021-04-19T21:13:26.067254Z"
    },
    "scrolled": true
   },
   "outputs": [
    {
     "data": {
      "text/html": [],
      "text/plain": [
       "<IPython.core.display.HTML object>"
      ]
     },
     "metadata": {},
     "output_type": "display_data"
    },
    {
     "name": "stdout",
     "output_type": "stream",
     "text": [
      "Better model found at epoch 0 with valid_loss value: 0.28393023748862467.\n"
     ]
    },
    {
     "data": {
      "text/plain": [
       "(#7) [0.0611860454082489,0.28393023748862467,0.34877180235253147,0.28326251389141754,0.344721906634886,0.28365451661322577,0.3469651168945487]"
      ]
     },
     "execution_count": 30,
     "metadata": {},
     "output_type": "execute_result"
    }
   ],
   "source": [
    "learn.validate(dl=test_loader[0])"
   ]
  },
  {
   "cell_type": "code",
   "execution_count": 31,
   "metadata": {
    "ExecuteTime": {
     "end_time": "2021-04-19T21:14:22.614134Z",
     "start_time": "2021-04-19T21:14:08.016418Z"
    },
    "scrolled": true
   },
   "outputs": [
    {
     "data": {
      "text/html": [],
      "text/plain": [
       "<IPython.core.display.HTML object>"
      ]
     },
     "metadata": {},
     "output_type": "display_data"
    },
    {
     "name": "stdout",
     "output_type": "stream",
     "text": [
      "Better model found at epoch 0 with valid_loss value: 0.6447319528952883.\n"
     ]
    },
    {
     "data": {
      "text/plain": [
       "(#7) [0.04675496369600296,0.6447319528952883,0.6847374523033953,0.6450184746730658,0.6787029472853219,0.6448609680699405,0.6820716006686198]"
      ]
     },
     "execution_count": 31,
     "metadata": {},
     "output_type": "execute_result"
    }
   ],
   "source": [
    "learn.validate(dl=test_loader[1])"
   ]
  },
  {
   "cell_type": "code",
   "execution_count": null,
   "metadata": {},
   "outputs": [],
   "source": []
  },
  {
   "cell_type": "code",
   "execution_count": 24,
   "metadata": {
    "ExecuteTime": {
     "end_time": "2021-04-19T20:25:12.872697Z",
     "start_time": "2021-04-19T20:25:12.867286Z"
    }
   },
   "outputs": [
    {
     "data": {
      "text/plain": [
       "('0',\n",
       " SGD (\n",
       " Parameter Group 0\n",
       "     dampening: 0\n",
       "     lr: 0\n",
       "     momentum: 0.9\n",
       "     nesterov: False\n",
       "     weight_decay: 0.0001\n",
       " ))"
      ]
     },
     "execution_count": 24,
     "metadata": {},
     "output_type": "execute_result"
    }
   ],
   "source": [
    "model_param, learn.opt.opt"
   ]
  },
  {
   "cell_type": "code",
   "execution_count": 25,
   "metadata": {
    "ExecuteTime": {
     "end_time": "2021-04-19T20:25:12.878215Z",
     "start_time": "2021-04-19T20:25:12.874298Z"
    }
   },
   "outputs": [],
   "source": [
    "lr = 1e-2"
   ]
  },
  {
   "cell_type": "code",
   "execution_count": 26,
   "metadata": {
    "ExecuteTime": {
     "end_time": "2021-04-19T20:25:12.885074Z",
     "start_time": "2021-04-19T20:25:12.882599Z"
    }
   },
   "outputs": [],
   "source": [
    "from fastai.callback.tracker import ReduceLROnPlateau"
   ]
  },
  {
   "cell_type": "code",
   "execution_count": 27,
   "metadata": {
    "ExecuteTime": {
     "end_time": "2021-04-19T20:41:06.850591Z",
     "start_time": "2021-04-19T20:25:12.887505Z"
    },
    "scrolled": true
   },
   "outputs": [
    {
     "name": "stdout",
     "output_type": "stream",
     "text": [
      "0.01\n"
     ]
    },
    {
     "data": {
      "text/html": [
       "<table border=\"1\" class=\"dataframe\">\n",
       "  <thead>\n",
       "    <tr style=\"text-align: left;\">\n",
       "      <th>epoch</th>\n",
       "      <th>train_loss</th>\n",
       "      <th>valid_loss</th>\n",
       "      <th>spr_glo</th>\n",
       "      <th>plcc_glo</th>\n",
       "      <th>spr_loc</th>\n",
       "      <th>plcc_loc</th>\n",
       "      <th>spr_Mean</th>\n",
       "      <th>plcc_Mean</th>\n",
       "      <th>time</th>\n",
       "    </tr>\n",
       "  </thead>\n",
       "  <tbody>\n",
       "    <tr>\n",
       "      <td>0</td>\n",
       "      <td>0.080446</td>\n",
       "      <td>0.070541</td>\n",
       "      <td>0.916218</td>\n",
       "      <td>0.895464</td>\n",
       "      <td>0.546040</td>\n",
       "      <td>0.289754</td>\n",
       "      <td>0.551288</td>\n",
       "      <td>0.329462</td>\n",
       "      <td>00:42</td>\n",
       "    </tr>\n",
       "    <tr>\n",
       "      <td>1</td>\n",
       "      <td>0.078303</td>\n",
       "      <td>0.074012</td>\n",
       "      <td>0.558831</td>\n",
       "      <td>0.605985</td>\n",
       "      <td>0.546663</td>\n",
       "      <td>0.292214</td>\n",
       "      <td>0.552608</td>\n",
       "      <td>0.341529</td>\n",
       "      <td>00:35</td>\n",
       "    </tr>\n",
       "    <tr>\n",
       "      <td>2</td>\n",
       "      <td>0.079218</td>\n",
       "      <td>0.070939</td>\n",
       "      <td>0.552746</td>\n",
       "      <td>0.519193</td>\n",
       "      <td>0.548413</td>\n",
       "      <td>0.293536</td>\n",
       "      <td>0.550519</td>\n",
       "      <td>0.349030</td>\n",
       "      <td>00:36</td>\n",
       "    </tr>\n",
       "    <tr>\n",
       "      <td>3</td>\n",
       "      <td>0.077520</td>\n",
       "      <td>0.072143</td>\n",
       "      <td>0.551283</td>\n",
       "      <td>0.488857</td>\n",
       "      <td>0.548590</td>\n",
       "      <td>0.298305</td>\n",
       "      <td>0.550440</td>\n",
       "      <td>0.353326</td>\n",
       "      <td>00:36</td>\n",
       "    </tr>\n",
       "    <tr>\n",
       "      <td>4</td>\n",
       "      <td>0.078324</td>\n",
       "      <td>0.072738</td>\n",
       "      <td>0.549992</td>\n",
       "      <td>0.470856</td>\n",
       "      <td>0.548468</td>\n",
       "      <td>0.305641</td>\n",
       "      <td>0.550546</td>\n",
       "      <td>0.359357</td>\n",
       "      <td>00:36</td>\n",
       "    </tr>\n",
       "    <tr>\n",
       "      <td>5</td>\n",
       "      <td>0.076116</td>\n",
       "      <td>0.071411</td>\n",
       "      <td>0.549008</td>\n",
       "      <td>0.462959</td>\n",
       "      <td>0.548241</td>\n",
       "      <td>0.310841</td>\n",
       "      <td>0.550720</td>\n",
       "      <td>0.361505</td>\n",
       "      <td>00:36</td>\n",
       "    </tr>\n",
       "    <tr>\n",
       "      <td>6</td>\n",
       "      <td>0.073927</td>\n",
       "      <td>0.072128</td>\n",
       "      <td>0.547850</td>\n",
       "      <td>0.455816</td>\n",
       "      <td>0.548236</td>\n",
       "      <td>0.317410</td>\n",
       "      <td>0.550239</td>\n",
       "      <td>0.365227</td>\n",
       "      <td>00:36</td>\n",
       "    </tr>\n",
       "    <tr>\n",
       "      <td>7</td>\n",
       "      <td>0.074245</td>\n",
       "      <td>0.072490</td>\n",
       "      <td>0.547116</td>\n",
       "      <td>0.450599</td>\n",
       "      <td>0.549276</td>\n",
       "      <td>0.322425</td>\n",
       "      <td>0.550350</td>\n",
       "      <td>0.368535</td>\n",
       "      <td>00:35</td>\n",
       "    </tr>\n",
       "    <tr>\n",
       "      <td>8</td>\n",
       "      <td>0.080471</td>\n",
       "      <td>0.071949</td>\n",
       "      <td>0.546751</td>\n",
       "      <td>0.446420</td>\n",
       "      <td>0.549236</td>\n",
       "      <td>0.327320</td>\n",
       "      <td>0.548702</td>\n",
       "      <td>0.370629</td>\n",
       "      <td>00:36</td>\n",
       "    </tr>\n",
       "    <tr>\n",
       "      <td>9</td>\n",
       "      <td>0.081443</td>\n",
       "      <td>0.071668</td>\n",
       "      <td>0.546840</td>\n",
       "      <td>0.444473</td>\n",
       "      <td>0.548717</td>\n",
       "      <td>0.332721</td>\n",
       "      <td>0.548322</td>\n",
       "      <td>0.374979</td>\n",
       "      <td>00:36</td>\n",
       "    </tr>\n",
       "    <tr>\n",
       "      <td>10</td>\n",
       "      <td>0.077243</td>\n",
       "      <td>0.071530</td>\n",
       "      <td>0.546760</td>\n",
       "      <td>0.441907</td>\n",
       "      <td>0.548319</td>\n",
       "      <td>0.337757</td>\n",
       "      <td>0.548417</td>\n",
       "      <td>0.377121</td>\n",
       "      <td>00:36</td>\n",
       "    </tr>\n",
       "    <tr>\n",
       "      <td>11</td>\n",
       "      <td>0.080491</td>\n",
       "      <td>0.071239</td>\n",
       "      <td>0.546833</td>\n",
       "      <td>0.439756</td>\n",
       "      <td>0.548325</td>\n",
       "      <td>0.341282</td>\n",
       "      <td>0.548546</td>\n",
       "      <td>0.378968</td>\n",
       "      <td>00:36</td>\n",
       "    </tr>\n",
       "    <tr>\n",
       "      <td>12</td>\n",
       "      <td>0.076798</td>\n",
       "      <td>0.070621</td>\n",
       "      <td>0.546689</td>\n",
       "      <td>0.438077</td>\n",
       "      <td>0.548629</td>\n",
       "      <td>0.343832</td>\n",
       "      <td>0.548633</td>\n",
       "      <td>0.380215</td>\n",
       "      <td>00:36</td>\n",
       "    </tr>\n",
       "    <tr>\n",
       "      <td>13</td>\n",
       "      <td>0.077974</td>\n",
       "      <td>0.070776</td>\n",
       "      <td>0.546374</td>\n",
       "      <td>0.436773</td>\n",
       "      <td>0.549009</td>\n",
       "      <td>0.346206</td>\n",
       "      <td>0.548732</td>\n",
       "      <td>0.381619</td>\n",
       "      <td>00:36</td>\n",
       "    </tr>\n",
       "    <tr>\n",
       "      <td>14</td>\n",
       "      <td>0.077375</td>\n",
       "      <td>0.070620</td>\n",
       "      <td>0.546436</td>\n",
       "      <td>0.436074</td>\n",
       "      <td>0.549524</td>\n",
       "      <td>0.346447</td>\n",
       "      <td>0.548793</td>\n",
       "      <td>0.381751</td>\n",
       "      <td>00:36</td>\n",
       "    </tr>\n",
       "    <tr>\n",
       "      <td>15</td>\n",
       "      <td>0.071743</td>\n",
       "      <td>0.070653</td>\n",
       "      <td>0.546378</td>\n",
       "      <td>0.434956</td>\n",
       "      <td>0.548719</td>\n",
       "      <td>0.349111</td>\n",
       "      <td>0.548682</td>\n",
       "      <td>0.383602</td>\n",
       "      <td>00:36</td>\n",
       "    </tr>\n",
       "    <tr>\n",
       "      <td>16</td>\n",
       "      <td>0.075675</td>\n",
       "      <td>0.071429</td>\n",
       "      <td>0.546690</td>\n",
       "      <td>0.435852</td>\n",
       "      <td>0.549330</td>\n",
       "      <td>0.363319</td>\n",
       "      <td>0.549527</td>\n",
       "      <td>0.393007</td>\n",
       "      <td>00:35</td>\n",
       "    </tr>\n",
       "    <tr>\n",
       "      <td>17</td>\n",
       "      <td>0.079558</td>\n",
       "      <td>0.070510</td>\n",
       "      <td>0.546304</td>\n",
       "      <td>0.436122</td>\n",
       "      <td>0.548749</td>\n",
       "      <td>0.374087</td>\n",
       "      <td>0.548464</td>\n",
       "      <td>0.397797</td>\n",
       "      <td>00:36</td>\n",
       "    </tr>\n",
       "    <tr>\n",
       "      <td>18</td>\n",
       "      <td>0.075082</td>\n",
       "      <td>0.070696</td>\n",
       "      <td>0.546455</td>\n",
       "      <td>0.438447</td>\n",
       "      <td>0.549030</td>\n",
       "      <td>0.384520</td>\n",
       "      <td>0.548769</td>\n",
       "      <td>0.406194</td>\n",
       "      <td>00:36</td>\n",
       "    </tr>\n",
       "    <tr>\n",
       "      <td>19</td>\n",
       "      <td>0.075568</td>\n",
       "      <td>0.073065</td>\n",
       "      <td>0.546264</td>\n",
       "      <td>0.432379</td>\n",
       "      <td>0.549564</td>\n",
       "      <td>0.350381</td>\n",
       "      <td>0.549406</td>\n",
       "      <td>0.385420</td>\n",
       "      <td>00:36</td>\n",
       "    </tr>\n",
       "    <tr>\n",
       "      <td>20</td>\n",
       "      <td>0.078702</td>\n",
       "      <td>0.070917</td>\n",
       "      <td>0.546170</td>\n",
       "      <td>0.432859</td>\n",
       "      <td>0.548512</td>\n",
       "      <td>0.374322</td>\n",
       "      <td>0.548017</td>\n",
       "      <td>0.397327</td>\n",
       "      <td>00:36</td>\n",
       "    </tr>\n",
       "    <tr>\n",
       "      <td>21</td>\n",
       "      <td>0.079852</td>\n",
       "      <td>0.071424</td>\n",
       "      <td>0.546159</td>\n",
       "      <td>0.430819</td>\n",
       "      <td>0.548527</td>\n",
       "      <td>0.370450</td>\n",
       "      <td>0.547630</td>\n",
       "      <td>0.394170</td>\n",
       "      <td>00:36</td>\n",
       "    </tr>\n",
       "    <tr>\n",
       "      <td>22</td>\n",
       "      <td>0.077350</td>\n",
       "      <td>0.071839</td>\n",
       "      <td>0.546429</td>\n",
       "      <td>0.436722</td>\n",
       "      <td>0.548568</td>\n",
       "      <td>0.396562</td>\n",
       "      <td>0.547533</td>\n",
       "      <td>0.412562</td>\n",
       "      <td>00:36</td>\n",
       "    </tr>\n",
       "    <tr>\n",
       "      <td>23</td>\n",
       "      <td>0.078874</td>\n",
       "      <td>0.071229</td>\n",
       "      <td>0.546689</td>\n",
       "      <td>0.430999</td>\n",
       "      <td>0.548770</td>\n",
       "      <td>0.377310</td>\n",
       "      <td>0.547667</td>\n",
       "      <td>0.398714</td>\n",
       "      <td>00:36</td>\n",
       "    </tr>\n",
       "    <tr>\n",
       "      <td>24</td>\n",
       "      <td>0.077858</td>\n",
       "      <td>0.072038</td>\n",
       "      <td>0.546473</td>\n",
       "      <td>0.427668</td>\n",
       "      <td>0.548598</td>\n",
       "      <td>0.371888</td>\n",
       "      <td>0.547636</td>\n",
       "      <td>0.394347</td>\n",
       "      <td>00:36</td>\n",
       "    </tr>\n",
       "    <tr>\n",
       "      <td>25</td>\n",
       "      <td>0.077569</td>\n",
       "      <td>0.070984</td>\n",
       "      <td>0.546566</td>\n",
       "      <td>0.434721</td>\n",
       "      <td>0.548222</td>\n",
       "      <td>0.401127</td>\n",
       "      <td>0.547520</td>\n",
       "      <td>0.415113</td>\n",
       "      <td>00:36</td>\n",
       "    </tr>\n",
       "    <tr>\n",
       "      <td>26</td>\n",
       "      <td>0.077959</td>\n",
       "      <td>00:01</td>\n",
       "    </tr>\n",
       "  </tbody>\n",
       "</table>"
      ],
      "text/plain": [
       "<IPython.core.display.HTML object>"
      ]
     },
     "metadata": {},
     "output_type": "display_data"
    },
    {
     "name": "stdout",
     "output_type": "stream",
     "text": [
      "Better model found at epoch 0 with valid_loss value: 0.07054104655981064.\n",
      "Better model found at epoch 17 with valid_loss value: 0.07051011919975281.\n"
     ]
    },
    {
     "ename": "IndexError",
     "evalue": "list index out of range",
     "output_type": "error",
     "traceback": [
      "\u001b[0;31m---------------------------------------------------------------------------\u001b[0m",
      "\u001b[0;31mKeyboardInterrupt\u001b[0m                         Traceback (most recent call last)",
      "\u001b[0;32m/mnt/pub_workspace_2T/anaconda3/envs/fastaiv2/lib/python3.8/site-packages/fastai/learner.py\u001b[0m in \u001b[0;36m_with_events\u001b[0;34m(self, f, event_type, ex, final)\u001b[0m\n\u001b[1;32m    153\u001b[0m     \u001b[0;32mdef\u001b[0m \u001b[0m_with_events\u001b[0m\u001b[0;34m(\u001b[0m\u001b[0mself\u001b[0m\u001b[0;34m,\u001b[0m \u001b[0mf\u001b[0m\u001b[0;34m,\u001b[0m \u001b[0mevent_type\u001b[0m\u001b[0;34m,\u001b[0m \u001b[0mex\u001b[0m\u001b[0;34m,\u001b[0m \u001b[0mfinal\u001b[0m\u001b[0;34m=\u001b[0m\u001b[0mnoop\u001b[0m\u001b[0;34m)\u001b[0m\u001b[0;34m:\u001b[0m\u001b[0;34m\u001b[0m\u001b[0;34m\u001b[0m\u001b[0m\n\u001b[0;32m--> 154\u001b[0;31m         \u001b[0;32mtry\u001b[0m\u001b[0;34m:\u001b[0m       \u001b[0mself\u001b[0m\u001b[0;34m(\u001b[0m\u001b[0;34mf'before_{event_type}'\u001b[0m\u001b[0;34m)\u001b[0m       \u001b[0;34m;\u001b[0m\u001b[0mf\u001b[0m\u001b[0;34m(\u001b[0m\u001b[0;34m)\u001b[0m\u001b[0;34m\u001b[0m\u001b[0;34m\u001b[0m\u001b[0m\n\u001b[0m\u001b[1;32m    155\u001b[0m         \u001b[0;32mexcept\u001b[0m \u001b[0mex\u001b[0m\u001b[0;34m:\u001b[0m \u001b[0mself\u001b[0m\u001b[0;34m(\u001b[0m\u001b[0;34mf'after_cancel_{event_type}'\u001b[0m\u001b[0;34m)\u001b[0m\u001b[0;34m\u001b[0m\u001b[0;34m\u001b[0m\u001b[0m\n",
      "\u001b[0;32m/mnt/pub_workspace_2T/anaconda3/envs/fastaiv2/lib/python3.8/site-packages/fastai/learner.py\u001b[0m in \u001b[0;36m_do_epoch\u001b[0;34m(self)\u001b[0m\n\u001b[1;32m    189\u001b[0m     \u001b[0;32mdef\u001b[0m \u001b[0m_do_epoch\u001b[0m\u001b[0;34m(\u001b[0m\u001b[0mself\u001b[0m\u001b[0;34m)\u001b[0m\u001b[0;34m:\u001b[0m\u001b[0;34m\u001b[0m\u001b[0;34m\u001b[0m\u001b[0m\n\u001b[0;32m--> 190\u001b[0;31m         \u001b[0mself\u001b[0m\u001b[0;34m.\u001b[0m\u001b[0m_do_epoch_train\u001b[0m\u001b[0;34m(\u001b[0m\u001b[0;34m)\u001b[0m\u001b[0;34m\u001b[0m\u001b[0;34m\u001b[0m\u001b[0m\n\u001b[0m\u001b[1;32m    191\u001b[0m         \u001b[0mself\u001b[0m\u001b[0;34m.\u001b[0m\u001b[0m_do_epoch_validate\u001b[0m\u001b[0;34m(\u001b[0m\u001b[0;34m)\u001b[0m\u001b[0;34m\u001b[0m\u001b[0;34m\u001b[0m\u001b[0m\n",
      "\u001b[0;32m/mnt/pub_workspace_2T/anaconda3/envs/fastaiv2/lib/python3.8/site-packages/fastai/learner.py\u001b[0m in \u001b[0;36m_do_epoch_train\u001b[0;34m(self)\u001b[0m\n\u001b[1;32m    181\u001b[0m         \u001b[0mself\u001b[0m\u001b[0;34m.\u001b[0m\u001b[0mdl\u001b[0m \u001b[0;34m=\u001b[0m \u001b[0mself\u001b[0m\u001b[0;34m.\u001b[0m\u001b[0mdls\u001b[0m\u001b[0;34m.\u001b[0m\u001b[0mtrain\u001b[0m\u001b[0;34m\u001b[0m\u001b[0;34m\u001b[0m\u001b[0m\n\u001b[0;32m--> 182\u001b[0;31m         \u001b[0mself\u001b[0m\u001b[0;34m.\u001b[0m\u001b[0m_with_events\u001b[0m\u001b[0;34m(\u001b[0m\u001b[0mself\u001b[0m\u001b[0;34m.\u001b[0m\u001b[0mall_batches\u001b[0m\u001b[0;34m,\u001b[0m \u001b[0;34m'train'\u001b[0m\u001b[0;34m,\u001b[0m \u001b[0mCancelTrainException\u001b[0m\u001b[0;34m)\u001b[0m\u001b[0;34m\u001b[0m\u001b[0;34m\u001b[0m\u001b[0m\n\u001b[0m\u001b[1;32m    183\u001b[0m \u001b[0;34m\u001b[0m\u001b[0m\n",
      "\u001b[0;32m/mnt/pub_workspace_2T/anaconda3/envs/fastaiv2/lib/python3.8/site-packages/fastai/learner.py\u001b[0m in \u001b[0;36m_with_events\u001b[0;34m(self, f, event_type, ex, final)\u001b[0m\n\u001b[1;32m    153\u001b[0m     \u001b[0;32mdef\u001b[0m \u001b[0m_with_events\u001b[0m\u001b[0;34m(\u001b[0m\u001b[0mself\u001b[0m\u001b[0;34m,\u001b[0m \u001b[0mf\u001b[0m\u001b[0;34m,\u001b[0m \u001b[0mevent_type\u001b[0m\u001b[0;34m,\u001b[0m \u001b[0mex\u001b[0m\u001b[0;34m,\u001b[0m \u001b[0mfinal\u001b[0m\u001b[0;34m=\u001b[0m\u001b[0mnoop\u001b[0m\u001b[0;34m)\u001b[0m\u001b[0;34m:\u001b[0m\u001b[0;34m\u001b[0m\u001b[0;34m\u001b[0m\u001b[0m\n\u001b[0;32m--> 154\u001b[0;31m         \u001b[0;32mtry\u001b[0m\u001b[0;34m:\u001b[0m       \u001b[0mself\u001b[0m\u001b[0;34m(\u001b[0m\u001b[0;34mf'before_{event_type}'\u001b[0m\u001b[0;34m)\u001b[0m       \u001b[0;34m;\u001b[0m\u001b[0mf\u001b[0m\u001b[0;34m(\u001b[0m\u001b[0;34m)\u001b[0m\u001b[0;34m\u001b[0m\u001b[0;34m\u001b[0m\u001b[0m\n\u001b[0m\u001b[1;32m    155\u001b[0m         \u001b[0;32mexcept\u001b[0m \u001b[0mex\u001b[0m\u001b[0;34m:\u001b[0m \u001b[0mself\u001b[0m\u001b[0;34m(\u001b[0m\u001b[0;34mf'after_cancel_{event_type}'\u001b[0m\u001b[0;34m)\u001b[0m\u001b[0;34m\u001b[0m\u001b[0;34m\u001b[0m\u001b[0m\n",
      "\u001b[0;32m/mnt/pub_workspace_2T/anaconda3/envs/fastaiv2/lib/python3.8/site-packages/fastai/learner.py\u001b[0m in \u001b[0;36mall_batches\u001b[0;34m(self)\u001b[0m\n\u001b[1;32m    159\u001b[0m         \u001b[0mself\u001b[0m\u001b[0;34m.\u001b[0m\u001b[0mn_iter\u001b[0m \u001b[0;34m=\u001b[0m \u001b[0mlen\u001b[0m\u001b[0;34m(\u001b[0m\u001b[0mself\u001b[0m\u001b[0;34m.\u001b[0m\u001b[0mdl\u001b[0m\u001b[0;34m)\u001b[0m\u001b[0;34m\u001b[0m\u001b[0;34m\u001b[0m\u001b[0m\n\u001b[0;32m--> 160\u001b[0;31m         \u001b[0;32mfor\u001b[0m \u001b[0mo\u001b[0m \u001b[0;32min\u001b[0m \u001b[0menumerate\u001b[0m\u001b[0;34m(\u001b[0m\u001b[0mself\u001b[0m\u001b[0;34m.\u001b[0m\u001b[0mdl\u001b[0m\u001b[0;34m)\u001b[0m\u001b[0;34m:\u001b[0m \u001b[0mself\u001b[0m\u001b[0;34m.\u001b[0m\u001b[0mone_batch\u001b[0m\u001b[0;34m(\u001b[0m\u001b[0;34m*\u001b[0m\u001b[0mo\u001b[0m\u001b[0;34m)\u001b[0m\u001b[0;34m\u001b[0m\u001b[0;34m\u001b[0m\u001b[0m\n\u001b[0m\u001b[1;32m    161\u001b[0m \u001b[0;34m\u001b[0m\u001b[0m\n",
      "\u001b[0;32m/mnt/pub_workspace_2T/anaconda3/envs/fastaiv2/lib/python3.8/site-packages/fastai/learner.py\u001b[0m in \u001b[0;36mone_batch\u001b[0;34m(self, i, b)\u001b[0m\n\u001b[1;32m    177\u001b[0m         \u001b[0mself\u001b[0m\u001b[0;34m.\u001b[0m\u001b[0m_split\u001b[0m\u001b[0;34m(\u001b[0m\u001b[0mb\u001b[0m\u001b[0;34m)\u001b[0m\u001b[0;34m\u001b[0m\u001b[0;34m\u001b[0m\u001b[0m\n\u001b[0;32m--> 178\u001b[0;31m         \u001b[0mself\u001b[0m\u001b[0;34m.\u001b[0m\u001b[0m_with_events\u001b[0m\u001b[0;34m(\u001b[0m\u001b[0mself\u001b[0m\u001b[0;34m.\u001b[0m\u001b[0m_do_one_batch\u001b[0m\u001b[0;34m,\u001b[0m \u001b[0;34m'batch'\u001b[0m\u001b[0;34m,\u001b[0m \u001b[0mCancelBatchException\u001b[0m\u001b[0;34m)\u001b[0m\u001b[0;34m\u001b[0m\u001b[0;34m\u001b[0m\u001b[0m\n\u001b[0m\u001b[1;32m    179\u001b[0m \u001b[0;34m\u001b[0m\u001b[0m\n",
      "\u001b[0;32m/mnt/pub_workspace_2T/anaconda3/envs/fastaiv2/lib/python3.8/site-packages/fastai/learner.py\u001b[0m in \u001b[0;36m_with_events\u001b[0;34m(self, f, event_type, ex, final)\u001b[0m\n\u001b[1;32m    153\u001b[0m     \u001b[0;32mdef\u001b[0m \u001b[0m_with_events\u001b[0m\u001b[0;34m(\u001b[0m\u001b[0mself\u001b[0m\u001b[0;34m,\u001b[0m \u001b[0mf\u001b[0m\u001b[0;34m,\u001b[0m \u001b[0mevent_type\u001b[0m\u001b[0;34m,\u001b[0m \u001b[0mex\u001b[0m\u001b[0;34m,\u001b[0m \u001b[0mfinal\u001b[0m\u001b[0;34m=\u001b[0m\u001b[0mnoop\u001b[0m\u001b[0;34m)\u001b[0m\u001b[0;34m:\u001b[0m\u001b[0;34m\u001b[0m\u001b[0;34m\u001b[0m\u001b[0m\n\u001b[0;32m--> 154\u001b[0;31m         \u001b[0;32mtry\u001b[0m\u001b[0;34m:\u001b[0m       \u001b[0mself\u001b[0m\u001b[0;34m(\u001b[0m\u001b[0;34mf'before_{event_type}'\u001b[0m\u001b[0;34m)\u001b[0m       \u001b[0;34m;\u001b[0m\u001b[0mf\u001b[0m\u001b[0;34m(\u001b[0m\u001b[0;34m)\u001b[0m\u001b[0;34m\u001b[0m\u001b[0;34m\u001b[0m\u001b[0m\n\u001b[0m\u001b[1;32m    155\u001b[0m         \u001b[0;32mexcept\u001b[0m \u001b[0mex\u001b[0m\u001b[0;34m:\u001b[0m \u001b[0mself\u001b[0m\u001b[0;34m(\u001b[0m\u001b[0;34mf'after_cancel_{event_type}'\u001b[0m\u001b[0;34m)\u001b[0m\u001b[0;34m\u001b[0m\u001b[0;34m\u001b[0m\u001b[0m\n",
      "\u001b[0;32m/mnt/pub_workspace_2T/anaconda3/envs/fastaiv2/lib/python3.8/site-packages/fastai/learner.py\u001b[0m in \u001b[0;36m_do_one_batch\u001b[0;34m(self)\u001b[0m\n\u001b[1;32m    168\u001b[0m         \u001b[0mself\u001b[0m\u001b[0;34m(\u001b[0m\u001b[0;34m'before_backward'\u001b[0m\u001b[0;34m)\u001b[0m\u001b[0;34m\u001b[0m\u001b[0;34m\u001b[0m\u001b[0m\n\u001b[0;32m--> 169\u001b[0;31m         \u001b[0mself\u001b[0m\u001b[0;34m.\u001b[0m\u001b[0m_backward\u001b[0m\u001b[0;34m(\u001b[0m\u001b[0;34m)\u001b[0m\u001b[0;34m\u001b[0m\u001b[0;34m\u001b[0m\u001b[0m\n\u001b[0m\u001b[1;32m    170\u001b[0m         \u001b[0mself\u001b[0m\u001b[0;34m(\u001b[0m\u001b[0;34m'after_backward'\u001b[0m\u001b[0;34m)\u001b[0m\u001b[0;34m\u001b[0m\u001b[0;34m\u001b[0m\u001b[0m\n",
      "\u001b[0;32m/mnt/pub_workspace_2T/anaconda3/envs/fastaiv2/lib/python3.8/site-packages/fastai/learner.py\u001b[0m in \u001b[0;36m_backward\u001b[0;34m(self)\u001b[0m\n\u001b[1;32m    150\u001b[0m     \u001b[0;32mdef\u001b[0m \u001b[0m_step\u001b[0m\u001b[0;34m(\u001b[0m\u001b[0mself\u001b[0m\u001b[0;34m)\u001b[0m\u001b[0;34m:\u001b[0m \u001b[0mself\u001b[0m\u001b[0;34m.\u001b[0m\u001b[0mopt\u001b[0m\u001b[0;34m.\u001b[0m\u001b[0mstep\u001b[0m\u001b[0;34m(\u001b[0m\u001b[0;34m)\u001b[0m\u001b[0;34m\u001b[0m\u001b[0;34m\u001b[0m\u001b[0m\n\u001b[0;32m--> 151\u001b[0;31m     \u001b[0;32mdef\u001b[0m \u001b[0m_backward\u001b[0m\u001b[0;34m(\u001b[0m\u001b[0mself\u001b[0m\u001b[0;34m)\u001b[0m\u001b[0;34m:\u001b[0m \u001b[0mself\u001b[0m\u001b[0;34m.\u001b[0m\u001b[0mloss\u001b[0m\u001b[0;34m.\u001b[0m\u001b[0mbackward\u001b[0m\u001b[0;34m(\u001b[0m\u001b[0;34m)\u001b[0m\u001b[0;34m\u001b[0m\u001b[0;34m\u001b[0m\u001b[0m\n\u001b[0m\u001b[1;32m    152\u001b[0m \u001b[0;34m\u001b[0m\u001b[0m\n",
      "\u001b[0;32m/mnt/pub_workspace_2T/anaconda3/envs/fastaiv2/lib/python3.8/site-packages/torch/tensor.py\u001b[0m in \u001b[0;36mbackward\u001b[0;34m(self, gradient, retain_graph, create_graph)\u001b[0m\n\u001b[1;32m    220\u001b[0m                 create_graph=create_graph)\n\u001b[0;32m--> 221\u001b[0;31m         \u001b[0mtorch\u001b[0m\u001b[0;34m.\u001b[0m\u001b[0mautograd\u001b[0m\u001b[0;34m.\u001b[0m\u001b[0mbackward\u001b[0m\u001b[0;34m(\u001b[0m\u001b[0mself\u001b[0m\u001b[0;34m,\u001b[0m \u001b[0mgradient\u001b[0m\u001b[0;34m,\u001b[0m \u001b[0mretain_graph\u001b[0m\u001b[0;34m,\u001b[0m \u001b[0mcreate_graph\u001b[0m\u001b[0;34m)\u001b[0m\u001b[0;34m\u001b[0m\u001b[0;34m\u001b[0m\u001b[0m\n\u001b[0m\u001b[1;32m    222\u001b[0m \u001b[0;34m\u001b[0m\u001b[0m\n",
      "\u001b[0;32m/mnt/pub_workspace_2T/anaconda3/envs/fastaiv2/lib/python3.8/site-packages/torch/autograd/__init__.py\u001b[0m in \u001b[0;36mbackward\u001b[0;34m(tensors, grad_tensors, retain_graph, create_graph, grad_variables)\u001b[0m\n\u001b[1;32m    129\u001b[0m \u001b[0;34m\u001b[0m\u001b[0m\n\u001b[0;32m--> 130\u001b[0;31m     Variable._execution_engine.run_backward(\n\u001b[0m\u001b[1;32m    131\u001b[0m         \u001b[0mtensors\u001b[0m\u001b[0;34m,\u001b[0m \u001b[0mgrad_tensors_\u001b[0m\u001b[0;34m,\u001b[0m \u001b[0mretain_graph\u001b[0m\u001b[0;34m,\u001b[0m \u001b[0mcreate_graph\u001b[0m\u001b[0;34m,\u001b[0m\u001b[0;34m\u001b[0m\u001b[0;34m\u001b[0m\u001b[0m\n",
      "\u001b[0;31mKeyboardInterrupt\u001b[0m: ",
      "\nDuring handling of the above exception, another exception occurred:\n",
      "\u001b[0;31mIndexError\u001b[0m                                Traceback (most recent call last)",
      "\u001b[0;32m<ipython-input-27-ce2831ce966d>\u001b[0m in \u001b[0;36m<module>\u001b[0;34m\u001b[0m\n\u001b[1;32m      1\u001b[0m \u001b[0;31m# lr = lr/10\u001b[0m\u001b[0;34m\u001b[0m\u001b[0;34m\u001b[0m\u001b[0;34m\u001b[0m\u001b[0m\n\u001b[1;32m      2\u001b[0m \u001b[0mprint\u001b[0m\u001b[0;34m(\u001b[0m\u001b[0mlr\u001b[0m\u001b[0;34m)\u001b[0m\u001b[0;34m\u001b[0m\u001b[0;34m\u001b[0m\u001b[0m\n\u001b[0;32m----> 3\u001b[0;31m \u001b[0mlearn\u001b[0m\u001b[0;34m.\u001b[0m\u001b[0mfit\u001b[0m\u001b[0;34m(\u001b[0m\u001b[0;36m50\u001b[0m\u001b[0;34m,\u001b[0m \u001b[0mlr\u001b[0m\u001b[0;34m=\u001b[0m\u001b[0mlr\u001b[0m\u001b[0;34m,\u001b[0m \u001b[0mcbs\u001b[0m\u001b[0;34m=\u001b[0m\u001b[0mReduceLROnPlateau\u001b[0m\u001b[0;34m(\u001b[0m\u001b[0mmonitor\u001b[0m\u001b[0;34m=\u001b[0m\u001b[0;34m'valid_loss'\u001b[0m\u001b[0;34m,\u001b[0m \u001b[0mmin_delta\u001b[0m\u001b[0;34m=\u001b[0m\u001b[0;36m0\u001b[0m\u001b[0;34m,\u001b[0m \u001b[0mpatience\u001b[0m\u001b[0;34m=\u001b[0m\u001b[0;36m2\u001b[0m\u001b[0;34m)\u001b[0m\u001b[0;34m)\u001b[0m\u001b[0;34m\u001b[0m\u001b[0;34m\u001b[0m\u001b[0m\n\u001b[0m",
      "\u001b[0;32m/mnt/pub_workspace_2T/anaconda3/envs/fastaiv2/lib/python3.8/site-packages/fastai/learner.py\u001b[0m in \u001b[0;36mfit\u001b[0;34m(self, n_epoch, lr, wd, cbs, reset_opt)\u001b[0m\n\u001b[1;32m    203\u001b[0m             \u001b[0mself\u001b[0m\u001b[0;34m.\u001b[0m\u001b[0mopt\u001b[0m\u001b[0;34m.\u001b[0m\u001b[0mset_hypers\u001b[0m\u001b[0;34m(\u001b[0m\u001b[0mlr\u001b[0m\u001b[0;34m=\u001b[0m\u001b[0mself\u001b[0m\u001b[0;34m.\u001b[0m\u001b[0mlr\u001b[0m \u001b[0;32mif\u001b[0m \u001b[0mlr\u001b[0m \u001b[0;32mis\u001b[0m \u001b[0;32mNone\u001b[0m \u001b[0;32melse\u001b[0m \u001b[0mlr\u001b[0m\u001b[0;34m)\u001b[0m\u001b[0;34m\u001b[0m\u001b[0;34m\u001b[0m\u001b[0m\n\u001b[1;32m    204\u001b[0m             \u001b[0mself\u001b[0m\u001b[0;34m.\u001b[0m\u001b[0mn_epoch\u001b[0m \u001b[0;34m=\u001b[0m \u001b[0mn_epoch\u001b[0m\u001b[0;34m\u001b[0m\u001b[0;34m\u001b[0m\u001b[0m\n\u001b[0;32m--> 205\u001b[0;31m             \u001b[0mself\u001b[0m\u001b[0;34m.\u001b[0m\u001b[0m_with_events\u001b[0m\u001b[0;34m(\u001b[0m\u001b[0mself\u001b[0m\u001b[0;34m.\u001b[0m\u001b[0m_do_fit\u001b[0m\u001b[0;34m,\u001b[0m \u001b[0;34m'fit'\u001b[0m\u001b[0;34m,\u001b[0m \u001b[0mCancelFitException\u001b[0m\u001b[0;34m,\u001b[0m \u001b[0mself\u001b[0m\u001b[0;34m.\u001b[0m\u001b[0m_end_cleanup\u001b[0m\u001b[0;34m)\u001b[0m\u001b[0;34m\u001b[0m\u001b[0;34m\u001b[0m\u001b[0m\n\u001b[0m\u001b[1;32m    206\u001b[0m \u001b[0;34m\u001b[0m\u001b[0m\n\u001b[1;32m    207\u001b[0m     \u001b[0;32mdef\u001b[0m \u001b[0m_end_cleanup\u001b[0m\u001b[0;34m(\u001b[0m\u001b[0mself\u001b[0m\u001b[0;34m)\u001b[0m\u001b[0;34m:\u001b[0m \u001b[0mself\u001b[0m\u001b[0;34m.\u001b[0m\u001b[0mdl\u001b[0m\u001b[0;34m,\u001b[0m\u001b[0mself\u001b[0m\u001b[0;34m.\u001b[0m\u001b[0mxb\u001b[0m\u001b[0;34m,\u001b[0m\u001b[0mself\u001b[0m\u001b[0;34m.\u001b[0m\u001b[0myb\u001b[0m\u001b[0;34m,\u001b[0m\u001b[0mself\u001b[0m\u001b[0;34m.\u001b[0m\u001b[0mpred\u001b[0m\u001b[0;34m,\u001b[0m\u001b[0mself\u001b[0m\u001b[0;34m.\u001b[0m\u001b[0mloss\u001b[0m \u001b[0;34m=\u001b[0m \u001b[0;32mNone\u001b[0m\u001b[0;34m,\u001b[0m\u001b[0;34m(\u001b[0m\u001b[0;32mNone\u001b[0m\u001b[0;34m,\u001b[0m\u001b[0;34m)\u001b[0m\u001b[0;34m,\u001b[0m\u001b[0;34m(\u001b[0m\u001b[0;32mNone\u001b[0m\u001b[0;34m,\u001b[0m\u001b[0;34m)\u001b[0m\u001b[0;34m,\u001b[0m\u001b[0;32mNone\u001b[0m\u001b[0;34m,\u001b[0m\u001b[0;32mNone\u001b[0m\u001b[0;34m\u001b[0m\u001b[0;34m\u001b[0m\u001b[0m\n",
      "\u001b[0;32m/mnt/pub_workspace_2T/anaconda3/envs/fastaiv2/lib/python3.8/site-packages/fastai/learner.py\u001b[0m in \u001b[0;36m_with_events\u001b[0;34m(self, f, event_type, ex, final)\u001b[0m\n\u001b[1;32m    152\u001b[0m \u001b[0;34m\u001b[0m\u001b[0m\n\u001b[1;32m    153\u001b[0m     \u001b[0;32mdef\u001b[0m \u001b[0m_with_events\u001b[0m\u001b[0;34m(\u001b[0m\u001b[0mself\u001b[0m\u001b[0;34m,\u001b[0m \u001b[0mf\u001b[0m\u001b[0;34m,\u001b[0m \u001b[0mevent_type\u001b[0m\u001b[0;34m,\u001b[0m \u001b[0mex\u001b[0m\u001b[0;34m,\u001b[0m \u001b[0mfinal\u001b[0m\u001b[0;34m=\u001b[0m\u001b[0mnoop\u001b[0m\u001b[0;34m)\u001b[0m\u001b[0;34m:\u001b[0m\u001b[0;34m\u001b[0m\u001b[0;34m\u001b[0m\u001b[0m\n\u001b[0;32m--> 154\u001b[0;31m         \u001b[0;32mtry\u001b[0m\u001b[0;34m:\u001b[0m       \u001b[0mself\u001b[0m\u001b[0;34m(\u001b[0m\u001b[0;34mf'before_{event_type}'\u001b[0m\u001b[0;34m)\u001b[0m       \u001b[0;34m;\u001b[0m\u001b[0mf\u001b[0m\u001b[0;34m(\u001b[0m\u001b[0;34m)\u001b[0m\u001b[0;34m\u001b[0m\u001b[0;34m\u001b[0m\u001b[0m\n\u001b[0m\u001b[1;32m    155\u001b[0m         \u001b[0;32mexcept\u001b[0m \u001b[0mex\u001b[0m\u001b[0;34m:\u001b[0m \u001b[0mself\u001b[0m\u001b[0;34m(\u001b[0m\u001b[0;34mf'after_cancel_{event_type}'\u001b[0m\u001b[0;34m)\u001b[0m\u001b[0;34m\u001b[0m\u001b[0;34m\u001b[0m\u001b[0m\n\u001b[1;32m    156\u001b[0m         \u001b[0;32mfinally\u001b[0m\u001b[0;34m:\u001b[0m   \u001b[0mself\u001b[0m\u001b[0;34m(\u001b[0m\u001b[0;34mf'after_{event_type}'\u001b[0m\u001b[0;34m)\u001b[0m        \u001b[0;34m;\u001b[0m\u001b[0mfinal\u001b[0m\u001b[0;34m(\u001b[0m\u001b[0;34m)\u001b[0m\u001b[0;34m\u001b[0m\u001b[0;34m\u001b[0m\u001b[0m\n",
      "\u001b[0;32m/mnt/pub_workspace_2T/anaconda3/envs/fastaiv2/lib/python3.8/site-packages/fastai/learner.py\u001b[0m in \u001b[0;36m_do_fit\u001b[0;34m(self)\u001b[0m\n\u001b[1;32m    194\u001b[0m         \u001b[0;32mfor\u001b[0m \u001b[0mepoch\u001b[0m \u001b[0;32min\u001b[0m \u001b[0mrange\u001b[0m\u001b[0;34m(\u001b[0m\u001b[0mself\u001b[0m\u001b[0;34m.\u001b[0m\u001b[0mn_epoch\u001b[0m\u001b[0;34m)\u001b[0m\u001b[0;34m:\u001b[0m\u001b[0;34m\u001b[0m\u001b[0;34m\u001b[0m\u001b[0m\n\u001b[1;32m    195\u001b[0m             \u001b[0mself\u001b[0m\u001b[0;34m.\u001b[0m\u001b[0mepoch\u001b[0m\u001b[0;34m=\u001b[0m\u001b[0mepoch\u001b[0m\u001b[0;34m\u001b[0m\u001b[0;34m\u001b[0m\u001b[0m\n\u001b[0;32m--> 196\u001b[0;31m             \u001b[0mself\u001b[0m\u001b[0;34m.\u001b[0m\u001b[0m_with_events\u001b[0m\u001b[0;34m(\u001b[0m\u001b[0mself\u001b[0m\u001b[0;34m.\u001b[0m\u001b[0m_do_epoch\u001b[0m\u001b[0;34m,\u001b[0m \u001b[0;34m'epoch'\u001b[0m\u001b[0;34m,\u001b[0m \u001b[0mCancelEpochException\u001b[0m\u001b[0;34m)\u001b[0m\u001b[0;34m\u001b[0m\u001b[0;34m\u001b[0m\u001b[0m\n\u001b[0m\u001b[1;32m    197\u001b[0m \u001b[0;34m\u001b[0m\u001b[0m\n\u001b[1;32m    198\u001b[0m     \u001b[0;32mdef\u001b[0m \u001b[0mfit\u001b[0m\u001b[0;34m(\u001b[0m\u001b[0mself\u001b[0m\u001b[0;34m,\u001b[0m \u001b[0mn_epoch\u001b[0m\u001b[0;34m,\u001b[0m \u001b[0mlr\u001b[0m\u001b[0;34m=\u001b[0m\u001b[0;32mNone\u001b[0m\u001b[0;34m,\u001b[0m \u001b[0mwd\u001b[0m\u001b[0;34m=\u001b[0m\u001b[0;32mNone\u001b[0m\u001b[0;34m,\u001b[0m \u001b[0mcbs\u001b[0m\u001b[0;34m=\u001b[0m\u001b[0;32mNone\u001b[0m\u001b[0;34m,\u001b[0m \u001b[0mreset_opt\u001b[0m\u001b[0;34m=\u001b[0m\u001b[0;32mFalse\u001b[0m\u001b[0;34m)\u001b[0m\u001b[0;34m:\u001b[0m\u001b[0;34m\u001b[0m\u001b[0;34m\u001b[0m\u001b[0m\n",
      "\u001b[0;32m/mnt/pub_workspace_2T/anaconda3/envs/fastaiv2/lib/python3.8/site-packages/fastai/learner.py\u001b[0m in \u001b[0;36m_with_events\u001b[0;34m(self, f, event_type, ex, final)\u001b[0m\n\u001b[1;32m    154\u001b[0m         \u001b[0;32mtry\u001b[0m\u001b[0;34m:\u001b[0m       \u001b[0mself\u001b[0m\u001b[0;34m(\u001b[0m\u001b[0;34mf'before_{event_type}'\u001b[0m\u001b[0;34m)\u001b[0m       \u001b[0;34m;\u001b[0m\u001b[0mf\u001b[0m\u001b[0;34m(\u001b[0m\u001b[0;34m)\u001b[0m\u001b[0;34m\u001b[0m\u001b[0;34m\u001b[0m\u001b[0m\n\u001b[1;32m    155\u001b[0m         \u001b[0;32mexcept\u001b[0m \u001b[0mex\u001b[0m\u001b[0;34m:\u001b[0m \u001b[0mself\u001b[0m\u001b[0;34m(\u001b[0m\u001b[0;34mf'after_cancel_{event_type}'\u001b[0m\u001b[0;34m)\u001b[0m\u001b[0;34m\u001b[0m\u001b[0;34m\u001b[0m\u001b[0m\n\u001b[0;32m--> 156\u001b[0;31m         \u001b[0;32mfinally\u001b[0m\u001b[0;34m:\u001b[0m   \u001b[0mself\u001b[0m\u001b[0;34m(\u001b[0m\u001b[0;34mf'after_{event_type}'\u001b[0m\u001b[0;34m)\u001b[0m        \u001b[0;34m;\u001b[0m\u001b[0mfinal\u001b[0m\u001b[0;34m(\u001b[0m\u001b[0;34m)\u001b[0m\u001b[0;34m\u001b[0m\u001b[0;34m\u001b[0m\u001b[0m\n\u001b[0m\u001b[1;32m    157\u001b[0m \u001b[0;34m\u001b[0m\u001b[0m\n\u001b[1;32m    158\u001b[0m     \u001b[0;32mdef\u001b[0m \u001b[0mall_batches\u001b[0m\u001b[0;34m(\u001b[0m\u001b[0mself\u001b[0m\u001b[0;34m)\u001b[0m\u001b[0;34m:\u001b[0m\u001b[0;34m\u001b[0m\u001b[0;34m\u001b[0m\u001b[0m\n",
      "\u001b[0;32m/mnt/pub_workspace_2T/anaconda3/envs/fastaiv2/lib/python3.8/site-packages/fastai/learner.py\u001b[0m in \u001b[0;36m__call__\u001b[0;34m(self, event_name)\u001b[0m\n\u001b[1;32m    130\u001b[0m     \u001b[0;32mdef\u001b[0m \u001b[0mordered_cbs\u001b[0m\u001b[0;34m(\u001b[0m\u001b[0mself\u001b[0m\u001b[0;34m,\u001b[0m \u001b[0mevent\u001b[0m\u001b[0;34m)\u001b[0m\u001b[0;34m:\u001b[0m \u001b[0;32mreturn\u001b[0m \u001b[0;34m[\u001b[0m\u001b[0mcb\u001b[0m \u001b[0;32mfor\u001b[0m \u001b[0mcb\u001b[0m \u001b[0;32min\u001b[0m \u001b[0msort_by_run\u001b[0m\u001b[0;34m(\u001b[0m\u001b[0mself\u001b[0m\u001b[0;34m.\u001b[0m\u001b[0mcbs\u001b[0m\u001b[0;34m)\u001b[0m \u001b[0;32mif\u001b[0m \u001b[0mhasattr\u001b[0m\u001b[0;34m(\u001b[0m\u001b[0mcb\u001b[0m\u001b[0;34m,\u001b[0m \u001b[0mevent\u001b[0m\u001b[0;34m)\u001b[0m\u001b[0;34m]\u001b[0m\u001b[0;34m\u001b[0m\u001b[0;34m\u001b[0m\u001b[0m\n\u001b[1;32m    131\u001b[0m \u001b[0;34m\u001b[0m\u001b[0m\n\u001b[0;32m--> 132\u001b[0;31m     \u001b[0;32mdef\u001b[0m \u001b[0m__call__\u001b[0m\u001b[0;34m(\u001b[0m\u001b[0mself\u001b[0m\u001b[0;34m,\u001b[0m \u001b[0mevent_name\u001b[0m\u001b[0;34m)\u001b[0m\u001b[0;34m:\u001b[0m \u001b[0mL\u001b[0m\u001b[0;34m(\u001b[0m\u001b[0mevent_name\u001b[0m\u001b[0;34m)\u001b[0m\u001b[0;34m.\u001b[0m\u001b[0mmap\u001b[0m\u001b[0;34m(\u001b[0m\u001b[0mself\u001b[0m\u001b[0;34m.\u001b[0m\u001b[0m_call_one\u001b[0m\u001b[0;34m)\u001b[0m\u001b[0;34m\u001b[0m\u001b[0;34m\u001b[0m\u001b[0m\n\u001b[0m\u001b[1;32m    133\u001b[0m \u001b[0;34m\u001b[0m\u001b[0m\n\u001b[1;32m    134\u001b[0m     \u001b[0;32mdef\u001b[0m \u001b[0m_call_one\u001b[0m\u001b[0;34m(\u001b[0m\u001b[0mself\u001b[0m\u001b[0;34m,\u001b[0m \u001b[0mevent_name\u001b[0m\u001b[0;34m)\u001b[0m\u001b[0;34m:\u001b[0m\u001b[0;34m\u001b[0m\u001b[0;34m\u001b[0m\u001b[0m\n",
      "\u001b[0;32m/mnt/pub_workspace_2T/anaconda3/envs/fastaiv2/lib/python3.8/site-packages/fastcore/foundation.py\u001b[0m in \u001b[0;36mmap\u001b[0;34m(self, f, gen, *args, **kwargs)\u001b[0m\n\u001b[1;32m    177\u001b[0m     \u001b[0;32mdef\u001b[0m \u001b[0mrange\u001b[0m\u001b[0;34m(\u001b[0m\u001b[0mcls\u001b[0m\u001b[0;34m,\u001b[0m \u001b[0ma\u001b[0m\u001b[0;34m,\u001b[0m \u001b[0mb\u001b[0m\u001b[0;34m=\u001b[0m\u001b[0;32mNone\u001b[0m\u001b[0;34m,\u001b[0m \u001b[0mstep\u001b[0m\u001b[0;34m=\u001b[0m\u001b[0;32mNone\u001b[0m\u001b[0;34m)\u001b[0m\u001b[0;34m:\u001b[0m \u001b[0;32mreturn\u001b[0m \u001b[0mcls\u001b[0m\u001b[0;34m(\u001b[0m\u001b[0mrange_of\u001b[0m\u001b[0;34m(\u001b[0m\u001b[0ma\u001b[0m\u001b[0;34m,\u001b[0m \u001b[0mb\u001b[0m\u001b[0;34m=\u001b[0m\u001b[0mb\u001b[0m\u001b[0;34m,\u001b[0m \u001b[0mstep\u001b[0m\u001b[0;34m=\u001b[0m\u001b[0mstep\u001b[0m\u001b[0;34m)\u001b[0m\u001b[0;34m)\u001b[0m\u001b[0;34m\u001b[0m\u001b[0;34m\u001b[0m\u001b[0m\n\u001b[1;32m    178\u001b[0m \u001b[0;34m\u001b[0m\u001b[0m\n\u001b[0;32m--> 179\u001b[0;31m     \u001b[0;32mdef\u001b[0m \u001b[0mmap\u001b[0m\u001b[0;34m(\u001b[0m\u001b[0mself\u001b[0m\u001b[0;34m,\u001b[0m \u001b[0mf\u001b[0m\u001b[0;34m,\u001b[0m \u001b[0;34m*\u001b[0m\u001b[0margs\u001b[0m\u001b[0;34m,\u001b[0m \u001b[0mgen\u001b[0m\u001b[0;34m=\u001b[0m\u001b[0;32mFalse\u001b[0m\u001b[0;34m,\u001b[0m \u001b[0;34m**\u001b[0m\u001b[0mkwargs\u001b[0m\u001b[0;34m)\u001b[0m\u001b[0;34m:\u001b[0m \u001b[0;32mreturn\u001b[0m \u001b[0mself\u001b[0m\u001b[0;34m.\u001b[0m\u001b[0m_new\u001b[0m\u001b[0;34m(\u001b[0m\u001b[0mmap_ex\u001b[0m\u001b[0;34m(\u001b[0m\u001b[0mself\u001b[0m\u001b[0;34m,\u001b[0m \u001b[0mf\u001b[0m\u001b[0;34m,\u001b[0m \u001b[0;34m*\u001b[0m\u001b[0margs\u001b[0m\u001b[0;34m,\u001b[0m \u001b[0mgen\u001b[0m\u001b[0;34m=\u001b[0m\u001b[0mgen\u001b[0m\u001b[0;34m,\u001b[0m \u001b[0;34m**\u001b[0m\u001b[0mkwargs\u001b[0m\u001b[0;34m)\u001b[0m\u001b[0;34m)\u001b[0m\u001b[0;34m\u001b[0m\u001b[0;34m\u001b[0m\u001b[0m\n\u001b[0m\u001b[1;32m    180\u001b[0m     \u001b[0;32mdef\u001b[0m \u001b[0margwhere\u001b[0m\u001b[0;34m(\u001b[0m\u001b[0mself\u001b[0m\u001b[0;34m,\u001b[0m \u001b[0mf\u001b[0m\u001b[0;34m,\u001b[0m \u001b[0mnegate\u001b[0m\u001b[0;34m=\u001b[0m\u001b[0;32mFalse\u001b[0m\u001b[0;34m,\u001b[0m \u001b[0;34m**\u001b[0m\u001b[0mkwargs\u001b[0m\u001b[0;34m)\u001b[0m\u001b[0;34m:\u001b[0m \u001b[0;32mreturn\u001b[0m \u001b[0mself\u001b[0m\u001b[0;34m.\u001b[0m\u001b[0m_new\u001b[0m\u001b[0;34m(\u001b[0m\u001b[0margwhere\u001b[0m\u001b[0;34m(\u001b[0m\u001b[0mself\u001b[0m\u001b[0;34m,\u001b[0m \u001b[0mf\u001b[0m\u001b[0;34m,\u001b[0m \u001b[0mnegate\u001b[0m\u001b[0;34m,\u001b[0m \u001b[0;34m**\u001b[0m\u001b[0mkwargs\u001b[0m\u001b[0;34m)\u001b[0m\u001b[0;34m)\u001b[0m\u001b[0;34m\u001b[0m\u001b[0;34m\u001b[0m\u001b[0m\n\u001b[1;32m    181\u001b[0m     \u001b[0;32mdef\u001b[0m \u001b[0mfilter\u001b[0m\u001b[0;34m(\u001b[0m\u001b[0mself\u001b[0m\u001b[0;34m,\u001b[0m \u001b[0mf\u001b[0m\u001b[0;34m=\u001b[0m\u001b[0mnoop\u001b[0m\u001b[0;34m,\u001b[0m \u001b[0mnegate\u001b[0m\u001b[0;34m=\u001b[0m\u001b[0;32mFalse\u001b[0m\u001b[0;34m,\u001b[0m \u001b[0mgen\u001b[0m\u001b[0;34m=\u001b[0m\u001b[0;32mFalse\u001b[0m\u001b[0;34m,\u001b[0m \u001b[0;34m**\u001b[0m\u001b[0mkwargs\u001b[0m\u001b[0;34m)\u001b[0m\u001b[0;34m:\u001b[0m\u001b[0;34m\u001b[0m\u001b[0;34m\u001b[0m\u001b[0m\n",
      "\u001b[0;32m/mnt/pub_workspace_2T/anaconda3/envs/fastaiv2/lib/python3.8/site-packages/fastcore/basics.py\u001b[0m in \u001b[0;36mmap_ex\u001b[0;34m(iterable, f, gen, *args, **kwargs)\u001b[0m\n\u001b[1;32m    605\u001b[0m     \u001b[0mres\u001b[0m \u001b[0;34m=\u001b[0m \u001b[0mmap\u001b[0m\u001b[0;34m(\u001b[0m\u001b[0mg\u001b[0m\u001b[0;34m,\u001b[0m \u001b[0miterable\u001b[0m\u001b[0;34m)\u001b[0m\u001b[0;34m\u001b[0m\u001b[0;34m\u001b[0m\u001b[0m\n\u001b[1;32m    606\u001b[0m     \u001b[0;32mif\u001b[0m \u001b[0mgen\u001b[0m\u001b[0;34m:\u001b[0m \u001b[0;32mreturn\u001b[0m \u001b[0mres\u001b[0m\u001b[0;34m\u001b[0m\u001b[0;34m\u001b[0m\u001b[0m\n\u001b[0;32m--> 607\u001b[0;31m     \u001b[0;32mreturn\u001b[0m \u001b[0mlist\u001b[0m\u001b[0;34m(\u001b[0m\u001b[0mres\u001b[0m\u001b[0;34m)\u001b[0m\u001b[0;34m\u001b[0m\u001b[0;34m\u001b[0m\u001b[0m\n\u001b[0m\u001b[1;32m    608\u001b[0m \u001b[0;34m\u001b[0m\u001b[0m\n\u001b[1;32m    609\u001b[0m \u001b[0;31m# Cell\u001b[0m\u001b[0;34m\u001b[0m\u001b[0;34m\u001b[0m\u001b[0;34m\u001b[0m\u001b[0m\n",
      "\u001b[0;32m/mnt/pub_workspace_2T/anaconda3/envs/fastaiv2/lib/python3.8/site-packages/fastcore/basics.py\u001b[0m in \u001b[0;36m__call__\u001b[0;34m(self, *args, **kwargs)\u001b[0m\n\u001b[1;32m    595\u001b[0m             \u001b[0;32mif\u001b[0m \u001b[0misinstance\u001b[0m\u001b[0;34m(\u001b[0m\u001b[0mv\u001b[0m\u001b[0;34m,\u001b[0m\u001b[0m_Arg\u001b[0m\u001b[0;34m)\u001b[0m\u001b[0;34m:\u001b[0m \u001b[0mkwargs\u001b[0m\u001b[0;34m[\u001b[0m\u001b[0mk\u001b[0m\u001b[0;34m]\u001b[0m \u001b[0;34m=\u001b[0m \u001b[0margs\u001b[0m\u001b[0;34m.\u001b[0m\u001b[0mpop\u001b[0m\u001b[0;34m(\u001b[0m\u001b[0mv\u001b[0m\u001b[0;34m.\u001b[0m\u001b[0mi\u001b[0m\u001b[0;34m)\u001b[0m\u001b[0;34m\u001b[0m\u001b[0;34m\u001b[0m\u001b[0m\n\u001b[1;32m    596\u001b[0m         \u001b[0mfargs\u001b[0m \u001b[0;34m=\u001b[0m \u001b[0;34m[\u001b[0m\u001b[0margs\u001b[0m\u001b[0;34m[\u001b[0m\u001b[0mx\u001b[0m\u001b[0;34m.\u001b[0m\u001b[0mi\u001b[0m\u001b[0;34m]\u001b[0m \u001b[0;32mif\u001b[0m \u001b[0misinstance\u001b[0m\u001b[0;34m(\u001b[0m\u001b[0mx\u001b[0m\u001b[0;34m,\u001b[0m \u001b[0m_Arg\u001b[0m\u001b[0;34m)\u001b[0m \u001b[0;32melse\u001b[0m \u001b[0mx\u001b[0m \u001b[0;32mfor\u001b[0m \u001b[0mx\u001b[0m \u001b[0;32min\u001b[0m \u001b[0mself\u001b[0m\u001b[0;34m.\u001b[0m\u001b[0mpargs\u001b[0m\u001b[0;34m]\u001b[0m \u001b[0;34m+\u001b[0m \u001b[0margs\u001b[0m\u001b[0;34m[\u001b[0m\u001b[0mself\u001b[0m\u001b[0;34m.\u001b[0m\u001b[0mmaxi\u001b[0m\u001b[0;34m+\u001b[0m\u001b[0;36m1\u001b[0m\u001b[0;34m:\u001b[0m\u001b[0;34m]\u001b[0m\u001b[0;34m\u001b[0m\u001b[0;34m\u001b[0m\u001b[0m\n\u001b[0;32m--> 597\u001b[0;31m         \u001b[0;32mreturn\u001b[0m \u001b[0mself\u001b[0m\u001b[0;34m.\u001b[0m\u001b[0mfunc\u001b[0m\u001b[0;34m(\u001b[0m\u001b[0;34m*\u001b[0m\u001b[0mfargs\u001b[0m\u001b[0;34m,\u001b[0m \u001b[0;34m**\u001b[0m\u001b[0mkwargs\u001b[0m\u001b[0;34m)\u001b[0m\u001b[0;34m\u001b[0m\u001b[0;34m\u001b[0m\u001b[0m\n\u001b[0m\u001b[1;32m    598\u001b[0m \u001b[0;34m\u001b[0m\u001b[0m\n\u001b[1;32m    599\u001b[0m \u001b[0;31m# Cell\u001b[0m\u001b[0;34m\u001b[0m\u001b[0;34m\u001b[0m\u001b[0;34m\u001b[0m\u001b[0m\n",
      "\u001b[0;32m/mnt/pub_workspace_2T/anaconda3/envs/fastaiv2/lib/python3.8/site-packages/fastai/learner.py\u001b[0m in \u001b[0;36m_call_one\u001b[0;34m(self, event_name)\u001b[0m\n\u001b[1;32m    134\u001b[0m     \u001b[0;32mdef\u001b[0m \u001b[0m_call_one\u001b[0m\u001b[0;34m(\u001b[0m\u001b[0mself\u001b[0m\u001b[0;34m,\u001b[0m \u001b[0mevent_name\u001b[0m\u001b[0;34m)\u001b[0m\u001b[0;34m:\u001b[0m\u001b[0;34m\u001b[0m\u001b[0;34m\u001b[0m\u001b[0m\n\u001b[1;32m    135\u001b[0m         \u001b[0;32massert\u001b[0m \u001b[0mhasattr\u001b[0m\u001b[0;34m(\u001b[0m\u001b[0mevent\u001b[0m\u001b[0;34m,\u001b[0m \u001b[0mevent_name\u001b[0m\u001b[0;34m)\u001b[0m\u001b[0;34m,\u001b[0m \u001b[0mevent_name\u001b[0m\u001b[0;34m\u001b[0m\u001b[0;34m\u001b[0m\u001b[0m\n\u001b[0;32m--> 136\u001b[0;31m         \u001b[0;34m[\u001b[0m\u001b[0mcb\u001b[0m\u001b[0;34m(\u001b[0m\u001b[0mevent_name\u001b[0m\u001b[0;34m)\u001b[0m \u001b[0;32mfor\u001b[0m \u001b[0mcb\u001b[0m \u001b[0;32min\u001b[0m \u001b[0msort_by_run\u001b[0m\u001b[0;34m(\u001b[0m\u001b[0mself\u001b[0m\u001b[0;34m.\u001b[0m\u001b[0mcbs\u001b[0m\u001b[0;34m)\u001b[0m\u001b[0;34m]\u001b[0m\u001b[0;34m\u001b[0m\u001b[0;34m\u001b[0m\u001b[0m\n\u001b[0m\u001b[1;32m    137\u001b[0m \u001b[0;34m\u001b[0m\u001b[0m\n\u001b[1;32m    138\u001b[0m     \u001b[0;32mdef\u001b[0m \u001b[0m_bn_bias_state\u001b[0m\u001b[0;34m(\u001b[0m\u001b[0mself\u001b[0m\u001b[0;34m,\u001b[0m \u001b[0mwith_bias\u001b[0m\u001b[0;34m)\u001b[0m\u001b[0;34m:\u001b[0m \u001b[0;32mreturn\u001b[0m \u001b[0mnorm_bias_params\u001b[0m\u001b[0;34m(\u001b[0m\u001b[0mself\u001b[0m\u001b[0;34m.\u001b[0m\u001b[0mmodel\u001b[0m\u001b[0;34m,\u001b[0m \u001b[0mwith_bias\u001b[0m\u001b[0;34m)\u001b[0m\u001b[0;34m.\u001b[0m\u001b[0mmap\u001b[0m\u001b[0;34m(\u001b[0m\u001b[0mself\u001b[0m\u001b[0;34m.\u001b[0m\u001b[0mopt\u001b[0m\u001b[0;34m.\u001b[0m\u001b[0mstate\u001b[0m\u001b[0;34m)\u001b[0m\u001b[0;34m\u001b[0m\u001b[0;34m\u001b[0m\u001b[0m\n",
      "\u001b[0;32m/mnt/pub_workspace_2T/anaconda3/envs/fastaiv2/lib/python3.8/site-packages/fastai/learner.py\u001b[0m in \u001b[0;36m<listcomp>\u001b[0;34m(.0)\u001b[0m\n\u001b[1;32m    134\u001b[0m     \u001b[0;32mdef\u001b[0m \u001b[0m_call_one\u001b[0m\u001b[0;34m(\u001b[0m\u001b[0mself\u001b[0m\u001b[0;34m,\u001b[0m \u001b[0mevent_name\u001b[0m\u001b[0;34m)\u001b[0m\u001b[0;34m:\u001b[0m\u001b[0;34m\u001b[0m\u001b[0;34m\u001b[0m\u001b[0m\n\u001b[1;32m    135\u001b[0m         \u001b[0;32massert\u001b[0m \u001b[0mhasattr\u001b[0m\u001b[0;34m(\u001b[0m\u001b[0mevent\u001b[0m\u001b[0;34m,\u001b[0m \u001b[0mevent_name\u001b[0m\u001b[0;34m)\u001b[0m\u001b[0;34m,\u001b[0m \u001b[0mevent_name\u001b[0m\u001b[0;34m\u001b[0m\u001b[0;34m\u001b[0m\u001b[0m\n\u001b[0;32m--> 136\u001b[0;31m         \u001b[0;34m[\u001b[0m\u001b[0mcb\u001b[0m\u001b[0;34m(\u001b[0m\u001b[0mevent_name\u001b[0m\u001b[0;34m)\u001b[0m \u001b[0;32mfor\u001b[0m \u001b[0mcb\u001b[0m \u001b[0;32min\u001b[0m \u001b[0msort_by_run\u001b[0m\u001b[0;34m(\u001b[0m\u001b[0mself\u001b[0m\u001b[0;34m.\u001b[0m\u001b[0mcbs\u001b[0m\u001b[0;34m)\u001b[0m\u001b[0;34m]\u001b[0m\u001b[0;34m\u001b[0m\u001b[0;34m\u001b[0m\u001b[0m\n\u001b[0m\u001b[1;32m    137\u001b[0m \u001b[0;34m\u001b[0m\u001b[0m\n\u001b[1;32m    138\u001b[0m     \u001b[0;32mdef\u001b[0m \u001b[0m_bn_bias_state\u001b[0m\u001b[0;34m(\u001b[0m\u001b[0mself\u001b[0m\u001b[0;34m,\u001b[0m \u001b[0mwith_bias\u001b[0m\u001b[0;34m)\u001b[0m\u001b[0;34m:\u001b[0m \u001b[0;32mreturn\u001b[0m \u001b[0mnorm_bias_params\u001b[0m\u001b[0;34m(\u001b[0m\u001b[0mself\u001b[0m\u001b[0;34m.\u001b[0m\u001b[0mmodel\u001b[0m\u001b[0;34m,\u001b[0m \u001b[0mwith_bias\u001b[0m\u001b[0;34m)\u001b[0m\u001b[0;34m.\u001b[0m\u001b[0mmap\u001b[0m\u001b[0;34m(\u001b[0m\u001b[0mself\u001b[0m\u001b[0;34m.\u001b[0m\u001b[0mopt\u001b[0m\u001b[0;34m.\u001b[0m\u001b[0mstate\u001b[0m\u001b[0;34m)\u001b[0m\u001b[0;34m\u001b[0m\u001b[0;34m\u001b[0m\u001b[0m\n",
      "\u001b[0;32m/mnt/pub_workspace_2T/anaconda3/envs/fastaiv2/lib/python3.8/site-packages/fastai/callback/core.py\u001b[0m in \u001b[0;36m__call__\u001b[0;34m(self, event_name)\u001b[0m\n\u001b[1;32m     42\u001b[0m                (self.run_valid and not getattr(self, 'training', False)))\n\u001b[1;32m     43\u001b[0m         \u001b[0mres\u001b[0m \u001b[0;34m=\u001b[0m \u001b[0;32mNone\u001b[0m\u001b[0;34m\u001b[0m\u001b[0;34m\u001b[0m\u001b[0m\n\u001b[0;32m---> 44\u001b[0;31m         \u001b[0;32mif\u001b[0m \u001b[0mself\u001b[0m\u001b[0;34m.\u001b[0m\u001b[0mrun\u001b[0m \u001b[0;32mand\u001b[0m \u001b[0m_run\u001b[0m\u001b[0;34m:\u001b[0m \u001b[0mres\u001b[0m \u001b[0;34m=\u001b[0m \u001b[0mgetattr\u001b[0m\u001b[0;34m(\u001b[0m\u001b[0mself\u001b[0m\u001b[0;34m,\u001b[0m \u001b[0mevent_name\u001b[0m\u001b[0;34m,\u001b[0m \u001b[0mnoop\u001b[0m\u001b[0;34m)\u001b[0m\u001b[0;34m(\u001b[0m\u001b[0;34m)\u001b[0m\u001b[0;34m\u001b[0m\u001b[0;34m\u001b[0m\u001b[0m\n\u001b[0m\u001b[1;32m     45\u001b[0m         \u001b[0;32mif\u001b[0m \u001b[0mevent_name\u001b[0m\u001b[0;34m==\u001b[0m\u001b[0;34m'after_fit'\u001b[0m\u001b[0;34m:\u001b[0m \u001b[0mself\u001b[0m\u001b[0;34m.\u001b[0m\u001b[0mrun\u001b[0m\u001b[0;34m=\u001b[0m\u001b[0;32mTrue\u001b[0m \u001b[0;31m#Reset self.run to True at each end of fit\u001b[0m\u001b[0;34m\u001b[0m\u001b[0;34m\u001b[0m\u001b[0m\n\u001b[1;32m     46\u001b[0m         \u001b[0;32mreturn\u001b[0m \u001b[0mres\u001b[0m\u001b[0;34m\u001b[0m\u001b[0;34m\u001b[0m\u001b[0m\n",
      "\u001b[0;32m/mnt/pub_workspace_2T/anaconda3/envs/fastaiv2/lib/python3.8/site-packages/fastai/callback/tracker.py\u001b[0m in \u001b[0;36mafter_epoch\u001b[0;34m(self)\u001b[0m\n\u001b[1;32m     78\u001b[0m         \u001b[0;32mif\u001b[0m \u001b[0mself\u001b[0m\u001b[0;34m.\u001b[0m\u001b[0mevery_epoch\u001b[0m\u001b[0;34m:\u001b[0m \u001b[0mself\u001b[0m\u001b[0;34m.\u001b[0m\u001b[0m_save\u001b[0m\u001b[0;34m(\u001b[0m\u001b[0;34mf'{self.fname}_{self.epoch}'\u001b[0m\u001b[0;34m)\u001b[0m\u001b[0;34m\u001b[0m\u001b[0;34m\u001b[0m\u001b[0m\n\u001b[1;32m     79\u001b[0m         \u001b[0;32melse\u001b[0m\u001b[0;34m:\u001b[0m \u001b[0;31m#every improvement\u001b[0m\u001b[0;34m\u001b[0m\u001b[0;34m\u001b[0m\u001b[0m\n\u001b[0;32m---> 80\u001b[0;31m             \u001b[0msuper\u001b[0m\u001b[0;34m(\u001b[0m\u001b[0;34m)\u001b[0m\u001b[0;34m.\u001b[0m\u001b[0mafter_epoch\u001b[0m\u001b[0;34m(\u001b[0m\u001b[0;34m)\u001b[0m\u001b[0;34m\u001b[0m\u001b[0;34m\u001b[0m\u001b[0m\n\u001b[0m\u001b[1;32m     81\u001b[0m             \u001b[0;32mif\u001b[0m \u001b[0mself\u001b[0m\u001b[0;34m.\u001b[0m\u001b[0mnew_best\u001b[0m\u001b[0;34m:\u001b[0m\u001b[0;34m\u001b[0m\u001b[0;34m\u001b[0m\u001b[0m\n\u001b[1;32m     82\u001b[0m                 \u001b[0mprint\u001b[0m\u001b[0;34m(\u001b[0m\u001b[0;34mf'Better model found at epoch {self.epoch} with {self.monitor} value: {self.best}.'\u001b[0m\u001b[0;34m)\u001b[0m\u001b[0;34m\u001b[0m\u001b[0;34m\u001b[0m\u001b[0m\n",
      "\u001b[0;32m/mnt/pub_workspace_2T/anaconda3/envs/fastaiv2/lib/python3.8/site-packages/fastai/callback/tracker.py\u001b[0m in \u001b[0;36mafter_epoch\u001b[0;34m(self)\u001b[0m\n\u001b[1;32m     37\u001b[0m     \u001b[0;32mdef\u001b[0m \u001b[0mafter_epoch\u001b[0m\u001b[0;34m(\u001b[0m\u001b[0mself\u001b[0m\u001b[0;34m)\u001b[0m\u001b[0;34m:\u001b[0m\u001b[0;34m\u001b[0m\u001b[0;34m\u001b[0m\u001b[0m\n\u001b[1;32m     38\u001b[0m         \u001b[0;34m\"Compare the last value to the best up to now\"\u001b[0m\u001b[0;34m\u001b[0m\u001b[0;34m\u001b[0m\u001b[0m\n\u001b[0;32m---> 39\u001b[0;31m         \u001b[0mval\u001b[0m \u001b[0;34m=\u001b[0m \u001b[0mself\u001b[0m\u001b[0;34m.\u001b[0m\u001b[0mrecorder\u001b[0m\u001b[0;34m.\u001b[0m\u001b[0mvalues\u001b[0m\u001b[0;34m[\u001b[0m\u001b[0;34m-\u001b[0m\u001b[0;36m1\u001b[0m\u001b[0;34m]\u001b[0m\u001b[0;34m[\u001b[0m\u001b[0mself\u001b[0m\u001b[0;34m.\u001b[0m\u001b[0midx\u001b[0m\u001b[0;34m]\u001b[0m\u001b[0;34m\u001b[0m\u001b[0;34m\u001b[0m\u001b[0m\n\u001b[0m\u001b[1;32m     40\u001b[0m         \u001b[0;32mif\u001b[0m \u001b[0mself\u001b[0m\u001b[0;34m.\u001b[0m\u001b[0mcomp\u001b[0m\u001b[0;34m(\u001b[0m\u001b[0mval\u001b[0m \u001b[0;34m-\u001b[0m \u001b[0mself\u001b[0m\u001b[0;34m.\u001b[0m\u001b[0mmin_delta\u001b[0m\u001b[0;34m,\u001b[0m \u001b[0mself\u001b[0m\u001b[0;34m.\u001b[0m\u001b[0mbest\u001b[0m\u001b[0;34m)\u001b[0m\u001b[0;34m:\u001b[0m \u001b[0mself\u001b[0m\u001b[0;34m.\u001b[0m\u001b[0mbest\u001b[0m\u001b[0;34m,\u001b[0m\u001b[0mself\u001b[0m\u001b[0;34m.\u001b[0m\u001b[0mnew_best\u001b[0m \u001b[0;34m=\u001b[0m \u001b[0mval\u001b[0m\u001b[0;34m,\u001b[0m\u001b[0;32mTrue\u001b[0m\u001b[0;34m\u001b[0m\u001b[0;34m\u001b[0m\u001b[0m\n\u001b[1;32m     41\u001b[0m         \u001b[0;32melse\u001b[0m\u001b[0;34m:\u001b[0m \u001b[0mself\u001b[0m\u001b[0;34m.\u001b[0m\u001b[0mnew_best\u001b[0m \u001b[0;34m=\u001b[0m \u001b[0;32mFalse\u001b[0m\u001b[0;34m\u001b[0m\u001b[0;34m\u001b[0m\u001b[0m\n",
      "\u001b[0;32m/mnt/pub_workspace_2T/anaconda3/envs/fastaiv2/lib/python3.8/site-packages/fastcore/foundation.py\u001b[0m in \u001b[0;36m__getitem__\u001b[0;34m(self, idx)\u001b[0m\n\u001b[1;32m    134\u001b[0m     \u001b[0;32mdef\u001b[0m \u001b[0m_xtra\u001b[0m\u001b[0;34m(\u001b[0m\u001b[0mself\u001b[0m\u001b[0;34m)\u001b[0m\u001b[0;34m:\u001b[0m \u001b[0;32mreturn\u001b[0m \u001b[0;32mNone\u001b[0m\u001b[0;34m\u001b[0m\u001b[0;34m\u001b[0m\u001b[0m\n\u001b[1;32m    135\u001b[0m     \u001b[0;32mdef\u001b[0m \u001b[0m_new\u001b[0m\u001b[0;34m(\u001b[0m\u001b[0mself\u001b[0m\u001b[0;34m,\u001b[0m \u001b[0mitems\u001b[0m\u001b[0;34m,\u001b[0m \u001b[0;34m*\u001b[0m\u001b[0margs\u001b[0m\u001b[0;34m,\u001b[0m \u001b[0;34m**\u001b[0m\u001b[0mkwargs\u001b[0m\u001b[0;34m)\u001b[0m\u001b[0;34m:\u001b[0m \u001b[0;32mreturn\u001b[0m \u001b[0mtype\u001b[0m\u001b[0;34m(\u001b[0m\u001b[0mself\u001b[0m\u001b[0;34m)\u001b[0m\u001b[0;34m(\u001b[0m\u001b[0mitems\u001b[0m\u001b[0;34m,\u001b[0m \u001b[0;34m*\u001b[0m\u001b[0margs\u001b[0m\u001b[0;34m,\u001b[0m \u001b[0muse_list\u001b[0m\u001b[0;34m=\u001b[0m\u001b[0;32mNone\u001b[0m\u001b[0;34m,\u001b[0m \u001b[0;34m**\u001b[0m\u001b[0mkwargs\u001b[0m\u001b[0;34m)\u001b[0m\u001b[0;34m\u001b[0m\u001b[0;34m\u001b[0m\u001b[0m\n\u001b[0;32m--> 136\u001b[0;31m     \u001b[0;32mdef\u001b[0m \u001b[0m__getitem__\u001b[0m\u001b[0;34m(\u001b[0m\u001b[0mself\u001b[0m\u001b[0;34m,\u001b[0m \u001b[0midx\u001b[0m\u001b[0;34m)\u001b[0m\u001b[0;34m:\u001b[0m \u001b[0;32mreturn\u001b[0m \u001b[0mself\u001b[0m\u001b[0;34m.\u001b[0m\u001b[0m_get\u001b[0m\u001b[0;34m(\u001b[0m\u001b[0midx\u001b[0m\u001b[0;34m)\u001b[0m \u001b[0;32mif\u001b[0m \u001b[0mis_indexer\u001b[0m\u001b[0;34m(\u001b[0m\u001b[0midx\u001b[0m\u001b[0;34m)\u001b[0m \u001b[0;32melse\u001b[0m \u001b[0mL\u001b[0m\u001b[0;34m(\u001b[0m\u001b[0mself\u001b[0m\u001b[0;34m.\u001b[0m\u001b[0m_get\u001b[0m\u001b[0;34m(\u001b[0m\u001b[0midx\u001b[0m\u001b[0;34m)\u001b[0m\u001b[0;34m,\u001b[0m \u001b[0muse_list\u001b[0m\u001b[0;34m=\u001b[0m\u001b[0;32mNone\u001b[0m\u001b[0;34m)\u001b[0m\u001b[0;34m\u001b[0m\u001b[0;34m\u001b[0m\u001b[0m\n\u001b[0m\u001b[1;32m    137\u001b[0m     \u001b[0;32mdef\u001b[0m \u001b[0mcopy\u001b[0m\u001b[0;34m(\u001b[0m\u001b[0mself\u001b[0m\u001b[0;34m)\u001b[0m\u001b[0;34m:\u001b[0m \u001b[0;32mreturn\u001b[0m \u001b[0mself\u001b[0m\u001b[0;34m.\u001b[0m\u001b[0m_new\u001b[0m\u001b[0;34m(\u001b[0m\u001b[0mself\u001b[0m\u001b[0;34m.\u001b[0m\u001b[0mitems\u001b[0m\u001b[0;34m.\u001b[0m\u001b[0mcopy\u001b[0m\u001b[0;34m(\u001b[0m\u001b[0;34m)\u001b[0m\u001b[0;34m)\u001b[0m\u001b[0;34m\u001b[0m\u001b[0;34m\u001b[0m\u001b[0m\n\u001b[1;32m    138\u001b[0m \u001b[0;34m\u001b[0m\u001b[0m\n",
      "\u001b[0;32m/mnt/pub_workspace_2T/anaconda3/envs/fastaiv2/lib/python3.8/site-packages/fastcore/foundation.py\u001b[0m in \u001b[0;36m_get\u001b[0;34m(self, i)\u001b[0m\n\u001b[1;32m    138\u001b[0m \u001b[0;34m\u001b[0m\u001b[0m\n\u001b[1;32m    139\u001b[0m     \u001b[0;32mdef\u001b[0m \u001b[0m_get\u001b[0m\u001b[0;34m(\u001b[0m\u001b[0mself\u001b[0m\u001b[0;34m,\u001b[0m \u001b[0mi\u001b[0m\u001b[0;34m)\u001b[0m\u001b[0;34m:\u001b[0m\u001b[0;34m\u001b[0m\u001b[0;34m\u001b[0m\u001b[0m\n\u001b[0;32m--> 140\u001b[0;31m         \u001b[0;32mif\u001b[0m \u001b[0mis_indexer\u001b[0m\u001b[0;34m(\u001b[0m\u001b[0mi\u001b[0m\u001b[0;34m)\u001b[0m \u001b[0;32mor\u001b[0m \u001b[0misinstance\u001b[0m\u001b[0;34m(\u001b[0m\u001b[0mi\u001b[0m\u001b[0;34m,\u001b[0m\u001b[0mslice\u001b[0m\u001b[0;34m)\u001b[0m\u001b[0;34m:\u001b[0m \u001b[0;32mreturn\u001b[0m \u001b[0mgetattr\u001b[0m\u001b[0;34m(\u001b[0m\u001b[0mself\u001b[0m\u001b[0;34m.\u001b[0m\u001b[0mitems\u001b[0m\u001b[0;34m,\u001b[0m\u001b[0;34m'iloc'\u001b[0m\u001b[0;34m,\u001b[0m\u001b[0mself\u001b[0m\u001b[0;34m.\u001b[0m\u001b[0mitems\u001b[0m\u001b[0;34m)\u001b[0m\u001b[0;34m[\u001b[0m\u001b[0mi\u001b[0m\u001b[0;34m]\u001b[0m\u001b[0;34m\u001b[0m\u001b[0;34m\u001b[0m\u001b[0m\n\u001b[0m\u001b[1;32m    141\u001b[0m         \u001b[0mi\u001b[0m \u001b[0;34m=\u001b[0m \u001b[0mmask2idxs\u001b[0m\u001b[0;34m(\u001b[0m\u001b[0mi\u001b[0m\u001b[0;34m)\u001b[0m\u001b[0;34m\u001b[0m\u001b[0;34m\u001b[0m\u001b[0m\n\u001b[1;32m    142\u001b[0m         return (self.items.iloc[list(i)] if hasattr(self.items,'iloc')\n",
      "\u001b[0;31mIndexError\u001b[0m: list index out of range"
     ]
    }
   ],
   "source": [
    "# lr = lr/10\n",
    "print(lr)\n",
    "learn.fit(50, lr=lr, cbs=ReduceLROnPlateau(monitor='valid_loss', min_delta=0, patience=2))"
   ]
  },
  {
   "cell_type": "code",
   "execution_count": null,
   "metadata": {
    "ExecuteTime": {
     "start_time": "2021-04-19T20:12:16.950Z"
    },
    "scrolled": true
   },
   "outputs": [],
   "source": [
    "learn.recorder.plot_loss()"
   ]
  },
  {
   "cell_type": "code",
   "execution_count": null,
   "metadata": {
    "ExecuteTime": {
     "start_time": "2021-04-19T20:12:16.956Z"
    },
    "scrolled": true
   },
   "outputs": [],
   "source": [
    "learn.validate(dl=test_loader[0])"
   ]
  },
  {
   "cell_type": "code",
   "execution_count": null,
   "metadata": {
    "ExecuteTime": {
     "start_time": "2021-04-19T20:12:16.963Z"
    },
    "scrolled": true
   },
   "outputs": [],
   "source": [
    "learn.validate(dl=test_loader[1])"
   ]
  },
  {
   "cell_type": "code",
   "execution_count": null,
   "metadata": {},
   "outputs": [],
   "source": []
  },
  {
   "cell_type": "code",
   "execution_count": 24,
   "metadata": {
    "ExecuteTime": {
     "end_time": "2021-04-19T18:29:10.895054Z",
     "start_time": "2021-04-19T18:29:10.886452Z"
    }
   },
   "outputs": [
    {
     "data": {
      "text/plain": [
       "('0',\n",
       " Adam (\n",
       " Parameter Group 0\n",
       "     amsgrad: False\n",
       "     betas: (0.9, 0.999)\n",
       "     eps: 1e-08\n",
       "     lr: 0.001\n",
       "     weight_decay: 0.0001\n",
       " ))"
      ]
     },
     "execution_count": 24,
     "metadata": {},
     "output_type": "execute_result"
    }
   ],
   "source": [
    "model_param, learn.opt.opt"
   ]
  },
  {
   "cell_type": "code",
   "execution_count": 25,
   "metadata": {
    "ExecuteTime": {
     "end_time": "2021-04-19T18:29:10.901798Z",
     "start_time": "2021-04-19T18:29:10.896570Z"
    }
   },
   "outputs": [],
   "source": [
    "lr = 3e-4"
   ]
  },
  {
   "cell_type": "code",
   "execution_count": 26,
   "metadata": {
    "ExecuteTime": {
     "end_time": "2021-04-19T18:29:55.623089Z",
     "start_time": "2021-04-19T18:29:10.908257Z"
    },
    "scrolled": true
   },
   "outputs": [
    {
     "name": "stdout",
     "output_type": "stream",
     "text": [
      "0.0003\n"
     ]
    },
    {
     "data": {
      "text/html": [
       "<table border=\"1\" class=\"dataframe\">\n",
       "  <thead>\n",
       "    <tr style=\"text-align: left;\">\n",
       "      <th>epoch</th>\n",
       "      <th>train_loss</th>\n",
       "      <th>valid_loss</th>\n",
       "      <th>spr_glo</th>\n",
       "      <th>plcc_glo</th>\n",
       "      <th>spr_loc</th>\n",
       "      <th>plcc_loc</th>\n",
       "      <th>spr_Mean</th>\n",
       "      <th>plcc_Mean</th>\n",
       "      <th>time</th>\n",
       "    </tr>\n",
       "  </thead>\n",
       "  <tbody>\n",
       "    <tr>\n",
       "      <td>0</td>\n",
       "      <td>0.182754</td>\n",
       "      <td>0.105862</td>\n",
       "      <td>0.493169</td>\n",
       "      <td>0.321038</td>\n",
       "      <td>0.493557</td>\n",
       "      <td>0.301300</td>\n",
       "      <td>0.492651</td>\n",
       "      <td>0.311842</td>\n",
       "      <td>00:42</td>\n",
       "    </tr>\n",
       "  </tbody>\n",
       "</table>"
      ],
      "text/plain": [
       "<IPython.core.display.HTML object>"
      ]
     },
     "metadata": {},
     "output_type": "display_data"
    },
    {
     "name": "stdout",
     "output_type": "stream",
     "text": [
      "Better model found at epoch 0 with valid_loss value: 0.10586199909448624.\n"
     ]
    }
   ],
   "source": [
    "# %%debug\n",
    "# lr = lr/10\n",
    "print(lr)\n",
    "learn.fit(1, lr=lr/10)"
   ]
  },
  {
   "cell_type": "code",
   "execution_count": 27,
   "metadata": {
    "ExecuteTime": {
     "end_time": "2021-04-19T18:29:55.842137Z",
     "start_time": "2021-04-19T18:29:55.626180Z"
    }
   },
   "outputs": [
    {
     "data": {
      "image/png": "[encoded data removed]",
      "text/plain": [
       "<Figure size 432x288 with 1 Axes>"
      ]
     },
     "metadata": {
      "needs_background": "light"
     },
     "output_type": "display_data"
    }
   ],
   "source": [
    "learn.recorder.plot_loss()"
   ]
  },
  {
   "cell_type": "code",
   "execution_count": 28,
   "metadata": {
    "ExecuteTime": {
     "end_time": "2021-04-19T19:00:38.265438Z",
     "start_time": "2021-04-19T18:29:55.843719Z"
    },
    "scrolled": true
   },
   "outputs": [
    {
     "name": "stdout",
     "output_type": "stream",
     "text": [
      "0.0003\n"
     ]
    },
    {
     "data": {
      "text/html": [
       "<table border=\"1\" class=\"dataframe\">\n",
       "  <thead>\n",
       "    <tr style=\"text-align: left;\">\n",
       "      <th>epoch</th>\n",
       "      <th>train_loss</th>\n",
       "      <th>valid_loss</th>\n",
       "      <th>spr_glo</th>\n",
       "      <th>plcc_glo</th>\n",
       "      <th>spr_loc</th>\n",
       "      <th>plcc_loc</th>\n",
       "      <th>spr_Mean</th>\n",
       "      <th>plcc_Mean</th>\n",
       "      <th>time</th>\n",
       "    </tr>\n",
       "  </thead>\n",
       "  <tbody>\n",
       "    <tr>\n",
       "      <td>0</td>\n",
       "      <td>0.067847</td>\n",
       "      <td>0.047299</td>\n",
       "      <td>0.827035</td>\n",
       "      <td>0.796552</td>\n",
       "      <td>0.832524</td>\n",
       "      <td>0.802765</td>\n",
       "      <td>0.830333</td>\n",
       "      <td>0.799982</td>\n",
       "      <td>00:37</td>\n",
       "    </tr>\n",
       "    <tr>\n",
       "      <td>1</td>\n",
       "      <td>0.041177</td>\n",
       "      <td>0.033858</td>\n",
       "      <td>0.866937</td>\n",
       "      <td>0.877997</td>\n",
       "      <td>0.870347</td>\n",
       "      <td>0.881159</td>\n",
       "      <td>0.868920</td>\n",
       "      <td>0.879480</td>\n",
       "      <td>00:37</td>\n",
       "    </tr>\n",
       "    <tr>\n",
       "      <td>2</td>\n",
       "      <td>0.041535</td>\n",
       "      <td>0.030889</td>\n",
       "      <td>0.878803</td>\n",
       "      <td>0.886780</td>\n",
       "      <td>0.880052</td>\n",
       "      <td>0.889504</td>\n",
       "      <td>0.879552</td>\n",
       "      <td>0.888035</td>\n",
       "      <td>00:37</td>\n",
       "    </tr>\n",
       "    <tr>\n",
       "      <td>3</td>\n",
       "      <td>0.033741</td>\n",
       "      <td>0.032000</td>\n",
       "      <td>0.890133</td>\n",
       "      <td>0.900954</td>\n",
       "      <td>0.892098</td>\n",
       "      <td>0.903157</td>\n",
       "      <td>0.890970</td>\n",
       "      <td>0.901969</td>\n",
       "      <td>00:37</td>\n",
       "    </tr>\n",
       "    <tr>\n",
       "      <td>4</td>\n",
       "      <td>0.032355</td>\n",
       "      <td>0.030694</td>\n",
       "      <td>0.893922</td>\n",
       "      <td>0.904351</td>\n",
       "      <td>0.896160</td>\n",
       "      <td>0.906246</td>\n",
       "      <td>0.894540</td>\n",
       "      <td>0.905181</td>\n",
       "      <td>00:38</td>\n",
       "    </tr>\n",
       "    <tr>\n",
       "      <td>5</td>\n",
       "      <td>0.036595</td>\n",
       "      <td>0.030563</td>\n",
       "      <td>0.884600</td>\n",
       "      <td>0.893502</td>\n",
       "      <td>0.886216</td>\n",
       "      <td>0.894107</td>\n",
       "      <td>0.884769</td>\n",
       "      <td>0.893788</td>\n",
       "      <td>00:37</td>\n",
       "    </tr>\n",
       "    <tr>\n",
       "      <td>6</td>\n",
       "      <td>0.035494</td>\n",
       "      <td>0.036757</td>\n",
       "      <td>0.901185</td>\n",
       "      <td>0.911932</td>\n",
       "      <td>0.901971</td>\n",
       "      <td>0.912149</td>\n",
       "      <td>0.901775</td>\n",
       "      <td>0.912032</td>\n",
       "      <td>00:35</td>\n",
       "    </tr>\n",
       "    <tr>\n",
       "      <td>7</td>\n",
       "      <td>0.032484</td>\n",
       "      <td>0.035719</td>\n",
       "      <td>0.902643</td>\n",
       "      <td>0.914724</td>\n",
       "      <td>0.902436</td>\n",
       "      <td>0.914949</td>\n",
       "      <td>0.902598</td>\n",
       "      <td>0.914825</td>\n",
       "      <td>00:36</td>\n",
       "    </tr>\n",
       "    <tr>\n",
       "      <td>8</td>\n",
       "      <td>0.032975</td>\n",
       "      <td>0.025677</td>\n",
       "      <td>0.910272</td>\n",
       "      <td>0.919335</td>\n",
       "      <td>0.910682</td>\n",
       "      <td>0.919175</td>\n",
       "      <td>0.910434</td>\n",
       "      <td>0.919269</td>\n",
       "      <td>00:36</td>\n",
       "    </tr>\n",
       "    <tr>\n",
       "      <td>9</td>\n",
       "      <td>0.029990</td>\n",
       "      <td>0.027278</td>\n",
       "      <td>0.923032</td>\n",
       "      <td>0.924780</td>\n",
       "      <td>0.923022</td>\n",
       "      <td>0.924801</td>\n",
       "      <td>0.923066</td>\n",
       "      <td>0.924791</td>\n",
       "      <td>00:36</td>\n",
       "    </tr>\n",
       "    <tr>\n",
       "      <td>10</td>\n",
       "      <td>0.029881</td>\n",
       "      <td>0.038541</td>\n",
       "      <td>0.927244</td>\n",
       "      <td>0.926205</td>\n",
       "      <td>0.927016</td>\n",
       "      <td>0.925870</td>\n",
       "      <td>0.927016</td>\n",
       "      <td>0.926070</td>\n",
       "      <td>00:37</td>\n",
       "    </tr>\n",
       "    <tr>\n",
       "      <td>11</td>\n",
       "      <td>0.026402</td>\n",
       "      <td>0.029870</td>\n",
       "      <td>0.923753</td>\n",
       "      <td>0.927685</td>\n",
       "      <td>0.922342</td>\n",
       "      <td>0.926924</td>\n",
       "      <td>0.922844</td>\n",
       "      <td>0.927367</td>\n",
       "      <td>00:36</td>\n",
       "    </tr>\n",
       "    <tr>\n",
       "      <td>12</td>\n",
       "      <td>0.026835</td>\n",
       "      <td>0.023464</td>\n",
       "      <td>0.916688</td>\n",
       "      <td>0.920618</td>\n",
       "      <td>0.915971</td>\n",
       "      <td>0.919925</td>\n",
       "      <td>0.916600</td>\n",
       "      <td>0.920324</td>\n",
       "      <td>00:36</td>\n",
       "    </tr>\n",
       "    <tr>\n",
       "      <td>13</td>\n",
       "      <td>0.024676</td>\n",
       "      <td>0.022952</td>\n",
       "      <td>0.924273</td>\n",
       "      <td>0.926551</td>\n",
       "      <td>0.924017</td>\n",
       "      <td>0.926076</td>\n",
       "      <td>0.924094</td>\n",
       "      <td>0.926346</td>\n",
       "      <td>00:36</td>\n",
       "    </tr>\n",
       "    <tr>\n",
       "      <td>14</td>\n",
       "      <td>0.023985</td>\n",
       "      <td>0.023676</td>\n",
       "      <td>0.927943</td>\n",
       "      <td>0.930035</td>\n",
       "      <td>0.927614</td>\n",
       "      <td>0.929628</td>\n",
       "      <td>0.927818</td>\n",
       "      <td>0.929861</td>\n",
       "      <td>00:36</td>\n",
       "    </tr>\n",
       "    <tr>\n",
       "      <td>15</td>\n",
       "      <td>0.024356</td>\n",
       "      <td>0.024357</td>\n",
       "      <td>0.928421</td>\n",
       "      <td>0.925512</td>\n",
       "      <td>0.928256</td>\n",
       "      <td>0.924512</td>\n",
       "      <td>0.928348</td>\n",
       "      <td>0.925077</td>\n",
       "      <td>00:37</td>\n",
       "    </tr>\n",
       "    <tr>\n",
       "      <td>16</td>\n",
       "      <td>0.021807</td>\n",
       "      <td>0.027294</td>\n",
       "      <td>0.929370</td>\n",
       "      <td>0.926991</td>\n",
       "      <td>0.929203</td>\n",
       "      <td>0.926383</td>\n",
       "      <td>0.929203</td>\n",
       "      <td>0.926728</td>\n",
       "      <td>00:36</td>\n",
       "    </tr>\n",
       "    <tr>\n",
       "      <td>17</td>\n",
       "      <td>0.025327</td>\n",
       "      <td>0.026024</td>\n",
       "      <td>0.931264</td>\n",
       "      <td>0.933391</td>\n",
       "      <td>0.931112</td>\n",
       "      <td>0.933314</td>\n",
       "      <td>0.931161</td>\n",
       "      <td>0.933363</td>\n",
       "      <td>00:36</td>\n",
       "    </tr>\n",
       "    <tr>\n",
       "      <td>18</td>\n",
       "      <td>0.023406</td>\n",
       "      <td>0.020381</td>\n",
       "      <td>0.936358</td>\n",
       "      <td>0.935343</td>\n",
       "      <td>0.936064</td>\n",
       "      <td>0.934912</td>\n",
       "      <td>0.936271</td>\n",
       "      <td>0.935158</td>\n",
       "      <td>00:37</td>\n",
       "    </tr>\n",
       "    <tr>\n",
       "      <td>19</td>\n",
       "      <td>0.023416</td>\n",
       "      <td>0.024965</td>\n",
       "      <td>0.939867</td>\n",
       "      <td>0.936585</td>\n",
       "      <td>0.939216</td>\n",
       "      <td>0.936565</td>\n",
       "      <td>0.939476</td>\n",
       "      <td>0.936578</td>\n",
       "      <td>00:37</td>\n",
       "    </tr>\n",
       "    <tr>\n",
       "      <td>20</td>\n",
       "      <td>0.027615</td>\n",
       "      <td>0.026960</td>\n",
       "      <td>0.934864</td>\n",
       "      <td>0.928325</td>\n",
       "      <td>0.934828</td>\n",
       "      <td>0.927414</td>\n",
       "      <td>0.934960</td>\n",
       "      <td>0.927928</td>\n",
       "      <td>00:36</td>\n",
       "    </tr>\n",
       "    <tr>\n",
       "      <td>21</td>\n",
       "      <td>0.022157</td>\n",
       "      <td>0.025015</td>\n",
       "      <td>0.925732</td>\n",
       "      <td>0.931464</td>\n",
       "      <td>0.925669</td>\n",
       "      <td>0.931786</td>\n",
       "      <td>0.925974</td>\n",
       "      <td>0.931618</td>\n",
       "      <td>00:37</td>\n",
       "    </tr>\n",
       "    <tr>\n",
       "      <td>22</td>\n",
       "      <td>0.025899</td>\n",
       "      <td>0.023165</td>\n",
       "      <td>0.934265</td>\n",
       "      <td>0.933837</td>\n",
       "      <td>0.933650</td>\n",
       "      <td>0.933077</td>\n",
       "      <td>0.934169</td>\n",
       "      <td>0.933522</td>\n",
       "      <td>00:36</td>\n",
       "    </tr>\n",
       "    <tr>\n",
       "      <td>23</td>\n",
       "      <td>0.022645</td>\n",
       "      <td>0.034808</td>\n",
       "      <td>0.930298</td>\n",
       "      <td>0.935010</td>\n",
       "      <td>0.929560</td>\n",
       "      <td>0.935259</td>\n",
       "      <td>0.929818</td>\n",
       "      <td>0.935128</td>\n",
       "      <td>00:37</td>\n",
       "    </tr>\n",
       "    <tr>\n",
       "      <td>24</td>\n",
       "      <td>0.021624</td>\n",
       "      <td>0.020682</td>\n",
       "      <td>0.941820</td>\n",
       "      <td>0.941149</td>\n",
       "      <td>0.940674</td>\n",
       "      <td>0.940540</td>\n",
       "      <td>0.941337</td>\n",
       "      <td>0.940883</td>\n",
       "      <td>00:36</td>\n",
       "    </tr>\n",
       "    <tr>\n",
       "      <td>25</td>\n",
       "      <td>0.021890</td>\n",
       "      <td>0.018919</td>\n",
       "      <td>0.943167</td>\n",
       "      <td>0.942183</td>\n",
       "      <td>0.942635</td>\n",
       "      <td>0.941886</td>\n",
       "      <td>0.942876</td>\n",
       "      <td>0.942060</td>\n",
       "      <td>00:36</td>\n",
       "    </tr>\n",
       "    <tr>\n",
       "      <td>26</td>\n",
       "      <td>0.022476</td>\n",
       "      <td>0.026865</td>\n",
       "      <td>0.914292</td>\n",
       "      <td>0.925312</td>\n",
       "      <td>0.914074</td>\n",
       "      <td>0.925452</td>\n",
       "      <td>0.914034</td>\n",
       "      <td>0.925380</td>\n",
       "      <td>00:36</td>\n",
       "    </tr>\n",
       "    <tr>\n",
       "      <td>27</td>\n",
       "      <td>0.019795</td>\n",
       "      <td>0.020039</td>\n",
       "      <td>0.940587</td>\n",
       "      <td>0.943067</td>\n",
       "      <td>0.939921</td>\n",
       "      <td>0.942131</td>\n",
       "      <td>0.940190</td>\n",
       "      <td>0.942671</td>\n",
       "      <td>00:36</td>\n",
       "    </tr>\n",
       "    <tr>\n",
       "      <td>28</td>\n",
       "      <td>0.020241</td>\n",
       "      <td>0.018848</td>\n",
       "      <td>0.944178</td>\n",
       "      <td>0.942976</td>\n",
       "      <td>0.943691</td>\n",
       "      <td>0.942450</td>\n",
       "      <td>0.944042</td>\n",
       "      <td>0.942760</td>\n",
       "      <td>00:37</td>\n",
       "    </tr>\n",
       "    <tr>\n",
       "      <td>29</td>\n",
       "      <td>0.021062</td>\n",
       "      <td>0.018581</td>\n",
       "      <td>0.940013</td>\n",
       "      <td>0.943761</td>\n",
       "      <td>0.939960</td>\n",
       "      <td>0.943455</td>\n",
       "      <td>0.939860</td>\n",
       "      <td>0.943626</td>\n",
       "      <td>00:36</td>\n",
       "    </tr>\n",
       "    <tr>\n",
       "      <td>30</td>\n",
       "      <td>0.019042</td>\n",
       "      <td>0.018061</td>\n",
       "      <td>0.933374</td>\n",
       "      <td>0.939805</td>\n",
       "      <td>0.933146</td>\n",
       "      <td>0.939482</td>\n",
       "      <td>0.933289</td>\n",
       "      <td>0.939671</td>\n",
       "      <td>00:35</td>\n",
       "    </tr>\n",
       "    <tr>\n",
       "      <td>31</td>\n",
       "      <td>0.019689</td>\n",
       "      <td>0.033650</td>\n",
       "      <td>0.945445</td>\n",
       "      <td>0.945817</td>\n",
       "      <td>0.944686</td>\n",
       "      <td>0.945024</td>\n",
       "      <td>0.944992</td>\n",
       "      <td>0.945500</td>\n",
       "      <td>00:36</td>\n",
       "    </tr>\n",
       "    <tr>\n",
       "      <td>32</td>\n",
       "      <td>0.019030</td>\n",
       "      <td>0.022446</td>\n",
       "      <td>0.946155</td>\n",
       "      <td>0.946316</td>\n",
       "      <td>0.945837</td>\n",
       "      <td>0.945456</td>\n",
       "      <td>0.945837</td>\n",
       "      <td>0.945944</td>\n",
       "      <td>00:36</td>\n",
       "    </tr>\n",
       "    <tr>\n",
       "      <td>33</td>\n",
       "      <td>0.022824</td>\n",
       "      <td>0.025623</td>\n",
       "      <td>0.938802</td>\n",
       "      <td>0.944406</td>\n",
       "      <td>0.937870</td>\n",
       "      <td>0.945185</td>\n",
       "      <td>0.938464</td>\n",
       "      <td>0.944791</td>\n",
       "      <td>00:36</td>\n",
       "    </tr>\n",
       "    <tr>\n",
       "      <td>34</td>\n",
       "      <td>0.020086</td>\n",
       "      <td>0.017444</td>\n",
       "      <td>0.933204</td>\n",
       "      <td>0.942440</td>\n",
       "      <td>0.933172</td>\n",
       "      <td>0.942408</td>\n",
       "      <td>0.932940</td>\n",
       "      <td>0.942437</td>\n",
       "      <td>00:36</td>\n",
       "    </tr>\n",
       "    <tr>\n",
       "      <td>35</td>\n",
       "      <td>0.018375</td>\n",
       "      <td>0.017065</td>\n",
       "      <td>0.934991</td>\n",
       "      <td>0.943310</td>\n",
       "      <td>0.934656</td>\n",
       "      <td>0.943776</td>\n",
       "      <td>0.934910</td>\n",
       "      <td>0.943547</td>\n",
       "      <td>00:37</td>\n",
       "    </tr>\n",
       "    <tr>\n",
       "      <td>36</td>\n",
       "      <td>0.018592</td>\n",
       "      <td>0.016741</td>\n",
       "      <td>0.945543</td>\n",
       "      <td>0.949473</td>\n",
       "      <td>0.945308</td>\n",
       "      <td>0.949501</td>\n",
       "      <td>0.945303</td>\n",
       "      <td>0.949499</td>\n",
       "      <td>00:36</td>\n",
       "    </tr>\n",
       "    <tr>\n",
       "      <td>37</td>\n",
       "      <td>0.018714</td>\n",
       "      <td>0.020347</td>\n",
       "      <td>0.948358</td>\n",
       "      <td>0.949556</td>\n",
       "      <td>0.948110</td>\n",
       "      <td>0.949222</td>\n",
       "      <td>0.948390</td>\n",
       "      <td>0.949414</td>\n",
       "      <td>00:36</td>\n",
       "    </tr>\n",
       "    <tr>\n",
       "      <td>38</td>\n",
       "      <td>0.018767</td>\n",
       "      <td>0.015778</td>\n",
       "      <td>0.949973</td>\n",
       "      <td>0.952316</td>\n",
       "      <td>0.949943</td>\n",
       "      <td>0.952573</td>\n",
       "      <td>0.949995</td>\n",
       "      <td>0.952456</td>\n",
       "      <td>00:36</td>\n",
       "    </tr>\n",
       "    <tr>\n",
       "      <td>39</td>\n",
       "      <td>0.018984</td>\n",
       "      <td>0.016368</td>\n",
       "      <td>0.943092</td>\n",
       "      <td>0.949959</td>\n",
       "      <td>0.943160</td>\n",
       "      <td>0.950314</td>\n",
       "      <td>0.943143</td>\n",
       "      <td>0.950142</td>\n",
       "      <td>00:37</td>\n",
       "    </tr>\n",
       "    <tr>\n",
       "      <td>40</td>\n",
       "      <td>0.019225</td>\n",
       "      <td>0.015625</td>\n",
       "      <td>0.947272</td>\n",
       "      <td>0.951642</td>\n",
       "      <td>0.947319</td>\n",
       "      <td>0.951355</td>\n",
       "      <td>0.947326</td>\n",
       "      <td>0.951531</td>\n",
       "      <td>00:36</td>\n",
       "    </tr>\n",
       "    <tr>\n",
       "      <td>41</td>\n",
       "      <td>0.018911</td>\n",
       "      <td>0.016070</td>\n",
       "      <td>0.945727</td>\n",
       "      <td>0.952105</td>\n",
       "      <td>0.945734</td>\n",
       "      <td>0.952300</td>\n",
       "      <td>0.945736</td>\n",
       "      <td>0.952223</td>\n",
       "      <td>00:36</td>\n",
       "    </tr>\n",
       "    <tr>\n",
       "      <td>42</td>\n",
       "      <td>0.019004</td>\n",
       "      <td>0.017807</td>\n",
       "      <td>0.942405</td>\n",
       "      <td>0.949727</td>\n",
       "      <td>0.942383</td>\n",
       "      <td>0.950353</td>\n",
       "      <td>0.942400</td>\n",
       "      <td>0.950046</td>\n",
       "      <td>00:37</td>\n",
       "    </tr>\n",
       "    <tr>\n",
       "      <td>43</td>\n",
       "      <td>0.017580</td>\n",
       "      <td>0.016897</td>\n",
       "      <td>0.941955</td>\n",
       "      <td>0.946757</td>\n",
       "      <td>0.942046</td>\n",
       "      <td>0.947570</td>\n",
       "      <td>0.942052</td>\n",
       "      <td>0.947159</td>\n",
       "      <td>00:36</td>\n",
       "    </tr>\n",
       "    <tr>\n",
       "      <td>44</td>\n",
       "      <td>0.017854</td>\n",
       "      <td>0.018023</td>\n",
       "      <td>0.946866</td>\n",
       "      <td>0.951436</td>\n",
       "      <td>0.946843</td>\n",
       "      <td>0.951063</td>\n",
       "      <td>0.946903</td>\n",
       "      <td>0.951296</td>\n",
       "      <td>00:36</td>\n",
       "    </tr>\n",
       "    <tr>\n",
       "      <td>45</td>\n",
       "      <td>0.019011</td>\n",
       "      <td>0.017357</td>\n",
       "      <td>0.932234</td>\n",
       "      <td>0.946057</td>\n",
       "      <td>0.932574</td>\n",
       "      <td>0.946100</td>\n",
       "      <td>0.932323</td>\n",
       "      <td>0.946111</td>\n",
       "      <td>00:36</td>\n",
       "    </tr>\n",
       "    <tr>\n",
       "      <td>46</td>\n",
       "      <td>0.017738</td>\n",
       "      <td>0.015722</td>\n",
       "      <td>0.951123</td>\n",
       "      <td>0.954659</td>\n",
       "      <td>0.951319</td>\n",
       "      <td>0.955352</td>\n",
       "      <td>0.951286</td>\n",
       "      <td>0.955015</td>\n",
       "      <td>00:37</td>\n",
       "    </tr>\n",
       "    <tr>\n",
       "      <td>47</td>\n",
       "      <td>0.018576</td>\n",
       "      <td>0.016619</td>\n",
       "      <td>0.949581</td>\n",
       "      <td>0.954044</td>\n",
       "      <td>0.949809</td>\n",
       "      <td>0.954099</td>\n",
       "      <td>0.949782</td>\n",
       "      <td>0.954119</td>\n",
       "      <td>00:36</td>\n",
       "    </tr>\n",
       "    <tr>\n",
       "      <td>48</td>\n",
       "      <td>0.017911</td>\n",
       "      <td>0.015820</td>\n",
       "      <td>0.939360</td>\n",
       "      <td>0.949115</td>\n",
       "      <td>0.939417</td>\n",
       "      <td>0.949758</td>\n",
       "      <td>0.939324</td>\n",
       "      <td>0.949443</td>\n",
       "      <td>00:37</td>\n",
       "    </tr>\n",
       "    <tr>\n",
       "      <td>49</td>\n",
       "      <td>0.016347</td>\n",
       "      <td>0.015548</td>\n",
       "      <td>0.948594</td>\n",
       "      <td>0.952554</td>\n",
       "      <td>0.948748</td>\n",
       "      <td>0.953358</td>\n",
       "      <td>0.948470</td>\n",
       "      <td>0.952973</td>\n",
       "      <td>00:37</td>\n",
       "    </tr>\n",
       "  </tbody>\n",
       "</table>"
      ],
      "text/plain": [
       "<IPython.core.display.HTML object>"
      ]
     },
     "metadata": {},
     "output_type": "display_data"
    },
    {
     "name": "stdout",
     "output_type": "stream",
     "text": [
      "Better model found at epoch 0 with valid_loss value: 0.04729917645454407.\n",
      "Better model found at epoch 1 with valid_loss value: 0.03385826200246811.\n",
      "Better model found at epoch 2 with valid_loss value: 0.030889205634593964.\n",
      "Better model found at epoch 4 with valid_loss value: 0.03069380857050419.\n",
      "Better model found at epoch 5 with valid_loss value: 0.0305627528578043.\n",
      "Better model found at epoch 8 with valid_loss value: 0.025676999241113663.\n",
      "Better model found at epoch 12 with valid_loss value: 0.023463604971766472.\n",
      "Better model found at epoch 13 with valid_loss value: 0.022951742634177208.\n",
      "Better model found at epoch 18 with valid_loss value: 0.020380709320306778.\n",
      "Better model found at epoch 25 with valid_loss value: 0.01891929842531681.\n",
      "Better model found at epoch 28 with valid_loss value: 0.01884782500565052.\n",
      "Better model found at epoch 29 with valid_loss value: 0.018580682575702667.\n",
      "Better model found at epoch 30 with valid_loss value: 0.018060622736811638.\n",
      "Better model found at epoch 34 with valid_loss value: 0.017443686723709106.\n",
      "Better model found at epoch 35 with valid_loss value: 0.01706450805068016.\n",
      "Better model found at epoch 36 with valid_loss value: 0.016741236671805382.\n",
      "Better model found at epoch 38 with valid_loss value: 0.01577773317694664.\n",
      "Better model found at epoch 40 with valid_loss value: 0.015625033527612686.\n",
      "Better model found at epoch 49 with valid_loss value: 0.015548333525657654.\n"
     ]
    }
   ],
   "source": [
    "# lr = lr/10\n",
    "print(lr)\n",
    "learn.fit(50, lr=lr)"
   ]
  },
  {
   "cell_type": "code",
   "execution_count": 29,
   "metadata": {
    "ExecuteTime": {
     "end_time": "2021-04-19T19:00:38.537776Z",
     "start_time": "2021-04-19T19:00:38.267658Z"
    },
    "scrolled": true
   },
   "outputs": [
    {
     "data": {
      "image/png": "[encoded data removed]",
      "text/plain": [
       "<Figure size 432x288 with 1 Axes>"
      ]
     },
     "metadata": {
      "needs_background": "light"
     },
     "output_type": "display_data"
    }
   ],
   "source": [
    "learn.recorder.plot_loss()"
   ]
  },
  {
   "cell_type": "code",
   "execution_count": 30,
   "metadata": {
    "ExecuteTime": {
     "end_time": "2021-04-19T19:01:20.853745Z",
     "start_time": "2021-04-19T19:00:38.540063Z"
    },
    "scrolled": true
   },
   "outputs": [
    {
     "data": {
      "text/html": [],
      "text/plain": [
       "<IPython.core.display.HTML object>"
      ]
     },
     "metadata": {},
     "output_type": "display_data"
    },
    {
     "name": "stdout",
     "output_type": "stream",
     "text": [
      "Better model found at epoch 0 with valid_loss value: 0.2862595183139887.\n"
     ]
    },
    {
     "data": {
      "text/plain": [
       "(#7) [0.08182340860366821,0.2862595183139887,0.36111315166515,0.2889033072704211,0.36074410238155175,0.2875216699222512,0.36095528377441066]"
      ]
     },
     "execution_count": 30,
     "metadata": {},
     "output_type": "execute_result"
    }
   ],
   "source": [
    "learn.validate(dl=test_loader[0])"
   ]
  },
  {
   "cell_type": "code",
   "execution_count": 31,
   "metadata": {
    "ExecuteTime": {
     "end_time": "2021-04-19T19:01:35.692107Z",
     "start_time": "2021-04-19T19:01:20.856030Z"
    },
    "scrolled": true
   },
   "outputs": [
    {
     "data": {
      "text/html": [],
      "text/plain": [
       "<IPython.core.display.HTML object>"
      ]
     },
     "metadata": {},
     "output_type": "display_data"
    },
    {
     "name": "stdout",
     "output_type": "stream",
     "text": [
      "Better model found at epoch 0 with valid_loss value: 0.6217210132859565.\n"
     ]
    },
    {
     "data": {
      "text/plain": [
       "(#7) [0.04802543669939041,0.6217210132859565,0.6725093182240465,0.6208702244951172,0.6673829444112791,0.6213920315194427,0.6701529589285959]"
      ]
     },
     "execution_count": 31,
     "metadata": {},
     "output_type": "execute_result"
    }
   ],
   "source": [
    "learn.validate(dl=test_loader[1])"
   ]
  },
  {
   "cell_type": "code",
   "execution_count": null,
   "metadata": {},
   "outputs": [],
   "source": []
  },
  {
   "cell_type": "code",
   "execution_count": 36,
   "metadata": {
    "ExecuteTime": {
     "end_time": "2021-04-19T18:27:45.898943Z",
     "start_time": "2021-04-19T18:27:45.895759Z"
    }
   },
   "outputs": [
    {
     "data": {
      "text/plain": [
       "('0_1',\n",
       " AdamW (\n",
       " Parameter Group 0\n",
       "     amsgrad: False\n",
       "     betas: (0.9, 0.999)\n",
       "     eps: 1e-08\n",
       "     lr: 0.0003\n",
       "     weight_decay: 0.01\n",
       " ))"
      ]
     },
     "execution_count": 36,
     "metadata": {},
     "output_type": "execute_result"
    }
   ],
   "source": [
    "model_param, learn.opt.opt"
   ]
  },
  {
   "cell_type": "code",
   "execution_count": 28,
   "metadata": {
    "ExecuteTime": {
     "end_time": "2021-04-19T17:39:54.546551Z",
     "start_time": "2021-04-19T17:39:54.541637Z"
    }
   },
   "outputs": [],
   "source": [
    "lr = 3e-4"
   ]
  },
  {
   "cell_type": "code",
   "execution_count": 29,
   "metadata": {
    "ExecuteTime": {
     "end_time": "2021-04-19T17:40:47.824475Z",
     "start_time": "2021-04-19T17:39:54.547536Z"
    },
    "scrolled": true
   },
   "outputs": [
    {
     "name": "stdout",
     "output_type": "stream",
     "text": [
      "0.0003\n"
     ]
    },
    {
     "data": {
      "text/html": [
       "<table border=\"1\" class=\"dataframe\">\n",
       "  <thead>\n",
       "    <tr style=\"text-align: left;\">\n",
       "      <th>epoch</th>\n",
       "      <th>train_loss</th>\n",
       "      <th>valid_loss</th>\n",
       "      <th>spr_glo</th>\n",
       "      <th>plcc_glo</th>\n",
       "      <th>spr_loc</th>\n",
       "      <th>plcc_loc</th>\n",
       "      <th>spr_Mean</th>\n",
       "      <th>plcc_Mean</th>\n",
       "      <th>time</th>\n",
       "    </tr>\n",
       "  </thead>\n",
       "  <tbody>\n",
       "    <tr>\n",
       "      <td>0</td>\n",
       "      <td>0.130605</td>\n",
       "      <td>0.075594</td>\n",
       "      <td>0.497225</td>\n",
       "      <td>0.455950</td>\n",
       "      <td>0.503684</td>\n",
       "      <td>0.449000</td>\n",
       "      <td>0.501246</td>\n",
       "      <td>0.452669</td>\n",
       "      <td>00:51</td>\n",
       "    </tr>\n",
       "  </tbody>\n",
       "</table>"
      ],
      "text/plain": [
       "<IPython.core.display.HTML object>"
      ]
     },
     "metadata": {},
     "output_type": "display_data"
    },
    {
     "name": "stdout",
     "output_type": "stream",
     "text": [
      "Better model found at epoch 0 with valid_loss value: 0.07559409737586975.\n"
     ]
    }
   ],
   "source": [
    "# %%debug\n",
    "# lr = lr/10\n",
    "print(lr)\n",
    "learn.fit(1, lr=lr/10)"
   ]
  },
  {
   "cell_type": "code",
   "execution_count": 30,
   "metadata": {
    "ExecuteTime": {
     "end_time": "2021-04-19T17:40:48.041795Z",
     "start_time": "2021-04-19T17:40:47.826052Z"
    }
   },
   "outputs": [
    {
     "data": {
      "image/png": "[encoded data removed]",
      "text/plain": [
       "<Figure size 432x288 with 1 Axes>"
      ]
     },
     "metadata": {
      "needs_background": "light"
     },
     "output_type": "display_data"
    }
   ],
   "source": [
    "learn.recorder.plot_loss()"
   ]
  },
  {
   "cell_type": "code",
   "execution_count": 31,
   "metadata": {
    "ExecuteTime": {
     "end_time": "2021-04-19T18:20:53.138643Z",
     "start_time": "2021-04-19T17:40:48.042817Z"
    },
    "scrolled": true
   },
   "outputs": [
    {
     "name": "stdout",
     "output_type": "stream",
     "text": [
      "0.0003\n"
     ]
    },
    {
     "data": {
      "text/html": [
       "<table border=\"1\" class=\"dataframe\">\n",
       "  <thead>\n",
       "    <tr style=\"text-align: left;\">\n",
       "      <th>epoch</th>\n",
       "      <th>train_loss</th>\n",
       "      <th>valid_loss</th>\n",
       "      <th>spr_glo</th>\n",
       "      <th>plcc_glo</th>\n",
       "      <th>spr_loc</th>\n",
       "      <th>plcc_loc</th>\n",
       "      <th>spr_Mean</th>\n",
       "      <th>plcc_Mean</th>\n",
       "      <th>time</th>\n",
       "    </tr>\n",
       "  </thead>\n",
       "  <tbody>\n",
       "    <tr>\n",
       "      <td>0</td>\n",
       "      <td>0.064952</td>\n",
       "      <td>0.063262</td>\n",
       "      <td>0.679052</td>\n",
       "      <td>0.669438</td>\n",
       "      <td>0.646528</td>\n",
       "      <td>0.665742</td>\n",
       "      <td>0.659705</td>\n",
       "      <td>0.668213</td>\n",
       "      <td>00:45</td>\n",
       "    </tr>\n",
       "    <tr>\n",
       "      <td>1</td>\n",
       "      <td>0.049802</td>\n",
       "      <td>0.042541</td>\n",
       "      <td>0.848328</td>\n",
       "      <td>0.831132</td>\n",
       "      <td>0.850396</td>\n",
       "      <td>0.831850</td>\n",
       "      <td>0.847836</td>\n",
       "      <td>0.831511</td>\n",
       "      <td>00:46</td>\n",
       "    </tr>\n",
       "    <tr>\n",
       "      <td>2</td>\n",
       "      <td>0.034660</td>\n",
       "      <td>0.036278</td>\n",
       "      <td>0.874021</td>\n",
       "      <td>0.870218</td>\n",
       "      <td>0.874917</td>\n",
       "      <td>0.870471</td>\n",
       "      <td>0.874199</td>\n",
       "      <td>0.870337</td>\n",
       "      <td>00:46</td>\n",
       "    </tr>\n",
       "    <tr>\n",
       "      <td>3</td>\n",
       "      <td>0.031197</td>\n",
       "      <td>0.037652</td>\n",
       "      <td>0.883020</td>\n",
       "      <td>0.881242</td>\n",
       "      <td>0.884363</td>\n",
       "      <td>0.882132</td>\n",
       "      <td>0.883277</td>\n",
       "      <td>0.881634</td>\n",
       "      <td>00:46</td>\n",
       "    </tr>\n",
       "    <tr>\n",
       "      <td>4</td>\n",
       "      <td>0.029784</td>\n",
       "      <td>0.032778</td>\n",
       "      <td>0.890015</td>\n",
       "      <td>0.890132</td>\n",
       "      <td>0.889885</td>\n",
       "      <td>0.890899</td>\n",
       "      <td>0.890200</td>\n",
       "      <td>0.890481</td>\n",
       "      <td>00:46</td>\n",
       "    </tr>\n",
       "    <tr>\n",
       "      <td>5</td>\n",
       "      <td>0.028745</td>\n",
       "      <td>0.036353</td>\n",
       "      <td>0.896340</td>\n",
       "      <td>0.891741</td>\n",
       "      <td>0.896171</td>\n",
       "      <td>0.892730</td>\n",
       "      <td>0.896571</td>\n",
       "      <td>0.892142</td>\n",
       "      <td>00:47</td>\n",
       "    </tr>\n",
       "    <tr>\n",
       "      <td>6</td>\n",
       "      <td>0.030386</td>\n",
       "      <td>0.041359</td>\n",
       "      <td>0.890886</td>\n",
       "      <td>0.896581</td>\n",
       "      <td>0.890157</td>\n",
       "      <td>0.898105</td>\n",
       "      <td>0.890401</td>\n",
       "      <td>0.897241</td>\n",
       "      <td>00:46</td>\n",
       "    </tr>\n",
       "    <tr>\n",
       "      <td>7</td>\n",
       "      <td>0.029059</td>\n",
       "      <td>0.030654</td>\n",
       "      <td>0.901025</td>\n",
       "      <td>0.898114</td>\n",
       "      <td>0.901228</td>\n",
       "      <td>0.899860</td>\n",
       "      <td>0.901109</td>\n",
       "      <td>0.898899</td>\n",
       "      <td>00:47</td>\n",
       "    </tr>\n",
       "    <tr>\n",
       "      <td>8</td>\n",
       "      <td>0.026663</td>\n",
       "      <td>0.034131</td>\n",
       "      <td>0.908666</td>\n",
       "      <td>0.903234</td>\n",
       "      <td>0.908759</td>\n",
       "      <td>0.905441</td>\n",
       "      <td>0.908992</td>\n",
       "      <td>0.904225</td>\n",
       "      <td>00:48</td>\n",
       "    </tr>\n",
       "    <tr>\n",
       "      <td>9</td>\n",
       "      <td>0.026840</td>\n",
       "      <td>0.031447</td>\n",
       "      <td>0.898381</td>\n",
       "      <td>0.898730</td>\n",
       "      <td>0.899328</td>\n",
       "      <td>0.900884</td>\n",
       "      <td>0.898248</td>\n",
       "      <td>0.899719</td>\n",
       "      <td>00:48</td>\n",
       "    </tr>\n",
       "    <tr>\n",
       "      <td>10</td>\n",
       "      <td>0.029990</td>\n",
       "      <td>0.028165</td>\n",
       "      <td>0.900363</td>\n",
       "      <td>0.905747</td>\n",
       "      <td>0.900664</td>\n",
       "      <td>0.906855</td>\n",
       "      <td>0.900598</td>\n",
       "      <td>0.906288</td>\n",
       "      <td>00:47</td>\n",
       "    </tr>\n",
       "    <tr>\n",
       "      <td>11</td>\n",
       "      <td>0.027716</td>\n",
       "      <td>0.030436</td>\n",
       "      <td>0.910394</td>\n",
       "      <td>0.906963</td>\n",
       "      <td>0.913513</td>\n",
       "      <td>0.910610</td>\n",
       "      <td>0.911759</td>\n",
       "      <td>0.908631</td>\n",
       "      <td>00:48</td>\n",
       "    </tr>\n",
       "    <tr>\n",
       "      <td>12</td>\n",
       "      <td>0.026853</td>\n",
       "      <td>0.040443</td>\n",
       "      <td>0.909591</td>\n",
       "      <td>0.906358</td>\n",
       "      <td>0.912098</td>\n",
       "      <td>0.909245</td>\n",
       "      <td>0.910728</td>\n",
       "      <td>0.907665</td>\n",
       "      <td>00:47</td>\n",
       "    </tr>\n",
       "    <tr>\n",
       "      <td>13</td>\n",
       "      <td>0.023983</td>\n",
       "      <td>0.027121</td>\n",
       "      <td>0.910397</td>\n",
       "      <td>0.912691</td>\n",
       "      <td>0.908689</td>\n",
       "      <td>0.913880</td>\n",
       "      <td>0.909463</td>\n",
       "      <td>0.913255</td>\n",
       "      <td>00:47</td>\n",
       "    </tr>\n",
       "    <tr>\n",
       "      <td>14</td>\n",
       "      <td>0.025912</td>\n",
       "      <td>0.029257</td>\n",
       "      <td>0.912812</td>\n",
       "      <td>0.912781</td>\n",
       "      <td>0.909905</td>\n",
       "      <td>0.914421</td>\n",
       "      <td>0.911487</td>\n",
       "      <td>0.913613</td>\n",
       "      <td>00:47</td>\n",
       "    </tr>\n",
       "    <tr>\n",
       "      <td>15</td>\n",
       "      <td>0.023710</td>\n",
       "      <td>0.026990</td>\n",
       "      <td>0.924540</td>\n",
       "      <td>0.918805</td>\n",
       "      <td>0.922842</td>\n",
       "      <td>0.921583</td>\n",
       "      <td>0.923757</td>\n",
       "      <td>0.920195</td>\n",
       "      <td>00:47</td>\n",
       "    </tr>\n",
       "    <tr>\n",
       "      <td>16</td>\n",
       "      <td>0.024128</td>\n",
       "      <td>0.026026</td>\n",
       "      <td>0.917125</td>\n",
       "      <td>0.917731</td>\n",
       "      <td>0.919727</td>\n",
       "      <td>0.922332</td>\n",
       "      <td>0.918290</td>\n",
       "      <td>0.920002</td>\n",
       "      <td>00:47</td>\n",
       "    </tr>\n",
       "    <tr>\n",
       "      <td>17</td>\n",
       "      <td>0.023280</td>\n",
       "      <td>0.025697</td>\n",
       "      <td>0.920720</td>\n",
       "      <td>0.920966</td>\n",
       "      <td>0.925573</td>\n",
       "      <td>0.925103</td>\n",
       "      <td>0.924053</td>\n",
       "      <td>0.922952</td>\n",
       "      <td>00:48</td>\n",
       "    </tr>\n",
       "    <tr>\n",
       "      <td>18</td>\n",
       "      <td>0.022839</td>\n",
       "      <td>0.026885</td>\n",
       "      <td>0.928568</td>\n",
       "      <td>0.923806</td>\n",
       "      <td>0.935367</td>\n",
       "      <td>0.929584</td>\n",
       "      <td>0.932770</td>\n",
       "      <td>0.926880</td>\n",
       "      <td>00:48</td>\n",
       "    </tr>\n",
       "    <tr>\n",
       "      <td>19</td>\n",
       "      <td>0.022566</td>\n",
       "      <td>0.023088</td>\n",
       "      <td>0.938174</td>\n",
       "      <td>0.931137</td>\n",
       "      <td>0.939690</td>\n",
       "      <td>0.933563</td>\n",
       "      <td>0.939004</td>\n",
       "      <td>0.932361</td>\n",
       "      <td>00:48</td>\n",
       "    </tr>\n",
       "    <tr>\n",
       "      <td>20</td>\n",
       "      <td>0.021853</td>\n",
       "      <td>0.023415</td>\n",
       "      <td>0.927251</td>\n",
       "      <td>0.932556</td>\n",
       "      <td>0.931922</td>\n",
       "      <td>0.935712</td>\n",
       "      <td>0.929652</td>\n",
       "      <td>0.934257</td>\n",
       "      <td>00:48</td>\n",
       "    </tr>\n",
       "    <tr>\n",
       "      <td>21</td>\n",
       "      <td>0.021753</td>\n",
       "      <td>0.042687</td>\n",
       "      <td>0.936352</td>\n",
       "      <td>0.930981</td>\n",
       "      <td>0.937091</td>\n",
       "      <td>0.935100</td>\n",
       "      <td>0.936966</td>\n",
       "      <td>0.933131</td>\n",
       "      <td>00:47</td>\n",
       "    </tr>\n",
       "    <tr>\n",
       "      <td>22</td>\n",
       "      <td>0.018034</td>\n",
       "      <td>0.020720</td>\n",
       "      <td>0.946807</td>\n",
       "      <td>0.943554</td>\n",
       "      <td>0.947499</td>\n",
       "      <td>0.946517</td>\n",
       "      <td>0.947951</td>\n",
       "      <td>0.945443</td>\n",
       "      <td>00:49</td>\n",
       "    </tr>\n",
       "    <tr>\n",
       "      <td>23</td>\n",
       "      <td>0.018377</td>\n",
       "      <td>0.021114</td>\n",
       "      <td>0.940888</td>\n",
       "      <td>0.940125</td>\n",
       "      <td>0.942457</td>\n",
       "      <td>0.944119</td>\n",
       "      <td>0.941936</td>\n",
       "      <td>0.942409</td>\n",
       "      <td>00:49</td>\n",
       "    </tr>\n",
       "    <tr>\n",
       "      <td>24</td>\n",
       "      <td>0.017933</td>\n",
       "      <td>0.018290</td>\n",
       "      <td>0.953101</td>\n",
       "      <td>0.951417</td>\n",
       "      <td>0.954362</td>\n",
       "      <td>0.952689</td>\n",
       "      <td>0.954235</td>\n",
       "      <td>0.952364</td>\n",
       "      <td>00:49</td>\n",
       "    </tr>\n",
       "    <tr>\n",
       "      <td>25</td>\n",
       "      <td>0.018409</td>\n",
       "      <td>0.023248</td>\n",
       "      <td>0.946931</td>\n",
       "      <td>0.944449</td>\n",
       "      <td>0.947881</td>\n",
       "      <td>0.948381</td>\n",
       "      <td>0.947020</td>\n",
       "      <td>0.946836</td>\n",
       "      <td>00:48</td>\n",
       "    </tr>\n",
       "    <tr>\n",
       "      <td>26</td>\n",
       "      <td>0.017099</td>\n",
       "      <td>0.019575</td>\n",
       "      <td>0.951570</td>\n",
       "      <td>0.947035</td>\n",
       "      <td>0.950420</td>\n",
       "      <td>0.943467</td>\n",
       "      <td>0.951657</td>\n",
       "      <td>0.945895</td>\n",
       "      <td>00:49</td>\n",
       "    </tr>\n",
       "    <tr>\n",
       "      <td>27</td>\n",
       "      <td>0.016816</td>\n",
       "      <td>0.018979</td>\n",
       "      <td>0.948348</td>\n",
       "      <td>0.949602</td>\n",
       "      <td>0.948098</td>\n",
       "      <td>0.949961</td>\n",
       "      <td>0.949020</td>\n",
       "      <td>0.950238</td>\n",
       "      <td>00:49</td>\n",
       "    </tr>\n",
       "    <tr>\n",
       "      <td>28</td>\n",
       "      <td>0.019907</td>\n",
       "      <td>0.018052</td>\n",
       "      <td>0.953962</td>\n",
       "      <td>0.950686</td>\n",
       "      <td>0.953877</td>\n",
       "      <td>0.950508</td>\n",
       "      <td>0.955491</td>\n",
       "      <td>0.951277</td>\n",
       "      <td>00:48</td>\n",
       "    </tr>\n",
       "    <tr>\n",
       "      <td>29</td>\n",
       "      <td>0.016106</td>\n",
       "      <td>0.017238</td>\n",
       "      <td>0.956677</td>\n",
       "      <td>0.955329</td>\n",
       "      <td>0.957313</td>\n",
       "      <td>0.953104</td>\n",
       "      <td>0.957445</td>\n",
       "      <td>0.954625</td>\n",
       "      <td>00:49</td>\n",
       "    </tr>\n",
       "    <tr>\n",
       "      <td>30</td>\n",
       "      <td>0.016894</td>\n",
       "      <td>0.024182</td>\n",
       "      <td>0.946637</td>\n",
       "      <td>0.945214</td>\n",
       "      <td>0.947210</td>\n",
       "      <td>0.949088</td>\n",
       "      <td>0.947572</td>\n",
       "      <td>0.947788</td>\n",
       "      <td>00:49</td>\n",
       "    </tr>\n",
       "    <tr>\n",
       "      <td>31</td>\n",
       "      <td>0.017340</td>\n",
       "      <td>0.017040</td>\n",
       "      <td>0.952845</td>\n",
       "      <td>0.952031</td>\n",
       "      <td>0.952783</td>\n",
       "      <td>0.949429</td>\n",
       "      <td>0.954218</td>\n",
       "      <td>0.951242</td>\n",
       "      <td>00:47</td>\n",
       "    </tr>\n",
       "    <tr>\n",
       "      <td>32</td>\n",
       "      <td>0.015869</td>\n",
       "      <td>0.017504</td>\n",
       "      <td>0.952183</td>\n",
       "      <td>0.951840</td>\n",
       "      <td>0.953456</td>\n",
       "      <td>0.951537</td>\n",
       "      <td>0.952727</td>\n",
       "      <td>0.952033</td>\n",
       "      <td>00:49</td>\n",
       "    </tr>\n",
       "    <tr>\n",
       "      <td>33</td>\n",
       "      <td>0.017193</td>\n",
       "      <td>0.016863</td>\n",
       "      <td>0.950374</td>\n",
       "      <td>0.954611</td>\n",
       "      <td>0.944813</td>\n",
       "      <td>0.951096</td>\n",
       "      <td>0.947508</td>\n",
       "      <td>0.953428</td>\n",
       "      <td>00:48</td>\n",
       "    </tr>\n",
       "    <tr>\n",
       "      <td>34</td>\n",
       "      <td>0.015788</td>\n",
       "      <td>0.016496</td>\n",
       "      <td>0.956184</td>\n",
       "      <td>0.957660</td>\n",
       "      <td>0.954138</td>\n",
       "      <td>0.956708</td>\n",
       "      <td>0.955728</td>\n",
       "      <td>0.957503</td>\n",
       "      <td>00:48</td>\n",
       "    </tr>\n",
       "    <tr>\n",
       "      <td>35</td>\n",
       "      <td>0.016220</td>\n",
       "      <td>0.023437</td>\n",
       "      <td>0.938529</td>\n",
       "      <td>0.935301</td>\n",
       "      <td>0.938024</td>\n",
       "      <td>0.936164</td>\n",
       "      <td>0.937881</td>\n",
       "      <td>0.936389</td>\n",
       "      <td>00:49</td>\n",
       "    </tr>\n",
       "    <tr>\n",
       "      <td>36</td>\n",
       "      <td>0.016486</td>\n",
       "      <td>0.016585</td>\n",
       "      <td>0.953515</td>\n",
       "      <td>0.955658</td>\n",
       "      <td>0.950121</td>\n",
       "      <td>0.953671</td>\n",
       "      <td>0.952737</td>\n",
       "      <td>0.955031</td>\n",
       "      <td>00:49</td>\n",
       "    </tr>\n",
       "    <tr>\n",
       "      <td>37</td>\n",
       "      <td>0.014646</td>\n",
       "      <td>0.017626</td>\n",
       "      <td>0.949762</td>\n",
       "      <td>0.954617</td>\n",
       "      <td>0.947708</td>\n",
       "      <td>0.953529</td>\n",
       "      <td>0.949835</td>\n",
       "      <td>0.954420</td>\n",
       "      <td>00:49</td>\n",
       "    </tr>\n",
       "    <tr>\n",
       "      <td>38</td>\n",
       "      <td>0.014996</td>\n",
       "      <td>0.015804</td>\n",
       "      <td>0.960721</td>\n",
       "      <td>0.956607</td>\n",
       "      <td>0.958127</td>\n",
       "      <td>0.955322</td>\n",
       "      <td>0.959757</td>\n",
       "      <td>0.956171</td>\n",
       "      <td>00:49</td>\n",
       "    </tr>\n",
       "    <tr>\n",
       "      <td>39</td>\n",
       "      <td>0.015414</td>\n",
       "      <td>0.016372</td>\n",
       "      <td>0.958111</td>\n",
       "      <td>0.959949</td>\n",
       "      <td>0.956326</td>\n",
       "      <td>0.958115</td>\n",
       "      <td>0.957470</td>\n",
       "      <td>0.959411</td>\n",
       "      <td>00:49</td>\n",
       "    </tr>\n",
       "    <tr>\n",
       "      <td>40</td>\n",
       "      <td>0.014680</td>\n",
       "      <td>0.016848</td>\n",
       "      <td>0.958831</td>\n",
       "      <td>0.960486</td>\n",
       "      <td>0.958536</td>\n",
       "      <td>0.957975</td>\n",
       "      <td>0.958824</td>\n",
       "      <td>0.959990</td>\n",
       "      <td>00:48</td>\n",
       "    </tr>\n",
       "    <tr>\n",
       "      <td>41</td>\n",
       "      <td>0.014615</td>\n",
       "      <td>0.014855</td>\n",
       "      <td>0.962395</td>\n",
       "      <td>0.960590</td>\n",
       "      <td>0.959683</td>\n",
       "      <td>0.958115</td>\n",
       "      <td>0.960954</td>\n",
       "      <td>0.959739</td>\n",
       "      <td>00:48</td>\n",
       "    </tr>\n",
       "    <tr>\n",
       "      <td>42</td>\n",
       "      <td>0.013746</td>\n",
       "      <td>0.016268</td>\n",
       "      <td>0.960137</td>\n",
       "      <td>0.959987</td>\n",
       "      <td>0.957652</td>\n",
       "      <td>0.956362</td>\n",
       "      <td>0.959242</td>\n",
       "      <td>0.958657</td>\n",
       "      <td>00:47</td>\n",
       "    </tr>\n",
       "    <tr>\n",
       "      <td>43</td>\n",
       "      <td>0.015614</td>\n",
       "      <td>0.017224</td>\n",
       "      <td>0.937753</td>\n",
       "      <td>0.947699</td>\n",
       "      <td>0.937569</td>\n",
       "      <td>0.946349</td>\n",
       "      <td>0.938159</td>\n",
       "      <td>0.947293</td>\n",
       "      <td>00:46</td>\n",
       "    </tr>\n",
       "    <tr>\n",
       "      <td>44</td>\n",
       "      <td>0.013419</td>\n",
       "      <td>0.014722</td>\n",
       "      <td>0.960148</td>\n",
       "      <td>0.959505</td>\n",
       "      <td>0.954478</td>\n",
       "      <td>0.955345</td>\n",
       "      <td>0.957467</td>\n",
       "      <td>0.957925</td>\n",
       "      <td>00:46</td>\n",
       "    </tr>\n",
       "    <tr>\n",
       "      <td>45</td>\n",
       "      <td>0.015162</td>\n",
       "      <td>0.014542</td>\n",
       "      <td>0.962079</td>\n",
       "      <td>0.965125</td>\n",
       "      <td>0.957807</td>\n",
       "      <td>0.958360</td>\n",
       "      <td>0.963171</td>\n",
       "      <td>0.963298</td>\n",
       "      <td>00:46</td>\n",
       "    </tr>\n",
       "    <tr>\n",
       "      <td>46</td>\n",
       "      <td>0.013408</td>\n",
       "      <td>0.014250</td>\n",
       "      <td>0.956937</td>\n",
       "      <td>0.960686</td>\n",
       "      <td>0.955264</td>\n",
       "      <td>0.958221</td>\n",
       "      <td>0.956667</td>\n",
       "      <td>0.959738</td>\n",
       "      <td>00:46</td>\n",
       "    </tr>\n",
       "    <tr>\n",
       "      <td>47</td>\n",
       "      <td>0.014154</td>\n",
       "      <td>0.016178</td>\n",
       "      <td>0.951997</td>\n",
       "      <td>0.958067</td>\n",
       "      <td>0.951280</td>\n",
       "      <td>0.956458</td>\n",
       "      <td>0.951414</td>\n",
       "      <td>0.957799</td>\n",
       "      <td>00:47</td>\n",
       "    </tr>\n",
       "    <tr>\n",
       "      <td>48</td>\n",
       "      <td>0.013147</td>\n",
       "      <td>0.016439</td>\n",
       "      <td>0.938505</td>\n",
       "      <td>0.946487</td>\n",
       "      <td>0.929401</td>\n",
       "      <td>0.938801</td>\n",
       "      <td>0.934078</td>\n",
       "      <td>0.943317</td>\n",
       "      <td>00:46</td>\n",
       "    </tr>\n",
       "    <tr>\n",
       "      <td>49</td>\n",
       "      <td>0.013859</td>\n",
       "      <td>0.017672</td>\n",
       "      <td>0.958158</td>\n",
       "      <td>0.961695</td>\n",
       "      <td>0.956287</td>\n",
       "      <td>0.959913</td>\n",
       "      <td>0.958012</td>\n",
       "      <td>0.961253</td>\n",
       "      <td>00:47</td>\n",
       "    </tr>\n",
       "  </tbody>\n",
       "</table>"
      ],
      "text/plain": [
       "<IPython.core.display.HTML object>"
      ]
     },
     "metadata": {},
     "output_type": "display_data"
    },
    {
     "name": "stdout",
     "output_type": "stream",
     "text": [
      "Better model found at epoch 0 with valid_loss value: 0.06326162070035934.\n",
      "Better model found at epoch 1 with valid_loss value: 0.04254131019115448.\n",
      "Better model found at epoch 2 with valid_loss value: 0.03627800568938255.\n",
      "Better model found at epoch 4 with valid_loss value: 0.032777611166238785.\n",
      "Better model found at epoch 7 with valid_loss value: 0.030654219910502434.\n",
      "Better model found at epoch 10 with valid_loss value: 0.028164802119135857.\n",
      "Better model found at epoch 13 with valid_loss value: 0.027120735496282578.\n",
      "Better model found at epoch 15 with valid_loss value: 0.0269904974848032.\n",
      "Better model found at epoch 16 with valid_loss value: 0.026025906205177307.\n",
      "Better model found at epoch 17 with valid_loss value: 0.02569659985601902.\n",
      "Better model found at epoch 19 with valid_loss value: 0.02308814227581024.\n",
      "Better model found at epoch 22 with valid_loss value: 0.020720433443784714.\n",
      "Better model found at epoch 24 with valid_loss value: 0.018290134146809578.\n",
      "Better model found at epoch 28 with valid_loss value: 0.01805245317518711.\n",
      "Better model found at epoch 29 with valid_loss value: 0.01723821833729744.\n",
      "Better model found at epoch 31 with valid_loss value: 0.017040103673934937.\n",
      "Better model found at epoch 33 with valid_loss value: 0.01686273328959942.\n",
      "Better model found at epoch 34 with valid_loss value: 0.016496233642101288.\n",
      "Better model found at epoch 38 with valid_loss value: 0.015803761780261993.\n",
      "Better model found at epoch 41 with valid_loss value: 0.014854669570922852.\n",
      "Better model found at epoch 44 with valid_loss value: 0.014721715822815895.\n",
      "Better model found at epoch 45 with valid_loss value: 0.01454226765781641.\n",
      "Better model found at epoch 46 with valid_loss value: 0.014249738305807114.\n"
     ]
    }
   ],
   "source": [
    "# lr = lr/10\n",
    "print(lr)\n",
    "learn.fit(50, lr=lr)"
   ]
  },
  {
   "cell_type": "code",
   "execution_count": 32,
   "metadata": {
    "ExecuteTime": {
     "end_time": "2021-04-19T18:20:53.435168Z",
     "start_time": "2021-04-19T18:20:53.140602Z"
    },
    "scrolled": true
   },
   "outputs": [
    {
     "data": {
      "image/png": "[encoded data removed]",
      "text/plain": [
       "<Figure size 432x288 with 1 Axes>"
      ]
     },
     "metadata": {
      "needs_background": "light"
     },
     "output_type": "display_data"
    }
   ],
   "source": [
    "learn.recorder.plot_loss()"
   ]
  },
  {
   "cell_type": "code",
   "execution_count": 33,
   "metadata": {
    "ExecuteTime": {
     "end_time": "2021-04-19T18:21:52.514571Z",
     "start_time": "2021-04-19T18:20:53.437293Z"
    },
    "scrolled": true
   },
   "outputs": [
    {
     "data": {
      "text/html": [],
      "text/plain": [
       "<IPython.core.display.HTML object>"
      ]
     },
     "metadata": {},
     "output_type": "display_data"
    },
    {
     "name": "stdout",
     "output_type": "stream",
     "text": [
      "Better model found at epoch 0 with valid_loss value: 0.2789796361489073.\n"
     ]
    },
    {
     "data": {
      "text/plain": [
       "(#7) [0.0706075057387352,0.2789796361489073,0.3266459192717023,0.2597225385576776,0.3055403450447392,0.27007474102430823,0.3174231892872592]"
      ]
     },
     "execution_count": 33,
     "metadata": {},
     "output_type": "execute_result"
    }
   ],
   "source": [
    "learn.validate(dl=test_loader[0])"
   ]
  },
  {
   "cell_type": "code",
   "execution_count": 34,
   "metadata": {
    "ExecuteTime": {
     "end_time": "2021-04-19T18:22:14.158445Z",
     "start_time": "2021-04-19T18:21:52.516572Z"
    },
    "scrolled": true
   },
   "outputs": [
    {
     "data": {
      "text/html": [],
      "text/plain": [
       "<IPython.core.display.HTML object>"
      ]
     },
     "metadata": {},
     "output_type": "display_data"
    },
    {
     "name": "stdout",
     "output_type": "stream",
     "text": [
      "Better model found at epoch 0 with valid_loss value: 0.6488166573948155.\n"
     ]
    },
    {
     "data": {
      "text/plain": [
       "(#7) [0.04529927298426628,0.6488166573948155,0.6976729933709723,0.6446069934071147,0.6828087918776542,0.6468144047057808,0.6910775410589889]"
      ]
     },
     "execution_count": 34,
     "metadata": {},
     "output_type": "execute_result"
    }
   ],
   "source": [
    "learn.validate(dl=test_loader[1])"
   ]
  },
  {
   "cell_type": "code",
   "execution_count": null,
   "metadata": {},
   "outputs": [],
   "source": []
  },
  {
   "cell_type": "code",
   "execution_count": 27,
   "metadata": {
    "ExecuteTime": {
     "end_time": "2021-04-19T17:24:28.753514Z",
     "start_time": "2021-04-19T17:24:28.748397Z"
    }
   },
   "outputs": [
    {
     "data": {
      "text/plain": [
       "'0_1'"
      ]
     },
     "execution_count": 27,
     "metadata": {},
     "output_type": "execute_result"
    }
   ],
   "source": [
    "model_param"
   ]
  },
  {
   "cell_type": "code",
   "execution_count": 28,
   "metadata": {
    "ExecuteTime": {
     "end_time": "2021-04-19T17:25:01.467428Z",
     "start_time": "2021-04-19T17:25:01.465235Z"
    }
   },
   "outputs": [],
   "source": [
    "lr=1e-5"
   ]
  },
  {
   "cell_type": "code",
   "execution_count": 29,
   "metadata": {
    "ExecuteTime": {
     "end_time": "2021-04-19T17:32:41.718070Z",
     "start_time": "2021-04-19T17:25:02.814748Z"
    }
   },
   "outputs": [
    {
     "data": {
      "text/html": [
       "<table border=\"1\" class=\"dataframe\">\n",
       "  <thead>\n",
       "    <tr style=\"text-align: left;\">\n",
       "      <th>epoch</th>\n",
       "      <th>train_loss</th>\n",
       "      <th>valid_loss</th>\n",
       "      <th>spr_glo</th>\n",
       "      <th>plcc_glo</th>\n",
       "      <th>spr_loc</th>\n",
       "      <th>plcc_loc</th>\n",
       "      <th>spr_Mean</th>\n",
       "      <th>plcc_Mean</th>\n",
       "      <th>time</th>\n",
       "    </tr>\n",
       "  </thead>\n",
       "  <tbody>\n",
       "    <tr>\n",
       "      <td>0</td>\n",
       "      <td>0.415932</td>\n",
       "      <td>0.384678</td>\n",
       "      <td>0.538850</td>\n",
       "      <td>0.462013</td>\n",
       "      <td>-0.539986</td>\n",
       "      <td>-0.413414</td>\n",
       "      <td>-0.539668</td>\n",
       "      <td>-0.372999</td>\n",
       "      <td>00:50</td>\n",
       "    </tr>\n",
       "    <tr>\n",
       "      <td>1</td>\n",
       "      <td>0.321607</td>\n",
       "      <td>0.229359</td>\n",
       "      <td>0.544871</td>\n",
       "      <td>0.426876</td>\n",
       "      <td>-0.487422</td>\n",
       "      <td>-0.311340</td>\n",
       "      <td>0.544325</td>\n",
       "      <td>0.432735</td>\n",
       "      <td>00:43</td>\n",
       "    </tr>\n",
       "    <tr>\n",
       "      <td>2</td>\n",
       "      <td>0.084262</td>\n",
       "      <td>0.072447</td>\n",
       "      <td>0.541843</td>\n",
       "      <td>0.474528</td>\n",
       "      <td>0.545456</td>\n",
       "      <td>0.461818</td>\n",
       "      <td>0.543489</td>\n",
       "      <td>0.468709</td>\n",
       "      <td>00:44</td>\n",
       "    </tr>\n",
       "    <tr>\n",
       "      <td>3</td>\n",
       "      <td>0.065771</td>\n",
       "      <td>0.069810</td>\n",
       "      <td>0.532341</td>\n",
       "      <td>0.529609</td>\n",
       "      <td>0.546843</td>\n",
       "      <td>0.488066</td>\n",
       "      <td>0.540527</td>\n",
       "      <td>0.511265</td>\n",
       "      <td>00:44</td>\n",
       "    </tr>\n",
       "    <tr>\n",
       "      <td>4</td>\n",
       "      <td>0.063593</td>\n",
       "      <td>0.068582</td>\n",
       "      <td>0.526284</td>\n",
       "      <td>0.554479</td>\n",
       "      <td>0.547251</td>\n",
       "      <td>0.503908</td>\n",
       "      <td>0.538337</td>\n",
       "      <td>0.532966</td>\n",
       "      <td>00:45</td>\n",
       "    </tr>\n",
       "    <tr>\n",
       "      <td>5</td>\n",
       "      <td>0.063808</td>\n",
       "      <td>0.069097</td>\n",
       "      <td>0.522339</td>\n",
       "      <td>0.568576</td>\n",
       "      <td>0.548162</td>\n",
       "      <td>0.514932</td>\n",
       "      <td>0.536731</td>\n",
       "      <td>0.546770</td>\n",
       "      <td>00:45</td>\n",
       "    </tr>\n",
       "    <tr>\n",
       "      <td>6</td>\n",
       "      <td>0.064907</td>\n",
       "      <td>0.065403</td>\n",
       "      <td>0.523404</td>\n",
       "      <td>0.575448</td>\n",
       "      <td>0.548961</td>\n",
       "      <td>0.521116</td>\n",
       "      <td>0.537348</td>\n",
       "      <td>0.553554</td>\n",
       "      <td>00:45</td>\n",
       "    </tr>\n",
       "    <tr>\n",
       "      <td>7</td>\n",
       "      <td>0.063110</td>\n",
       "      <td>0.064590</td>\n",
       "      <td>0.522008</td>\n",
       "      <td>0.579129</td>\n",
       "      <td>0.549097</td>\n",
       "      <td>0.524587</td>\n",
       "      <td>0.537383</td>\n",
       "      <td>0.557107</td>\n",
       "      <td>00:45</td>\n",
       "    </tr>\n",
       "    <tr>\n",
       "      <td>8</td>\n",
       "      <td>0.063020</td>\n",
       "      <td>0.065216</td>\n",
       "      <td>0.520487</td>\n",
       "      <td>0.580905</td>\n",
       "      <td>0.549191</td>\n",
       "      <td>0.526089</td>\n",
       "      <td>0.537306</td>\n",
       "      <td>0.558840</td>\n",
       "      <td>00:45</td>\n",
       "    </tr>\n",
       "    <tr>\n",
       "      <td>9</td>\n",
       "      <td>0.060493</td>\n",
       "      <td>0.065038</td>\n",
       "      <td>0.520544</td>\n",
       "      <td>0.581025</td>\n",
       "      <td>0.549191</td>\n",
       "      <td>0.526258</td>\n",
       "      <td>0.537306</td>\n",
       "      <td>0.559018</td>\n",
       "      <td>00:46</td>\n",
       "    </tr>\n",
       "  </tbody>\n",
       "</table>"
      ],
      "text/plain": [
       "<IPython.core.display.HTML object>"
      ]
     },
     "metadata": {},
     "output_type": "display_data"
    },
    {
     "name": "stdout",
     "output_type": "stream",
     "text": [
      "Better model found at epoch 0 with valid_loss value: 0.38467827439308167.\n",
      "Better model found at epoch 1 with valid_loss value: 0.22935894131660461.\n",
      "Better model found at epoch 2 with valid_loss value: 0.0724465474486351.\n",
      "Better model found at epoch 3 with valid_loss value: 0.06980959326028824.\n",
      "Better model found at epoch 4 with valid_loss value: 0.06858225911855698.\n",
      "Better model found at epoch 6 with valid_loss value: 0.06540267169475555.\n",
      "Better model found at epoch 7 with valid_loss value: 0.06459037214517593.\n"
     ]
    }
   ],
   "source": [
    "learn.fit_one_cycle(10, lr_max=lr)"
   ]
  },
  {
   "cell_type": "code",
   "execution_count": 30,
   "metadata": {
    "ExecuteTime": {
     "end_time": "2021-04-19T17:32:43.204577Z",
     "start_time": "2021-04-19T17:32:43.025329Z"
    },
    "scrolled": true
   },
   "outputs": [
    {
     "data": {
      "image/png": "[encoded data removed]",
      "text/plain": [
       "<Figure size 432x288 with 1 Axes>"
      ]
     },
     "metadata": {
      "needs_background": "light"
     },
     "output_type": "display_data"
    }
   ],
   "source": [
    "learn.recorder.plot_loss()"
   ]
  },
  {
   "cell_type": "code",
   "execution_count": 31,
   "metadata": {
    "ExecuteTime": {
     "end_time": "2021-04-19T17:34:48.386058Z",
     "start_time": "2021-04-19T17:32:44.603824Z"
    },
    "scrolled": true
   },
   "outputs": [
    {
     "data": {
      "text/html": [],
      "text/plain": [
       "<IPython.core.display.HTML object>"
      ]
     },
     "metadata": {},
     "output_type": "display_data"
    },
    {
     "name": "stdout",
     "output_type": "stream",
     "text": [
      "Better model found at epoch 0 with valid_loss value: 0.1548609235667639.\n"
     ]
    },
    {
     "data": {
      "text/plain": [
       "(#7) [0.04309142008423805,0.1548609235667639,0.35882877370830557,0.17752981601006004,0.3479977566380741,0.1611143470912697,0.35670480560962325]"
      ]
     },
     "execution_count": 31,
     "metadata": {},
     "output_type": "execute_result"
    }
   ],
   "source": [
    "learn.validate(dl=test_loader[0])"
   ]
  },
  {
   "cell_type": "code",
   "execution_count": 32,
   "metadata": {
    "ExecuteTime": {
     "end_time": "2021-04-19T17:35:35.343576Z",
     "start_time": "2021-04-19T17:34:49.626967Z"
    },
    "scrolled": true
   },
   "outputs": [
    {
     "data": {
      "text/html": [],
      "text/plain": [
       "<IPython.core.display.HTML object>"
      ]
     },
     "metadata": {},
     "output_type": "display_data"
    },
    {
     "name": "stdout",
     "output_type": "stream",
     "text": [
      "Better model found at epoch 0 with valid_loss value: 0.4196224976296344.\n"
     ]
    },
    {
     "data": {
      "text/plain": [
       "(#7) [0.0629066601395607,0.4196224976296344,0.5603466539508408,0.3887973680305843,0.5154738565417393,0.40348748942515306,0.5411211543514302]"
      ]
     },
     "execution_count": 32,
     "metadata": {},
     "output_type": "execute_result"
    }
   ],
   "source": [
    "learn.validate(dl=test_loader[1])"
   ]
  },
  {
   "cell_type": "code",
   "execution_count": null,
   "metadata": {},
   "outputs": [],
   "source": []
  },
  {
   "cell_type": "code",
   "execution_count": null,
   "metadata": {},
   "outputs": [],
   "source": [
    "# model_param = 1"
   ]
  },
  {
   "cell_type": "code",
   "execution_count": 32,
   "metadata": {
    "ExecuteTime": {
     "end_time": "2021-04-19T16:33:20.705425Z",
     "start_time": "2021-04-19T16:33:20.701973Z"
    }
   },
   "outputs": [],
   "source": [
    "lr=1e-5"
   ]
  },
  {
   "cell_type": "code",
   "execution_count": 33,
   "metadata": {
    "ExecuteTime": {
     "end_time": "2021-04-19T16:39:21.703124Z",
     "start_time": "2021-04-19T16:33:21.923597Z"
    }
   },
   "outputs": [
    {
     "data": {
      "text/html": [
       "<table border=\"1\" class=\"dataframe\">\n",
       "  <thead>\n",
       "    <tr style=\"text-align: left;\">\n",
       "      <th>epoch</th>\n",
       "      <th>train_loss</th>\n",
       "      <th>valid_loss</th>\n",
       "      <th>spr_glo</th>\n",
       "      <th>plcc_glo</th>\n",
       "      <th>spr_loc</th>\n",
       "      <th>plcc_loc</th>\n",
       "      <th>spr_Mean</th>\n",
       "      <th>plcc_Mean</th>\n",
       "      <th>time</th>\n",
       "    </tr>\n",
       "  </thead>\n",
       "  <tbody>\n",
       "    <tr>\n",
       "      <td>0</td>\n",
       "      <td>0.078997</td>\n",
       "      <td>0.067229</td>\n",
       "      <td>0.546236</td>\n",
       "      <td>0.555834</td>\n",
       "      <td>0.546365</td>\n",
       "      <td>0.537298</td>\n",
       "      <td>0.548698</td>\n",
       "      <td>0.547321</td>\n",
       "      <td>00:34</td>\n",
       "    </tr>\n",
       "    <tr>\n",
       "      <td>1</td>\n",
       "      <td>0.079485</td>\n",
       "      <td>0.067116</td>\n",
       "      <td>0.546383</td>\n",
       "      <td>0.556501</td>\n",
       "      <td>0.546427</td>\n",
       "      <td>0.537993</td>\n",
       "      <td>0.548858</td>\n",
       "      <td>0.548002</td>\n",
       "      <td>00:35</td>\n",
       "    </tr>\n",
       "    <tr>\n",
       "      <td>2</td>\n",
       "      <td>0.074287</td>\n",
       "      <td>0.067487</td>\n",
       "      <td>0.546828</td>\n",
       "      <td>0.557650</td>\n",
       "      <td>0.546605</td>\n",
       "      <td>0.538868</td>\n",
       "      <td>0.548669</td>\n",
       "      <td>0.549047</td>\n",
       "      <td>00:35</td>\n",
       "    </tr>\n",
       "    <tr>\n",
       "      <td>3</td>\n",
       "      <td>0.082098</td>\n",
       "      <td>0.067358</td>\n",
       "      <td>0.546781</td>\n",
       "      <td>0.558627</td>\n",
       "      <td>0.546605</td>\n",
       "      <td>0.539695</td>\n",
       "      <td>0.548883</td>\n",
       "      <td>0.549959</td>\n",
       "      <td>00:36</td>\n",
       "    </tr>\n",
       "    <tr>\n",
       "      <td>4</td>\n",
       "      <td>0.076504</td>\n",
       "      <td>0.066879</td>\n",
       "      <td>0.546781</td>\n",
       "      <td>0.559352</td>\n",
       "      <td>0.546694</td>\n",
       "      <td>0.540801</td>\n",
       "      <td>0.549099</td>\n",
       "      <td>0.550863</td>\n",
       "      <td>00:35</td>\n",
       "    </tr>\n",
       "    <tr>\n",
       "      <td>5</td>\n",
       "      <td>0.073360</td>\n",
       "      <td>0.066930</td>\n",
       "      <td>0.546902</td>\n",
       "      <td>0.560071</td>\n",
       "      <td>0.546694</td>\n",
       "      <td>0.541353</td>\n",
       "      <td>0.549238</td>\n",
       "      <td>0.551519</td>\n",
       "      <td>00:36</td>\n",
       "    </tr>\n",
       "    <tr>\n",
       "      <td>6</td>\n",
       "      <td>0.080899</td>\n",
       "      <td>0.066830</td>\n",
       "      <td>0.547001</td>\n",
       "      <td>0.560427</td>\n",
       "      <td>0.546839</td>\n",
       "      <td>0.541851</td>\n",
       "      <td>0.549238</td>\n",
       "      <td>0.551939</td>\n",
       "      <td>00:36</td>\n",
       "    </tr>\n",
       "    <tr>\n",
       "      <td>7</td>\n",
       "      <td>0.072222</td>\n",
       "      <td>0.066718</td>\n",
       "      <td>0.547001</td>\n",
       "      <td>0.560726</td>\n",
       "      <td>0.547002</td>\n",
       "      <td>0.542058</td>\n",
       "      <td>0.549231</td>\n",
       "      <td>0.552200</td>\n",
       "      <td>00:35</td>\n",
       "    </tr>\n",
       "    <tr>\n",
       "      <td>8</td>\n",
       "      <td>0.078769</td>\n",
       "      <td>0.066769</td>\n",
       "      <td>0.547001</td>\n",
       "      <td>0.560829</td>\n",
       "      <td>0.547002</td>\n",
       "      <td>0.542141</td>\n",
       "      <td>0.549231</td>\n",
       "      <td>0.552295</td>\n",
       "      <td>00:36</td>\n",
       "    </tr>\n",
       "    <tr>\n",
       "      <td>9</td>\n",
       "      <td>0.072807</td>\n",
       "      <td>0.066758</td>\n",
       "      <td>0.547001</td>\n",
       "      <td>0.560840</td>\n",
       "      <td>0.547002</td>\n",
       "      <td>0.542162</td>\n",
       "      <td>0.549231</td>\n",
       "      <td>0.552311</td>\n",
       "      <td>00:36</td>\n",
       "    </tr>\n",
       "  </tbody>\n",
       "</table>"
      ],
      "text/plain": [
       "<IPython.core.display.HTML object>"
      ]
     },
     "metadata": {},
     "output_type": "display_data"
    },
    {
     "name": "stdout",
     "output_type": "stream",
     "text": [
      "Better model found at epoch 0 with valid_loss value: 0.06722892075777054.\n",
      "Better model found at epoch 1 with valid_loss value: 0.06711602956056595.\n",
      "Better model found at epoch 4 with valid_loss value: 0.06687894463539124.\n",
      "Better model found at epoch 6 with valid_loss value: 0.06683003902435303.\n",
      "Better model found at epoch 7 with valid_loss value: 0.06671848893165588.\n"
     ]
    }
   ],
   "source": [
    "learn.fit_one_cycle(10, lr_max=lr)"
   ]
  },
  {
   "cell_type": "code",
   "execution_count": 34,
   "metadata": {
    "ExecuteTime": {
     "end_time": "2021-04-19T16:39:22.765717Z",
     "start_time": "2021-04-19T16:39:22.623024Z"
    },
    "scrolled": true
   },
   "outputs": [
    {
     "data": {
      "image/png": "[encoded data removed]",
      "text/plain": [
       "<Figure size 432x288 with 1 Axes>"
      ]
     },
     "metadata": {
      "needs_background": "light"
     },
     "output_type": "display_data"
    }
   ],
   "source": [
    "learn.recorder.plot_loss()"
   ]
  },
  {
   "cell_type": "code",
   "execution_count": 35,
   "metadata": {
    "ExecuteTime": {
     "end_time": "2021-04-19T16:40:01.161147Z",
     "start_time": "2021-04-19T16:39:23.586274Z"
    },
    "scrolled": true
   },
   "outputs": [
    {
     "data": {
      "text/html": [],
      "text/plain": [
       "<IPython.core.display.HTML object>"
      ]
     },
     "metadata": {},
     "output_type": "display_data"
    },
    {
     "name": "stdout",
     "output_type": "stream",
     "text": [
      "Better model found at epoch 0 with valid_loss value: 0.149121335569376.\n"
     ]
    },
    {
     "data": {
      "text/plain": [
       "(#7) [0.05260084196925163,0.149121335569376,0.3353392029050456,0.17413471635023572,0.32743970336643585,0.15982725921110905,0.3335659498313883]"
      ]
     },
     "execution_count": 35,
     "metadata": {},
     "output_type": "execute_result"
    }
   ],
   "source": [
    "learn.validate(dl=test_loader[0])"
   ]
  },
  {
   "cell_type": "code",
   "execution_count": 36,
   "metadata": {
    "ExecuteTime": {
     "end_time": "2021-04-19T16:40:15.536976Z",
     "start_time": "2021-04-19T16:40:02.084557Z"
    },
    "scrolled": true
   },
   "outputs": [
    {
     "data": {
      "text/html": [],
      "text/plain": [
       "<IPython.core.display.HTML object>"
      ]
     },
     "metadata": {},
     "output_type": "display_data"
    },
    {
     "name": "stdout",
     "output_type": "stream",
     "text": [
      "Better model found at epoch 0 with valid_loss value: 0.3655400015849708.\n"
     ]
    },
    {
     "data": {
      "text/plain": [
       "(#7) [0.07421224564313889,0.3655400015849708,0.5059748183075199,0.3534233195033695,0.4672736535531212,0.3590238899454159,0.48736155100047207]"
      ]
     },
     "execution_count": 36,
     "metadata": {},
     "output_type": "execute_result"
    }
   ],
   "source": [
    "learn.validate(dl=test_loader[1])"
   ]
  },
  {
   "cell_type": "code",
   "execution_count": null,
   "metadata": {},
   "outputs": [],
   "source": []
  },
  {
   "cell_type": "code",
   "execution_count": 27,
   "metadata": {
    "ExecuteTime": {
     "end_time": "2021-04-19T16:25:14.288075Z",
     "start_time": "2021-04-19T16:25:14.283758Z"
    }
   },
   "outputs": [],
   "source": [
    "lr=1e-5"
   ]
  },
  {
   "cell_type": "code",
   "execution_count": 28,
   "metadata": {
    "ExecuteTime": {
     "end_time": "2021-04-19T16:31:15.671905Z",
     "start_time": "2021-04-19T16:25:14.289268Z"
    }
   },
   "outputs": [
    {
     "data": {
      "text/html": [
       "<table border=\"1\" class=\"dataframe\">\n",
       "  <thead>\n",
       "    <tr style=\"text-align: left;\">\n",
       "      <th>epoch</th>\n",
       "      <th>train_loss</th>\n",
       "      <th>valid_loss</th>\n",
       "      <th>spr_glo</th>\n",
       "      <th>plcc_glo</th>\n",
       "      <th>spr_loc</th>\n",
       "      <th>plcc_loc</th>\n",
       "      <th>spr_Mean</th>\n",
       "      <th>plcc_Mean</th>\n",
       "      <th>time</th>\n",
       "    </tr>\n",
       "  </thead>\n",
       "  <tbody>\n",
       "    <tr>\n",
       "      <td>0</td>\n",
       "      <td>0.516387</td>\n",
       "      <td>0.496439</td>\n",
       "      <td>0.525647</td>\n",
       "      <td>0.492921</td>\n",
       "      <td>0.530425</td>\n",
       "      <td>0.521489</td>\n",
       "      <td>0.528919</td>\n",
       "      <td>0.510494</td>\n",
       "      <td>00:43</td>\n",
       "    </tr>\n",
       "    <tr>\n",
       "      <td>1</td>\n",
       "      <td>0.383769</td>\n",
       "      <td>0.147509</td>\n",
       "      <td>0.539510</td>\n",
       "      <td>0.482444</td>\n",
       "      <td>0.540655</td>\n",
       "      <td>0.469731</td>\n",
       "      <td>0.541515</td>\n",
       "      <td>0.476126</td>\n",
       "      <td>00:34</td>\n",
       "    </tr>\n",
       "    <tr>\n",
       "      <td>2</td>\n",
       "      <td>0.100162</td>\n",
       "      <td>0.080386</td>\n",
       "      <td>0.544929</td>\n",
       "      <td>0.514234</td>\n",
       "      <td>0.542396</td>\n",
       "      <td>0.496176</td>\n",
       "      <td>0.542076</td>\n",
       "      <td>0.505631</td>\n",
       "      <td>00:34</td>\n",
       "    </tr>\n",
       "    <tr>\n",
       "      <td>3</td>\n",
       "      <td>0.085689</td>\n",
       "      <td>0.069745</td>\n",
       "      <td>0.545811</td>\n",
       "      <td>0.527113</td>\n",
       "      <td>0.546346</td>\n",
       "      <td>0.509700</td>\n",
       "      <td>0.545355</td>\n",
       "      <td>0.518754</td>\n",
       "      <td>00:34</td>\n",
       "    </tr>\n",
       "    <tr>\n",
       "      <td>4</td>\n",
       "      <td>0.082306</td>\n",
       "      <td>0.070241</td>\n",
       "      <td>0.546689</td>\n",
       "      <td>0.539355</td>\n",
       "      <td>0.545407</td>\n",
       "      <td>0.520878</td>\n",
       "      <td>0.545588</td>\n",
       "      <td>0.530728</td>\n",
       "      <td>00:35</td>\n",
       "    </tr>\n",
       "    <tr>\n",
       "      <td>5</td>\n",
       "      <td>0.077779</td>\n",
       "      <td>0.070630</td>\n",
       "      <td>0.546417</td>\n",
       "      <td>0.547414</td>\n",
       "      <td>0.545510</td>\n",
       "      <td>0.528677</td>\n",
       "      <td>0.548136</td>\n",
       "      <td>0.538819</td>\n",
       "      <td>00:34</td>\n",
       "    </tr>\n",
       "    <tr>\n",
       "      <td>6</td>\n",
       "      <td>0.081412</td>\n",
       "      <td>0.067756</td>\n",
       "      <td>0.546128</td>\n",
       "      <td>0.551585</td>\n",
       "      <td>0.545916</td>\n",
       "      <td>0.533141</td>\n",
       "      <td>0.548699</td>\n",
       "      <td>0.543099</td>\n",
       "      <td>00:35</td>\n",
       "    </tr>\n",
       "    <tr>\n",
       "      <td>7</td>\n",
       "      <td>0.079517</td>\n",
       "      <td>0.067505</td>\n",
       "      <td>0.546236</td>\n",
       "      <td>0.554448</td>\n",
       "      <td>0.546071</td>\n",
       "      <td>0.535916</td>\n",
       "      <td>0.548770</td>\n",
       "      <td>0.545934</td>\n",
       "      <td>00:35</td>\n",
       "    </tr>\n",
       "    <tr>\n",
       "      <td>8</td>\n",
       "      <td>0.077338</td>\n",
       "      <td>0.067257</td>\n",
       "      <td>0.546136</td>\n",
       "      <td>0.555515</td>\n",
       "      <td>0.546365</td>\n",
       "      <td>0.536999</td>\n",
       "      <td>0.548698</td>\n",
       "      <td>0.547008</td>\n",
       "      <td>00:35</td>\n",
       "    </tr>\n",
       "    <tr>\n",
       "      <td>9</td>\n",
       "      <td>0.077104</td>\n",
       "      <td>0.067192</td>\n",
       "      <td>0.546236</td>\n",
       "      <td>0.555641</td>\n",
       "      <td>0.546365</td>\n",
       "      <td>0.537140</td>\n",
       "      <td>0.548698</td>\n",
       "      <td>0.547139</td>\n",
       "      <td>00:35</td>\n",
       "    </tr>\n",
       "  </tbody>\n",
       "</table>"
      ],
      "text/plain": [
       "<IPython.core.display.HTML object>"
      ]
     },
     "metadata": {},
     "output_type": "display_data"
    },
    {
     "name": "stdout",
     "output_type": "stream",
     "text": [
      "Better model found at epoch 0 with valid_loss value: 0.4964390993118286.\n",
      "Better model found at epoch 1 with valid_loss value: 0.14750857651233673.\n",
      "Better model found at epoch 2 with valid_loss value: 0.08038604259490967.\n",
      "Better model found at epoch 3 with valid_loss value: 0.0697450339794159.\n",
      "Better model found at epoch 6 with valid_loss value: 0.06775610893964767.\n",
      "Better model found at epoch 7 with valid_loss value: 0.06750529259443283.\n",
      "Better model found at epoch 8 with valid_loss value: 0.06725698709487915.\n",
      "Better model found at epoch 9 with valid_loss value: 0.06719200313091278.\n"
     ]
    }
   ],
   "source": [
    "learn.fit_one_cycle(10, lr_max=lr)"
   ]
  },
  {
   "cell_type": "code",
   "execution_count": 29,
   "metadata": {
    "ExecuteTime": {
     "end_time": "2021-04-19T16:31:36.875304Z",
     "start_time": "2021-04-19T16:31:36.739607Z"
    },
    "scrolled": true
   },
   "outputs": [
    {
     "data": {
      "image/png": "[encoded data removed]",
      "text/plain": [
       "<Figure size 432x288 with 1 Axes>"
      ]
     },
     "metadata": {
      "needs_background": "light"
     },
     "output_type": "display_data"
    }
   ],
   "source": [
    "learn.recorder.plot_loss()"
   ]
  },
  {
   "cell_type": "code",
   "execution_count": 30,
   "metadata": {
    "ExecuteTime": {
     "end_time": "2021-04-19T16:32:11.807730Z",
     "start_time": "2021-04-19T16:31:36.876338Z"
    },
    "scrolled": true
   },
   "outputs": [
    {
     "data": {
      "text/html": [],
      "text/plain": [
       "<IPython.core.display.HTML object>"
      ]
     },
     "metadata": {},
     "output_type": "display_data"
    },
    {
     "name": "stdout",
     "output_type": "stream",
     "text": [
      "Better model found at epoch 0 with valid_loss value: 0.14870496881660974.\n"
     ]
    },
    {
     "data": {
      "text/plain": [
       "(#7) [0.05258267745375633,0.14870496881660974,0.3334352785344984,0.17391085249007945,0.326002642868751,0.15983170190119578,0.33187557347544905]"
      ]
     },
     "execution_count": 30,
     "metadata": {},
     "output_type": "execute_result"
    }
   ],
   "source": [
    "learn.validate(dl=test_loader[0])"
   ]
  },
  {
   "cell_type": "code",
   "execution_count": 31,
   "metadata": {
    "ExecuteTime": {
     "end_time": "2021-04-19T16:32:26.240241Z",
     "start_time": "2021-04-19T16:32:11.809913Z"
    },
    "scrolled": true
   },
   "outputs": [
    {
     "data": {
      "text/html": [],
      "text/plain": [
       "<IPython.core.display.HTML object>"
      ]
     },
     "metadata": {},
     "output_type": "display_data"
    },
    {
     "name": "stdout",
     "output_type": "stream",
     "text": [
      "Better model found at epoch 0 with valid_loss value: 0.3631852552340059.\n"
     ]
    },
    {
     "data": {
      "text/plain": [
       "(#7) [0.07521592080593109,0.3631852552340059,0.5023446479133885,0.35185269717415757,0.4639675273430067,0.35720788472655574,0.4838103309729168]"
      ]
     },
     "execution_count": 31,
     "metadata": {},
     "output_type": "execute_result"
    }
   ],
   "source": [
    "learn.validate(dl=test_loader[1])"
   ]
  },
  {
   "cell_type": "code",
   "execution_count": null,
   "metadata": {},
   "outputs": [],
   "source": []
  },
  {
   "cell_type": "code",
   "execution_count": null,
   "metadata": {},
   "outputs": [],
   "source": [
    "lr = 3e-4"
   ]
  },
  {
   "cell_type": "code",
   "execution_count": 28,
   "metadata": {
    "ExecuteTime": {
     "end_time": "2021-04-19T15:14:52.115178Z",
     "start_time": "2021-04-19T15:13:47.868070Z"
    },
    "scrolled": true
   },
   "outputs": [
    {
     "name": "stdout",
     "output_type": "stream",
     "text": [
      "0.0003\n"
     ]
    },
    {
     "data": {
      "text/html": [
       "<table border=\"1\" class=\"dataframe\">\n",
       "  <thead>\n",
       "    <tr style=\"text-align: left;\">\n",
       "      <th>epoch</th>\n",
       "      <th>train_loss</th>\n",
       "      <th>valid_loss</th>\n",
       "      <th>spr_glo</th>\n",
       "      <th>plcc_glo</th>\n",
       "      <th>spr_loc</th>\n",
       "      <th>plcc_loc</th>\n",
       "      <th>spr_Mean</th>\n",
       "      <th>plcc_Mean</th>\n",
       "      <th>time</th>\n",
       "    </tr>\n",
       "  </thead>\n",
       "  <tbody>\n",
       "    <tr>\n",
       "      <td>0</td>\n",
       "      <td>0.165942</td>\n",
       "      <td>0.082530</td>\n",
       "      <td>0.518469</td>\n",
       "      <td>0.508013</td>\n",
       "      <td>0.511386</td>\n",
       "      <td>0.473494</td>\n",
       "      <td>0.516934</td>\n",
       "      <td>0.491527</td>\n",
       "      <td>01:01</td>\n",
       "    </tr>\n",
       "  </tbody>\n",
       "</table>"
      ],
      "text/plain": [
       "<IPython.core.display.HTML object>"
      ]
     },
     "metadata": {},
     "output_type": "display_data"
    },
    {
     "name": "stdout",
     "output_type": "stream",
     "text": [
      "Better model found at epoch 0 with valid_loss value: 0.08252962678670883.\n"
     ]
    }
   ],
   "source": [
    "# %%debug\n",
    "# lr = lr/10\n",
    "print(lr)\n",
    "learn.fit(1, lr=lr/10)"
   ]
  },
  {
   "cell_type": "code",
   "execution_count": 29,
   "metadata": {
    "ExecuteTime": {
     "end_time": "2021-04-19T15:15:12.983657Z",
     "start_time": "2021-04-19T15:15:12.609825Z"
    }
   },
   "outputs": [
    {
     "data": {
      "image/png": "[encoded data removed]",
      "text/plain": [
       "<Figure size 432x288 with 1 Axes>"
      ]
     },
     "metadata": {
      "needs_background": "light"
     },
     "output_type": "display_data"
    }
   ],
   "source": [
    "learn.recorder.plot_loss()"
   ]
  },
  {
   "cell_type": "code",
   "execution_count": 30,
   "metadata": {
    "ExecuteTime": {
     "end_time": "2021-04-19T16:06:49.024838Z",
     "start_time": "2021-04-19T15:15:13.811637Z"
    },
    "scrolled": true
   },
   "outputs": [
    {
     "name": "stdout",
     "output_type": "stream",
     "text": [
      "0.0003\n"
     ]
    },
    {
     "data": {
      "text/html": [
       "<table border=\"1\" class=\"dataframe\">\n",
       "  <thead>\n",
       "    <tr style=\"text-align: left;\">\n",
       "      <th>epoch</th>\n",
       "      <th>train_loss</th>\n",
       "      <th>valid_loss</th>\n",
       "      <th>spr_glo</th>\n",
       "      <th>plcc_glo</th>\n",
       "      <th>spr_loc</th>\n",
       "      <th>plcc_loc</th>\n",
       "      <th>spr_Mean</th>\n",
       "      <th>plcc_Mean</th>\n",
       "      <th>time</th>\n",
       "    </tr>\n",
       "  </thead>\n",
       "  <tbody>\n",
       "    <tr>\n",
       "      <td>0</td>\n",
       "      <td>0.067122</td>\n",
       "      <td>0.048484</td>\n",
       "      <td>0.814584</td>\n",
       "      <td>0.765568</td>\n",
       "      <td>0.775857</td>\n",
       "      <td>0.750775</td>\n",
       "      <td>0.790428</td>\n",
       "      <td>0.760006</td>\n",
       "      <td>00:36</td>\n",
       "    </tr>\n",
       "    <tr>\n",
       "      <td>1</td>\n",
       "      <td>0.041641</td>\n",
       "      <td>0.034395</td>\n",
       "      <td>0.890445</td>\n",
       "      <td>0.893608</td>\n",
       "      <td>0.889533</td>\n",
       "      <td>0.892607</td>\n",
       "      <td>0.889755</td>\n",
       "      <td>0.893284</td>\n",
       "      <td>00:36</td>\n",
       "    </tr>\n",
       "    <tr>\n",
       "      <td>2</td>\n",
       "      <td>0.036628</td>\n",
       "      <td>0.041811</td>\n",
       "      <td>0.900034</td>\n",
       "      <td>0.902763</td>\n",
       "      <td>0.902138</td>\n",
       "      <td>0.902092</td>\n",
       "      <td>0.900902</td>\n",
       "      <td>0.902543</td>\n",
       "      <td>00:36</td>\n",
       "    </tr>\n",
       "    <tr>\n",
       "      <td>3</td>\n",
       "      <td>0.035124</td>\n",
       "      <td>0.027718</td>\n",
       "      <td>0.906174</td>\n",
       "      <td>0.906390</td>\n",
       "      <td>0.906247</td>\n",
       "      <td>0.906066</td>\n",
       "      <td>0.906402</td>\n",
       "      <td>0.906258</td>\n",
       "      <td>00:36</td>\n",
       "    </tr>\n",
       "    <tr>\n",
       "      <td>4</td>\n",
       "      <td>0.031651</td>\n",
       "      <td>0.029099</td>\n",
       "      <td>0.895162</td>\n",
       "      <td>0.904151</td>\n",
       "      <td>0.895322</td>\n",
       "      <td>0.903653</td>\n",
       "      <td>0.895412</td>\n",
       "      <td>0.903967</td>\n",
       "      <td>00:37</td>\n",
       "    </tr>\n",
       "    <tr>\n",
       "      <td>5</td>\n",
       "      <td>0.032470</td>\n",
       "      <td>0.028666</td>\n",
       "      <td>0.905031</td>\n",
       "      <td>0.906719</td>\n",
       "      <td>0.904734</td>\n",
       "      <td>0.907028</td>\n",
       "      <td>0.905183</td>\n",
       "      <td>0.906862</td>\n",
       "      <td>00:37</td>\n",
       "    </tr>\n",
       "    <tr>\n",
       "      <td>6</td>\n",
       "      <td>0.034518</td>\n",
       "      <td>0.026180</td>\n",
       "      <td>0.915593</td>\n",
       "      <td>0.911250</td>\n",
       "      <td>0.915968</td>\n",
       "      <td>0.911180</td>\n",
       "      <td>0.915911</td>\n",
       "      <td>0.911237</td>\n",
       "      <td>00:37</td>\n",
       "    </tr>\n",
       "    <tr>\n",
       "      <td>7</td>\n",
       "      <td>0.032085</td>\n",
       "      <td>0.027632</td>\n",
       "      <td>0.914861</td>\n",
       "      <td>0.910200</td>\n",
       "      <td>0.915069</td>\n",
       "      <td>0.909565</td>\n",
       "      <td>0.915083</td>\n",
       "      <td>0.909938</td>\n",
       "      <td>00:37</td>\n",
       "    </tr>\n",
       "    <tr>\n",
       "      <td>8</td>\n",
       "      <td>0.029219</td>\n",
       "      <td>0.030258</td>\n",
       "      <td>0.919295</td>\n",
       "      <td>0.911778</td>\n",
       "      <td>0.919491</td>\n",
       "      <td>0.911549</td>\n",
       "      <td>0.919392</td>\n",
       "      <td>0.911680</td>\n",
       "      <td>00:38</td>\n",
       "    </tr>\n",
       "    <tr>\n",
       "      <td>9</td>\n",
       "      <td>0.031666</td>\n",
       "      <td>0.030096</td>\n",
       "      <td>0.921181</td>\n",
       "      <td>0.913237</td>\n",
       "      <td>0.921146</td>\n",
       "      <td>0.913023</td>\n",
       "      <td>0.921212</td>\n",
       "      <td>0.913143</td>\n",
       "      <td>00:37</td>\n",
       "    </tr>\n",
       "    <tr>\n",
       "      <td>10</td>\n",
       "      <td>0.027765</td>\n",
       "      <td>0.026755</td>\n",
       "      <td>0.915929</td>\n",
       "      <td>0.909840</td>\n",
       "      <td>0.916240</td>\n",
       "      <td>0.910071</td>\n",
       "      <td>0.915976</td>\n",
       "      <td>0.909941</td>\n",
       "      <td>00:37</td>\n",
       "    </tr>\n",
       "    <tr>\n",
       "      <td>11</td>\n",
       "      <td>0.029644</td>\n",
       "      <td>0.027027</td>\n",
       "      <td>0.910154</td>\n",
       "      <td>0.911961</td>\n",
       "      <td>0.910580</td>\n",
       "      <td>0.912531</td>\n",
       "      <td>0.910255</td>\n",
       "      <td>0.912213</td>\n",
       "      <td>00:38</td>\n",
       "    </tr>\n",
       "    <tr>\n",
       "      <td>12</td>\n",
       "      <td>0.028801</td>\n",
       "      <td>0.029114</td>\n",
       "      <td>0.923739</td>\n",
       "      <td>0.913861</td>\n",
       "      <td>0.924196</td>\n",
       "      <td>0.914708</td>\n",
       "      <td>0.923782</td>\n",
       "      <td>0.914251</td>\n",
       "      <td>00:38</td>\n",
       "    </tr>\n",
       "    <tr>\n",
       "      <td>13</td>\n",
       "      <td>0.030398</td>\n",
       "      <td>0.025425</td>\n",
       "      <td>0.924107</td>\n",
       "      <td>0.912747</td>\n",
       "      <td>0.923663</td>\n",
       "      <td>0.914954</td>\n",
       "      <td>0.923780</td>\n",
       "      <td>0.913769</td>\n",
       "      <td>00:37</td>\n",
       "    </tr>\n",
       "    <tr>\n",
       "      <td>14</td>\n",
       "      <td>0.029847</td>\n",
       "      <td>0.025045</td>\n",
       "      <td>0.923780</td>\n",
       "      <td>0.915140</td>\n",
       "      <td>0.923834</td>\n",
       "      <td>0.916727</td>\n",
       "      <td>0.923559</td>\n",
       "      <td>0.915880</td>\n",
       "      <td>00:37</td>\n",
       "    </tr>\n",
       "    <tr>\n",
       "      <td>15</td>\n",
       "      <td>0.029387</td>\n",
       "      <td>0.025721</td>\n",
       "      <td>0.910820</td>\n",
       "      <td>0.911997</td>\n",
       "      <td>0.911084</td>\n",
       "      <td>0.913645</td>\n",
       "      <td>0.910916</td>\n",
       "      <td>0.912758</td>\n",
       "      <td>00:38</td>\n",
       "    </tr>\n",
       "    <tr>\n",
       "      <td>16</td>\n",
       "      <td>0.026674</td>\n",
       "      <td>0.024579</td>\n",
       "      <td>0.928431</td>\n",
       "      <td>0.917385</td>\n",
       "      <td>0.928767</td>\n",
       "      <td>0.918214</td>\n",
       "      <td>0.928436</td>\n",
       "      <td>0.917773</td>\n",
       "      <td>00:38</td>\n",
       "    </tr>\n",
       "    <tr>\n",
       "      <td>17</td>\n",
       "      <td>0.025964</td>\n",
       "      <td>0.023638</td>\n",
       "      <td>0.929064</td>\n",
       "      <td>0.919374</td>\n",
       "      <td>0.929034</td>\n",
       "      <td>0.920176</td>\n",
       "      <td>0.929096</td>\n",
       "      <td>0.919735</td>\n",
       "      <td>00:38</td>\n",
       "    </tr>\n",
       "    <tr>\n",
       "      <td>18</td>\n",
       "      <td>0.027815</td>\n",
       "      <td>0.025672</td>\n",
       "      <td>0.934425</td>\n",
       "      <td>0.922707</td>\n",
       "      <td>0.934657</td>\n",
       "      <td>0.923453</td>\n",
       "      <td>0.934506</td>\n",
       "      <td>0.923054</td>\n",
       "      <td>00:37</td>\n",
       "    </tr>\n",
       "    <tr>\n",
       "      <td>19</td>\n",
       "      <td>0.023663</td>\n",
       "      <td>0.026969</td>\n",
       "      <td>0.930757</td>\n",
       "      <td>0.923890</td>\n",
       "      <td>0.931603</td>\n",
       "      <td>0.924844</td>\n",
       "      <td>0.931163</td>\n",
       "      <td>0.924340</td>\n",
       "      <td>00:38</td>\n",
       "    </tr>\n",
       "    <tr>\n",
       "      <td>20</td>\n",
       "      <td>0.024683</td>\n",
       "      <td>0.027748</td>\n",
       "      <td>0.929126</td>\n",
       "      <td>0.924424</td>\n",
       "      <td>0.929236</td>\n",
       "      <td>0.924841</td>\n",
       "      <td>0.929153</td>\n",
       "      <td>0.924627</td>\n",
       "      <td>00:37</td>\n",
       "    </tr>\n",
       "    <tr>\n",
       "      <td>21</td>\n",
       "      <td>0.025381</td>\n",
       "      <td>0.026422</td>\n",
       "      <td>0.915660</td>\n",
       "      <td>0.915574</td>\n",
       "      <td>0.916283</td>\n",
       "      <td>0.916808</td>\n",
       "      <td>0.915880</td>\n",
       "      <td>0.916170</td>\n",
       "      <td>00:38</td>\n",
       "    </tr>\n",
       "    <tr>\n",
       "      <td>22</td>\n",
       "      <td>0.025179</td>\n",
       "      <td>0.024671</td>\n",
       "      <td>0.940910</td>\n",
       "      <td>0.929070</td>\n",
       "      <td>0.941384</td>\n",
       "      <td>0.929311</td>\n",
       "      <td>0.941442</td>\n",
       "      <td>0.929188</td>\n",
       "      <td>00:38</td>\n",
       "    </tr>\n",
       "    <tr>\n",
       "      <td>23</td>\n",
       "      <td>0.020213</td>\n",
       "      <td>0.022747</td>\n",
       "      <td>0.930737</td>\n",
       "      <td>0.928402</td>\n",
       "      <td>0.930832</td>\n",
       "      <td>0.928298</td>\n",
       "      <td>0.930770</td>\n",
       "      <td>0.928361</td>\n",
       "      <td>00:38</td>\n",
       "    </tr>\n",
       "    <tr>\n",
       "      <td>24</td>\n",
       "      <td>0.021848</td>\n",
       "      <td>0.020394</td>\n",
       "      <td>0.939489</td>\n",
       "      <td>0.934309</td>\n",
       "      <td>0.938877</td>\n",
       "      <td>0.933904</td>\n",
       "      <td>0.939001</td>\n",
       "      <td>0.934128</td>\n",
       "      <td>00:38</td>\n",
       "    </tr>\n",
       "    <tr>\n",
       "      <td>25</td>\n",
       "      <td>0.020310</td>\n",
       "      <td>0.023648</td>\n",
       "      <td>0.931258</td>\n",
       "      <td>0.930493</td>\n",
       "      <td>0.931351</td>\n",
       "      <td>0.930339</td>\n",
       "      <td>0.931250</td>\n",
       "      <td>0.930431</td>\n",
       "      <td>00:35</td>\n",
       "    </tr>\n",
       "    <tr>\n",
       "      <td>26</td>\n",
       "      <td>0.021157</td>\n",
       "      <td>0.024221</td>\n",
       "      <td>0.940059</td>\n",
       "      <td>0.936623</td>\n",
       "      <td>0.940245</td>\n",
       "      <td>0.936721</td>\n",
       "      <td>0.940101</td>\n",
       "      <td>0.936680</td>\n",
       "      <td>00:36</td>\n",
       "    </tr>\n",
       "    <tr>\n",
       "      <td>27</td>\n",
       "      <td>0.021034</td>\n",
       "      <td>0.019195</td>\n",
       "      <td>0.944173</td>\n",
       "      <td>0.938554</td>\n",
       "      <td>0.944259</td>\n",
       "      <td>0.937470</td>\n",
       "      <td>0.944204</td>\n",
       "      <td>0.938082</td>\n",
       "      <td>00:36</td>\n",
       "    </tr>\n",
       "    <tr>\n",
       "      <td>28</td>\n",
       "      <td>0.020670</td>\n",
       "      <td>0.023565</td>\n",
       "      <td>0.944387</td>\n",
       "      <td>0.938006</td>\n",
       "      <td>0.944610</td>\n",
       "      <td>0.936700</td>\n",
       "      <td>0.944499</td>\n",
       "      <td>0.937445</td>\n",
       "      <td>00:36</td>\n",
       "    </tr>\n",
       "    <tr>\n",
       "      <td>29</td>\n",
       "      <td>0.019749</td>\n",
       "      <td>0.018850</td>\n",
       "      <td>0.946003</td>\n",
       "      <td>0.940723</td>\n",
       "      <td>0.945897</td>\n",
       "      <td>0.939980</td>\n",
       "      <td>0.945929</td>\n",
       "      <td>0.940432</td>\n",
       "      <td>00:36</td>\n",
       "    </tr>\n",
       "    <tr>\n",
       "      <td>30</td>\n",
       "      <td>0.018295</td>\n",
       "      <td>0.018994</td>\n",
       "      <td>0.946901</td>\n",
       "      <td>0.940411</td>\n",
       "      <td>0.946911</td>\n",
       "      <td>0.938871</td>\n",
       "      <td>0.947066</td>\n",
       "      <td>0.939752</td>\n",
       "      <td>00:36</td>\n",
       "    </tr>\n",
       "    <tr>\n",
       "      <td>31</td>\n",
       "      <td>0.019621</td>\n",
       "      <td>0.018198</td>\n",
       "      <td>0.948780</td>\n",
       "      <td>0.942338</td>\n",
       "      <td>0.948560</td>\n",
       "      <td>0.940427</td>\n",
       "      <td>0.948663</td>\n",
       "      <td>0.941541</td>\n",
       "      <td>00:37</td>\n",
       "    </tr>\n",
       "    <tr>\n",
       "      <td>32</td>\n",
       "      <td>0.020359</td>\n",
       "      <td>0.023983</td>\n",
       "      <td>0.944474</td>\n",
       "      <td>0.941942</td>\n",
       "      <td>0.944099</td>\n",
       "      <td>0.941375</td>\n",
       "      <td>0.944159</td>\n",
       "      <td>0.941725</td>\n",
       "      <td>00:36</td>\n",
       "    </tr>\n",
       "    <tr>\n",
       "      <td>33</td>\n",
       "      <td>0.018076</td>\n",
       "      <td>0.018890</td>\n",
       "      <td>0.948291</td>\n",
       "      <td>0.943477</td>\n",
       "      <td>0.947753</td>\n",
       "      <td>0.941777</td>\n",
       "      <td>0.948173</td>\n",
       "      <td>0.942786</td>\n",
       "      <td>00:35</td>\n",
       "    </tr>\n",
       "    <tr>\n",
       "      <td>34</td>\n",
       "      <td>0.018683</td>\n",
       "      <td>0.021247</td>\n",
       "      <td>0.937663</td>\n",
       "      <td>0.936046</td>\n",
       "      <td>0.937484</td>\n",
       "      <td>0.933741</td>\n",
       "      <td>0.937555</td>\n",
       "      <td>0.935047</td>\n",
       "      <td>00:36</td>\n",
       "    </tr>\n",
       "    <tr>\n",
       "      <td>35</td>\n",
       "      <td>0.018550</td>\n",
       "      <td>0.018153</td>\n",
       "      <td>0.945294</td>\n",
       "      <td>0.939885</td>\n",
       "      <td>0.945013</td>\n",
       "      <td>0.937432</td>\n",
       "      <td>0.945246</td>\n",
       "      <td>0.938846</td>\n",
       "      <td>00:36</td>\n",
       "    </tr>\n",
       "    <tr>\n",
       "      <td>36</td>\n",
       "      <td>0.017713</td>\n",
       "      <td>0.018033</td>\n",
       "      <td>0.941216</td>\n",
       "      <td>0.940054</td>\n",
       "      <td>0.940613</td>\n",
       "      <td>0.937642</td>\n",
       "      <td>0.941097</td>\n",
       "      <td>0.939091</td>\n",
       "      <td>00:36</td>\n",
       "    </tr>\n",
       "    <tr>\n",
       "      <td>37</td>\n",
       "      <td>0.020060</td>\n",
       "      <td>0.027274</td>\n",
       "      <td>0.948447</td>\n",
       "      <td>0.945360</td>\n",
       "      <td>0.948163</td>\n",
       "      <td>0.944635</td>\n",
       "      <td>0.948172</td>\n",
       "      <td>0.945101</td>\n",
       "      <td>00:38</td>\n",
       "    </tr>\n",
       "    <tr>\n",
       "      <td>38</td>\n",
       "      <td>0.017924</td>\n",
       "      <td>0.019386</td>\n",
       "      <td>0.949590</td>\n",
       "      <td>0.945277</td>\n",
       "      <td>0.949602</td>\n",
       "      <td>0.943497</td>\n",
       "      <td>0.949623</td>\n",
       "      <td>0.944516</td>\n",
       "      <td>00:36</td>\n",
       "    </tr>\n",
       "    <tr>\n",
       "      <td>39</td>\n",
       "      <td>0.018790</td>\n",
       "      <td>0.017654</td>\n",
       "      <td>0.949625</td>\n",
       "      <td>0.942495</td>\n",
       "      <td>0.949887</td>\n",
       "      <td>0.939602</td>\n",
       "      <td>0.949688</td>\n",
       "      <td>0.941305</td>\n",
       "      <td>00:36</td>\n",
       "    </tr>\n",
       "    <tr>\n",
       "      <td>40</td>\n",
       "      <td>0.017866</td>\n",
       "      <td>0.021908</td>\n",
       "      <td>0.947070</td>\n",
       "      <td>0.941693</td>\n",
       "      <td>0.946937</td>\n",
       "      <td>0.940025</td>\n",
       "      <td>0.946917</td>\n",
       "      <td>0.940980</td>\n",
       "      <td>00:36</td>\n",
       "    </tr>\n",
       "    <tr>\n",
       "      <td>41</td>\n",
       "      <td>0.018584</td>\n",
       "      <td>0.018559</td>\n",
       "      <td>0.951256</td>\n",
       "      <td>0.941546</td>\n",
       "      <td>0.951331</td>\n",
       "      <td>0.938662</td>\n",
       "      <td>0.951151</td>\n",
       "      <td>0.940321</td>\n",
       "      <td>00:36</td>\n",
       "    </tr>\n",
       "    <tr>\n",
       "      <td>42</td>\n",
       "      <td>0.017527</td>\n",
       "      <td>0.019064</td>\n",
       "      <td>0.949522</td>\n",
       "      <td>0.938778</td>\n",
       "      <td>0.950112</td>\n",
       "      <td>0.934753</td>\n",
       "      <td>0.949852</td>\n",
       "      <td>0.937031</td>\n",
       "      <td>00:36</td>\n",
       "    </tr>\n",
       "    <tr>\n",
       "      <td>43</td>\n",
       "      <td>0.018094</td>\n",
       "      <td>0.019610</td>\n",
       "      <td>0.941425</td>\n",
       "      <td>0.940733</td>\n",
       "      <td>0.940771</td>\n",
       "      <td>0.940333</td>\n",
       "      <td>0.941185</td>\n",
       "      <td>0.940676</td>\n",
       "      <td>00:36</td>\n",
       "    </tr>\n",
       "    <tr>\n",
       "      <td>44</td>\n",
       "      <td>0.017549</td>\n",
       "      <td>0.017930</td>\n",
       "      <td>0.947407</td>\n",
       "      <td>0.942665</td>\n",
       "      <td>0.947289</td>\n",
       "      <td>0.939163</td>\n",
       "      <td>0.947421</td>\n",
       "      <td>0.941203</td>\n",
       "      <td>00:35</td>\n",
       "    </tr>\n",
       "    <tr>\n",
       "      <td>45</td>\n",
       "      <td>0.017424</td>\n",
       "      <td>0.018752</td>\n",
       "      <td>0.943378</td>\n",
       "      <td>0.939775</td>\n",
       "      <td>0.942620</td>\n",
       "      <td>0.936111</td>\n",
       "      <td>0.942999</td>\n",
       "      <td>0.938202</td>\n",
       "      <td>00:36</td>\n",
       "    </tr>\n",
       "    <tr>\n",
       "      <td>46</td>\n",
       "      <td>0.016567</td>\n",
       "      <td>0.018193</td>\n",
       "      <td>0.945780</td>\n",
       "      <td>0.941777</td>\n",
       "      <td>0.945344</td>\n",
       "      <td>0.938205</td>\n",
       "      <td>0.945671</td>\n",
       "      <td>0.940255</td>\n",
       "      <td>00:36</td>\n",
       "    </tr>\n",
       "    <tr>\n",
       "      <td>47</td>\n",
       "      <td>0.016568</td>\n",
       "      <td>0.017321</td>\n",
       "      <td>0.951928</td>\n",
       "      <td>0.947837</td>\n",
       "      <td>0.951684</td>\n",
       "      <td>0.945265</td>\n",
       "      <td>0.951964</td>\n",
       "      <td>0.946745</td>\n",
       "      <td>00:36</td>\n",
       "    </tr>\n",
       "    <tr>\n",
       "      <td>48</td>\n",
       "      <td>0.016358</td>\n",
       "      <td>0.016739</td>\n",
       "      <td>0.952340</td>\n",
       "      <td>0.944025</td>\n",
       "      <td>0.952454</td>\n",
       "      <td>0.940768</td>\n",
       "      <td>0.952288</td>\n",
       "      <td>0.942664</td>\n",
       "      <td>00:36</td>\n",
       "    </tr>\n",
       "    <tr>\n",
       "      <td>49</td>\n",
       "      <td>0.017471</td>\n",
       "      <td>0.017520</td>\n",
       "      <td>0.948851</td>\n",
       "      <td>0.946658</td>\n",
       "      <td>0.948675</td>\n",
       "      <td>0.944414</td>\n",
       "      <td>0.948666</td>\n",
       "      <td>0.945770</td>\n",
       "      <td>00:36</td>\n",
       "    </tr>\n",
       "    <tr>\n",
       "      <td>50</td>\n",
       "      <td>0.019246</td>\n",
       "      <td>0.017295</td>\n",
       "      <td>0.951753</td>\n",
       "      <td>0.946430</td>\n",
       "      <td>0.951664</td>\n",
       "      <td>0.944713</td>\n",
       "      <td>0.951828</td>\n",
       "      <td>0.945908</td>\n",
       "      <td>00:36</td>\n",
       "    </tr>\n",
       "    <tr>\n",
       "      <td>51</td>\n",
       "      <td>0.018170</td>\n",
       "      <td>0.020759</td>\n",
       "      <td>0.948768</td>\n",
       "      <td>0.940992</td>\n",
       "      <td>0.948563</td>\n",
       "      <td>0.935931</td>\n",
       "      <td>0.948634</td>\n",
       "      <td>0.938873</td>\n",
       "      <td>00:36</td>\n",
       "    </tr>\n",
       "    <tr>\n",
       "      <td>52</td>\n",
       "      <td>0.017974</td>\n",
       "      <td>0.017540</td>\n",
       "      <td>0.949064</td>\n",
       "      <td>0.944521</td>\n",
       "      <td>0.949351</td>\n",
       "      <td>0.941698</td>\n",
       "      <td>0.949478</td>\n",
       "      <td>0.943404</td>\n",
       "      <td>00:35</td>\n",
       "    </tr>\n",
       "    <tr>\n",
       "      <td>53</td>\n",
       "      <td>0.017066</td>\n",
       "      <td>0.022121</td>\n",
       "      <td>0.949805</td>\n",
       "      <td>0.946811</td>\n",
       "      <td>0.949566</td>\n",
       "      <td>0.945679</td>\n",
       "      <td>0.949718</td>\n",
       "      <td>0.946473</td>\n",
       "      <td>00:35</td>\n",
       "    </tr>\n",
       "    <tr>\n",
       "      <td>54</td>\n",
       "      <td>0.015964</td>\n",
       "      <td>0.017589</td>\n",
       "      <td>0.947131</td>\n",
       "      <td>0.943192</td>\n",
       "      <td>0.946602</td>\n",
       "      <td>0.939228</td>\n",
       "      <td>0.947042</td>\n",
       "      <td>0.941508</td>\n",
       "      <td>00:35</td>\n",
       "    </tr>\n",
       "    <tr>\n",
       "      <td>55</td>\n",
       "      <td>0.016962</td>\n",
       "      <td>0.018115</td>\n",
       "      <td>0.948766</td>\n",
       "      <td>0.943555</td>\n",
       "      <td>0.948568</td>\n",
       "      <td>0.941594</td>\n",
       "      <td>0.948615</td>\n",
       "      <td>0.942839</td>\n",
       "      <td>00:35</td>\n",
       "    </tr>\n",
       "    <tr>\n",
       "      <td>56</td>\n",
       "      <td>0.018149</td>\n",
       "      <td>0.016611</td>\n",
       "      <td>0.950292</td>\n",
       "      <td>0.944757</td>\n",
       "      <td>0.949995</td>\n",
       "      <td>0.940770</td>\n",
       "      <td>0.950143</td>\n",
       "      <td>0.943094</td>\n",
       "      <td>00:35</td>\n",
       "    </tr>\n",
       "    <tr>\n",
       "      <td>57</td>\n",
       "      <td>0.017019</td>\n",
       "      <td>0.016291</td>\n",
       "      <td>0.949520</td>\n",
       "      <td>0.946765</td>\n",
       "      <td>0.949135</td>\n",
       "      <td>0.942949</td>\n",
       "      <td>0.949337</td>\n",
       "      <td>0.945237</td>\n",
       "      <td>00:35</td>\n",
       "    </tr>\n",
       "    <tr>\n",
       "      <td>58</td>\n",
       "      <td>0.017652</td>\n",
       "      <td>0.020460</td>\n",
       "      <td>0.951003</td>\n",
       "      <td>0.946131</td>\n",
       "      <td>0.951144</td>\n",
       "      <td>0.942245</td>\n",
       "      <td>0.951132</td>\n",
       "      <td>0.944546</td>\n",
       "      <td>00:36</td>\n",
       "    </tr>\n",
       "    <tr>\n",
       "      <td>59</td>\n",
       "      <td>0.016556</td>\n",
       "      <td>0.017436</td>\n",
       "      <td>0.949775</td>\n",
       "      <td>0.942625</td>\n",
       "      <td>0.949224</td>\n",
       "      <td>0.937971</td>\n",
       "      <td>0.949640</td>\n",
       "      <td>0.940656</td>\n",
       "      <td>00:35</td>\n",
       "    </tr>\n",
       "    <tr>\n",
       "      <td>60</td>\n",
       "      <td>0.017945</td>\n",
       "      <td>0.017348</td>\n",
       "      <td>0.944450</td>\n",
       "      <td>0.944362</td>\n",
       "      <td>0.943983</td>\n",
       "      <td>0.941682</td>\n",
       "      <td>0.944229</td>\n",
       "      <td>0.943326</td>\n",
       "      <td>00:36</td>\n",
       "    </tr>\n",
       "    <tr>\n",
       "      <td>61</td>\n",
       "      <td>0.015413</td>\n",
       "      <td>0.017502</td>\n",
       "      <td>0.949345</td>\n",
       "      <td>0.945354</td>\n",
       "      <td>0.948630</td>\n",
       "      <td>0.940795</td>\n",
       "      <td>0.949268</td>\n",
       "      <td>0.943425</td>\n",
       "      <td>00:35</td>\n",
       "    </tr>\n",
       "    <tr>\n",
       "      <td>62</td>\n",
       "      <td>0.016527</td>\n",
       "      <td>0.017124</td>\n",
       "      <td>0.947155</td>\n",
       "      <td>0.946163</td>\n",
       "      <td>0.946600</td>\n",
       "      <td>0.943879</td>\n",
       "      <td>0.946860</td>\n",
       "      <td>0.945279</td>\n",
       "      <td>00:35</td>\n",
       "    </tr>\n",
       "    <tr>\n",
       "      <td>63</td>\n",
       "      <td>0.016152</td>\n",
       "      <td>0.017577</td>\n",
       "      <td>0.949611</td>\n",
       "      <td>0.947005</td>\n",
       "      <td>0.949492</td>\n",
       "      <td>0.944272</td>\n",
       "      <td>0.949637</td>\n",
       "      <td>0.945915</td>\n",
       "      <td>00:35</td>\n",
       "    </tr>\n",
       "    <tr>\n",
       "      <td>64</td>\n",
       "      <td>0.016077</td>\n",
       "      <td>0.015998</td>\n",
       "      <td>0.953872</td>\n",
       "      <td>0.950122</td>\n",
       "      <td>0.954000</td>\n",
       "      <td>0.946505</td>\n",
       "      <td>0.953838</td>\n",
       "      <td>0.948626</td>\n",
       "      <td>00:36</td>\n",
       "    </tr>\n",
       "    <tr>\n",
       "      <td>65</td>\n",
       "      <td>0.015753</td>\n",
       "      <td>0.016444</td>\n",
       "      <td>0.950878</td>\n",
       "      <td>0.948121</td>\n",
       "      <td>0.950781</td>\n",
       "      <td>0.943637</td>\n",
       "      <td>0.950801</td>\n",
       "      <td>0.946289</td>\n",
       "      <td>00:36</td>\n",
       "    </tr>\n",
       "    <tr>\n",
       "      <td>66</td>\n",
       "      <td>0.016742</td>\n",
       "      <td>0.015762</td>\n",
       "      <td>0.952015</td>\n",
       "      <td>0.948910</td>\n",
       "      <td>0.952254</td>\n",
       "      <td>0.944204</td>\n",
       "      <td>0.952089</td>\n",
       "      <td>0.946933</td>\n",
       "      <td>00:35</td>\n",
       "    </tr>\n",
       "    <tr>\n",
       "      <td>67</td>\n",
       "      <td>0.017243</td>\n",
       "      <td>0.023299</td>\n",
       "      <td>0.950672</td>\n",
       "      <td>0.947465</td>\n",
       "      <td>0.951009</td>\n",
       "      <td>0.945117</td>\n",
       "      <td>0.950741</td>\n",
       "      <td>0.946566</td>\n",
       "      <td>00:36</td>\n",
       "    </tr>\n",
       "    <tr>\n",
       "      <td>68</td>\n",
       "      <td>0.016534</td>\n",
       "      <td>0.016529</td>\n",
       "      <td>0.949503</td>\n",
       "      <td>0.947649</td>\n",
       "      <td>0.947468</td>\n",
       "      <td>0.944287</td>\n",
       "      <td>0.948894</td>\n",
       "      <td>0.946336</td>\n",
       "      <td>00:36</td>\n",
       "    </tr>\n",
       "    <tr>\n",
       "      <td>69</td>\n",
       "      <td>0.016396</td>\n",
       "      <td>0.021450</td>\n",
       "      <td>0.953844</td>\n",
       "      <td>0.949181</td>\n",
       "      <td>0.953713</td>\n",
       "      <td>0.946839</td>\n",
       "      <td>0.953690</td>\n",
       "      <td>0.948353</td>\n",
       "      <td>00:35</td>\n",
       "    </tr>\n",
       "    <tr>\n",
       "      <td>70</td>\n",
       "      <td>0.014706</td>\n",
       "      <td>0.016100</td>\n",
       "      <td>0.953107</td>\n",
       "      <td>0.950967</td>\n",
       "      <td>0.952945</td>\n",
       "      <td>0.947472</td>\n",
       "      <td>0.953047</td>\n",
       "      <td>0.949603</td>\n",
       "      <td>00:36</td>\n",
       "    </tr>\n",
       "    <tr>\n",
       "      <td>71</td>\n",
       "      <td>0.016270</td>\n",
       "      <td>0.016906</td>\n",
       "      <td>0.940628</td>\n",
       "      <td>0.941800</td>\n",
       "      <td>0.939898</td>\n",
       "      <td>0.937150</td>\n",
       "      <td>0.940155</td>\n",
       "      <td>0.939913</td>\n",
       "      <td>00:35</td>\n",
       "    </tr>\n",
       "    <tr>\n",
       "      <td>72</td>\n",
       "      <td>0.015901</td>\n",
       "      <td>0.017541</td>\n",
       "      <td>0.941663</td>\n",
       "      <td>0.943639</td>\n",
       "      <td>0.940000</td>\n",
       "      <td>0.940445</td>\n",
       "      <td>0.941308</td>\n",
       "      <td>0.942452</td>\n",
       "      <td>00:36</td>\n",
       "    </tr>\n",
       "    <tr>\n",
       "      <td>73</td>\n",
       "      <td>0.014986</td>\n",
       "      <td>0.018813</td>\n",
       "      <td>0.953245</td>\n",
       "      <td>0.947603</td>\n",
       "      <td>0.953002</td>\n",
       "      <td>0.941759</td>\n",
       "      <td>0.953190</td>\n",
       "      <td>0.945225</td>\n",
       "      <td>00:36</td>\n",
       "    </tr>\n",
       "    <tr>\n",
       "      <td>74</td>\n",
       "      <td>0.015229</td>\n",
       "      <td>0.015676</td>\n",
       "      <td>0.954016</td>\n",
       "      <td>0.952222</td>\n",
       "      <td>0.954051</td>\n",
       "      <td>0.947480</td>\n",
       "      <td>0.953933</td>\n",
       "      <td>0.950261</td>\n",
       "      <td>00:36</td>\n",
       "    </tr>\n",
       "    <tr>\n",
       "      <td>75</td>\n",
       "      <td>0.015166</td>\n",
       "      <td>0.017182</td>\n",
       "      <td>0.953566</td>\n",
       "      <td>0.951301</td>\n",
       "      <td>0.952616</td>\n",
       "      <td>0.946989</td>\n",
       "      <td>0.953161</td>\n",
       "      <td>0.949580</td>\n",
       "      <td>00:35</td>\n",
       "    </tr>\n",
       "    <tr>\n",
       "      <td>76</td>\n",
       "      <td>0.015881</td>\n",
       "      <td>0.016892</td>\n",
       "      <td>0.955149</td>\n",
       "      <td>0.947428</td>\n",
       "      <td>0.955485</td>\n",
       "      <td>0.941539</td>\n",
       "      <td>0.955529</td>\n",
       "      <td>0.944952</td>\n",
       "      <td>00:36</td>\n",
       "    </tr>\n",
       "    <tr>\n",
       "      <td>77</td>\n",
       "      <td>0.015208</td>\n",
       "      <td>0.015505</td>\n",
       "      <td>0.948347</td>\n",
       "      <td>0.948307</td>\n",
       "      <td>0.947036</td>\n",
       "      <td>0.943961</td>\n",
       "      <td>0.948092</td>\n",
       "      <td>0.946534</td>\n",
       "      <td>00:35</td>\n",
       "    </tr>\n",
       "    <tr>\n",
       "      <td>78</td>\n",
       "      <td>0.015472</td>\n",
       "      <td>0.015721</td>\n",
       "      <td>0.952940</td>\n",
       "      <td>0.948264</td>\n",
       "      <td>0.953165</td>\n",
       "      <td>0.942585</td>\n",
       "      <td>0.952842</td>\n",
       "      <td>0.945920</td>\n",
       "      <td>00:35</td>\n",
       "    </tr>\n",
       "    <tr>\n",
       "      <td>79</td>\n",
       "      <td>0.014917</td>\n",
       "      <td>0.015079</td>\n",
       "      <td>0.954595</td>\n",
       "      <td>0.952284</td>\n",
       "      <td>0.954986</td>\n",
       "      <td>0.947269</td>\n",
       "      <td>0.954771</td>\n",
       "      <td>0.950225</td>\n",
       "      <td>00:36</td>\n",
       "    </tr>\n",
       "    <tr>\n",
       "      <td>80</td>\n",
       "      <td>0.015793</td>\n",
       "      <td>0.015241</td>\n",
       "      <td>0.954197</td>\n",
       "      <td>0.952474</td>\n",
       "      <td>0.954047</td>\n",
       "      <td>0.947201</td>\n",
       "      <td>0.954304</td>\n",
       "      <td>0.950336</td>\n",
       "      <td>00:35</td>\n",
       "    </tr>\n",
       "    <tr>\n",
       "      <td>81</td>\n",
       "      <td>0.015844</td>\n",
       "      <td>0.015936</td>\n",
       "      <td>0.955352</td>\n",
       "      <td>0.949430</td>\n",
       "      <td>0.955536</td>\n",
       "      <td>0.943683</td>\n",
       "      <td>0.955775</td>\n",
       "      <td>0.947097</td>\n",
       "      <td>00:36</td>\n",
       "    </tr>\n",
       "    <tr>\n",
       "      <td>82</td>\n",
       "      <td>0.015711</td>\n",
       "      <td>0.015777</td>\n",
       "      <td>0.951264</td>\n",
       "      <td>0.948828</td>\n",
       "      <td>0.951311</td>\n",
       "      <td>0.943396</td>\n",
       "      <td>0.951081</td>\n",
       "      <td>0.946625</td>\n",
       "      <td>00:35</td>\n",
       "    </tr>\n",
       "    <tr>\n",
       "      <td>83</td>\n",
       "      <td>0.014535</td>\n",
       "      <td>0.015216</td>\n",
       "      <td>0.956475</td>\n",
       "      <td>0.951564</td>\n",
       "      <td>0.955527</td>\n",
       "      <td>0.945990</td>\n",
       "      <td>0.955337</td>\n",
       "      <td>0.949263</td>\n",
       "      <td>00:35</td>\n",
       "    </tr>\n",
       "    <tr>\n",
       "      <td>84</td>\n",
       "      <td>0.015057</td>\n",
       "      <td>00:16</td>\n",
       "    </tr>\n",
       "  </tbody>\n",
       "</table>"
      ],
      "text/plain": [
       "<IPython.core.display.HTML object>"
      ]
     },
     "metadata": {},
     "output_type": "display_data"
    },
    {
     "name": "stdout",
     "output_type": "stream",
     "text": [
      "Better model found at epoch 0 with valid_loss value: 0.04848364368081093.\n",
      "Better model found at epoch 1 with valid_loss value: 0.03439512848854065.\n",
      "Better model found at epoch 3 with valid_loss value: 0.02771819196641445.\n",
      "Better model found at epoch 6 with valid_loss value: 0.02617965266108513.\n",
      "Better model found at epoch 13 with valid_loss value: 0.025424592196941376.\n",
      "Better model found at epoch 14 with valid_loss value: 0.025045081973075867.\n",
      "Better model found at epoch 16 with valid_loss value: 0.024579370394349098.\n",
      "Better model found at epoch 17 with valid_loss value: 0.02363789826631546.\n",
      "Better model found at epoch 23 with valid_loss value: 0.02274678274989128.\n",
      "Better model found at epoch 24 with valid_loss value: 0.020393583923578262.\n",
      "Better model found at epoch 27 with valid_loss value: 0.01919487491250038.\n",
      "Better model found at epoch 29 with valid_loss value: 0.01884983666241169.\n",
      "Better model found at epoch 31 with valid_loss value: 0.018197806552052498.\n",
      "Better model found at epoch 35 with valid_loss value: 0.01815282739698887.\n",
      "Better model found at epoch 36 with valid_loss value: 0.018032999709248543.\n",
      "Better model found at epoch 39 with valid_loss value: 0.01765395887196064.\n",
      "Better model found at epoch 47 with valid_loss value: 0.017320960760116577.\n",
      "Better model found at epoch 48 with valid_loss value: 0.016739262267947197.\n",
      "Better model found at epoch 56 with valid_loss value: 0.016611238941550255.\n",
      "Better model found at epoch 57 with valid_loss value: 0.016290884464979172.\n",
      "Better model found at epoch 64 with valid_loss value: 0.015998011454939842.\n",
      "Better model found at epoch 66 with valid_loss value: 0.015761585906147957.\n",
      "Better model found at epoch 74 with valid_loss value: 0.015675758942961693.\n",
      "Better model found at epoch 77 with valid_loss value: 0.015505184419453144.\n",
      "Better model found at epoch 79 with valid_loss value: 0.015079383738338947.\n"
     ]
    },
    {
     "ename": "IndexError",
     "evalue": "list index out of range",
     "output_type": "error",
     "traceback": [
      "\u001b[0;31m---------------------------------------------------------------------------\u001b[0m",
      "\u001b[0;31mKeyboardInterrupt\u001b[0m                         Traceback (most recent call last)",
      "\u001b[0;32m/mnt/pub_workspace_2T/anaconda3/envs/fastaiv2/lib/python3.8/site-packages/fastai/learner.py\u001b[0m in \u001b[0;36m_with_events\u001b[0;34m(self, f, event_type, ex, final)\u001b[0m\n\u001b[1;32m    153\u001b[0m     \u001b[0;32mdef\u001b[0m \u001b[0m_with_events\u001b[0m\u001b[0;34m(\u001b[0m\u001b[0mself\u001b[0m\u001b[0;34m,\u001b[0m \u001b[0mf\u001b[0m\u001b[0;34m,\u001b[0m \u001b[0mevent_type\u001b[0m\u001b[0;34m,\u001b[0m \u001b[0mex\u001b[0m\u001b[0;34m,\u001b[0m \u001b[0mfinal\u001b[0m\u001b[0;34m=\u001b[0m\u001b[0mnoop\u001b[0m\u001b[0;34m)\u001b[0m\u001b[0;34m:\u001b[0m\u001b[0;34m\u001b[0m\u001b[0;34m\u001b[0m\u001b[0m\n\u001b[0;32m--> 154\u001b[0;31m         \u001b[0;32mtry\u001b[0m\u001b[0;34m:\u001b[0m       \u001b[0mself\u001b[0m\u001b[0;34m(\u001b[0m\u001b[0;34mf'before_{event_type}'\u001b[0m\u001b[0;34m)\u001b[0m       \u001b[0;34m;\u001b[0m\u001b[0mf\u001b[0m\u001b[0;34m(\u001b[0m\u001b[0;34m)\u001b[0m\u001b[0;34m\u001b[0m\u001b[0;34m\u001b[0m\u001b[0m\n\u001b[0m\u001b[1;32m    155\u001b[0m         \u001b[0;32mexcept\u001b[0m \u001b[0mex\u001b[0m\u001b[0;34m:\u001b[0m \u001b[0mself\u001b[0m\u001b[0;34m(\u001b[0m\u001b[0;34mf'after_cancel_{event_type}'\u001b[0m\u001b[0;34m)\u001b[0m\u001b[0;34m\u001b[0m\u001b[0;34m\u001b[0m\u001b[0m\n",
      "\u001b[0;32m/mnt/pub_workspace_2T/anaconda3/envs/fastaiv2/lib/python3.8/site-packages/fastai/learner.py\u001b[0m in \u001b[0;36m_do_epoch\u001b[0;34m(self)\u001b[0m\n\u001b[1;32m    189\u001b[0m     \u001b[0;32mdef\u001b[0m \u001b[0m_do_epoch\u001b[0m\u001b[0;34m(\u001b[0m\u001b[0mself\u001b[0m\u001b[0;34m)\u001b[0m\u001b[0;34m:\u001b[0m\u001b[0;34m\u001b[0m\u001b[0;34m\u001b[0m\u001b[0m\n\u001b[0;32m--> 190\u001b[0;31m         \u001b[0mself\u001b[0m\u001b[0;34m.\u001b[0m\u001b[0m_do_epoch_train\u001b[0m\u001b[0;34m(\u001b[0m\u001b[0;34m)\u001b[0m\u001b[0;34m\u001b[0m\u001b[0;34m\u001b[0m\u001b[0m\n\u001b[0m\u001b[1;32m    191\u001b[0m         \u001b[0mself\u001b[0m\u001b[0;34m.\u001b[0m\u001b[0m_do_epoch_validate\u001b[0m\u001b[0;34m(\u001b[0m\u001b[0;34m)\u001b[0m\u001b[0;34m\u001b[0m\u001b[0;34m\u001b[0m\u001b[0m\n",
      "\u001b[0;32m/mnt/pub_workspace_2T/anaconda3/envs/fastaiv2/lib/python3.8/site-packages/fastai/learner.py\u001b[0m in \u001b[0;36m_do_epoch_train\u001b[0;34m(self)\u001b[0m\n\u001b[1;32m    181\u001b[0m         \u001b[0mself\u001b[0m\u001b[0;34m.\u001b[0m\u001b[0mdl\u001b[0m \u001b[0;34m=\u001b[0m \u001b[0mself\u001b[0m\u001b[0;34m.\u001b[0m\u001b[0mdls\u001b[0m\u001b[0;34m.\u001b[0m\u001b[0mtrain\u001b[0m\u001b[0;34m\u001b[0m\u001b[0;34m\u001b[0m\u001b[0m\n\u001b[0;32m--> 182\u001b[0;31m         \u001b[0mself\u001b[0m\u001b[0;34m.\u001b[0m\u001b[0m_with_events\u001b[0m\u001b[0;34m(\u001b[0m\u001b[0mself\u001b[0m\u001b[0;34m.\u001b[0m\u001b[0mall_batches\u001b[0m\u001b[0;34m,\u001b[0m \u001b[0;34m'train'\u001b[0m\u001b[0;34m,\u001b[0m \u001b[0mCancelTrainException\u001b[0m\u001b[0;34m)\u001b[0m\u001b[0;34m\u001b[0m\u001b[0;34m\u001b[0m\u001b[0m\n\u001b[0m\u001b[1;32m    183\u001b[0m \u001b[0;34m\u001b[0m\u001b[0m\n",
      "\u001b[0;32m/mnt/pub_workspace_2T/anaconda3/envs/fastaiv2/lib/python3.8/site-packages/fastai/learner.py\u001b[0m in \u001b[0;36m_with_events\u001b[0;34m(self, f, event_type, ex, final)\u001b[0m\n\u001b[1;32m    153\u001b[0m     \u001b[0;32mdef\u001b[0m \u001b[0m_with_events\u001b[0m\u001b[0;34m(\u001b[0m\u001b[0mself\u001b[0m\u001b[0;34m,\u001b[0m \u001b[0mf\u001b[0m\u001b[0;34m,\u001b[0m \u001b[0mevent_type\u001b[0m\u001b[0;34m,\u001b[0m \u001b[0mex\u001b[0m\u001b[0;34m,\u001b[0m \u001b[0mfinal\u001b[0m\u001b[0;34m=\u001b[0m\u001b[0mnoop\u001b[0m\u001b[0;34m)\u001b[0m\u001b[0;34m:\u001b[0m\u001b[0;34m\u001b[0m\u001b[0;34m\u001b[0m\u001b[0m\n\u001b[0;32m--> 154\u001b[0;31m         \u001b[0;32mtry\u001b[0m\u001b[0;34m:\u001b[0m       \u001b[0mself\u001b[0m\u001b[0;34m(\u001b[0m\u001b[0;34mf'before_{event_type}'\u001b[0m\u001b[0;34m)\u001b[0m       \u001b[0;34m;\u001b[0m\u001b[0mf\u001b[0m\u001b[0;34m(\u001b[0m\u001b[0;34m)\u001b[0m\u001b[0;34m\u001b[0m\u001b[0;34m\u001b[0m\u001b[0m\n\u001b[0m\u001b[1;32m    155\u001b[0m         \u001b[0;32mexcept\u001b[0m \u001b[0mex\u001b[0m\u001b[0;34m:\u001b[0m \u001b[0mself\u001b[0m\u001b[0;34m(\u001b[0m\u001b[0;34mf'after_cancel_{event_type}'\u001b[0m\u001b[0;34m)\u001b[0m\u001b[0;34m\u001b[0m\u001b[0;34m\u001b[0m\u001b[0m\n",
      "\u001b[0;32m/mnt/pub_workspace_2T/anaconda3/envs/fastaiv2/lib/python3.8/site-packages/fastai/learner.py\u001b[0m in \u001b[0;36mall_batches\u001b[0;34m(self)\u001b[0m\n\u001b[1;32m    159\u001b[0m         \u001b[0mself\u001b[0m\u001b[0;34m.\u001b[0m\u001b[0mn_iter\u001b[0m \u001b[0;34m=\u001b[0m \u001b[0mlen\u001b[0m\u001b[0;34m(\u001b[0m\u001b[0mself\u001b[0m\u001b[0;34m.\u001b[0m\u001b[0mdl\u001b[0m\u001b[0;34m)\u001b[0m\u001b[0;34m\u001b[0m\u001b[0;34m\u001b[0m\u001b[0m\n\u001b[0;32m--> 160\u001b[0;31m         \u001b[0;32mfor\u001b[0m \u001b[0mo\u001b[0m \u001b[0;32min\u001b[0m \u001b[0menumerate\u001b[0m\u001b[0;34m(\u001b[0m\u001b[0mself\u001b[0m\u001b[0;34m.\u001b[0m\u001b[0mdl\u001b[0m\u001b[0;34m)\u001b[0m\u001b[0;34m:\u001b[0m \u001b[0mself\u001b[0m\u001b[0;34m.\u001b[0m\u001b[0mone_batch\u001b[0m\u001b[0;34m(\u001b[0m\u001b[0;34m*\u001b[0m\u001b[0mo\u001b[0m\u001b[0;34m)\u001b[0m\u001b[0;34m\u001b[0m\u001b[0;34m\u001b[0m\u001b[0m\n\u001b[0m\u001b[1;32m    161\u001b[0m \u001b[0;34m\u001b[0m\u001b[0m\n",
      "\u001b[0;32m/mnt/pub_workspace_2T/anaconda3/envs/fastaiv2/lib/python3.8/site-packages/torch/utils/data/dataloader.py\u001b[0m in \u001b[0;36m__next__\u001b[0;34m(self)\u001b[0m\n\u001b[1;32m    434\u001b[0m             \u001b[0mself\u001b[0m\u001b[0;34m.\u001b[0m\u001b[0m_reset\u001b[0m\u001b[0;34m(\u001b[0m\u001b[0;34m)\u001b[0m\u001b[0;34m\u001b[0m\u001b[0;34m\u001b[0m\u001b[0m\n\u001b[0;32m--> 435\u001b[0;31m         \u001b[0mdata\u001b[0m \u001b[0;34m=\u001b[0m \u001b[0mself\u001b[0m\u001b[0;34m.\u001b[0m\u001b[0m_next_data\u001b[0m\u001b[0;34m(\u001b[0m\u001b[0;34m)\u001b[0m\u001b[0;34m\u001b[0m\u001b[0;34m\u001b[0m\u001b[0m\n\u001b[0m\u001b[1;32m    436\u001b[0m         \u001b[0mself\u001b[0m\u001b[0;34m.\u001b[0m\u001b[0m_num_yielded\u001b[0m \u001b[0;34m+=\u001b[0m \u001b[0;36m1\u001b[0m\u001b[0;34m\u001b[0m\u001b[0;34m\u001b[0m\u001b[0m\n",
      "\u001b[0;32m/mnt/pub_workspace_2T/anaconda3/envs/fastaiv2/lib/python3.8/site-packages/torch/utils/data/dataloader.py\u001b[0m in \u001b[0;36m_next_data\u001b[0;34m(self)\u001b[0m\n\u001b[1;32m    474\u001b[0m         \u001b[0mindex\u001b[0m \u001b[0;34m=\u001b[0m \u001b[0mself\u001b[0m\u001b[0;34m.\u001b[0m\u001b[0m_next_index\u001b[0m\u001b[0;34m(\u001b[0m\u001b[0;34m)\u001b[0m  \u001b[0;31m# may raise StopIteration\u001b[0m\u001b[0;34m\u001b[0m\u001b[0;34m\u001b[0m\u001b[0m\n\u001b[0;32m--> 475\u001b[0;31m         \u001b[0mdata\u001b[0m \u001b[0;34m=\u001b[0m \u001b[0mself\u001b[0m\u001b[0;34m.\u001b[0m\u001b[0m_dataset_fetcher\u001b[0m\u001b[0;34m.\u001b[0m\u001b[0mfetch\u001b[0m\u001b[0;34m(\u001b[0m\u001b[0mindex\u001b[0m\u001b[0;34m)\u001b[0m  \u001b[0;31m# may raise StopIteration\u001b[0m\u001b[0;34m\u001b[0m\u001b[0;34m\u001b[0m\u001b[0m\n\u001b[0m\u001b[1;32m    476\u001b[0m         \u001b[0;32mif\u001b[0m \u001b[0mself\u001b[0m\u001b[0;34m.\u001b[0m\u001b[0m_pin_memory\u001b[0m\u001b[0;34m:\u001b[0m\u001b[0;34m\u001b[0m\u001b[0;34m\u001b[0m\u001b[0m\n",
      "\u001b[0;32m/mnt/pub_workspace_2T/anaconda3/envs/fastaiv2/lib/python3.8/site-packages/torch/utils/data/_utils/fetch.py\u001b[0m in \u001b[0;36mfetch\u001b[0;34m(self, possibly_batched_index)\u001b[0m\n\u001b[1;32m     43\u001b[0m         \u001b[0;32mif\u001b[0m \u001b[0mself\u001b[0m\u001b[0;34m.\u001b[0m\u001b[0mauto_collation\u001b[0m\u001b[0;34m:\u001b[0m\u001b[0;34m\u001b[0m\u001b[0;34m\u001b[0m\u001b[0m\n\u001b[0;32m---> 44\u001b[0;31m             \u001b[0mdata\u001b[0m \u001b[0;34m=\u001b[0m \u001b[0;34m[\u001b[0m\u001b[0mself\u001b[0m\u001b[0;34m.\u001b[0m\u001b[0mdataset\u001b[0m\u001b[0;34m[\u001b[0m\u001b[0midx\u001b[0m\u001b[0;34m]\u001b[0m \u001b[0;32mfor\u001b[0m \u001b[0midx\u001b[0m \u001b[0;32min\u001b[0m \u001b[0mpossibly_batched_index\u001b[0m\u001b[0;34m]\u001b[0m\u001b[0;34m\u001b[0m\u001b[0;34m\u001b[0m\u001b[0m\n\u001b[0m\u001b[1;32m     45\u001b[0m         \u001b[0;32melse\u001b[0m\u001b[0;34m:\u001b[0m\u001b[0;34m\u001b[0m\u001b[0;34m\u001b[0m\u001b[0m\n",
      "\u001b[0;32m/mnt/pub_workspace_2T/anaconda3/envs/fastaiv2/lib/python3.8/site-packages/torch/utils/data/_utils/fetch.py\u001b[0m in \u001b[0;36m<listcomp>\u001b[0;34m(.0)\u001b[0m\n\u001b[1;32m     43\u001b[0m         \u001b[0;32mif\u001b[0m \u001b[0mself\u001b[0m\u001b[0;34m.\u001b[0m\u001b[0mauto_collation\u001b[0m\u001b[0;34m:\u001b[0m\u001b[0;34m\u001b[0m\u001b[0;34m\u001b[0m\u001b[0m\n\u001b[0;32m---> 44\u001b[0;31m             \u001b[0mdata\u001b[0m \u001b[0;34m=\u001b[0m \u001b[0;34m[\u001b[0m\u001b[0mself\u001b[0m\u001b[0;34m.\u001b[0m\u001b[0mdataset\u001b[0m\u001b[0;34m[\u001b[0m\u001b[0midx\u001b[0m\u001b[0;34m]\u001b[0m \u001b[0;32mfor\u001b[0m \u001b[0midx\u001b[0m \u001b[0;32min\u001b[0m \u001b[0mpossibly_batched_index\u001b[0m\u001b[0;34m]\u001b[0m\u001b[0;34m\u001b[0m\u001b[0;34m\u001b[0m\u001b[0m\n\u001b[0m\u001b[1;32m     45\u001b[0m         \u001b[0;32melse\u001b[0m\u001b[0;34m:\u001b[0m\u001b[0;34m\u001b[0m\u001b[0;34m\u001b[0m\u001b[0m\n",
      "\u001b[0;32m/mnt/workspace_hong/jiabin/IQA_code/code/MSF_BIQA_pytorch/hong_utils_modified.py\u001b[0m in \u001b[0;36m__getitem__\u001b[0;34m(self, idx)\u001b[0m\n\u001b[1;32m    195\u001b[0m     \u001b[0;32mdef\u001b[0m \u001b[0m__getitem__\u001b[0m\u001b[0;34m(\u001b[0m\u001b[0mself\u001b[0m\u001b[0;34m,\u001b[0m\u001b[0midx\u001b[0m\u001b[0;34m)\u001b[0m\u001b[0;34m:\u001b[0m\u001b[0;34m\u001b[0m\u001b[0;34m\u001b[0m\u001b[0m\n\u001b[0;32m--> 196\u001b[0;31m         \u001b[0mitem\u001b[0m \u001b[0;34m=\u001b[0m \u001b[0mself\u001b[0m\u001b[0;34m.\u001b[0m\u001b[0mds\u001b[0m\u001b[0;34m[\u001b[0m\u001b[0midx\u001b[0m\u001b[0;34m]\u001b[0m\u001b[0;34m\u001b[0m\u001b[0;34m\u001b[0m\u001b[0m\n\u001b[0m\u001b[1;32m    197\u001b[0m         \u001b[0;32mreturn\u001b[0m \u001b[0;34m{\u001b[0m\u001b[0;34m'datum'\u001b[0m\u001b[0;34m:\u001b[0m \u001b[0mitem\u001b[0m\u001b[0;34m[\u001b[0m\u001b[0;34m'datum'\u001b[0m\u001b[0;34m]\u001b[0m\u001b[0;34m,\u001b[0m \u001b[0;34m'score'\u001b[0m\u001b[0;34m:\u001b[0m \u001b[0mself\u001b[0m\u001b[0;34m.\u001b[0m\u001b[0mnorm\u001b[0m\u001b[0;34m(\u001b[0m\u001b[0mitem\u001b[0m\u001b[0;34m[\u001b[0m\u001b[0;34m'score'\u001b[0m\u001b[0;34m]\u001b[0m\u001b[0;34m)\u001b[0m\u001b[0;34m}\u001b[0m\u001b[0;34m\u001b[0m\u001b[0;34m\u001b[0m\u001b[0m\n",
      "\u001b[0;32m/mnt/workspace_hong/jiabin/IQA_code/code/MSF_BIQA_pytorch/hong_utils_modified.py\u001b[0m in \u001b[0;36m__getitem__\u001b[0;34m(self, idx)\u001b[0m\n\u001b[1;32m    109\u001b[0m \u001b[0;31m#         ]\u001b[0m\u001b[0;34m\u001b[0m\u001b[0;34m\u001b[0m\u001b[0;34m\u001b[0m\u001b[0m\n\u001b[0;32m--> 110\u001b[0;31m         \u001b[0mmat_datum\u001b[0m \u001b[0;34m=\u001b[0m \u001b[0mself\u001b[0m\u001b[0;34m.\u001b[0m\u001b[0mget_mat_datum\u001b[0m\u001b[0;34m(\u001b[0m\u001b[0midx\u001b[0m\u001b[0;34m)\u001b[0m\u001b[0;34m\u001b[0m\u001b[0;34m\u001b[0m\u001b[0m\n\u001b[0m\u001b[1;32m    111\u001b[0m \u001b[0;34m\u001b[0m\u001b[0m\n",
      "\u001b[0;32m/mnt/workspace_hong/jiabin/IQA_code/code/MSF_BIQA_pytorch/hong_utils_modified.py\u001b[0m in \u001b[0;36mget_mat_datum\u001b[0;34m(self, idx)\u001b[0m\n\u001b[1;32m    141\u001b[0m     \u001b[0;32mdef\u001b[0m \u001b[0mget_mat_datum\u001b[0m\u001b[0;34m(\u001b[0m\u001b[0mself\u001b[0m\u001b[0;34m,\u001b[0m\u001b[0midx\u001b[0m\u001b[0;34m)\u001b[0m\u001b[0;34m:\u001b[0m\u001b[0;34m\u001b[0m\u001b[0;34m\u001b[0m\u001b[0m\n\u001b[0;32m--> 142\u001b[0;31m         return [\n\u001b[0m\u001b[1;32m    143\u001b[0m             scio.loadmat(\n",
      "\u001b[0;32m/mnt/workspace_hong/jiabin/IQA_code/code/MSF_BIQA_pytorch/hong_utils_modified.py\u001b[0m in \u001b[0;36m<listcomp>\u001b[0;34m(.0)\u001b[0m\n\u001b[1;32m    142\u001b[0m         return [\n\u001b[0;32m--> 143\u001b[0;31m             scio.loadmat(\n\u001b[0m\u001b[1;32m    144\u001b[0m                 os.path.join(\n",
      "\u001b[0;32m/mnt/pub_workspace_2T/anaconda3/envs/fastaiv2/lib/python3.8/site-packages/scipy/io/matlab/mio.py\u001b[0m in \u001b[0;36mloadmat\u001b[0;34m(file_name, mdict, appendmat, **kwargs)\u001b[0m\n\u001b[1;32m    223\u001b[0m         \u001b[0mMR\u001b[0m\u001b[0;34m,\u001b[0m \u001b[0m_\u001b[0m \u001b[0;34m=\u001b[0m \u001b[0mmat_reader_factory\u001b[0m\u001b[0;34m(\u001b[0m\u001b[0mf\u001b[0m\u001b[0;34m,\u001b[0m \u001b[0;34m**\u001b[0m\u001b[0mkwargs\u001b[0m\u001b[0;34m)\u001b[0m\u001b[0;34m\u001b[0m\u001b[0;34m\u001b[0m\u001b[0m\n\u001b[0;32m--> 224\u001b[0;31m         \u001b[0mmatfile_dict\u001b[0m \u001b[0;34m=\u001b[0m \u001b[0mMR\u001b[0m\u001b[0;34m.\u001b[0m\u001b[0mget_variables\u001b[0m\u001b[0;34m(\u001b[0m\u001b[0mvariable_names\u001b[0m\u001b[0;34m)\u001b[0m\u001b[0;34m\u001b[0m\u001b[0;34m\u001b[0m\u001b[0m\n\u001b[0m\u001b[1;32m    225\u001b[0m \u001b[0;34m\u001b[0m\u001b[0m\n",
      "\u001b[0;32m/mnt/pub_workspace_2T/anaconda3/envs/fastaiv2/lib/python3.8/site-packages/scipy/io/matlab/mio5.py\u001b[0m in \u001b[0;36mget_variables\u001b[0;34m(self, variable_names)\u001b[0m\n\u001b[1;32m    332\u001b[0m             \u001b[0;32mtry\u001b[0m\u001b[0;34m:\u001b[0m\u001b[0;34m\u001b[0m\u001b[0;34m\u001b[0m\u001b[0m\n\u001b[0;32m--> 333\u001b[0;31m                 \u001b[0mres\u001b[0m \u001b[0;34m=\u001b[0m \u001b[0mself\u001b[0m\u001b[0;34m.\u001b[0m\u001b[0mread_var_array\u001b[0m\u001b[0;34m(\u001b[0m\u001b[0mhdr\u001b[0m\u001b[0;34m,\u001b[0m \u001b[0mprocess\u001b[0m\u001b[0;34m)\u001b[0m\u001b[0;34m\u001b[0m\u001b[0;34m\u001b[0m\u001b[0m\n\u001b[0m\u001b[1;32m    334\u001b[0m             \u001b[0;32mexcept\u001b[0m \u001b[0mMatReadError\u001b[0m \u001b[0;32mas\u001b[0m \u001b[0merr\u001b[0m\u001b[0;34m:\u001b[0m\u001b[0;34m\u001b[0m\u001b[0;34m\u001b[0m\u001b[0m\n",
      "\u001b[0;32m/mnt/pub_workspace_2T/anaconda3/envs/fastaiv2/lib/python3.8/site-packages/scipy/io/matlab/mio5.py\u001b[0m in \u001b[0;36mread_var_array\u001b[0;34m(self, header, process)\u001b[0m\n\u001b[1;32m    292\u001b[0m         '''\n\u001b[0;32m--> 293\u001b[0;31m         \u001b[0;32mreturn\u001b[0m \u001b[0mself\u001b[0m\u001b[0;34m.\u001b[0m\u001b[0m_matrix_reader\u001b[0m\u001b[0;34m.\u001b[0m\u001b[0marray_from_header\u001b[0m\u001b[0;34m(\u001b[0m\u001b[0mheader\u001b[0m\u001b[0;34m,\u001b[0m \u001b[0mprocess\u001b[0m\u001b[0;34m)\u001b[0m\u001b[0;34m\u001b[0m\u001b[0;34m\u001b[0m\u001b[0m\n\u001b[0m\u001b[1;32m    294\u001b[0m \u001b[0;34m\u001b[0m\u001b[0m\n",
      "\u001b[0;31mKeyboardInterrupt\u001b[0m: ",
      "\nDuring handling of the above exception, another exception occurred:\n",
      "\u001b[0;31mIndexError\u001b[0m                                Traceback (most recent call last)",
      "\u001b[0;32m<ipython-input-30-b9f32431581c>\u001b[0m in \u001b[0;36m<module>\u001b[0;34m\u001b[0m\n\u001b[1;32m      1\u001b[0m \u001b[0;31m# lr = lr/10\u001b[0m\u001b[0;34m\u001b[0m\u001b[0;34m\u001b[0m\u001b[0;34m\u001b[0m\u001b[0m\n\u001b[1;32m      2\u001b[0m \u001b[0mprint\u001b[0m\u001b[0;34m(\u001b[0m\u001b[0mlr\u001b[0m\u001b[0;34m)\u001b[0m\u001b[0;34m\u001b[0m\u001b[0;34m\u001b[0m\u001b[0m\n\u001b[0;32m----> 3\u001b[0;31m \u001b[0mlearn\u001b[0m\u001b[0;34m.\u001b[0m\u001b[0mfit\u001b[0m\u001b[0;34m(\u001b[0m\u001b[0;36m179\u001b[0m\u001b[0;34m,\u001b[0m \u001b[0mlr\u001b[0m\u001b[0;34m=\u001b[0m\u001b[0mlr\u001b[0m\u001b[0;34m)\u001b[0m\u001b[0;34m\u001b[0m\u001b[0;34m\u001b[0m\u001b[0m\n\u001b[0m",
      "\u001b[0;32m/mnt/pub_workspace_2T/anaconda3/envs/fastaiv2/lib/python3.8/site-packages/fastai/learner.py\u001b[0m in \u001b[0;36mfit\u001b[0;34m(self, n_epoch, lr, wd, cbs, reset_opt)\u001b[0m\n\u001b[1;32m    203\u001b[0m             \u001b[0mself\u001b[0m\u001b[0;34m.\u001b[0m\u001b[0mopt\u001b[0m\u001b[0;34m.\u001b[0m\u001b[0mset_hypers\u001b[0m\u001b[0;34m(\u001b[0m\u001b[0mlr\u001b[0m\u001b[0;34m=\u001b[0m\u001b[0mself\u001b[0m\u001b[0;34m.\u001b[0m\u001b[0mlr\u001b[0m \u001b[0;32mif\u001b[0m \u001b[0mlr\u001b[0m \u001b[0;32mis\u001b[0m \u001b[0;32mNone\u001b[0m \u001b[0;32melse\u001b[0m \u001b[0mlr\u001b[0m\u001b[0;34m)\u001b[0m\u001b[0;34m\u001b[0m\u001b[0;34m\u001b[0m\u001b[0m\n\u001b[1;32m    204\u001b[0m             \u001b[0mself\u001b[0m\u001b[0;34m.\u001b[0m\u001b[0mn_epoch\u001b[0m \u001b[0;34m=\u001b[0m \u001b[0mn_epoch\u001b[0m\u001b[0;34m\u001b[0m\u001b[0;34m\u001b[0m\u001b[0m\n\u001b[0;32m--> 205\u001b[0;31m             \u001b[0mself\u001b[0m\u001b[0;34m.\u001b[0m\u001b[0m_with_events\u001b[0m\u001b[0;34m(\u001b[0m\u001b[0mself\u001b[0m\u001b[0;34m.\u001b[0m\u001b[0m_do_fit\u001b[0m\u001b[0;34m,\u001b[0m \u001b[0;34m'fit'\u001b[0m\u001b[0;34m,\u001b[0m \u001b[0mCancelFitException\u001b[0m\u001b[0;34m,\u001b[0m \u001b[0mself\u001b[0m\u001b[0;34m.\u001b[0m\u001b[0m_end_cleanup\u001b[0m\u001b[0;34m)\u001b[0m\u001b[0;34m\u001b[0m\u001b[0;34m\u001b[0m\u001b[0m\n\u001b[0m\u001b[1;32m    206\u001b[0m \u001b[0;34m\u001b[0m\u001b[0m\n\u001b[1;32m    207\u001b[0m     \u001b[0;32mdef\u001b[0m \u001b[0m_end_cleanup\u001b[0m\u001b[0;34m(\u001b[0m\u001b[0mself\u001b[0m\u001b[0;34m)\u001b[0m\u001b[0;34m:\u001b[0m \u001b[0mself\u001b[0m\u001b[0;34m.\u001b[0m\u001b[0mdl\u001b[0m\u001b[0;34m,\u001b[0m\u001b[0mself\u001b[0m\u001b[0;34m.\u001b[0m\u001b[0mxb\u001b[0m\u001b[0;34m,\u001b[0m\u001b[0mself\u001b[0m\u001b[0;34m.\u001b[0m\u001b[0myb\u001b[0m\u001b[0;34m,\u001b[0m\u001b[0mself\u001b[0m\u001b[0;34m.\u001b[0m\u001b[0mpred\u001b[0m\u001b[0;34m,\u001b[0m\u001b[0mself\u001b[0m\u001b[0;34m.\u001b[0m\u001b[0mloss\u001b[0m \u001b[0;34m=\u001b[0m \u001b[0;32mNone\u001b[0m\u001b[0;34m,\u001b[0m\u001b[0;34m(\u001b[0m\u001b[0;32mNone\u001b[0m\u001b[0;34m,\u001b[0m\u001b[0;34m)\u001b[0m\u001b[0;34m,\u001b[0m\u001b[0;34m(\u001b[0m\u001b[0;32mNone\u001b[0m\u001b[0;34m,\u001b[0m\u001b[0;34m)\u001b[0m\u001b[0;34m,\u001b[0m\u001b[0;32mNone\u001b[0m\u001b[0;34m,\u001b[0m\u001b[0;32mNone\u001b[0m\u001b[0;34m\u001b[0m\u001b[0;34m\u001b[0m\u001b[0m\n",
      "\u001b[0;32m/mnt/pub_workspace_2T/anaconda3/envs/fastaiv2/lib/python3.8/site-packages/fastai/learner.py\u001b[0m in \u001b[0;36m_with_events\u001b[0;34m(self, f, event_type, ex, final)\u001b[0m\n\u001b[1;32m    152\u001b[0m \u001b[0;34m\u001b[0m\u001b[0m\n\u001b[1;32m    153\u001b[0m     \u001b[0;32mdef\u001b[0m \u001b[0m_with_events\u001b[0m\u001b[0;34m(\u001b[0m\u001b[0mself\u001b[0m\u001b[0;34m,\u001b[0m \u001b[0mf\u001b[0m\u001b[0;34m,\u001b[0m \u001b[0mevent_type\u001b[0m\u001b[0;34m,\u001b[0m \u001b[0mex\u001b[0m\u001b[0;34m,\u001b[0m \u001b[0mfinal\u001b[0m\u001b[0;34m=\u001b[0m\u001b[0mnoop\u001b[0m\u001b[0;34m)\u001b[0m\u001b[0;34m:\u001b[0m\u001b[0;34m\u001b[0m\u001b[0;34m\u001b[0m\u001b[0m\n\u001b[0;32m--> 154\u001b[0;31m         \u001b[0;32mtry\u001b[0m\u001b[0;34m:\u001b[0m       \u001b[0mself\u001b[0m\u001b[0;34m(\u001b[0m\u001b[0;34mf'before_{event_type}'\u001b[0m\u001b[0;34m)\u001b[0m       \u001b[0;34m;\u001b[0m\u001b[0mf\u001b[0m\u001b[0;34m(\u001b[0m\u001b[0;34m)\u001b[0m\u001b[0;34m\u001b[0m\u001b[0;34m\u001b[0m\u001b[0m\n\u001b[0m\u001b[1;32m    155\u001b[0m         \u001b[0;32mexcept\u001b[0m \u001b[0mex\u001b[0m\u001b[0;34m:\u001b[0m \u001b[0mself\u001b[0m\u001b[0;34m(\u001b[0m\u001b[0;34mf'after_cancel_{event_type}'\u001b[0m\u001b[0;34m)\u001b[0m\u001b[0;34m\u001b[0m\u001b[0;34m\u001b[0m\u001b[0m\n\u001b[1;32m    156\u001b[0m         \u001b[0;32mfinally\u001b[0m\u001b[0;34m:\u001b[0m   \u001b[0mself\u001b[0m\u001b[0;34m(\u001b[0m\u001b[0;34mf'after_{event_type}'\u001b[0m\u001b[0;34m)\u001b[0m        \u001b[0;34m;\u001b[0m\u001b[0mfinal\u001b[0m\u001b[0;34m(\u001b[0m\u001b[0;34m)\u001b[0m\u001b[0;34m\u001b[0m\u001b[0;34m\u001b[0m\u001b[0m\n",
      "\u001b[0;32m/mnt/pub_workspace_2T/anaconda3/envs/fastaiv2/lib/python3.8/site-packages/fastai/learner.py\u001b[0m in \u001b[0;36m_do_fit\u001b[0;34m(self)\u001b[0m\n\u001b[1;32m    194\u001b[0m         \u001b[0;32mfor\u001b[0m \u001b[0mepoch\u001b[0m \u001b[0;32min\u001b[0m \u001b[0mrange\u001b[0m\u001b[0;34m(\u001b[0m\u001b[0mself\u001b[0m\u001b[0;34m.\u001b[0m\u001b[0mn_epoch\u001b[0m\u001b[0;34m)\u001b[0m\u001b[0;34m:\u001b[0m\u001b[0;34m\u001b[0m\u001b[0;34m\u001b[0m\u001b[0m\n\u001b[1;32m    195\u001b[0m             \u001b[0mself\u001b[0m\u001b[0;34m.\u001b[0m\u001b[0mepoch\u001b[0m\u001b[0;34m=\u001b[0m\u001b[0mepoch\u001b[0m\u001b[0;34m\u001b[0m\u001b[0;34m\u001b[0m\u001b[0m\n\u001b[0;32m--> 196\u001b[0;31m             \u001b[0mself\u001b[0m\u001b[0;34m.\u001b[0m\u001b[0m_with_events\u001b[0m\u001b[0;34m(\u001b[0m\u001b[0mself\u001b[0m\u001b[0;34m.\u001b[0m\u001b[0m_do_epoch\u001b[0m\u001b[0;34m,\u001b[0m \u001b[0;34m'epoch'\u001b[0m\u001b[0;34m,\u001b[0m \u001b[0mCancelEpochException\u001b[0m\u001b[0;34m)\u001b[0m\u001b[0;34m\u001b[0m\u001b[0;34m\u001b[0m\u001b[0m\n\u001b[0m\u001b[1;32m    197\u001b[0m \u001b[0;34m\u001b[0m\u001b[0m\n\u001b[1;32m    198\u001b[0m     \u001b[0;32mdef\u001b[0m \u001b[0mfit\u001b[0m\u001b[0;34m(\u001b[0m\u001b[0mself\u001b[0m\u001b[0;34m,\u001b[0m \u001b[0mn_epoch\u001b[0m\u001b[0;34m,\u001b[0m \u001b[0mlr\u001b[0m\u001b[0;34m=\u001b[0m\u001b[0;32mNone\u001b[0m\u001b[0;34m,\u001b[0m \u001b[0mwd\u001b[0m\u001b[0;34m=\u001b[0m\u001b[0;32mNone\u001b[0m\u001b[0;34m,\u001b[0m \u001b[0mcbs\u001b[0m\u001b[0;34m=\u001b[0m\u001b[0;32mNone\u001b[0m\u001b[0;34m,\u001b[0m \u001b[0mreset_opt\u001b[0m\u001b[0;34m=\u001b[0m\u001b[0;32mFalse\u001b[0m\u001b[0;34m)\u001b[0m\u001b[0;34m:\u001b[0m\u001b[0;34m\u001b[0m\u001b[0;34m\u001b[0m\u001b[0m\n",
      "\u001b[0;32m/mnt/pub_workspace_2T/anaconda3/envs/fastaiv2/lib/python3.8/site-packages/fastai/learner.py\u001b[0m in \u001b[0;36m_with_events\u001b[0;34m(self, f, event_type, ex, final)\u001b[0m\n\u001b[1;32m    154\u001b[0m         \u001b[0;32mtry\u001b[0m\u001b[0;34m:\u001b[0m       \u001b[0mself\u001b[0m\u001b[0;34m(\u001b[0m\u001b[0;34mf'before_{event_type}'\u001b[0m\u001b[0;34m)\u001b[0m       \u001b[0;34m;\u001b[0m\u001b[0mf\u001b[0m\u001b[0;34m(\u001b[0m\u001b[0;34m)\u001b[0m\u001b[0;34m\u001b[0m\u001b[0;34m\u001b[0m\u001b[0m\n\u001b[1;32m    155\u001b[0m         \u001b[0;32mexcept\u001b[0m \u001b[0mex\u001b[0m\u001b[0;34m:\u001b[0m \u001b[0mself\u001b[0m\u001b[0;34m(\u001b[0m\u001b[0;34mf'after_cancel_{event_type}'\u001b[0m\u001b[0;34m)\u001b[0m\u001b[0;34m\u001b[0m\u001b[0;34m\u001b[0m\u001b[0m\n\u001b[0;32m--> 156\u001b[0;31m         \u001b[0;32mfinally\u001b[0m\u001b[0;34m:\u001b[0m   \u001b[0mself\u001b[0m\u001b[0;34m(\u001b[0m\u001b[0;34mf'after_{event_type}'\u001b[0m\u001b[0;34m)\u001b[0m        \u001b[0;34m;\u001b[0m\u001b[0mfinal\u001b[0m\u001b[0;34m(\u001b[0m\u001b[0;34m)\u001b[0m\u001b[0;34m\u001b[0m\u001b[0;34m\u001b[0m\u001b[0m\n\u001b[0m\u001b[1;32m    157\u001b[0m \u001b[0;34m\u001b[0m\u001b[0m\n\u001b[1;32m    158\u001b[0m     \u001b[0;32mdef\u001b[0m \u001b[0mall_batches\u001b[0m\u001b[0;34m(\u001b[0m\u001b[0mself\u001b[0m\u001b[0;34m)\u001b[0m\u001b[0;34m:\u001b[0m\u001b[0;34m\u001b[0m\u001b[0;34m\u001b[0m\u001b[0m\n",
      "\u001b[0;32m/mnt/pub_workspace_2T/anaconda3/envs/fastaiv2/lib/python3.8/site-packages/fastai/learner.py\u001b[0m in \u001b[0;36m__call__\u001b[0;34m(self, event_name)\u001b[0m\n\u001b[1;32m    130\u001b[0m     \u001b[0;32mdef\u001b[0m \u001b[0mordered_cbs\u001b[0m\u001b[0;34m(\u001b[0m\u001b[0mself\u001b[0m\u001b[0;34m,\u001b[0m \u001b[0mevent\u001b[0m\u001b[0;34m)\u001b[0m\u001b[0;34m:\u001b[0m \u001b[0;32mreturn\u001b[0m \u001b[0;34m[\u001b[0m\u001b[0mcb\u001b[0m \u001b[0;32mfor\u001b[0m \u001b[0mcb\u001b[0m \u001b[0;32min\u001b[0m \u001b[0msort_by_run\u001b[0m\u001b[0;34m(\u001b[0m\u001b[0mself\u001b[0m\u001b[0;34m.\u001b[0m\u001b[0mcbs\u001b[0m\u001b[0;34m)\u001b[0m \u001b[0;32mif\u001b[0m \u001b[0mhasattr\u001b[0m\u001b[0;34m(\u001b[0m\u001b[0mcb\u001b[0m\u001b[0;34m,\u001b[0m \u001b[0mevent\u001b[0m\u001b[0;34m)\u001b[0m\u001b[0;34m]\u001b[0m\u001b[0;34m\u001b[0m\u001b[0;34m\u001b[0m\u001b[0m\n\u001b[1;32m    131\u001b[0m \u001b[0;34m\u001b[0m\u001b[0m\n\u001b[0;32m--> 132\u001b[0;31m     \u001b[0;32mdef\u001b[0m \u001b[0m__call__\u001b[0m\u001b[0;34m(\u001b[0m\u001b[0mself\u001b[0m\u001b[0;34m,\u001b[0m \u001b[0mevent_name\u001b[0m\u001b[0;34m)\u001b[0m\u001b[0;34m:\u001b[0m \u001b[0mL\u001b[0m\u001b[0;34m(\u001b[0m\u001b[0mevent_name\u001b[0m\u001b[0;34m)\u001b[0m\u001b[0;34m.\u001b[0m\u001b[0mmap\u001b[0m\u001b[0;34m(\u001b[0m\u001b[0mself\u001b[0m\u001b[0;34m.\u001b[0m\u001b[0m_call_one\u001b[0m\u001b[0;34m)\u001b[0m\u001b[0;34m\u001b[0m\u001b[0;34m\u001b[0m\u001b[0m\n\u001b[0m\u001b[1;32m    133\u001b[0m \u001b[0;34m\u001b[0m\u001b[0m\n\u001b[1;32m    134\u001b[0m     \u001b[0;32mdef\u001b[0m \u001b[0m_call_one\u001b[0m\u001b[0;34m(\u001b[0m\u001b[0mself\u001b[0m\u001b[0;34m,\u001b[0m \u001b[0mevent_name\u001b[0m\u001b[0;34m)\u001b[0m\u001b[0;34m:\u001b[0m\u001b[0;34m\u001b[0m\u001b[0;34m\u001b[0m\u001b[0m\n",
      "\u001b[0;32m/mnt/pub_workspace_2T/anaconda3/envs/fastaiv2/lib/python3.8/site-packages/fastcore/foundation.py\u001b[0m in \u001b[0;36mmap\u001b[0;34m(self, f, gen, *args, **kwargs)\u001b[0m\n\u001b[1;32m    177\u001b[0m     \u001b[0;32mdef\u001b[0m \u001b[0mrange\u001b[0m\u001b[0;34m(\u001b[0m\u001b[0mcls\u001b[0m\u001b[0;34m,\u001b[0m \u001b[0ma\u001b[0m\u001b[0;34m,\u001b[0m \u001b[0mb\u001b[0m\u001b[0;34m=\u001b[0m\u001b[0;32mNone\u001b[0m\u001b[0;34m,\u001b[0m \u001b[0mstep\u001b[0m\u001b[0;34m=\u001b[0m\u001b[0;32mNone\u001b[0m\u001b[0;34m)\u001b[0m\u001b[0;34m:\u001b[0m \u001b[0;32mreturn\u001b[0m \u001b[0mcls\u001b[0m\u001b[0;34m(\u001b[0m\u001b[0mrange_of\u001b[0m\u001b[0;34m(\u001b[0m\u001b[0ma\u001b[0m\u001b[0;34m,\u001b[0m \u001b[0mb\u001b[0m\u001b[0;34m=\u001b[0m\u001b[0mb\u001b[0m\u001b[0;34m,\u001b[0m \u001b[0mstep\u001b[0m\u001b[0;34m=\u001b[0m\u001b[0mstep\u001b[0m\u001b[0;34m)\u001b[0m\u001b[0;34m)\u001b[0m\u001b[0;34m\u001b[0m\u001b[0;34m\u001b[0m\u001b[0m\n\u001b[1;32m    178\u001b[0m \u001b[0;34m\u001b[0m\u001b[0m\n\u001b[0;32m--> 179\u001b[0;31m     \u001b[0;32mdef\u001b[0m \u001b[0mmap\u001b[0m\u001b[0;34m(\u001b[0m\u001b[0mself\u001b[0m\u001b[0;34m,\u001b[0m \u001b[0mf\u001b[0m\u001b[0;34m,\u001b[0m \u001b[0;34m*\u001b[0m\u001b[0margs\u001b[0m\u001b[0;34m,\u001b[0m \u001b[0mgen\u001b[0m\u001b[0;34m=\u001b[0m\u001b[0;32mFalse\u001b[0m\u001b[0;34m,\u001b[0m \u001b[0;34m**\u001b[0m\u001b[0mkwargs\u001b[0m\u001b[0;34m)\u001b[0m\u001b[0;34m:\u001b[0m \u001b[0;32mreturn\u001b[0m \u001b[0mself\u001b[0m\u001b[0;34m.\u001b[0m\u001b[0m_new\u001b[0m\u001b[0;34m(\u001b[0m\u001b[0mmap_ex\u001b[0m\u001b[0;34m(\u001b[0m\u001b[0mself\u001b[0m\u001b[0;34m,\u001b[0m \u001b[0mf\u001b[0m\u001b[0;34m,\u001b[0m \u001b[0;34m*\u001b[0m\u001b[0margs\u001b[0m\u001b[0;34m,\u001b[0m \u001b[0mgen\u001b[0m\u001b[0;34m=\u001b[0m\u001b[0mgen\u001b[0m\u001b[0;34m,\u001b[0m \u001b[0;34m**\u001b[0m\u001b[0mkwargs\u001b[0m\u001b[0;34m)\u001b[0m\u001b[0;34m)\u001b[0m\u001b[0;34m\u001b[0m\u001b[0;34m\u001b[0m\u001b[0m\n\u001b[0m\u001b[1;32m    180\u001b[0m     \u001b[0;32mdef\u001b[0m \u001b[0margwhere\u001b[0m\u001b[0;34m(\u001b[0m\u001b[0mself\u001b[0m\u001b[0;34m,\u001b[0m \u001b[0mf\u001b[0m\u001b[0;34m,\u001b[0m \u001b[0mnegate\u001b[0m\u001b[0;34m=\u001b[0m\u001b[0;32mFalse\u001b[0m\u001b[0;34m,\u001b[0m \u001b[0;34m**\u001b[0m\u001b[0mkwargs\u001b[0m\u001b[0;34m)\u001b[0m\u001b[0;34m:\u001b[0m \u001b[0;32mreturn\u001b[0m \u001b[0mself\u001b[0m\u001b[0;34m.\u001b[0m\u001b[0m_new\u001b[0m\u001b[0;34m(\u001b[0m\u001b[0margwhere\u001b[0m\u001b[0;34m(\u001b[0m\u001b[0mself\u001b[0m\u001b[0;34m,\u001b[0m \u001b[0mf\u001b[0m\u001b[0;34m,\u001b[0m \u001b[0mnegate\u001b[0m\u001b[0;34m,\u001b[0m \u001b[0;34m**\u001b[0m\u001b[0mkwargs\u001b[0m\u001b[0;34m)\u001b[0m\u001b[0;34m)\u001b[0m\u001b[0;34m\u001b[0m\u001b[0;34m\u001b[0m\u001b[0m\n\u001b[1;32m    181\u001b[0m     \u001b[0;32mdef\u001b[0m \u001b[0mfilter\u001b[0m\u001b[0;34m(\u001b[0m\u001b[0mself\u001b[0m\u001b[0;34m,\u001b[0m \u001b[0mf\u001b[0m\u001b[0;34m=\u001b[0m\u001b[0mnoop\u001b[0m\u001b[0;34m,\u001b[0m \u001b[0mnegate\u001b[0m\u001b[0;34m=\u001b[0m\u001b[0;32mFalse\u001b[0m\u001b[0;34m,\u001b[0m \u001b[0mgen\u001b[0m\u001b[0;34m=\u001b[0m\u001b[0;32mFalse\u001b[0m\u001b[0;34m,\u001b[0m \u001b[0;34m**\u001b[0m\u001b[0mkwargs\u001b[0m\u001b[0;34m)\u001b[0m\u001b[0;34m:\u001b[0m\u001b[0;34m\u001b[0m\u001b[0;34m\u001b[0m\u001b[0m\n",
      "\u001b[0;32m/mnt/pub_workspace_2T/anaconda3/envs/fastaiv2/lib/python3.8/site-packages/fastcore/basics.py\u001b[0m in \u001b[0;36mmap_ex\u001b[0;34m(iterable, f, gen, *args, **kwargs)\u001b[0m\n\u001b[1;32m    605\u001b[0m     \u001b[0mres\u001b[0m \u001b[0;34m=\u001b[0m \u001b[0mmap\u001b[0m\u001b[0;34m(\u001b[0m\u001b[0mg\u001b[0m\u001b[0;34m,\u001b[0m \u001b[0miterable\u001b[0m\u001b[0;34m)\u001b[0m\u001b[0;34m\u001b[0m\u001b[0;34m\u001b[0m\u001b[0m\n\u001b[1;32m    606\u001b[0m     \u001b[0;32mif\u001b[0m \u001b[0mgen\u001b[0m\u001b[0;34m:\u001b[0m \u001b[0;32mreturn\u001b[0m \u001b[0mres\u001b[0m\u001b[0;34m\u001b[0m\u001b[0;34m\u001b[0m\u001b[0m\n\u001b[0;32m--> 607\u001b[0;31m     \u001b[0;32mreturn\u001b[0m \u001b[0mlist\u001b[0m\u001b[0;34m(\u001b[0m\u001b[0mres\u001b[0m\u001b[0;34m)\u001b[0m\u001b[0;34m\u001b[0m\u001b[0;34m\u001b[0m\u001b[0m\n\u001b[0m\u001b[1;32m    608\u001b[0m \u001b[0;34m\u001b[0m\u001b[0m\n\u001b[1;32m    609\u001b[0m \u001b[0;31m# Cell\u001b[0m\u001b[0;34m\u001b[0m\u001b[0;34m\u001b[0m\u001b[0;34m\u001b[0m\u001b[0m\n",
      "\u001b[0;32m/mnt/pub_workspace_2T/anaconda3/envs/fastaiv2/lib/python3.8/site-packages/fastcore/basics.py\u001b[0m in \u001b[0;36m__call__\u001b[0;34m(self, *args, **kwargs)\u001b[0m\n\u001b[1;32m    595\u001b[0m             \u001b[0;32mif\u001b[0m \u001b[0misinstance\u001b[0m\u001b[0;34m(\u001b[0m\u001b[0mv\u001b[0m\u001b[0;34m,\u001b[0m\u001b[0m_Arg\u001b[0m\u001b[0;34m)\u001b[0m\u001b[0;34m:\u001b[0m \u001b[0mkwargs\u001b[0m\u001b[0;34m[\u001b[0m\u001b[0mk\u001b[0m\u001b[0;34m]\u001b[0m \u001b[0;34m=\u001b[0m \u001b[0margs\u001b[0m\u001b[0;34m.\u001b[0m\u001b[0mpop\u001b[0m\u001b[0;34m(\u001b[0m\u001b[0mv\u001b[0m\u001b[0;34m.\u001b[0m\u001b[0mi\u001b[0m\u001b[0;34m)\u001b[0m\u001b[0;34m\u001b[0m\u001b[0;34m\u001b[0m\u001b[0m\n\u001b[1;32m    596\u001b[0m         \u001b[0mfargs\u001b[0m \u001b[0;34m=\u001b[0m \u001b[0;34m[\u001b[0m\u001b[0margs\u001b[0m\u001b[0;34m[\u001b[0m\u001b[0mx\u001b[0m\u001b[0;34m.\u001b[0m\u001b[0mi\u001b[0m\u001b[0;34m]\u001b[0m \u001b[0;32mif\u001b[0m \u001b[0misinstance\u001b[0m\u001b[0;34m(\u001b[0m\u001b[0mx\u001b[0m\u001b[0;34m,\u001b[0m \u001b[0m_Arg\u001b[0m\u001b[0;34m)\u001b[0m \u001b[0;32melse\u001b[0m \u001b[0mx\u001b[0m \u001b[0;32mfor\u001b[0m \u001b[0mx\u001b[0m \u001b[0;32min\u001b[0m \u001b[0mself\u001b[0m\u001b[0;34m.\u001b[0m\u001b[0mpargs\u001b[0m\u001b[0;34m]\u001b[0m \u001b[0;34m+\u001b[0m \u001b[0margs\u001b[0m\u001b[0;34m[\u001b[0m\u001b[0mself\u001b[0m\u001b[0;34m.\u001b[0m\u001b[0mmaxi\u001b[0m\u001b[0;34m+\u001b[0m\u001b[0;36m1\u001b[0m\u001b[0;34m:\u001b[0m\u001b[0;34m]\u001b[0m\u001b[0;34m\u001b[0m\u001b[0;34m\u001b[0m\u001b[0m\n\u001b[0;32m--> 597\u001b[0;31m         \u001b[0;32mreturn\u001b[0m \u001b[0mself\u001b[0m\u001b[0;34m.\u001b[0m\u001b[0mfunc\u001b[0m\u001b[0;34m(\u001b[0m\u001b[0;34m*\u001b[0m\u001b[0mfargs\u001b[0m\u001b[0;34m,\u001b[0m \u001b[0;34m**\u001b[0m\u001b[0mkwargs\u001b[0m\u001b[0;34m)\u001b[0m\u001b[0;34m\u001b[0m\u001b[0;34m\u001b[0m\u001b[0m\n\u001b[0m\u001b[1;32m    598\u001b[0m \u001b[0;34m\u001b[0m\u001b[0m\n\u001b[1;32m    599\u001b[0m \u001b[0;31m# Cell\u001b[0m\u001b[0;34m\u001b[0m\u001b[0;34m\u001b[0m\u001b[0;34m\u001b[0m\u001b[0m\n",
      "\u001b[0;32m/mnt/pub_workspace_2T/anaconda3/envs/fastaiv2/lib/python3.8/site-packages/fastai/learner.py\u001b[0m in \u001b[0;36m_call_one\u001b[0;34m(self, event_name)\u001b[0m\n\u001b[1;32m    134\u001b[0m     \u001b[0;32mdef\u001b[0m \u001b[0m_call_one\u001b[0m\u001b[0;34m(\u001b[0m\u001b[0mself\u001b[0m\u001b[0;34m,\u001b[0m \u001b[0mevent_name\u001b[0m\u001b[0;34m)\u001b[0m\u001b[0;34m:\u001b[0m\u001b[0;34m\u001b[0m\u001b[0;34m\u001b[0m\u001b[0m\n\u001b[1;32m    135\u001b[0m         \u001b[0;32massert\u001b[0m \u001b[0mhasattr\u001b[0m\u001b[0;34m(\u001b[0m\u001b[0mevent\u001b[0m\u001b[0;34m,\u001b[0m \u001b[0mevent_name\u001b[0m\u001b[0;34m)\u001b[0m\u001b[0;34m,\u001b[0m \u001b[0mevent_name\u001b[0m\u001b[0;34m\u001b[0m\u001b[0;34m\u001b[0m\u001b[0m\n\u001b[0;32m--> 136\u001b[0;31m         \u001b[0;34m[\u001b[0m\u001b[0mcb\u001b[0m\u001b[0;34m(\u001b[0m\u001b[0mevent_name\u001b[0m\u001b[0;34m)\u001b[0m \u001b[0;32mfor\u001b[0m \u001b[0mcb\u001b[0m \u001b[0;32min\u001b[0m \u001b[0msort_by_run\u001b[0m\u001b[0;34m(\u001b[0m\u001b[0mself\u001b[0m\u001b[0;34m.\u001b[0m\u001b[0mcbs\u001b[0m\u001b[0;34m)\u001b[0m\u001b[0;34m]\u001b[0m\u001b[0;34m\u001b[0m\u001b[0;34m\u001b[0m\u001b[0m\n\u001b[0m\u001b[1;32m    137\u001b[0m \u001b[0;34m\u001b[0m\u001b[0m\n\u001b[1;32m    138\u001b[0m     \u001b[0;32mdef\u001b[0m \u001b[0m_bn_bias_state\u001b[0m\u001b[0;34m(\u001b[0m\u001b[0mself\u001b[0m\u001b[0;34m,\u001b[0m \u001b[0mwith_bias\u001b[0m\u001b[0;34m)\u001b[0m\u001b[0;34m:\u001b[0m \u001b[0;32mreturn\u001b[0m \u001b[0mnorm_bias_params\u001b[0m\u001b[0;34m(\u001b[0m\u001b[0mself\u001b[0m\u001b[0;34m.\u001b[0m\u001b[0mmodel\u001b[0m\u001b[0;34m,\u001b[0m \u001b[0mwith_bias\u001b[0m\u001b[0;34m)\u001b[0m\u001b[0;34m.\u001b[0m\u001b[0mmap\u001b[0m\u001b[0;34m(\u001b[0m\u001b[0mself\u001b[0m\u001b[0;34m.\u001b[0m\u001b[0mopt\u001b[0m\u001b[0;34m.\u001b[0m\u001b[0mstate\u001b[0m\u001b[0;34m)\u001b[0m\u001b[0;34m\u001b[0m\u001b[0;34m\u001b[0m\u001b[0m\n",
      "\u001b[0;32m/mnt/pub_workspace_2T/anaconda3/envs/fastaiv2/lib/python3.8/site-packages/fastai/learner.py\u001b[0m in \u001b[0;36m<listcomp>\u001b[0;34m(.0)\u001b[0m\n\u001b[1;32m    134\u001b[0m     \u001b[0;32mdef\u001b[0m \u001b[0m_call_one\u001b[0m\u001b[0;34m(\u001b[0m\u001b[0mself\u001b[0m\u001b[0;34m,\u001b[0m \u001b[0mevent_name\u001b[0m\u001b[0;34m)\u001b[0m\u001b[0;34m:\u001b[0m\u001b[0;34m\u001b[0m\u001b[0;34m\u001b[0m\u001b[0m\n\u001b[1;32m    135\u001b[0m         \u001b[0;32massert\u001b[0m \u001b[0mhasattr\u001b[0m\u001b[0;34m(\u001b[0m\u001b[0mevent\u001b[0m\u001b[0;34m,\u001b[0m \u001b[0mevent_name\u001b[0m\u001b[0;34m)\u001b[0m\u001b[0;34m,\u001b[0m \u001b[0mevent_name\u001b[0m\u001b[0;34m\u001b[0m\u001b[0;34m\u001b[0m\u001b[0m\n\u001b[0;32m--> 136\u001b[0;31m         \u001b[0;34m[\u001b[0m\u001b[0mcb\u001b[0m\u001b[0;34m(\u001b[0m\u001b[0mevent_name\u001b[0m\u001b[0;34m)\u001b[0m \u001b[0;32mfor\u001b[0m \u001b[0mcb\u001b[0m \u001b[0;32min\u001b[0m \u001b[0msort_by_run\u001b[0m\u001b[0;34m(\u001b[0m\u001b[0mself\u001b[0m\u001b[0;34m.\u001b[0m\u001b[0mcbs\u001b[0m\u001b[0;34m)\u001b[0m\u001b[0;34m]\u001b[0m\u001b[0;34m\u001b[0m\u001b[0;34m\u001b[0m\u001b[0m\n\u001b[0m\u001b[1;32m    137\u001b[0m \u001b[0;34m\u001b[0m\u001b[0m\n\u001b[1;32m    138\u001b[0m     \u001b[0;32mdef\u001b[0m \u001b[0m_bn_bias_state\u001b[0m\u001b[0;34m(\u001b[0m\u001b[0mself\u001b[0m\u001b[0;34m,\u001b[0m \u001b[0mwith_bias\u001b[0m\u001b[0;34m)\u001b[0m\u001b[0;34m:\u001b[0m \u001b[0;32mreturn\u001b[0m \u001b[0mnorm_bias_params\u001b[0m\u001b[0;34m(\u001b[0m\u001b[0mself\u001b[0m\u001b[0;34m.\u001b[0m\u001b[0mmodel\u001b[0m\u001b[0;34m,\u001b[0m \u001b[0mwith_bias\u001b[0m\u001b[0;34m)\u001b[0m\u001b[0;34m.\u001b[0m\u001b[0mmap\u001b[0m\u001b[0;34m(\u001b[0m\u001b[0mself\u001b[0m\u001b[0;34m.\u001b[0m\u001b[0mopt\u001b[0m\u001b[0;34m.\u001b[0m\u001b[0mstate\u001b[0m\u001b[0;34m)\u001b[0m\u001b[0;34m\u001b[0m\u001b[0;34m\u001b[0m\u001b[0m\n",
      "\u001b[0;32m/mnt/pub_workspace_2T/anaconda3/envs/fastaiv2/lib/python3.8/site-packages/fastai/callback/core.py\u001b[0m in \u001b[0;36m__call__\u001b[0;34m(self, event_name)\u001b[0m\n\u001b[1;32m     42\u001b[0m                (self.run_valid and not getattr(self, 'training', False)))\n\u001b[1;32m     43\u001b[0m         \u001b[0mres\u001b[0m \u001b[0;34m=\u001b[0m \u001b[0;32mNone\u001b[0m\u001b[0;34m\u001b[0m\u001b[0;34m\u001b[0m\u001b[0m\n\u001b[0;32m---> 44\u001b[0;31m         \u001b[0;32mif\u001b[0m \u001b[0mself\u001b[0m\u001b[0;34m.\u001b[0m\u001b[0mrun\u001b[0m \u001b[0;32mand\u001b[0m \u001b[0m_run\u001b[0m\u001b[0;34m:\u001b[0m \u001b[0mres\u001b[0m \u001b[0;34m=\u001b[0m \u001b[0mgetattr\u001b[0m\u001b[0;34m(\u001b[0m\u001b[0mself\u001b[0m\u001b[0;34m,\u001b[0m \u001b[0mevent_name\u001b[0m\u001b[0;34m,\u001b[0m \u001b[0mnoop\u001b[0m\u001b[0;34m)\u001b[0m\u001b[0;34m(\u001b[0m\u001b[0;34m)\u001b[0m\u001b[0;34m\u001b[0m\u001b[0;34m\u001b[0m\u001b[0m\n\u001b[0m\u001b[1;32m     45\u001b[0m         \u001b[0;32mif\u001b[0m \u001b[0mevent_name\u001b[0m\u001b[0;34m==\u001b[0m\u001b[0;34m'after_fit'\u001b[0m\u001b[0;34m:\u001b[0m \u001b[0mself\u001b[0m\u001b[0;34m.\u001b[0m\u001b[0mrun\u001b[0m\u001b[0;34m=\u001b[0m\u001b[0;32mTrue\u001b[0m \u001b[0;31m#Reset self.run to True at each end of fit\u001b[0m\u001b[0;34m\u001b[0m\u001b[0;34m\u001b[0m\u001b[0m\n\u001b[1;32m     46\u001b[0m         \u001b[0;32mreturn\u001b[0m \u001b[0mres\u001b[0m\u001b[0;34m\u001b[0m\u001b[0;34m\u001b[0m\u001b[0m\n",
      "\u001b[0;32m/mnt/pub_workspace_2T/anaconda3/envs/fastaiv2/lib/python3.8/site-packages/fastai/callback/tracker.py\u001b[0m in \u001b[0;36mafter_epoch\u001b[0;34m(self)\u001b[0m\n\u001b[1;32m     78\u001b[0m         \u001b[0;32mif\u001b[0m \u001b[0mself\u001b[0m\u001b[0;34m.\u001b[0m\u001b[0mevery_epoch\u001b[0m\u001b[0;34m:\u001b[0m \u001b[0mself\u001b[0m\u001b[0;34m.\u001b[0m\u001b[0m_save\u001b[0m\u001b[0;34m(\u001b[0m\u001b[0;34mf'{self.fname}_{self.epoch}'\u001b[0m\u001b[0;34m)\u001b[0m\u001b[0;34m\u001b[0m\u001b[0;34m\u001b[0m\u001b[0m\n\u001b[1;32m     79\u001b[0m         \u001b[0;32melse\u001b[0m\u001b[0;34m:\u001b[0m \u001b[0;31m#every improvement\u001b[0m\u001b[0;34m\u001b[0m\u001b[0;34m\u001b[0m\u001b[0m\n\u001b[0;32m---> 80\u001b[0;31m             \u001b[0msuper\u001b[0m\u001b[0;34m(\u001b[0m\u001b[0;34m)\u001b[0m\u001b[0;34m.\u001b[0m\u001b[0mafter_epoch\u001b[0m\u001b[0;34m(\u001b[0m\u001b[0;34m)\u001b[0m\u001b[0;34m\u001b[0m\u001b[0;34m\u001b[0m\u001b[0m\n\u001b[0m\u001b[1;32m     81\u001b[0m             \u001b[0;32mif\u001b[0m \u001b[0mself\u001b[0m\u001b[0;34m.\u001b[0m\u001b[0mnew_best\u001b[0m\u001b[0;34m:\u001b[0m\u001b[0;34m\u001b[0m\u001b[0;34m\u001b[0m\u001b[0m\n\u001b[1;32m     82\u001b[0m                 \u001b[0mprint\u001b[0m\u001b[0;34m(\u001b[0m\u001b[0;34mf'Better model found at epoch {self.epoch} with {self.monitor} value: {self.best}.'\u001b[0m\u001b[0;34m)\u001b[0m\u001b[0;34m\u001b[0m\u001b[0;34m\u001b[0m\u001b[0m\n",
      "\u001b[0;32m/mnt/pub_workspace_2T/anaconda3/envs/fastaiv2/lib/python3.8/site-packages/fastai/callback/tracker.py\u001b[0m in \u001b[0;36mafter_epoch\u001b[0;34m(self)\u001b[0m\n\u001b[1;32m     37\u001b[0m     \u001b[0;32mdef\u001b[0m \u001b[0mafter_epoch\u001b[0m\u001b[0;34m(\u001b[0m\u001b[0mself\u001b[0m\u001b[0;34m)\u001b[0m\u001b[0;34m:\u001b[0m\u001b[0;34m\u001b[0m\u001b[0;34m\u001b[0m\u001b[0m\n\u001b[1;32m     38\u001b[0m         \u001b[0;34m\"Compare the last value to the best up to now\"\u001b[0m\u001b[0;34m\u001b[0m\u001b[0;34m\u001b[0m\u001b[0m\n\u001b[0;32m---> 39\u001b[0;31m         \u001b[0mval\u001b[0m \u001b[0;34m=\u001b[0m \u001b[0mself\u001b[0m\u001b[0;34m.\u001b[0m\u001b[0mrecorder\u001b[0m\u001b[0;34m.\u001b[0m\u001b[0mvalues\u001b[0m\u001b[0;34m[\u001b[0m\u001b[0;34m-\u001b[0m\u001b[0;36m1\u001b[0m\u001b[0;34m]\u001b[0m\u001b[0;34m[\u001b[0m\u001b[0mself\u001b[0m\u001b[0;34m.\u001b[0m\u001b[0midx\u001b[0m\u001b[0;34m]\u001b[0m\u001b[0;34m\u001b[0m\u001b[0;34m\u001b[0m\u001b[0m\n\u001b[0m\u001b[1;32m     40\u001b[0m         \u001b[0;32mif\u001b[0m \u001b[0mself\u001b[0m\u001b[0;34m.\u001b[0m\u001b[0mcomp\u001b[0m\u001b[0;34m(\u001b[0m\u001b[0mval\u001b[0m \u001b[0;34m-\u001b[0m \u001b[0mself\u001b[0m\u001b[0;34m.\u001b[0m\u001b[0mmin_delta\u001b[0m\u001b[0;34m,\u001b[0m \u001b[0mself\u001b[0m\u001b[0;34m.\u001b[0m\u001b[0mbest\u001b[0m\u001b[0;34m)\u001b[0m\u001b[0;34m:\u001b[0m \u001b[0mself\u001b[0m\u001b[0;34m.\u001b[0m\u001b[0mbest\u001b[0m\u001b[0;34m,\u001b[0m\u001b[0mself\u001b[0m\u001b[0;34m.\u001b[0m\u001b[0mnew_best\u001b[0m \u001b[0;34m=\u001b[0m \u001b[0mval\u001b[0m\u001b[0;34m,\u001b[0m\u001b[0;32mTrue\u001b[0m\u001b[0;34m\u001b[0m\u001b[0;34m\u001b[0m\u001b[0m\n\u001b[1;32m     41\u001b[0m         \u001b[0;32melse\u001b[0m\u001b[0;34m:\u001b[0m \u001b[0mself\u001b[0m\u001b[0;34m.\u001b[0m\u001b[0mnew_best\u001b[0m \u001b[0;34m=\u001b[0m \u001b[0;32mFalse\u001b[0m\u001b[0;34m\u001b[0m\u001b[0;34m\u001b[0m\u001b[0m\n",
      "\u001b[0;32m/mnt/pub_workspace_2T/anaconda3/envs/fastaiv2/lib/python3.8/site-packages/fastcore/foundation.py\u001b[0m in \u001b[0;36m__getitem__\u001b[0;34m(self, idx)\u001b[0m\n\u001b[1;32m    134\u001b[0m     \u001b[0;32mdef\u001b[0m \u001b[0m_xtra\u001b[0m\u001b[0;34m(\u001b[0m\u001b[0mself\u001b[0m\u001b[0;34m)\u001b[0m\u001b[0;34m:\u001b[0m \u001b[0;32mreturn\u001b[0m \u001b[0;32mNone\u001b[0m\u001b[0;34m\u001b[0m\u001b[0;34m\u001b[0m\u001b[0m\n\u001b[1;32m    135\u001b[0m     \u001b[0;32mdef\u001b[0m \u001b[0m_new\u001b[0m\u001b[0;34m(\u001b[0m\u001b[0mself\u001b[0m\u001b[0;34m,\u001b[0m \u001b[0mitems\u001b[0m\u001b[0;34m,\u001b[0m \u001b[0;34m*\u001b[0m\u001b[0margs\u001b[0m\u001b[0;34m,\u001b[0m \u001b[0;34m**\u001b[0m\u001b[0mkwargs\u001b[0m\u001b[0;34m)\u001b[0m\u001b[0;34m:\u001b[0m \u001b[0;32mreturn\u001b[0m \u001b[0mtype\u001b[0m\u001b[0;34m(\u001b[0m\u001b[0mself\u001b[0m\u001b[0;34m)\u001b[0m\u001b[0;34m(\u001b[0m\u001b[0mitems\u001b[0m\u001b[0;34m,\u001b[0m \u001b[0;34m*\u001b[0m\u001b[0margs\u001b[0m\u001b[0;34m,\u001b[0m \u001b[0muse_list\u001b[0m\u001b[0;34m=\u001b[0m\u001b[0;32mNone\u001b[0m\u001b[0;34m,\u001b[0m \u001b[0;34m**\u001b[0m\u001b[0mkwargs\u001b[0m\u001b[0;34m)\u001b[0m\u001b[0;34m\u001b[0m\u001b[0;34m\u001b[0m\u001b[0m\n\u001b[0;32m--> 136\u001b[0;31m     \u001b[0;32mdef\u001b[0m \u001b[0m__getitem__\u001b[0m\u001b[0;34m(\u001b[0m\u001b[0mself\u001b[0m\u001b[0;34m,\u001b[0m \u001b[0midx\u001b[0m\u001b[0;34m)\u001b[0m\u001b[0;34m:\u001b[0m \u001b[0;32mreturn\u001b[0m \u001b[0mself\u001b[0m\u001b[0;34m.\u001b[0m\u001b[0m_get\u001b[0m\u001b[0;34m(\u001b[0m\u001b[0midx\u001b[0m\u001b[0;34m)\u001b[0m \u001b[0;32mif\u001b[0m \u001b[0mis_indexer\u001b[0m\u001b[0;34m(\u001b[0m\u001b[0midx\u001b[0m\u001b[0;34m)\u001b[0m \u001b[0;32melse\u001b[0m \u001b[0mL\u001b[0m\u001b[0;34m(\u001b[0m\u001b[0mself\u001b[0m\u001b[0;34m.\u001b[0m\u001b[0m_get\u001b[0m\u001b[0;34m(\u001b[0m\u001b[0midx\u001b[0m\u001b[0;34m)\u001b[0m\u001b[0;34m,\u001b[0m \u001b[0muse_list\u001b[0m\u001b[0;34m=\u001b[0m\u001b[0;32mNone\u001b[0m\u001b[0;34m)\u001b[0m\u001b[0;34m\u001b[0m\u001b[0;34m\u001b[0m\u001b[0m\n\u001b[0m\u001b[1;32m    137\u001b[0m     \u001b[0;32mdef\u001b[0m \u001b[0mcopy\u001b[0m\u001b[0;34m(\u001b[0m\u001b[0mself\u001b[0m\u001b[0;34m)\u001b[0m\u001b[0;34m:\u001b[0m \u001b[0;32mreturn\u001b[0m \u001b[0mself\u001b[0m\u001b[0;34m.\u001b[0m\u001b[0m_new\u001b[0m\u001b[0;34m(\u001b[0m\u001b[0mself\u001b[0m\u001b[0;34m.\u001b[0m\u001b[0mitems\u001b[0m\u001b[0;34m.\u001b[0m\u001b[0mcopy\u001b[0m\u001b[0;34m(\u001b[0m\u001b[0;34m)\u001b[0m\u001b[0;34m)\u001b[0m\u001b[0;34m\u001b[0m\u001b[0;34m\u001b[0m\u001b[0m\n\u001b[1;32m    138\u001b[0m \u001b[0;34m\u001b[0m\u001b[0m\n",
      "\u001b[0;32m/mnt/pub_workspace_2T/anaconda3/envs/fastaiv2/lib/python3.8/site-packages/fastcore/foundation.py\u001b[0m in \u001b[0;36m_get\u001b[0;34m(self, i)\u001b[0m\n\u001b[1;32m    138\u001b[0m \u001b[0;34m\u001b[0m\u001b[0m\n\u001b[1;32m    139\u001b[0m     \u001b[0;32mdef\u001b[0m \u001b[0m_get\u001b[0m\u001b[0;34m(\u001b[0m\u001b[0mself\u001b[0m\u001b[0;34m,\u001b[0m \u001b[0mi\u001b[0m\u001b[0;34m)\u001b[0m\u001b[0;34m:\u001b[0m\u001b[0;34m\u001b[0m\u001b[0;34m\u001b[0m\u001b[0m\n\u001b[0;32m--> 140\u001b[0;31m         \u001b[0;32mif\u001b[0m \u001b[0mis_indexer\u001b[0m\u001b[0;34m(\u001b[0m\u001b[0mi\u001b[0m\u001b[0;34m)\u001b[0m \u001b[0;32mor\u001b[0m \u001b[0misinstance\u001b[0m\u001b[0;34m(\u001b[0m\u001b[0mi\u001b[0m\u001b[0;34m,\u001b[0m\u001b[0mslice\u001b[0m\u001b[0;34m)\u001b[0m\u001b[0;34m:\u001b[0m \u001b[0;32mreturn\u001b[0m \u001b[0mgetattr\u001b[0m\u001b[0;34m(\u001b[0m\u001b[0mself\u001b[0m\u001b[0;34m.\u001b[0m\u001b[0mitems\u001b[0m\u001b[0;34m,\u001b[0m\u001b[0;34m'iloc'\u001b[0m\u001b[0;34m,\u001b[0m\u001b[0mself\u001b[0m\u001b[0;34m.\u001b[0m\u001b[0mitems\u001b[0m\u001b[0;34m)\u001b[0m\u001b[0;34m[\u001b[0m\u001b[0mi\u001b[0m\u001b[0;34m]\u001b[0m\u001b[0;34m\u001b[0m\u001b[0;34m\u001b[0m\u001b[0m\n\u001b[0m\u001b[1;32m    141\u001b[0m         \u001b[0mi\u001b[0m \u001b[0;34m=\u001b[0m \u001b[0mmask2idxs\u001b[0m\u001b[0;34m(\u001b[0m\u001b[0mi\u001b[0m\u001b[0;34m)\u001b[0m\u001b[0;34m\u001b[0m\u001b[0;34m\u001b[0m\u001b[0m\n\u001b[1;32m    142\u001b[0m         return (self.items.iloc[list(i)] if hasattr(self.items,'iloc')\n",
      "\u001b[0;31mIndexError\u001b[0m: list index out of range"
     ]
    }
   ],
   "source": [
    "# lr = lr/10\n",
    "print(lr)\n",
    "learn.fit(179, lr=lr)"
   ]
  },
  {
   "cell_type": "code",
   "execution_count": 31,
   "metadata": {
    "ExecuteTime": {
     "end_time": "2021-04-19T16:07:00.771434Z",
     "start_time": "2021-04-19T16:07:00.538764Z"
    },
    "scrolled": true
   },
   "outputs": [
    {
     "ename": "IndexError",
     "evalue": "list index out of range",
     "output_type": "error",
     "traceback": [
      "\u001b[0;31m---------------------------------------------------------------------------\u001b[0m",
      "\u001b[0;31mIndexError\u001b[0m                                Traceback (most recent call last)",
      "\u001b[0;32m<ipython-input-31-a2296441fda2>\u001b[0m in \u001b[0;36m<module>\u001b[0;34m\u001b[0m\n\u001b[0;32m----> 1\u001b[0;31m \u001b[0mlearn\u001b[0m\u001b[0;34m.\u001b[0m\u001b[0mrecorder\u001b[0m\u001b[0;34m.\u001b[0m\u001b[0mplot_loss\u001b[0m\u001b[0;34m(\u001b[0m\u001b[0;34m)\u001b[0m\u001b[0;34m\u001b[0m\u001b[0;34m\u001b[0m\u001b[0m\n\u001b[0m",
      "\u001b[0;32m/mnt/pub_workspace_2T/anaconda3/envs/fastaiv2/lib/python3.8/site-packages/fastai/learner.py\u001b[0m in \u001b[0;36mplot_loss\u001b[0;34m(self, skip_start, with_valid)\u001b[0m\n\u001b[1;32m    496\u001b[0m         \u001b[0;32mif\u001b[0m \u001b[0mwith_valid\u001b[0m\u001b[0;34m:\u001b[0m\u001b[0;34m\u001b[0m\u001b[0;34m\u001b[0m\u001b[0m\n\u001b[1;32m    497\u001b[0m             \u001b[0midx\u001b[0m \u001b[0;34m=\u001b[0m \u001b[0;34m(\u001b[0m\u001b[0mnp\u001b[0m\u001b[0;34m.\u001b[0m\u001b[0marray\u001b[0m\u001b[0;34m(\u001b[0m\u001b[0mself\u001b[0m\u001b[0;34m.\u001b[0m\u001b[0miters\u001b[0m\u001b[0;34m)\u001b[0m\u001b[0;34m<\u001b[0m\u001b[0mskip_start\u001b[0m\u001b[0;34m)\u001b[0m\u001b[0;34m.\u001b[0m\u001b[0msum\u001b[0m\u001b[0;34m(\u001b[0m\u001b[0;34m)\u001b[0m\u001b[0;34m\u001b[0m\u001b[0;34m\u001b[0m\u001b[0m\n\u001b[0;32m--> 498\u001b[0;31m             \u001b[0mplt\u001b[0m\u001b[0;34m.\u001b[0m\u001b[0mplot\u001b[0m\u001b[0;34m(\u001b[0m\u001b[0mself\u001b[0m\u001b[0;34m.\u001b[0m\u001b[0miters\u001b[0m\u001b[0;34m[\u001b[0m\u001b[0midx\u001b[0m\u001b[0;34m:\u001b[0m\u001b[0;34m]\u001b[0m\u001b[0;34m,\u001b[0m \u001b[0mL\u001b[0m\u001b[0;34m(\u001b[0m\u001b[0mself\u001b[0m\u001b[0;34m.\u001b[0m\u001b[0mvalues\u001b[0m\u001b[0;34m[\u001b[0m\u001b[0midx\u001b[0m\u001b[0;34m:\u001b[0m\u001b[0;34m]\u001b[0m\u001b[0;34m)\u001b[0m\u001b[0;34m.\u001b[0m\u001b[0mitemgot\u001b[0m\u001b[0;34m(\u001b[0m\u001b[0;36m1\u001b[0m\u001b[0;34m)\u001b[0m\u001b[0;34m,\u001b[0m \u001b[0mlabel\u001b[0m\u001b[0;34m=\u001b[0m\u001b[0;34m'valid'\u001b[0m\u001b[0;34m)\u001b[0m\u001b[0;34m\u001b[0m\u001b[0;34m\u001b[0m\u001b[0m\n\u001b[0m\u001b[1;32m    499\u001b[0m             \u001b[0mplt\u001b[0m\u001b[0;34m.\u001b[0m\u001b[0mlegend\u001b[0m\u001b[0;34m(\u001b[0m\u001b[0;34m)\u001b[0m\u001b[0;34m\u001b[0m\u001b[0;34m\u001b[0m\u001b[0m\n\u001b[1;32m    500\u001b[0m \u001b[0;34m\u001b[0m\u001b[0m\n",
      "\u001b[0;32m/mnt/pub_workspace_2T/anaconda3/envs/fastaiv2/lib/python3.8/site-packages/fastcore/foundation.py\u001b[0m in \u001b[0;36mitemgot\u001b[0;34m(self, *idxs)\u001b[0m\n\u001b[1;32m    193\u001b[0m     \u001b[0;32mdef\u001b[0m \u001b[0mitemgot\u001b[0m\u001b[0;34m(\u001b[0m\u001b[0mself\u001b[0m\u001b[0;34m,\u001b[0m \u001b[0;34m*\u001b[0m\u001b[0midxs\u001b[0m\u001b[0;34m)\u001b[0m\u001b[0;34m:\u001b[0m\u001b[0;34m\u001b[0m\u001b[0;34m\u001b[0m\u001b[0m\n\u001b[1;32m    194\u001b[0m         \u001b[0mx\u001b[0m \u001b[0;34m=\u001b[0m \u001b[0mself\u001b[0m\u001b[0;34m\u001b[0m\u001b[0;34m\u001b[0m\u001b[0m\n\u001b[0;32m--> 195\u001b[0;31m         \u001b[0;32mfor\u001b[0m \u001b[0midx\u001b[0m \u001b[0;32min\u001b[0m \u001b[0midxs\u001b[0m\u001b[0;34m:\u001b[0m \u001b[0mx\u001b[0m \u001b[0;34m=\u001b[0m \u001b[0mx\u001b[0m\u001b[0;34m.\u001b[0m\u001b[0mmap\u001b[0m\u001b[0;34m(\u001b[0m\u001b[0mitemgetter\u001b[0m\u001b[0;34m(\u001b[0m\u001b[0midx\u001b[0m\u001b[0;34m)\u001b[0m\u001b[0;34m)\u001b[0m\u001b[0;34m\u001b[0m\u001b[0;34m\u001b[0m\u001b[0m\n\u001b[0m\u001b[1;32m    196\u001b[0m         \u001b[0;32mreturn\u001b[0m \u001b[0mx\u001b[0m\u001b[0;34m\u001b[0m\u001b[0;34m\u001b[0m\u001b[0m\n\u001b[1;32m    197\u001b[0m     \u001b[0;32mdef\u001b[0m \u001b[0mattrgot\u001b[0m\u001b[0;34m(\u001b[0m\u001b[0mself\u001b[0m\u001b[0;34m,\u001b[0m \u001b[0mk\u001b[0m\u001b[0;34m,\u001b[0m \u001b[0mdefault\u001b[0m\u001b[0;34m=\u001b[0m\u001b[0;32mNone\u001b[0m\u001b[0;34m)\u001b[0m\u001b[0;34m:\u001b[0m\u001b[0;34m\u001b[0m\u001b[0;34m\u001b[0m\u001b[0m\n",
      "\u001b[0;32m/mnt/pub_workspace_2T/anaconda3/envs/fastaiv2/lib/python3.8/site-packages/fastcore/foundation.py\u001b[0m in \u001b[0;36mmap\u001b[0;34m(self, f, gen, *args, **kwargs)\u001b[0m\n\u001b[1;32m    177\u001b[0m     \u001b[0;32mdef\u001b[0m \u001b[0mrange\u001b[0m\u001b[0;34m(\u001b[0m\u001b[0mcls\u001b[0m\u001b[0;34m,\u001b[0m \u001b[0ma\u001b[0m\u001b[0;34m,\u001b[0m \u001b[0mb\u001b[0m\u001b[0;34m=\u001b[0m\u001b[0;32mNone\u001b[0m\u001b[0;34m,\u001b[0m \u001b[0mstep\u001b[0m\u001b[0;34m=\u001b[0m\u001b[0;32mNone\u001b[0m\u001b[0;34m)\u001b[0m\u001b[0;34m:\u001b[0m \u001b[0;32mreturn\u001b[0m \u001b[0mcls\u001b[0m\u001b[0;34m(\u001b[0m\u001b[0mrange_of\u001b[0m\u001b[0;34m(\u001b[0m\u001b[0ma\u001b[0m\u001b[0;34m,\u001b[0m \u001b[0mb\u001b[0m\u001b[0;34m=\u001b[0m\u001b[0mb\u001b[0m\u001b[0;34m,\u001b[0m \u001b[0mstep\u001b[0m\u001b[0;34m=\u001b[0m\u001b[0mstep\u001b[0m\u001b[0;34m)\u001b[0m\u001b[0;34m)\u001b[0m\u001b[0;34m\u001b[0m\u001b[0;34m\u001b[0m\u001b[0m\n\u001b[1;32m    178\u001b[0m \u001b[0;34m\u001b[0m\u001b[0m\n\u001b[0;32m--> 179\u001b[0;31m     \u001b[0;32mdef\u001b[0m \u001b[0mmap\u001b[0m\u001b[0;34m(\u001b[0m\u001b[0mself\u001b[0m\u001b[0;34m,\u001b[0m \u001b[0mf\u001b[0m\u001b[0;34m,\u001b[0m \u001b[0;34m*\u001b[0m\u001b[0margs\u001b[0m\u001b[0;34m,\u001b[0m \u001b[0mgen\u001b[0m\u001b[0;34m=\u001b[0m\u001b[0;32mFalse\u001b[0m\u001b[0;34m,\u001b[0m \u001b[0;34m**\u001b[0m\u001b[0mkwargs\u001b[0m\u001b[0;34m)\u001b[0m\u001b[0;34m:\u001b[0m \u001b[0;32mreturn\u001b[0m \u001b[0mself\u001b[0m\u001b[0;34m.\u001b[0m\u001b[0m_new\u001b[0m\u001b[0;34m(\u001b[0m\u001b[0mmap_ex\u001b[0m\u001b[0;34m(\u001b[0m\u001b[0mself\u001b[0m\u001b[0;34m,\u001b[0m \u001b[0mf\u001b[0m\u001b[0;34m,\u001b[0m \u001b[0;34m*\u001b[0m\u001b[0margs\u001b[0m\u001b[0;34m,\u001b[0m \u001b[0mgen\u001b[0m\u001b[0;34m=\u001b[0m\u001b[0mgen\u001b[0m\u001b[0;34m,\u001b[0m \u001b[0;34m**\u001b[0m\u001b[0mkwargs\u001b[0m\u001b[0;34m)\u001b[0m\u001b[0;34m)\u001b[0m\u001b[0;34m\u001b[0m\u001b[0;34m\u001b[0m\u001b[0m\n\u001b[0m\u001b[1;32m    180\u001b[0m     \u001b[0;32mdef\u001b[0m \u001b[0margwhere\u001b[0m\u001b[0;34m(\u001b[0m\u001b[0mself\u001b[0m\u001b[0;34m,\u001b[0m \u001b[0mf\u001b[0m\u001b[0;34m,\u001b[0m \u001b[0mnegate\u001b[0m\u001b[0;34m=\u001b[0m\u001b[0;32mFalse\u001b[0m\u001b[0;34m,\u001b[0m \u001b[0;34m**\u001b[0m\u001b[0mkwargs\u001b[0m\u001b[0;34m)\u001b[0m\u001b[0;34m:\u001b[0m \u001b[0;32mreturn\u001b[0m \u001b[0mself\u001b[0m\u001b[0;34m.\u001b[0m\u001b[0m_new\u001b[0m\u001b[0;34m(\u001b[0m\u001b[0margwhere\u001b[0m\u001b[0;34m(\u001b[0m\u001b[0mself\u001b[0m\u001b[0;34m,\u001b[0m \u001b[0mf\u001b[0m\u001b[0;34m,\u001b[0m \u001b[0mnegate\u001b[0m\u001b[0;34m,\u001b[0m \u001b[0;34m**\u001b[0m\u001b[0mkwargs\u001b[0m\u001b[0;34m)\u001b[0m\u001b[0;34m)\u001b[0m\u001b[0;34m\u001b[0m\u001b[0;34m\u001b[0m\u001b[0m\n\u001b[1;32m    181\u001b[0m     \u001b[0;32mdef\u001b[0m \u001b[0mfilter\u001b[0m\u001b[0;34m(\u001b[0m\u001b[0mself\u001b[0m\u001b[0;34m,\u001b[0m \u001b[0mf\u001b[0m\u001b[0;34m=\u001b[0m\u001b[0mnoop\u001b[0m\u001b[0;34m,\u001b[0m \u001b[0mnegate\u001b[0m\u001b[0;34m=\u001b[0m\u001b[0;32mFalse\u001b[0m\u001b[0;34m,\u001b[0m \u001b[0mgen\u001b[0m\u001b[0;34m=\u001b[0m\u001b[0;32mFalse\u001b[0m\u001b[0;34m,\u001b[0m \u001b[0;34m**\u001b[0m\u001b[0mkwargs\u001b[0m\u001b[0;34m)\u001b[0m\u001b[0;34m:\u001b[0m\u001b[0;34m\u001b[0m\u001b[0;34m\u001b[0m\u001b[0m\n",
      "\u001b[0;32m/mnt/pub_workspace_2T/anaconda3/envs/fastaiv2/lib/python3.8/site-packages/fastcore/basics.py\u001b[0m in \u001b[0;36mmap_ex\u001b[0;34m(iterable, f, gen, *args, **kwargs)\u001b[0m\n\u001b[1;32m    605\u001b[0m     \u001b[0mres\u001b[0m \u001b[0;34m=\u001b[0m \u001b[0mmap\u001b[0m\u001b[0;34m(\u001b[0m\u001b[0mg\u001b[0m\u001b[0;34m,\u001b[0m \u001b[0miterable\u001b[0m\u001b[0;34m)\u001b[0m\u001b[0;34m\u001b[0m\u001b[0;34m\u001b[0m\u001b[0m\n\u001b[1;32m    606\u001b[0m     \u001b[0;32mif\u001b[0m \u001b[0mgen\u001b[0m\u001b[0;34m:\u001b[0m \u001b[0;32mreturn\u001b[0m \u001b[0mres\u001b[0m\u001b[0;34m\u001b[0m\u001b[0;34m\u001b[0m\u001b[0m\n\u001b[0;32m--> 607\u001b[0;31m     \u001b[0;32mreturn\u001b[0m \u001b[0mlist\u001b[0m\u001b[0;34m(\u001b[0m\u001b[0mres\u001b[0m\u001b[0;34m)\u001b[0m\u001b[0;34m\u001b[0m\u001b[0;34m\u001b[0m\u001b[0m\n\u001b[0m\u001b[1;32m    608\u001b[0m \u001b[0;34m\u001b[0m\u001b[0m\n\u001b[1;32m    609\u001b[0m \u001b[0;31m# Cell\u001b[0m\u001b[0;34m\u001b[0m\u001b[0;34m\u001b[0m\u001b[0;34m\u001b[0m\u001b[0m\n",
      "\u001b[0;32m/mnt/pub_workspace_2T/anaconda3/envs/fastaiv2/lib/python3.8/site-packages/fastcore/basics.py\u001b[0m in \u001b[0;36m__call__\u001b[0;34m(self, *args, **kwargs)\u001b[0m\n\u001b[1;32m    595\u001b[0m             \u001b[0;32mif\u001b[0m \u001b[0misinstance\u001b[0m\u001b[0;34m(\u001b[0m\u001b[0mv\u001b[0m\u001b[0;34m,\u001b[0m\u001b[0m_Arg\u001b[0m\u001b[0;34m)\u001b[0m\u001b[0;34m:\u001b[0m \u001b[0mkwargs\u001b[0m\u001b[0;34m[\u001b[0m\u001b[0mk\u001b[0m\u001b[0;34m]\u001b[0m \u001b[0;34m=\u001b[0m \u001b[0margs\u001b[0m\u001b[0;34m.\u001b[0m\u001b[0mpop\u001b[0m\u001b[0;34m(\u001b[0m\u001b[0mv\u001b[0m\u001b[0;34m.\u001b[0m\u001b[0mi\u001b[0m\u001b[0;34m)\u001b[0m\u001b[0;34m\u001b[0m\u001b[0;34m\u001b[0m\u001b[0m\n\u001b[1;32m    596\u001b[0m         \u001b[0mfargs\u001b[0m \u001b[0;34m=\u001b[0m \u001b[0;34m[\u001b[0m\u001b[0margs\u001b[0m\u001b[0;34m[\u001b[0m\u001b[0mx\u001b[0m\u001b[0;34m.\u001b[0m\u001b[0mi\u001b[0m\u001b[0;34m]\u001b[0m \u001b[0;32mif\u001b[0m \u001b[0misinstance\u001b[0m\u001b[0;34m(\u001b[0m\u001b[0mx\u001b[0m\u001b[0;34m,\u001b[0m \u001b[0m_Arg\u001b[0m\u001b[0;34m)\u001b[0m \u001b[0;32melse\u001b[0m \u001b[0mx\u001b[0m \u001b[0;32mfor\u001b[0m \u001b[0mx\u001b[0m \u001b[0;32min\u001b[0m \u001b[0mself\u001b[0m\u001b[0;34m.\u001b[0m\u001b[0mpargs\u001b[0m\u001b[0;34m]\u001b[0m \u001b[0;34m+\u001b[0m \u001b[0margs\u001b[0m\u001b[0;34m[\u001b[0m\u001b[0mself\u001b[0m\u001b[0;34m.\u001b[0m\u001b[0mmaxi\u001b[0m\u001b[0;34m+\u001b[0m\u001b[0;36m1\u001b[0m\u001b[0;34m:\u001b[0m\u001b[0;34m]\u001b[0m\u001b[0;34m\u001b[0m\u001b[0;34m\u001b[0m\u001b[0m\n\u001b[0;32m--> 597\u001b[0;31m         \u001b[0;32mreturn\u001b[0m \u001b[0mself\u001b[0m\u001b[0;34m.\u001b[0m\u001b[0mfunc\u001b[0m\u001b[0;34m(\u001b[0m\u001b[0;34m*\u001b[0m\u001b[0mfargs\u001b[0m\u001b[0;34m,\u001b[0m \u001b[0;34m**\u001b[0m\u001b[0mkwargs\u001b[0m\u001b[0;34m)\u001b[0m\u001b[0;34m\u001b[0m\u001b[0;34m\u001b[0m\u001b[0m\n\u001b[0m\u001b[1;32m    598\u001b[0m \u001b[0;34m\u001b[0m\u001b[0m\n\u001b[1;32m    599\u001b[0m \u001b[0;31m# Cell\u001b[0m\u001b[0;34m\u001b[0m\u001b[0;34m\u001b[0m\u001b[0;34m\u001b[0m\u001b[0m\n",
      "\u001b[0;32m/mnt/pub_workspace_2T/anaconda3/envs/fastaiv2/lib/python3.8/site-packages/fastcore/foundation.py\u001b[0m in \u001b[0;36m__getitem__\u001b[0;34m(self, idx)\u001b[0m\n\u001b[1;32m    134\u001b[0m     \u001b[0;32mdef\u001b[0m \u001b[0m_xtra\u001b[0m\u001b[0;34m(\u001b[0m\u001b[0mself\u001b[0m\u001b[0;34m)\u001b[0m\u001b[0;34m:\u001b[0m \u001b[0;32mreturn\u001b[0m \u001b[0;32mNone\u001b[0m\u001b[0;34m\u001b[0m\u001b[0;34m\u001b[0m\u001b[0m\n\u001b[1;32m    135\u001b[0m     \u001b[0;32mdef\u001b[0m \u001b[0m_new\u001b[0m\u001b[0;34m(\u001b[0m\u001b[0mself\u001b[0m\u001b[0;34m,\u001b[0m \u001b[0mitems\u001b[0m\u001b[0;34m,\u001b[0m \u001b[0;34m*\u001b[0m\u001b[0margs\u001b[0m\u001b[0;34m,\u001b[0m \u001b[0;34m**\u001b[0m\u001b[0mkwargs\u001b[0m\u001b[0;34m)\u001b[0m\u001b[0;34m:\u001b[0m \u001b[0;32mreturn\u001b[0m \u001b[0mtype\u001b[0m\u001b[0;34m(\u001b[0m\u001b[0mself\u001b[0m\u001b[0;34m)\u001b[0m\u001b[0;34m(\u001b[0m\u001b[0mitems\u001b[0m\u001b[0;34m,\u001b[0m \u001b[0;34m*\u001b[0m\u001b[0margs\u001b[0m\u001b[0;34m,\u001b[0m \u001b[0muse_list\u001b[0m\u001b[0;34m=\u001b[0m\u001b[0;32mNone\u001b[0m\u001b[0;34m,\u001b[0m \u001b[0;34m**\u001b[0m\u001b[0mkwargs\u001b[0m\u001b[0;34m)\u001b[0m\u001b[0;34m\u001b[0m\u001b[0;34m\u001b[0m\u001b[0m\n\u001b[0;32m--> 136\u001b[0;31m     \u001b[0;32mdef\u001b[0m \u001b[0m__getitem__\u001b[0m\u001b[0;34m(\u001b[0m\u001b[0mself\u001b[0m\u001b[0;34m,\u001b[0m \u001b[0midx\u001b[0m\u001b[0;34m)\u001b[0m\u001b[0;34m:\u001b[0m \u001b[0;32mreturn\u001b[0m \u001b[0mself\u001b[0m\u001b[0;34m.\u001b[0m\u001b[0m_get\u001b[0m\u001b[0;34m(\u001b[0m\u001b[0midx\u001b[0m\u001b[0;34m)\u001b[0m \u001b[0;32mif\u001b[0m \u001b[0mis_indexer\u001b[0m\u001b[0;34m(\u001b[0m\u001b[0midx\u001b[0m\u001b[0;34m)\u001b[0m \u001b[0;32melse\u001b[0m \u001b[0mL\u001b[0m\u001b[0;34m(\u001b[0m\u001b[0mself\u001b[0m\u001b[0;34m.\u001b[0m\u001b[0m_get\u001b[0m\u001b[0;34m(\u001b[0m\u001b[0midx\u001b[0m\u001b[0;34m)\u001b[0m\u001b[0;34m,\u001b[0m \u001b[0muse_list\u001b[0m\u001b[0;34m=\u001b[0m\u001b[0;32mNone\u001b[0m\u001b[0;34m)\u001b[0m\u001b[0;34m\u001b[0m\u001b[0;34m\u001b[0m\u001b[0m\n\u001b[0m\u001b[1;32m    137\u001b[0m     \u001b[0;32mdef\u001b[0m \u001b[0mcopy\u001b[0m\u001b[0;34m(\u001b[0m\u001b[0mself\u001b[0m\u001b[0;34m)\u001b[0m\u001b[0;34m:\u001b[0m \u001b[0;32mreturn\u001b[0m \u001b[0mself\u001b[0m\u001b[0;34m.\u001b[0m\u001b[0m_new\u001b[0m\u001b[0;34m(\u001b[0m\u001b[0mself\u001b[0m\u001b[0;34m.\u001b[0m\u001b[0mitems\u001b[0m\u001b[0;34m.\u001b[0m\u001b[0mcopy\u001b[0m\u001b[0;34m(\u001b[0m\u001b[0;34m)\u001b[0m\u001b[0;34m)\u001b[0m\u001b[0;34m\u001b[0m\u001b[0;34m\u001b[0m\u001b[0m\n\u001b[1;32m    138\u001b[0m \u001b[0;34m\u001b[0m\u001b[0m\n",
      "\u001b[0;32m/mnt/pub_workspace_2T/anaconda3/envs/fastaiv2/lib/python3.8/site-packages/fastcore/foundation.py\u001b[0m in \u001b[0;36m_get\u001b[0;34m(self, i)\u001b[0m\n\u001b[1;32m    138\u001b[0m \u001b[0;34m\u001b[0m\u001b[0m\n\u001b[1;32m    139\u001b[0m     \u001b[0;32mdef\u001b[0m \u001b[0m_get\u001b[0m\u001b[0;34m(\u001b[0m\u001b[0mself\u001b[0m\u001b[0;34m,\u001b[0m \u001b[0mi\u001b[0m\u001b[0;34m)\u001b[0m\u001b[0;34m:\u001b[0m\u001b[0;34m\u001b[0m\u001b[0;34m\u001b[0m\u001b[0m\n\u001b[0;32m--> 140\u001b[0;31m         \u001b[0;32mif\u001b[0m \u001b[0mis_indexer\u001b[0m\u001b[0;34m(\u001b[0m\u001b[0mi\u001b[0m\u001b[0;34m)\u001b[0m \u001b[0;32mor\u001b[0m \u001b[0misinstance\u001b[0m\u001b[0;34m(\u001b[0m\u001b[0mi\u001b[0m\u001b[0;34m,\u001b[0m\u001b[0mslice\u001b[0m\u001b[0;34m)\u001b[0m\u001b[0;34m:\u001b[0m \u001b[0;32mreturn\u001b[0m \u001b[0mgetattr\u001b[0m\u001b[0;34m(\u001b[0m\u001b[0mself\u001b[0m\u001b[0;34m.\u001b[0m\u001b[0mitems\u001b[0m\u001b[0;34m,\u001b[0m\u001b[0;34m'iloc'\u001b[0m\u001b[0;34m,\u001b[0m\u001b[0mself\u001b[0m\u001b[0;34m.\u001b[0m\u001b[0mitems\u001b[0m\u001b[0;34m)\u001b[0m\u001b[0;34m[\u001b[0m\u001b[0mi\u001b[0m\u001b[0;34m]\u001b[0m\u001b[0;34m\u001b[0m\u001b[0;34m\u001b[0m\u001b[0m\n\u001b[0m\u001b[1;32m    141\u001b[0m         \u001b[0mi\u001b[0m \u001b[0;34m=\u001b[0m \u001b[0mmask2idxs\u001b[0m\u001b[0;34m(\u001b[0m\u001b[0mi\u001b[0m\u001b[0;34m)\u001b[0m\u001b[0;34m\u001b[0m\u001b[0;34m\u001b[0m\u001b[0m\n\u001b[1;32m    142\u001b[0m         return (self.items.iloc[list(i)] if hasattr(self.items,'iloc')\n",
      "\u001b[0;31mIndexError\u001b[0m: list index out of range"
     ]
    },
    {
     "data": {
      "image/png": "[encoded data removed]",
      "text/plain": [
       "<Figure size 432x288 with 1 Axes>"
      ]
     },
     "metadata": {
      "needs_background": "light"
     },
     "output_type": "display_data"
    }
   ],
   "source": [
    "learn.recorder.plot_loss()"
   ]
  },
  {
   "cell_type": "code",
   "execution_count": 32,
   "metadata": {
    "ExecuteTime": {
     "end_time": "2021-04-19T16:08:50.517793Z",
     "start_time": "2021-04-19T16:07:00.892033Z"
    },
    "scrolled": true
   },
   "outputs": [
    {
     "data": {
      "text/html": [],
      "text/plain": [
       "<IPython.core.display.HTML object>"
      ]
     },
     "metadata": {},
     "output_type": "display_data"
    },
    {
     "name": "stdout",
     "output_type": "stream",
     "text": [
      "Better model found at epoch 0 with valid_loss value: 0.2505690111975016.\n"
     ]
    },
    {
     "data": {
      "text/plain": [
       "(#7) [0.07191693782806396,0.2505690111975016,0.28370784196460364,0.24966220990308252,0.27446426341854263,0.25019441858123503,0.2794265969713882]"
      ]
     },
     "execution_count": 32,
     "metadata": {},
     "output_type": "execute_result"
    }
   ],
   "source": [
    "learn.validate(dl=test_loader[0])"
   ]
  },
  {
   "cell_type": "code",
   "execution_count": 33,
   "metadata": {
    "ExecuteTime": {
     "end_time": "2021-04-19T16:09:30.832231Z",
     "start_time": "2021-04-19T16:08:51.331784Z"
    },
    "scrolled": true
   },
   "outputs": [
    {
     "data": {
      "text/html": [],
      "text/plain": [
       "<IPython.core.display.HTML object>"
      ]
     },
     "metadata": {},
     "output_type": "display_data"
    },
    {
     "name": "stdout",
     "output_type": "stream",
     "text": [
      "Better model found at epoch 0 with valid_loss value: 0.6437392612700303.\n"
     ]
    },
    {
     "data": {
      "text/plain": [
       "(#7) [0.0502624474465847,0.6437392612700303,0.6642116435778549,0.6432193481311903,0.6495936072655102,0.6435996218597284,0.6576296615072694]"
      ]
     },
     "execution_count": 33,
     "metadata": {},
     "output_type": "execute_result"
    }
   ],
   "source": [
    "learn.validate(dl=test_loader[1])"
   ]
  },
  {
   "cell_type": "code",
   "execution_count": 34,
   "metadata": {
    "ExecuteTime": {
     "end_time": "2021-04-19T16:11:50.702842Z",
     "start_time": "2021-04-19T16:11:50.673188Z"
    }
   },
   "outputs": [
    {
     "name": "stderr",
     "output_type": "stream",
     "text": [
      "/mnt/pub_workspace_2T/anaconda3/envs/fastaiv2/lib/python3.8/site-packages/fastai/learner.py:54: UserWarning: Saved filed doesn't contain an optimizer state.\n",
      "  elif with_opt: warn(\"Saved filed doesn't contain an optimizer state.\")\n"
     ]
    },
    {
     "data": {
      "text/plain": [
       "<fastai.learner.Learner at 0x7f521070eb50>"
      ]
     },
     "execution_count": 34,
     "metadata": {},
     "output_type": "execute_result"
    }
   ],
   "source": [
    "learn.load('model_5')"
   ]
  },
  {
   "cell_type": "code",
   "execution_count": 35,
   "metadata": {
    "ExecuteTime": {
     "end_time": "2021-04-19T16:12:22.914071Z",
     "start_time": "2021-04-19T16:11:52.982594Z"
    },
    "scrolled": true
   },
   "outputs": [
    {
     "data": {
      "text/html": [],
      "text/plain": [
       "<IPython.core.display.HTML object>"
      ]
     },
     "metadata": {},
     "output_type": "display_data"
    },
    {
     "name": "stdout",
     "output_type": "stream",
     "text": [
      "Better model found at epoch 0 with valid_loss value: 0.2102280427896336.\n"
     ]
    },
    {
     "data": {
      "text/plain": [
       "(#7) [0.06675933301448822,0.2102280427896336,0.21690953598880067,0.21062560949508574,0.21660231818011155,0.21042385372920924,0.21679279079356603]"
      ]
     },
     "execution_count": 35,
     "metadata": {},
     "output_type": "execute_result"
    }
   ],
   "source": [
    "learn.validate(dl=test_loader[0])"
   ]
  },
  {
   "cell_type": "code",
   "execution_count": 36,
   "metadata": {
    "ExecuteTime": {
     "end_time": "2021-04-19T16:12:36.491533Z",
     "start_time": "2021-04-19T16:12:23.821360Z"
    },
    "scrolled": true
   },
   "outputs": [
    {
     "data": {
      "text/html": [],
      "text/plain": [
       "<IPython.core.display.HTML object>"
      ]
     },
     "metadata": {},
     "output_type": "display_data"
    },
    {
     "name": "stdout",
     "output_type": "stream",
     "text": [
      "Better model found at epoch 0 with valid_loss value: 0.6662999180571246.\n"
     ]
    },
    {
     "data": {
      "text/plain": [
       "(#7) [0.06038583815097809,0.6662999180571246,0.6427540518720459,0.6652616530801617,0.6430775446824412,0.6658692792889338,0.6429013907572678]"
      ]
     },
     "execution_count": 36,
     "metadata": {},
     "output_type": "execute_result"
    }
   ],
   "source": [
    "learn.validate(dl=test_loader[1])"
   ]
  },
  {
   "cell_type": "code",
   "execution_count": 37,
   "metadata": {
    "ExecuteTime": {
     "end_time": "2021-04-19T16:14:26.348317Z",
     "start_time": "2021-04-19T16:14:26.340697Z"
    }
   },
   "outputs": [
    {
     "data": {
      "text/plain": [
       "<fastai.learner.Learner at 0x7f521070eb50>"
      ]
     },
     "execution_count": 37,
     "metadata": {},
     "output_type": "execute_result"
    }
   ],
   "source": [
    "learn.load('model_1')"
   ]
  },
  {
   "cell_type": "code",
   "execution_count": 38,
   "metadata": {
    "ExecuteTime": {
     "end_time": "2021-04-19T16:15:01.938105Z",
     "start_time": "2021-04-19T16:14:27.288782Z"
    },
    "scrolled": true
   },
   "outputs": [
    {
     "data": {
      "text/html": [],
      "text/plain": [
       "<IPython.core.display.HTML object>"
      ]
     },
     "metadata": {},
     "output_type": "display_data"
    },
    {
     "name": "stdout",
     "output_type": "stream",
     "text": [
      "Better model found at epoch 0 with valid_loss value: 0.2288560622803017.\n"
     ]
    },
    {
     "data": {
      "text/plain": [
       "(#7) [0.07659927010536194,0.2288560622803017,0.27264411539447153,0.23222657493422236,0.27142643307902636,0.23030220034522617,0.2721689838324337]"
      ]
     },
     "execution_count": 38,
     "metadata": {},
     "output_type": "execute_result"
    }
   ],
   "source": [
    "learn.validate(dl=test_loader[0])"
   ]
  },
  {
   "cell_type": "code",
   "execution_count": 39,
   "metadata": {
    "ExecuteTime": {
     "end_time": "2021-04-19T16:15:15.641016Z",
     "start_time": "2021-04-19T16:15:02.887361Z"
    },
    "scrolled": true
   },
   "outputs": [
    {
     "data": {
      "text/html": [],
      "text/plain": [
       "<IPython.core.display.HTML object>"
      ]
     },
     "metadata": {},
     "output_type": "display_data"
    },
    {
     "name": "stdout",
     "output_type": "stream",
     "text": [
      "Better model found at epoch 0 with valid_loss value: 0.6744467851996696.\n"
     ]
    },
    {
     "data": {
      "text/plain": [
       "(#7) [0.051932159811258316,0.6744467851996696,0.6830244192327397,0.6724047054846466,0.6799782169828532,0.6735836907724081,0.681784829859223]"
      ]
     },
     "execution_count": 39,
     "metadata": {},
     "output_type": "execute_result"
    }
   ],
   "source": [
    "learn.validate(dl=test_loader[1])"
   ]
  },
  {
   "cell_type": "code",
   "execution_count": 40,
   "metadata": {
    "ExecuteTime": {
     "end_time": "2021-04-19T16:14:26.348317Z",
     "start_time": "2021-04-19T16:14:26.340697Z"
    }
   },
   "outputs": [
    {
     "data": {
      "text/plain": [
       "<fastai.learner.Learner at 0x7f521070eb50>"
      ]
     },
     "execution_count": 40,
     "metadata": {},
     "output_type": "execute_result"
    }
   ],
   "source": [
    "learn.load('model_10')"
   ]
  },
  {
   "cell_type": "code",
   "execution_count": 41,
   "metadata": {
    "ExecuteTime": {
     "end_time": "2021-04-19T16:15:01.938105Z",
     "start_time": "2021-04-19T16:14:27.288782Z"
    },
    "scrolled": true
   },
   "outputs": [
    {
     "data": {
      "text/html": [],
      "text/plain": [
       "<IPython.core.display.HTML object>"
      ]
     },
     "metadata": {},
     "output_type": "display_data"
    },
    {
     "name": "stdout",
     "output_type": "stream",
     "text": [
      "Better model found at epoch 0 with valid_loss value: 0.2302834518169549.\n"
     ]
    },
    {
     "data": {
      "text/plain": [
       "(#7) [0.067973792552948,0.2302834518169549,0.2546063750943429,0.2292807286246747,0.2546696400439097,0.22985054332527,0.2546350573541433]"
      ]
     },
     "execution_count": 41,
     "metadata": {},
     "output_type": "execute_result"
    }
   ],
   "source": [
    "learn.validate(dl=test_loader[0])"
   ]
  },
  {
   "cell_type": "code",
   "execution_count": 42,
   "metadata": {
    "ExecuteTime": {
     "end_time": "2021-04-19T16:15:15.641016Z",
     "start_time": "2021-04-19T16:15:02.887361Z"
    },
    "scrolled": true
   },
   "outputs": [
    {
     "data": {
      "text/html": [],
      "text/plain": [
       "<IPython.core.display.HTML object>"
      ]
     },
     "metadata": {},
     "output_type": "display_data"
    },
    {
     "name": "stdout",
     "output_type": "stream",
     "text": [
      "Better model found at epoch 0 with valid_loss value: 0.6659393869299637.\n"
     ]
    },
    {
     "data": {
      "text/plain": [
       "(#7) [0.051990099251270294,0.6659393869299637,0.6640839205703034,0.6658243680309719,0.6651421058539774,0.6658914700838459,0.6645265878289773]"
      ]
     },
     "execution_count": 42,
     "metadata": {},
     "output_type": "execute_result"
    }
   ],
   "source": [
    "learn.validate(dl=test_loader[1])"
   ]
  },
  {
   "cell_type": "code",
   "execution_count": 43,
   "metadata": {
    "ExecuteTime": {
     "end_time": "2021-04-19T16:17:01.799402Z",
     "start_time": "2021-04-19T16:17:01.792609Z"
    }
   },
   "outputs": [
    {
     "data": {
      "text/plain": [
       "<fastai.learner.Learner at 0x7f521070eb50>"
      ]
     },
     "execution_count": 43,
     "metadata": {},
     "output_type": "execute_result"
    }
   ],
   "source": [
    "learn.load('model_20')"
   ]
  },
  {
   "cell_type": "code",
   "execution_count": 44,
   "metadata": {
    "ExecuteTime": {
     "end_time": "2021-04-19T16:17:40.589425Z",
     "start_time": "2021-04-19T16:17:02.509483Z"
    },
    "scrolled": true
   },
   "outputs": [
    {
     "data": {
      "text/html": [],
      "text/plain": [
       "<IPython.core.display.HTML object>"
      ]
     },
     "metadata": {},
     "output_type": "display_data"
    },
    {
     "name": "stdout",
     "output_type": "stream",
     "text": [
      "Better model found at epoch 0 with valid_loss value: 0.24470043074615888.\n"
     ]
    },
    {
     "data": {
      "text/plain": [
       "(#7) [0.05298008769750595,0.24470043074615888,0.28423240953337114,0.24234478005041749,0.2827691218359014,0.24368667223195706,0.2835710261860259]"
      ]
     },
     "execution_count": 44,
     "metadata": {},
     "output_type": "execute_result"
    }
   ],
   "source": [
    "learn.validate(dl=test_loader[0])"
   ]
  },
  {
   "cell_type": "code",
   "execution_count": 45,
   "metadata": {
    "ExecuteTime": {
     "end_time": "2021-04-19T16:17:54.681376Z",
     "start_time": "2021-04-19T16:17:41.589310Z"
    },
    "scrolled": true
   },
   "outputs": [
    {
     "data": {
      "text/html": [],
      "text/plain": [
       "<IPython.core.display.HTML object>"
      ]
     },
     "metadata": {},
     "output_type": "display_data"
    },
    {
     "name": "stdout",
     "output_type": "stream",
     "text": [
      "Better model found at epoch 0 with valid_loss value: 0.6499069349341337.\n"
     ]
    },
    {
     "data": {
      "text/plain": [
       "(#7) [0.060681987553834915,0.6499069349341337,0.6733780256282393,0.6510235698163293,0.6752242599519351,0.6504581387565789,0.674242154853578]"
      ]
     },
     "execution_count": 45,
     "metadata": {},
     "output_type": "execute_result"
    }
   ],
   "source": [
    "learn.validate(dl=test_loader[1])"
   ]
  },
  {
   "cell_type": "code",
   "execution_count": 46,
   "metadata": {
    "ExecuteTime": {
     "end_time": "2021-04-19T16:17:01.799402Z",
     "start_time": "2021-04-19T16:17:01.792609Z"
    }
   },
   "outputs": [
    {
     "data": {
      "text/plain": [
       "<fastai.learner.Learner at 0x7f521070eb50>"
      ]
     },
     "execution_count": 46,
     "metadata": {},
     "output_type": "execute_result"
    }
   ],
   "source": [
    "learn.load('model_50')"
   ]
  },
  {
   "cell_type": "code",
   "execution_count": 47,
   "metadata": {
    "ExecuteTime": {
     "end_time": "2021-04-19T16:17:40.589425Z",
     "start_time": "2021-04-19T16:17:02.509483Z"
    },
    "scrolled": true
   },
   "outputs": [
    {
     "data": {
      "text/html": [],
      "text/plain": [
       "<IPython.core.display.HTML object>"
      ]
     },
     "metadata": {},
     "output_type": "display_data"
    },
    {
     "name": "stdout",
     "output_type": "stream",
     "text": [
      "Better model found at epoch 0 with valid_loss value: 0.254637687798506.\n"
     ]
    },
    {
     "data": {
      "text/plain": [
       "(#7) [0.07009164243936539,0.254637687798506,0.2979496069162618,0.2540073803286871,0.28980515427705433,0.2542734562232826,0.2940849547199983]"
      ]
     },
     "execution_count": 47,
     "metadata": {},
     "output_type": "execute_result"
    }
   ],
   "source": [
    "learn.validate(dl=test_loader[0])"
   ]
  },
  {
   "cell_type": "code",
   "execution_count": 48,
   "metadata": {
    "ExecuteTime": {
     "end_time": "2021-04-19T16:17:54.681376Z",
     "start_time": "2021-04-19T16:17:41.589310Z"
    },
    "scrolled": true
   },
   "outputs": [
    {
     "data": {
      "text/html": [],
      "text/plain": [
       "<IPython.core.display.HTML object>"
      ]
     },
     "metadata": {},
     "output_type": "display_data"
    },
    {
     "name": "stdout",
     "output_type": "stream",
     "text": [
      "Better model found at epoch 0 with valid_loss value: 0.6449711552513281.\n"
     ]
    },
    {
     "data": {
      "text/plain": [
       "(#7) [0.04933801665902138,0.6449711552513281,0.6722599776449398,0.6452938456226439,0.6601446494985791,0.6451592781300565,0.666699734723722]"
      ]
     },
     "execution_count": 48,
     "metadata": {},
     "output_type": "execute_result"
    }
   ],
   "source": [
    "learn.validate(dl=test_loader[1])"
   ]
  },
  {
   "cell_type": "code",
   "execution_count": 49,
   "metadata": {
    "ExecuteTime": {
     "end_time": "2021-04-19T16:17:01.799402Z",
     "start_time": "2021-04-19T16:17:01.792609Z"
    }
   },
   "outputs": [
    {
     "data": {
      "text/plain": [
       "<fastai.learner.Learner at 0x7f521070eb50>"
      ]
     },
     "execution_count": 49,
     "metadata": {},
     "output_type": "execute_result"
    }
   ],
   "source": [
    "learn.load('model_70')"
   ]
  },
  {
   "cell_type": "code",
   "execution_count": 50,
   "metadata": {
    "ExecuteTime": {
     "end_time": "2021-04-19T16:17:40.589425Z",
     "start_time": "2021-04-19T16:17:02.509483Z"
    },
    "scrolled": true
   },
   "outputs": [
    {
     "data": {
      "text/html": [],
      "text/plain": [
       "<IPython.core.display.HTML object>"
      ]
     },
     "metadata": {},
     "output_type": "display_data"
    },
    {
     "name": "stdout",
     "output_type": "stream",
     "text": [
      "Better model found at epoch 0 with valid_loss value: 0.2561107293706127.\n"
     ]
    },
    {
     "data": {
      "text/plain": [
       "(#7) [0.07466726005077362,0.2561107293706127,0.29493050530089104,0.2554173176808171,0.286301654047542,0.2557418862623324,0.2909594838313222]"
      ]
     },
     "execution_count": 50,
     "metadata": {},
     "output_type": "execute_result"
    }
   ],
   "source": [
    "learn.validate(dl=test_loader[0])"
   ]
  },
  {
   "cell_type": "code",
   "execution_count": 51,
   "metadata": {
    "ExecuteTime": {
     "end_time": "2021-04-19T16:17:54.681376Z",
     "start_time": "2021-04-19T16:17:41.589310Z"
    },
    "scrolled": true
   },
   "outputs": [
    {
     "data": {
      "text/html": [],
      "text/plain": [
       "<IPython.core.display.HTML object>"
      ]
     },
     "metadata": {},
     "output_type": "display_data"
    },
    {
     "name": "stdout",
     "output_type": "stream",
     "text": [
      "Better model found at epoch 0 with valid_loss value: 0.6411176433580072.\n"
     ]
    },
    {
     "data": {
      "text/plain": [
       "(#7) [0.04860012233257294,0.6411176433580072,0.6702085174252408,0.6409964624023387,0.6567244666636629,0.6410056361988606,0.6641686595278071]"
      ]
     },
     "execution_count": 51,
     "metadata": {},
     "output_type": "execute_result"
    }
   ],
   "source": [
    "learn.validate(dl=test_loader[1])"
   ]
  },
  {
   "cell_type": "markdown",
   "metadata": {},
   "source": [
    "# lr range test"
   ]
  },
  {
   "cell_type": "code",
   "execution_count": 24,
   "metadata": {
    "ExecuteTime": {
     "end_time": "2021-04-19T19:44:27.169175Z",
     "start_time": "2021-04-19T19:44:00.165243Z"
    }
   },
   "outputs": [
    {
     "data": {
      "text/html": [],
      "text/plain": [
       "<IPython.core.display.HTML object>"
      ]
     },
     "metadata": {},
     "output_type": "display_data"
    },
    {
     "data": {
      "text/plain": [
       "SuggestedLRs(lr_min=0.05248074531555176, lr_steep=1.2022644114040304e-05)"
      ]
     },
     "execution_count": 24,
     "metadata": {},
     "output_type": "execute_result"
    },
    {
     "data": {
      "image/png": "[encoded data removed]",
      "text/plain": [
       "<Figure size 432x288 with 1 Axes>"
      ]
     },
     "metadata": {
      "needs_background": "light"
     },
     "output_type": "display_data"
    }
   ],
   "source": [
    "# %%debug\n",
    "# tocuda.debug=True\n",
    "res = learn.lr_find(); res"
   ]
  },
  {
   "cell_type": "code",
   "execution_count": null,
   "metadata": {
    "ExecuteTime": {
     "end_time": "2021-03-12T17:48:01.996013Z",
     "start_time": "2021-03-12T17:47:51.482Z"
    }
   },
   "outputs": [],
   "source": [
    "# %%debug\n",
    "# tocuda.debug=True\n",
    "res = learn.lr_find(); res"
   ]
  },
  {
   "cell_type": "code",
   "execution_count": null,
   "metadata": {
    "ExecuteTime": {
     "end_time": "2021-03-12T17:48:01.996013Z",
     "start_time": "2021-03-12T17:47:51.482Z"
    }
   },
   "outputs": [],
   "source": [
    "# %%debug\n",
    "# tocuda.debug=True\n",
    "res = learn.lr_find(); res"
   ]
  },
  {
   "cell_type": "markdown",
   "metadata": {},
   "source": [
    "## clear gpu memory"
   ]
  },
  {
   "cell_type": "code",
   "execution_count": 30,
   "metadata": {
    "ExecuteTime": {
     "end_time": "2021-03-11T15:36:55.316572Z",
     "start_time": "2021-03-11T15:36:55.223042Z"
    }
   },
   "outputs": [],
   "source": [
    "import gc\n",
    "\n",
    "learn = None\n",
    "data = None\n",
    "model= None\n",
    "\n",
    "gc.collect()\n",
    "torch.cuda.empty_cache()"
   ]
  }
 ],
 "metadata": {
  "kernelspec": {
   "display_name": "fastaiv2",
   "language": "python",
   "name": "fastaiv2"
  },
  "language_info": {
   "codemirror_mode": {
    "name": "ipython",
    "version": 3
   },
   "file_extension": ".py",
   "mimetype": "text/x-python",
   "name": "python",
   "nbconvert_exporter": "python",
   "pygments_lexer": "ipython3",
   "version": "3.8.5"
  },
  "toc": {
   "base_numbering": 1,
   "nav_menu": {},
   "number_sections": true,
   "sideBar": true,
   "skip_h1_title": false,
   "title_cell": "Table of Contents",
   "title_sidebar": "Contents",
   "toc_cell": false,
   "toc_position": {},
   "toc_section_display": true,
   "toc_window_display": true
  },
  "varInspector": {
   "cols": {
    "lenName": 16,
    "lenType": 16,
    "lenVar": 40
   },
   "kernels_config": {
    "python": {
     "delete_cmd_postfix": "",
     "delete_cmd_prefix": "del ",
     "library": "var_list.py",
     "varRefreshCmd": "print(var_dic_list())"
    },
    "r": {
     "delete_cmd_postfix": ") ",
     "delete_cmd_prefix": "rm(",
     "library": "var_list.r",
     "varRefreshCmd": "cat(var_dic_list()) "
    }
   },
   "types_to_exclude": [
    "module",
    "function",
    "builtin_function_or_method",
    "instance",
    "_Feature"
   ],
   "window_display": false
  }
 },
 "nbformat": 4,
 "nbformat_minor": 4
}
